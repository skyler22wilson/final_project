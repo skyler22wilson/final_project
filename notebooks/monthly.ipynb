{
 "cells": [
  {
   "cell_type": "code",
   "execution_count": 1,
   "metadata": {},
   "outputs": [],
   "source": [
    "import pandas as pd\n",
    "import numpy as np\n",
    "\n",
    "parts_data = pd.read_csv('/Users/skylerwilson/Desktop/Lighthouse_Labs/Projects/final_project/data/Project_Data/parts_data.csv')\n",
    "#parts_data.drop(columns=['Quantity Received YTD'], inplace=True)\n",
    "\n",
    "parts_data.drop_duplicates(subset=['Part Number'], inplace=True)\n",
    "parts_data = parts_data.drop(columns=['Unnamed: 0'])"
   ]
  },
  {
   "cell_type": "code",
   "execution_count": 2,
   "metadata": {},
   "outputs": [
    {
     "ename": "KeyError",
     "evalue": "\"['Cost Per Unit', 'Total Cost', 'Average Inventory', 'COGS', 'Turnover'] not in index\"",
     "output_type": "error",
     "traceback": [
      "\u001b[0;31m---------------------------------------------------------------------------\u001b[0m",
      "\u001b[0;31mKeyError\u001b[0m                                  Traceback (most recent call last)",
      "Cell \u001b[0;32mIn[2], line 6\u001b[0m\n\u001b[1;32m      1\u001b[0m periods \u001b[39m=\u001b[39m [\u001b[39m'\u001b[39m\u001b[39mPart Number\u001b[39m\u001b[39m'\u001b[39m,\u001b[39m'\u001b[39m\u001b[39mDescription\u001b[39m\u001b[39m'\u001b[39m, \u001b[39m'\u001b[39m\u001b[39mSupplier Name\u001b[39m\u001b[39m'\u001b[39m,\u001b[39m'\u001b[39m\u001b[39mPrice\u001b[39m\u001b[39m'\u001b[39m, \u001b[39m'\u001b[39m\u001b[39mQuantity\u001b[39m\u001b[39m'\u001b[39m,\n\u001b[1;32m      2\u001b[0m        \u001b[39m'\u001b[39m\u001b[39mMargin \u001b[39m\u001b[39m%\u001b[39m\u001b[39m'\u001b[39m,\u001b[39m'\u001b[39m\u001b[39mCost Per Unit\u001b[39m\u001b[39m'\u001b[39m, \u001b[39m'\u001b[39m\u001b[39mTotal Cost\u001b[39m\u001b[39m'\u001b[39m, \u001b[39m'\u001b[39m\u001b[39mSales - Jan\u001b[39m\u001b[39m'\u001b[39m, \u001b[39m'\u001b[39m\u001b[39mSales - Feb\u001b[39m\u001b[39m'\u001b[39m,\n\u001b[1;32m      3\u001b[0m        \u001b[39m'\u001b[39m\u001b[39mSales - Mar\u001b[39m\u001b[39m'\u001b[39m, \u001b[39m'\u001b[39m\u001b[39mSales - Apr\u001b[39m\u001b[39m'\u001b[39m, \u001b[39m'\u001b[39m\u001b[39mSales - May\u001b[39m\u001b[39m'\u001b[39m, \u001b[39m'\u001b[39m\u001b[39mSales - Jun\u001b[39m\u001b[39m'\u001b[39m,\n\u001b[1;32m      4\u001b[0m        \u001b[39m'\u001b[39m\u001b[39mSales - Jul\u001b[39m\u001b[39m'\u001b[39m, \u001b[39m'\u001b[39m\u001b[39mSales - Aug\u001b[39m\u001b[39m'\u001b[39m, \u001b[39m'\u001b[39m\u001b[39mSales - Sep\u001b[39m\u001b[39m'\u001b[39m, \u001b[39m'\u001b[39m\u001b[39mSales - Oct\u001b[39m\u001b[39m'\u001b[39m,\n\u001b[1;32m      5\u001b[0m        \u001b[39m'\u001b[39m\u001b[39mSales - Nov\u001b[39m\u001b[39m'\u001b[39m, \u001b[39m'\u001b[39m\u001b[39mSales - Dec\u001b[39m\u001b[39m'\u001b[39m, \u001b[39m'\u001b[39m\u001b[39mAverage Inventory\u001b[39m\u001b[39m'\u001b[39m, \u001b[39m'\u001b[39m\u001b[39mCOGS\u001b[39m\u001b[39m'\u001b[39m, \u001b[39m'\u001b[39m\u001b[39mTurnover\u001b[39m\u001b[39m'\u001b[39m]\n\u001b[0;32m----> 6\u001b[0m monthly_data \u001b[39m=\u001b[39m parts_data[periods]\n\u001b[1;32m      7\u001b[0m monthly_data\n",
      "File \u001b[0;32m/opt/homebrew/Caskroom/miniforge/base/lib/python3.10/site-packages/pandas/core/frame.py:3813\u001b[0m, in \u001b[0;36mDataFrame.__getitem__\u001b[0;34m(self, key)\u001b[0m\n\u001b[1;32m   3811\u001b[0m     \u001b[39mif\u001b[39;00m is_iterator(key):\n\u001b[1;32m   3812\u001b[0m         key \u001b[39m=\u001b[39m \u001b[39mlist\u001b[39m(key)\n\u001b[0;32m-> 3813\u001b[0m     indexer \u001b[39m=\u001b[39m \u001b[39mself\u001b[39;49m\u001b[39m.\u001b[39;49mcolumns\u001b[39m.\u001b[39;49m_get_indexer_strict(key, \u001b[39m\"\u001b[39;49m\u001b[39mcolumns\u001b[39;49m\u001b[39m\"\u001b[39;49m)[\u001b[39m1\u001b[39m]\n\u001b[1;32m   3815\u001b[0m \u001b[39m# take() does not accept boolean indexers\u001b[39;00m\n\u001b[1;32m   3816\u001b[0m \u001b[39mif\u001b[39;00m \u001b[39mgetattr\u001b[39m(indexer, \u001b[39m\"\u001b[39m\u001b[39mdtype\u001b[39m\u001b[39m\"\u001b[39m, \u001b[39mNone\u001b[39;00m) \u001b[39m==\u001b[39m \u001b[39mbool\u001b[39m:\n",
      "File \u001b[0;32m/opt/homebrew/Caskroom/miniforge/base/lib/python3.10/site-packages/pandas/core/indexes/base.py:6070\u001b[0m, in \u001b[0;36mIndex._get_indexer_strict\u001b[0;34m(self, key, axis_name)\u001b[0m\n\u001b[1;32m   6067\u001b[0m \u001b[39melse\u001b[39;00m:\n\u001b[1;32m   6068\u001b[0m     keyarr, indexer, new_indexer \u001b[39m=\u001b[39m \u001b[39mself\u001b[39m\u001b[39m.\u001b[39m_reindex_non_unique(keyarr)\n\u001b[0;32m-> 6070\u001b[0m \u001b[39mself\u001b[39;49m\u001b[39m.\u001b[39;49m_raise_if_missing(keyarr, indexer, axis_name)\n\u001b[1;32m   6072\u001b[0m keyarr \u001b[39m=\u001b[39m \u001b[39mself\u001b[39m\u001b[39m.\u001b[39mtake(indexer)\n\u001b[1;32m   6073\u001b[0m \u001b[39mif\u001b[39;00m \u001b[39misinstance\u001b[39m(key, Index):\n\u001b[1;32m   6074\u001b[0m     \u001b[39m# GH 42790 - Preserve name from an Index\u001b[39;00m\n",
      "File \u001b[0;32m/opt/homebrew/Caskroom/miniforge/base/lib/python3.10/site-packages/pandas/core/indexes/base.py:6133\u001b[0m, in \u001b[0;36mIndex._raise_if_missing\u001b[0;34m(self, key, indexer, axis_name)\u001b[0m\n\u001b[1;32m   6130\u001b[0m     \u001b[39mraise\u001b[39;00m \u001b[39mKeyError\u001b[39;00m(\u001b[39mf\u001b[39m\u001b[39m\"\u001b[39m\u001b[39mNone of [\u001b[39m\u001b[39m{\u001b[39;00mkey\u001b[39m}\u001b[39;00m\u001b[39m] are in the [\u001b[39m\u001b[39m{\u001b[39;00maxis_name\u001b[39m}\u001b[39;00m\u001b[39m]\u001b[39m\u001b[39m\"\u001b[39m)\n\u001b[1;32m   6132\u001b[0m not_found \u001b[39m=\u001b[39m \u001b[39mlist\u001b[39m(ensure_index(key)[missing_mask\u001b[39m.\u001b[39mnonzero()[\u001b[39m0\u001b[39m]]\u001b[39m.\u001b[39munique())\n\u001b[0;32m-> 6133\u001b[0m \u001b[39mraise\u001b[39;00m \u001b[39mKeyError\u001b[39;00m(\u001b[39mf\u001b[39m\u001b[39m\"\u001b[39m\u001b[39m{\u001b[39;00mnot_found\u001b[39m}\u001b[39;00m\u001b[39m not in index\u001b[39m\u001b[39m\"\u001b[39m)\n",
      "\u001b[0;31mKeyError\u001b[0m: \"['Cost Per Unit', 'Total Cost', 'Average Inventory', 'COGS', 'Turnover'] not in index\""
     ]
    }
   ],
   "source": [
    "periods = ['Part Number','Description', 'Supplier Name','Price', 'Quantity',\n",
    "       'Margin %','Cost Per Unit', 'Total Cost', 'Sales - Jan', 'Sales - Feb',\n",
    "       'Sales - Mar', 'Sales - Apr', 'Sales - May', 'Sales - Jun',\n",
    "       'Sales - Jul', 'Sales - Aug', 'Sales - Sep', 'Sales - Oct',\n",
    "       'Sales - Nov', 'Sales - Dec', 'Average Inventory', 'COGS', 'Turnover']\n",
    "monthly_data = parts_data[periods]\n",
    "monthly_data"
   ]
  },
  {
   "cell_type": "code",
   "execution_count": null,
   "metadata": {},
   "outputs": [],
   "source": [
    "# Calculate demand using vectorized calculations\n",
    "def calculate_demand(sales_data, alpha):\n",
    "    n = len(sales_data)\n",
    "    forecast = np.empty(n)\n",
    "    forecast[0] = sales_data[0]\n",
    "    for t in range(1, n):\n",
    "        forecast[t] = alpha * sales_data[t] + (1 - alpha) * (forecast[t - 1])\n",
    "    return forecast\n",
    "\n",
    "def calculate_ordering_cost(order_quantity, fixed_ordering_costs, carrying_cost_rate, avg_lead_time_days, sales_data):\n",
    "    lead_time_demand = sales_data.mean() * avg_lead_time_days\n",
    "    carrying_costs_lead_time = 0.5 * carrying_cost_rate * lead_time_demand\n",
    "    total_ordering_costs = fixed_ordering_costs + carrying_costs_lead_time * order_quantity\n",
    "    return total_ordering_costs\n",
    "\n",
    "# Calculate carrying cost using vectorized calculations\n",
    "def calculate_carrying_cost_vectorized(average_inventory_levels, carrying_cost_rate, avg_time_in_inventory, depreciation):\n",
    "    return (\n",
    "        average_inventory_levels * carrying_cost_rate * avg_time_in_inventory +\n",
    "        average_inventory_levels * depreciation\n",
    "    )\n",
    "\n",
    "\n",
    "def calculate_eoq(demand, ordering_cost, carrying_cost_month):\n",
    "    if carrying_cost_month.any() == 0:\n",
    "        eoq_values = np.sqrt(2 * (demand * ordering_cost))\n",
    "    else:\n",
    "        eoq_values = np.sqrt((2 * (demand * ordering_cost) )/ carrying_cost_month)\n",
    "    return eoq_values\n",
    "    \n",
    "    # Calculate ordering cost for the current month\n",
    "    ordering_cost = calculate_ordering_cost(\n",
    "        order_quantity=order_quantity,\n",
    "        fixed_ordering_costs=fixed_ordering_costs,\n",
    "        carrying_cost_rate=0.125,\n",
    "        avg_lead_time_days=14,\n",
    "        sales_data=monthly_sales\n",
    "    )\n",
    "\n",
    "    # Calculate carrying cost using vectorized calculations\n",
    "    carrying_cost = calculate_carrying_cost_vectorized(\n",
    "        average_inventory_levels=np.abs(monthly_data['Average Inventory'].to_numpy()),\n",
    "        carrying_cost_rate=0.125,\n",
    "        avg_time_in_inventory=21,\n",
    "        depreciation=0.1\n",
    "    )\n",
    "\n",
    "months = ['Sales - Jan', 'Sales - Feb', 'Sales - Mar', 'Sales - Apr', 'Sales - May', 'Sales - Jun',\n",
    "          'Sales - Jul', 'Sales - Aug', 'Sales - Sep', 'Sales - Oct', 'Sales - Nov', 'Sales - Dec']\n"
   ]
  },
  {
   "cell_type": "code",
   "execution_count": null,
   "metadata": {},
   "outputs": [],
   "source": [
    "monthly_data.to_csv('/Users/skylerwilson/Desktop/Lighthouse_Labs/Projects/final_project/data/Project_Data/monthly_data.csv')"
   ]
  }
 ],
 "metadata": {
  "kernelspec": {
   "display_name": "base",
   "language": "python",
   "name": "python3"
  },
  "language_info": {
   "codemirror_mode": {
    "name": "ipython",
    "version": 3
   },
   "file_extension": ".py",
   "mimetype": "text/x-python",
   "name": "python",
   "nbconvert_exporter": "python",
   "pygments_lexer": "ipython3",
   "version": "3.10.10"
  },
  "orig_nbformat": 4
 },
 "nbformat": 4,
 "nbformat_minor": 2
}
