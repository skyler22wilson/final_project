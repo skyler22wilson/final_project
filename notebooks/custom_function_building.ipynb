{
 "cells": [
  {
   "cell_type": "code",
   "execution_count": 296,
   "metadata": {},
   "outputs": [],
   "source": [
    "import keras as k\n",
    "import tensorflow as tf\n",
    "from keras.models import Sequential\n",
    "from keras.layers import Dense\n",
    "import numpy as np\n",
    "import pandas as pd\n",
    "from sklearn.cluster import AgglomerativeClustering"
   ]
  },
  {
   "cell_type": "code",
   "execution_count": 309,
   "metadata": {},
   "outputs": [],
   "source": [
    "def custom_loss_function(df, y_true, y_pred):\n",
    "    #define the function here:\n",
    "    # customer LTV: avg_service_cost + avg(add ons cost) + avg(cost of tires) + avg(cost to fix drops)* % likelihood of w_turnover * normalized_turnover + w_eoq * normalized_eoq\n",
    "    #Obsolecence cost: 95% * (cost per unit)\n",
    "    \n",
    "    squared_difference = tf.square(y_true - y_pred)\n",
    "    mean_squared_error = tf.reduce_mean(squared_difference)\n",
    "\n",
    "    return mean_squared_error"
   ]
  }
 ],
 "metadata": {
  "kernelspec": {
   "display_name": "base",
   "language": "python",
   "name": "python3"
  },
  "language_info": {
   "codemirror_mode": {
    "name": "ipython",
    "version": 3
   },
   "file_extension": ".py",
   "mimetype": "text/x-python",
   "name": "python",
   "nbconvert_exporter": "python",
   "pygments_lexer": "ipython3",
   "version": "3.10.10"
  },
  "orig_nbformat": 4
 },
 "nbformat": 4,
 "nbformat_minor": 2
}
