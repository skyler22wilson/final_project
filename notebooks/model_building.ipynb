{
 "cells": [
  {
   "cell_type": "code",
   "execution_count": 34,
   "metadata": {},
   "outputs": [],
   "source": [
    "import keras as k\n",
    "import tensorflow as tf\n",
    "from keras.models import Sequential\n",
    "from keras.layers import Dense\n",
    "import numpy as np\n",
    "import pandas as pd\n",
    "from sklearn.cluster import AgglomerativeClustering"
   ]
  },
  {
   "cell_type": "code",
   "execution_count": 35,
   "metadata": {},
   "outputs": [
    {
     "data": {
      "text/html": [
       "<div>\n",
       "<style scoped>\n",
       "    .dataframe tbody tr th:only-of-type {\n",
       "        vertical-align: middle;\n",
       "    }\n",
       "\n",
       "    .dataframe tbody tr th {\n",
       "        vertical-align: top;\n",
       "    }\n",
       "\n",
       "    .dataframe thead th {\n",
       "        text-align: right;\n",
       "    }\n",
       "</style>\n",
       "<table border=\"1\" class=\"dataframe\">\n",
       "  <thead>\n",
       "    <tr style=\"text-align: right;\">\n",
       "      <th></th>\n",
       "      <th>Parts Cost</th>\n",
       "      <th>Labor Cost</th>\n",
       "      <th>Sublet Cost</th>\n",
       "      <th>Total Service Cost</th>\n",
       "    </tr>\n",
       "  </thead>\n",
       "  <tbody>\n",
       "    <tr>\n",
       "      <th>2378</th>\n",
       "      <td>0</td>\n",
       "      <td>21.2</td>\n",
       "      <td>0</td>\n",
       "      <td>21.2</td>\n",
       "    </tr>\n",
       "    <tr>\n",
       "      <th>2379</th>\n",
       "      <td>169</td>\n",
       "      <td>9.01</td>\n",
       "      <td>0</td>\n",
       "      <td>178.01</td>\n",
       "    </tr>\n",
       "    <tr>\n",
       "      <th>2380</th>\n",
       "      <td>NaN</td>\n",
       "      <td>NaN</td>\n",
       "      <td>NaN</td>\n",
       "      <td>NaN</td>\n",
       "    </tr>\n",
       "    <tr>\n",
       "      <th>2381</th>\n",
       "      <td>Parts Cost</td>\n",
       "      <td>Labor Cost</td>\n",
       "      <td>Sublet Cost</td>\n",
       "      <td>Total Service Cost</td>\n",
       "    </tr>\n",
       "    <tr>\n",
       "      <th>2382</th>\n",
       "      <td>584,706.66</td>\n",
       "      <td>179,157.58</td>\n",
       "      <td>4,532.98</td>\n",
       "      <td>768,397.22</td>\n",
       "    </tr>\n",
       "  </tbody>\n",
       "</table>\n",
       "</div>"
      ],
      "text/plain": [
       "      Parts Cost  Labor Cost  Sublet Cost  Total Service Cost\n",
       "2378           0        21.2            0                21.2\n",
       "2379         169        9.01            0              178.01\n",
       "2380         NaN         NaN          NaN                 NaN\n",
       "2381  Parts Cost  Labor Cost  Sublet Cost  Total Service Cost\n",
       "2382  584,706.66  179,157.58     4,532.98          768,397.22"
      ]
     },
     "execution_count": 35,
     "metadata": {},
     "output_type": "execute_result"
    }
   ],
   "source": [
    "#read in service data\n",
    "service_data = pd.read_csv('/Users/skylerwilson/Desktop/Lighthouse_Labs/Projects/final_project/data/Project_Data/service_cost.csv')\n",
    "service_data.tail()"
   ]
  },
  {
   "cell_type": "code",
   "execution_count": 36,
   "metadata": {},
   "outputs": [],
   "source": [
    "index_to_drop_ = 2381\n",
    "service_data.drop(index_to_drop_, axis=0, inplace=True)\n",
    "index_to_drop = 2382\n",
    "service_data.drop(index_to_drop, axis=0, inplace=True)"
   ]
  },
  {
   "cell_type": "code",
   "execution_count": 37,
   "metadata": {},
   "outputs": [],
   "source": [
    "def clean_and_convert_columns(df, columns, target_dtype):\n",
    "    \"\"\"\n",
    "    Clean and convert specified columns in a DataFrame to the target data type.\n",
    "\n",
    "    Args:\n",
    "        df (pd.DataFrame): DataFrame to clean and convert columns.\n",
    "        columns (list of str): List of column names to clean and convert.\n",
    "        target_dtype (type): Target data type to convert columns to.\n",
    "\n",
    "    Returns:\n",
    "        pd.DataFrame: Cleaned DataFrame with specified columns converted.\n",
    "    \"\"\"\n",
    "    for column in columns:\n",
    "        df[column] = df[column].str.replace(',', '')\n",
    "        df[column] = df[column].astype(target_dtype)\n",
    "    return df\n",
    "\n",
    "# Columns to clean and convert\n",
    "columns_to_clean = service_data.columns  # Replace with the actual column names\n",
    "\n",
    "# Clean and convert columns to float\n",
    "service_data = clean_and_convert_columns(service_data, columns_to_clean, float)"
   ]
  },
  {
   "cell_type": "code",
   "execution_count": 38,
   "metadata": {},
   "outputs": [
    {
     "data": {
      "text/plain": [
       "Parts Cost            float64\n",
       "Labor Cost            float64\n",
       "Sublet Cost           float64\n",
       "Total Service Cost    float64\n",
       "dtype: object"
      ]
     },
     "execution_count": 38,
     "metadata": {},
     "output_type": "execute_result"
    }
   ],
   "source": [
    "service_data.dtypes"
   ]
  },
  {
   "cell_type": "code",
   "execution_count": null,
   "metadata": {},
   "outputs": [],
   "source": []
  },
  {
   "cell_type": "code",
   "execution_count": 39,
   "metadata": {},
   "outputs": [],
   "source": [
    "def custom_loss_function(y_true, y_pred):\n",
    "    #define the function here:\n",
    "    # customer LTV: avg(regular service cost) + avg(add ons cost) + avg(cost of tires) + avg(cost to fix drops)* % likelihood of drop\n",
    "    #Obsolecence cost: 95% * (cost per unit)\n",
    "    \n",
    "    squared_difference = tf.square(y_true - y_pred)\n",
    "    mean_squared_error = tf.reduce_mean(squared_difference)\n",
    "\n",
    "    return mean_squared_error"
   ]
  },
  {
   "cell_type": "code",
   "execution_count": 40,
   "metadata": {},
   "outputs": [],
   "source": [
    "def custom_distance_function(x, y):\n",
    "    #create custom distance function here\n",
    "    return None"
   ]
  }
 ],
 "metadata": {
  "kernelspec": {
   "display_name": "base",
   "language": "python",
   "name": "python3"
  },
  "language_info": {
   "codemirror_mode": {
    "name": "ipython",
    "version": 3
   },
   "file_extension": ".py",
   "mimetype": "text/x-python",
   "name": "python",
   "nbconvert_exporter": "python",
   "pygments_lexer": "ipython3",
   "version": "3.10.10"
  },
  "orig_nbformat": 4
 },
 "nbformat": 4,
 "nbformat_minor": 2
}
