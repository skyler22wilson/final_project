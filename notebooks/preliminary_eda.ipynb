{
 "cells": [
  {
   "cell_type": "code",
   "execution_count": 94,
   "metadata": {},
   "outputs": [],
   "source": [
    "import pandas as pd\n",
    "import numpy as np\n",
    "import matplotlib.pyplot as plt\n",
    "import seaborn as sns\n",
    "import plotly.graph_objects as go"
   ]
  },
  {
   "cell_type": "code",
   "execution_count": 95,
   "metadata": {},
   "outputs": [
    {
     "data": {
      "text/html": [
       "<div>\n",
       "<style scoped>\n",
       "    .dataframe tbody tr th:only-of-type {\n",
       "        vertical-align: middle;\n",
       "    }\n",
       "\n",
       "    .dataframe tbody tr th {\n",
       "        vertical-align: top;\n",
       "    }\n",
       "\n",
       "    .dataframe thead th {\n",
       "        text-align: right;\n",
       "    }\n",
       "</style>\n",
       "<table border=\"1\" class=\"dataframe\">\n",
       "  <thead>\n",
       "    <tr style=\"text-align: right;\">\n",
       "      <th></th>\n",
       "      <th>Part Number</th>\n",
       "      <th>Category</th>\n",
       "      <th>Description</th>\n",
       "      <th>Supplier Name</th>\n",
       "      <th>Margin %</th>\n",
       "      <th>Margin</th>\n",
       "      <th>Price</th>\n",
       "      <th>Quantity</th>\n",
       "      <th>Sales Last Week</th>\n",
       "      <th>Sales Last 2 Weeks</th>\n",
       "      <th>...</th>\n",
       "      <th>Sales Volume - Apr</th>\n",
       "      <th>Sales Volume - May</th>\n",
       "      <th>Sales Volume - Jun</th>\n",
       "      <th>Sales Volume - Jul</th>\n",
       "      <th>Sales Volume - Aug</th>\n",
       "      <th>Sales Volume - Sept</th>\n",
       "      <th>Sales Volume - Oct</th>\n",
       "      <th>Sales Volume - Nov</th>\n",
       "      <th>Sales Volume - Dec</th>\n",
       "      <th>Total Sales Volume</th>\n",
       "    </tr>\n",
       "  </thead>\n",
       "  <tbody>\n",
       "    <tr>\n",
       "      <th>0</th>\n",
       "      <td>04-103A</td>\n",
       "      <td>ACC</td>\n",
       "      <td>6V-3A BULB</td>\n",
       "      <td>MOTOVAN</td>\n",
       "      <td>35.35%</td>\n",
       "      <td>0.35</td>\n",
       "      <td>0.99</td>\n",
       "      <td>1</td>\n",
       "      <td>0</td>\n",
       "      <td>0</td>\n",
       "      <td>...</td>\n",
       "      <td>0.0</td>\n",
       "      <td>0.0</td>\n",
       "      <td>0.0</td>\n",
       "      <td>0.0</td>\n",
       "      <td>0.0</td>\n",
       "      <td>0.0</td>\n",
       "      <td>0.0</td>\n",
       "      <td>0.0</td>\n",
       "      <td>0.0</td>\n",
       "      <td>0.0</td>\n",
       "    </tr>\n",
       "    <tr>\n",
       "      <th>1</th>\n",
       "      <td>04-136A</td>\n",
       "      <td>ACC</td>\n",
       "      <td>60/55W H4 P45T</td>\n",
       "      <td>MOTOVAN</td>\n",
       "      <td>-44.69%</td>\n",
       "      <td>-2.23</td>\n",
       "      <td>4.99</td>\n",
       "      <td>1</td>\n",
       "      <td>0</td>\n",
       "      <td>0</td>\n",
       "      <td>...</td>\n",
       "      <td>0.0</td>\n",
       "      <td>0.0</td>\n",
       "      <td>0.0</td>\n",
       "      <td>0.0</td>\n",
       "      <td>0.0</td>\n",
       "      <td>0.0</td>\n",
       "      <td>0.0</td>\n",
       "      <td>0.0</td>\n",
       "      <td>0.0</td>\n",
       "      <td>0.0</td>\n",
       "    </tr>\n",
       "    <tr>\n",
       "      <th>2</th>\n",
       "      <td>04-137</td>\n",
       "      <td>ACC</td>\n",
       "      <td>BULB, H4, 35/35W</td>\n",
       "      <td>MOTOVAN</td>\n",
       "      <td>-37.07%</td>\n",
       "      <td>-1.85</td>\n",
       "      <td>4.99</td>\n",
       "      <td>3</td>\n",
       "      <td>0</td>\n",
       "      <td>0</td>\n",
       "      <td>...</td>\n",
       "      <td>0.0</td>\n",
       "      <td>0.0</td>\n",
       "      <td>0.0</td>\n",
       "      <td>0.0</td>\n",
       "      <td>0.0</td>\n",
       "      <td>0.0</td>\n",
       "      <td>0.0</td>\n",
       "      <td>0.0</td>\n",
       "      <td>0.0</td>\n",
       "      <td>0.0</td>\n",
       "    </tr>\n",
       "    <tr>\n",
       "      <th>3</th>\n",
       "      <td>04-144</td>\n",
       "      <td>ACC</td>\n",
       "      <td>12V-3W, A194 {EACH BULB}</td>\n",
       "      <td>MOTOVAN</td>\n",
       "      <td>18.18%</td>\n",
       "      <td>0.18</td>\n",
       "      <td>0.99</td>\n",
       "      <td>11</td>\n",
       "      <td>0</td>\n",
       "      <td>0</td>\n",
       "      <td>...</td>\n",
       "      <td>0.0</td>\n",
       "      <td>0.0</td>\n",
       "      <td>0.0</td>\n",
       "      <td>0.0</td>\n",
       "      <td>0.0</td>\n",
       "      <td>0.0</td>\n",
       "      <td>0.0</td>\n",
       "      <td>0.0</td>\n",
       "      <td>0.0</td>\n",
       "      <td>0.0</td>\n",
       "    </tr>\n",
       "    <tr>\n",
       "      <th>4</th>\n",
       "      <td>04-166</td>\n",
       "      <td>ACC</td>\n",
       "      <td>BULB 12V-35W A7275, BA20S</td>\n",
       "      <td>MOTOVAN</td>\n",
       "      <td>35.12%</td>\n",
       "      <td>1.05</td>\n",
       "      <td>2.99</td>\n",
       "      <td>2</td>\n",
       "      <td>0</td>\n",
       "      <td>0</td>\n",
       "      <td>...</td>\n",
       "      <td>0.0</td>\n",
       "      <td>0.0</td>\n",
       "      <td>0.0</td>\n",
       "      <td>0.0</td>\n",
       "      <td>0.0</td>\n",
       "      <td>0.0</td>\n",
       "      <td>0.0</td>\n",
       "      <td>0.0</td>\n",
       "      <td>0.0</td>\n",
       "      <td>0.0</td>\n",
       "    </tr>\n",
       "    <tr>\n",
       "      <th>5</th>\n",
       "      <td>04-2157</td>\n",
       "      <td>ACC</td>\n",
       "      <td>BAY15D 12V 32-4CP 1157 WHITE LED</td>\n",
       "      <td>MOTOVAN</td>\n",
       "      <td>0.33%</td>\n",
       "      <td>0.05</td>\n",
       "      <td>14.99</td>\n",
       "      <td>2</td>\n",
       "      <td>0</td>\n",
       "      <td>0</td>\n",
       "      <td>...</td>\n",
       "      <td>0.0</td>\n",
       "      <td>0.0</td>\n",
       "      <td>0.0</td>\n",
       "      <td>0.0</td>\n",
       "      <td>0.0</td>\n",
       "      <td>0.0</td>\n",
       "      <td>0.0</td>\n",
       "      <td>0.0</td>\n",
       "      <td>0.0</td>\n",
       "      <td>0.0</td>\n",
       "    </tr>\n",
       "    <tr>\n",
       "      <th>6</th>\n",
       "      <td>04-692</td>\n",
       "      <td>ACC</td>\n",
       "      <td>IGNITION SW, W/2 KEYS</td>\n",
       "      <td>MOTOVAN</td>\n",
       "      <td>35.01%</td>\n",
       "      <td>16.10</td>\n",
       "      <td>45.99</td>\n",
       "      <td>1</td>\n",
       "      <td>0</td>\n",
       "      <td>0</td>\n",
       "      <td>...</td>\n",
       "      <td>0.0</td>\n",
       "      <td>0.0</td>\n",
       "      <td>0.0</td>\n",
       "      <td>0.0</td>\n",
       "      <td>0.0</td>\n",
       "      <td>0.0</td>\n",
       "      <td>0.0</td>\n",
       "      <td>0.0</td>\n",
       "      <td>0.0</td>\n",
       "      <td>0.0</td>\n",
       "    </tr>\n",
       "    <tr>\n",
       "      <th>7</th>\n",
       "      <td>60135</td>\n",
       "      <td>ACC</td>\n",
       "      <td>BLUE BULB 12V5W WEDGE</td>\n",
       "      <td>PARTS CANADA/POWER TWINS</td>\n",
       "      <td>59.30%</td>\n",
       "      <td>1.18</td>\n",
       "      <td>1.99</td>\n",
       "      <td>1</td>\n",
       "      <td>0</td>\n",
       "      <td>0</td>\n",
       "      <td>...</td>\n",
       "      <td>0.0</td>\n",
       "      <td>0.0</td>\n",
       "      <td>0.0</td>\n",
       "      <td>0.0</td>\n",
       "      <td>0.0</td>\n",
       "      <td>0.0</td>\n",
       "      <td>0.0</td>\n",
       "      <td>0.0</td>\n",
       "      <td>0.0</td>\n",
       "      <td>0.0</td>\n",
       "    </tr>\n",
       "    <tr>\n",
       "      <th>8</th>\n",
       "      <td>7119932099</td>\n",
       "      <td>BM</td>\n",
       "      <td>WAVE WASHER</td>\n",
       "      <td>BMW Group Canada</td>\n",
       "      <td>41.41%</td>\n",
       "      <td>0.41</td>\n",
       "      <td>0.99</td>\n",
       "      <td>1</td>\n",
       "      <td>0</td>\n",
       "      <td>0</td>\n",
       "      <td>...</td>\n",
       "      <td>0.0</td>\n",
       "      <td>0.0</td>\n",
       "      <td>0.0</td>\n",
       "      <td>0.0</td>\n",
       "      <td>0.0</td>\n",
       "      <td>0.0</td>\n",
       "      <td>0.0</td>\n",
       "      <td>0.0</td>\n",
       "      <td>0.0</td>\n",
       "      <td>0.0</td>\n",
       "    </tr>\n",
       "    <tr>\n",
       "      <th>9</th>\n",
       "      <td>7119932099</td>\n",
       "      <td>BM</td>\n",
       "      <td>WAVE WASHER</td>\n",
       "      <td>BMW Group Canada</td>\n",
       "      <td>41.41%</td>\n",
       "      <td>0.41</td>\n",
       "      <td>0.99</td>\n",
       "      <td>1</td>\n",
       "      <td>0</td>\n",
       "      <td>0</td>\n",
       "      <td>...</td>\n",
       "      <td>0.0</td>\n",
       "      <td>0.0</td>\n",
       "      <td>0.0</td>\n",
       "      <td>0.0</td>\n",
       "      <td>0.0</td>\n",
       "      <td>0.0</td>\n",
       "      <td>0.0</td>\n",
       "      <td>0.0</td>\n",
       "      <td>0.0</td>\n",
       "      <td>0.0</td>\n",
       "    </tr>\n",
       "    <tr>\n",
       "      <th>10</th>\n",
       "      <td>7119936441</td>\n",
       "      <td>BM</td>\n",
       "      <td>WASHER</td>\n",
       "      <td>BMW Group Canada</td>\n",
       "      <td>69.35%</td>\n",
       "      <td>1.38</td>\n",
       "      <td>1.99</td>\n",
       "      <td>2</td>\n",
       "      <td>0</td>\n",
       "      <td>0</td>\n",
       "      <td>...</td>\n",
       "      <td>0.0</td>\n",
       "      <td>0.0</td>\n",
       "      <td>0.0</td>\n",
       "      <td>0.0</td>\n",
       "      <td>0.0</td>\n",
       "      <td>0.0</td>\n",
       "      <td>0.0</td>\n",
       "      <td>0.0</td>\n",
       "      <td>0.0</td>\n",
       "      <td>0.0</td>\n",
       "    </tr>\n",
       "    <tr>\n",
       "      <th>11</th>\n",
       "      <td>7119936441</td>\n",
       "      <td>BM</td>\n",
       "      <td>WASHER</td>\n",
       "      <td>BMW Group Canada</td>\n",
       "      <td>69.35%</td>\n",
       "      <td>1.38</td>\n",
       "      <td>1.99</td>\n",
       "      <td>2</td>\n",
       "      <td>0</td>\n",
       "      <td>0</td>\n",
       "      <td>...</td>\n",
       "      <td>0.0</td>\n",
       "      <td>0.0</td>\n",
       "      <td>0.0</td>\n",
       "      <td>0.0</td>\n",
       "      <td>0.0</td>\n",
       "      <td>0.0</td>\n",
       "      <td>0.0</td>\n",
       "      <td>0.0</td>\n",
       "      <td>0.0</td>\n",
       "      <td>0.0</td>\n",
       "    </tr>\n",
       "    <tr>\n",
       "      <th>12</th>\n",
       "      <td>08-0061</td>\n",
       "      <td>ACC</td>\n",
       "      <td>LEVER BOLT</td>\n",
       "      <td>MOTOVAN</td>\n",
       "      <td>80.94%</td>\n",
       "      <td>2.42</td>\n",
       "      <td>2.99</td>\n",
       "      <td>1</td>\n",
       "      <td>0</td>\n",
       "      <td>0</td>\n",
       "      <td>...</td>\n",
       "      <td>0.0</td>\n",
       "      <td>0.0</td>\n",
       "      <td>0.0</td>\n",
       "      <td>0.0</td>\n",
       "      <td>0.0</td>\n",
       "      <td>0.0</td>\n",
       "      <td>0.0</td>\n",
       "      <td>0.0</td>\n",
       "      <td>0.0</td>\n",
       "      <td>0.0</td>\n",
       "    </tr>\n",
       "    <tr>\n",
       "      <th>13</th>\n",
       "      <td>04-136</td>\n",
       "      <td>ACC</td>\n",
       "      <td>BULB, H4, 60/55W</td>\n",
       "      <td>MOTOVAN</td>\n",
       "      <td>-26.25%</td>\n",
       "      <td>-1.31</td>\n",
       "      <td>4.99</td>\n",
       "      <td>1</td>\n",
       "      <td>0</td>\n",
       "      <td>0</td>\n",
       "      <td>...</td>\n",
       "      <td>0.0</td>\n",
       "      <td>0.0</td>\n",
       "      <td>0.0</td>\n",
       "      <td>0.0</td>\n",
       "      <td>0.0</td>\n",
       "      <td>0.0</td>\n",
       "      <td>0.0</td>\n",
       "      <td>0.0</td>\n",
       "      <td>0.0</td>\n",
       "      <td>0.0</td>\n",
       "    </tr>\n",
       "    <tr>\n",
       "      <th>14</th>\n",
       "      <td>08-12023</td>\n",
       "      <td>ACC</td>\n",
       "      <td>HOSE CLAMP 7/16\" TO 25/32\" PK/10</td>\n",
       "      <td>MOTOVAN</td>\n",
       "      <td>35.01%</td>\n",
       "      <td>11.55</td>\n",
       "      <td>32.99</td>\n",
       "      <td>9</td>\n",
       "      <td>0</td>\n",
       "      <td>0</td>\n",
       "      <td>...</td>\n",
       "      <td>0.0</td>\n",
       "      <td>0.0</td>\n",
       "      <td>0.0</td>\n",
       "      <td>0.0</td>\n",
       "      <td>0.0</td>\n",
       "      <td>0.0</td>\n",
       "      <td>0.0</td>\n",
       "      <td>0.0</td>\n",
       "      <td>0.0</td>\n",
       "      <td>0.0</td>\n",
       "    </tr>\n",
       "    <tr>\n",
       "      <th>15</th>\n",
       "      <td>08123-60027</td>\n",
       "      <td>PM3</td>\n",
       "      <td>BALL BEARING</td>\n",
       "      <td>Suzuki</td>\n",
       "      <td>37.69%</td>\n",
       "      <td>6.78</td>\n",
       "      <td>17.99</td>\n",
       "      <td>1</td>\n",
       "      <td>0</td>\n",
       "      <td>0</td>\n",
       "      <td>...</td>\n",
       "      <td>0.0</td>\n",
       "      <td>0.0</td>\n",
       "      <td>0.0</td>\n",
       "      <td>0.0</td>\n",
       "      <td>0.0</td>\n",
       "      <td>0.0</td>\n",
       "      <td>0.0</td>\n",
       "      <td>0.0</td>\n",
       "      <td>0.0</td>\n",
       "      <td>0.0</td>\n",
       "    </tr>\n",
       "    <tr>\n",
       "      <th>16</th>\n",
       "      <td>T2025914</td>\n",
       "      <td>PM1</td>\n",
       "      <td>FRONT BRAKE LEVER</td>\n",
       "      <td>Triumph Motorcycles</td>\n",
       "      <td>93.02%</td>\n",
       "      <td>90.22</td>\n",
       "      <td>96.99</td>\n",
       "      <td>1</td>\n",
       "      <td>0</td>\n",
       "      <td>0</td>\n",
       "      <td>...</td>\n",
       "      <td>0.0</td>\n",
       "      <td>0.0</td>\n",
       "      <td>0.0</td>\n",
       "      <td>0.0</td>\n",
       "      <td>0.0</td>\n",
       "      <td>0.0</td>\n",
       "      <td>0.0</td>\n",
       "      <td>0.0</td>\n",
       "      <td>0.0</td>\n",
       "      <td>0.0</td>\n",
       "    </tr>\n",
       "    <tr>\n",
       "      <th>17</th>\n",
       "      <td>105990</td>\n",
       "      <td>ACC</td>\n",
       "      <td>520-16T POWERDRIVE FRNT SPKT</td>\n",
       "      <td>PARTS CANADA/POWER TWINS</td>\n",
       "      <td>47.15%</td>\n",
       "      <td>20.27</td>\n",
       "      <td>42.99</td>\n",
       "      <td>1</td>\n",
       "      <td>0</td>\n",
       "      <td>0</td>\n",
       "      <td>...</td>\n",
       "      <td>0.0</td>\n",
       "      <td>0.0</td>\n",
       "      <td>0.0</td>\n",
       "      <td>0.0</td>\n",
       "      <td>0.0</td>\n",
       "      <td>0.0</td>\n",
       "      <td>0.0</td>\n",
       "      <td>0.0</td>\n",
       "      <td>0.0</td>\n",
       "      <td>0.0</td>\n",
       "    </tr>\n",
       "    <tr>\n",
       "      <th>18</th>\n",
       "      <td>106428</td>\n",
       "      <td>ACC</td>\n",
       "      <td>LR8B NGK SPARK PLUG</td>\n",
       "      <td>PARTS CANADA/POWER TWINS</td>\n",
       "      <td>51.56%</td>\n",
       "      <td>4.12</td>\n",
       "      <td>7.99</td>\n",
       "      <td>4</td>\n",
       "      <td>0</td>\n",
       "      <td>0</td>\n",
       "      <td>...</td>\n",
       "      <td>0.0</td>\n",
       "      <td>0.0</td>\n",
       "      <td>0.0</td>\n",
       "      <td>0.0</td>\n",
       "      <td>0.0</td>\n",
       "      <td>0.0</td>\n",
       "      <td>0.0</td>\n",
       "      <td>0.0</td>\n",
       "      <td>0.0</td>\n",
       "      <td>0.0</td>\n",
       "    </tr>\n",
       "    <tr>\n",
       "      <th>19</th>\n",
       "      <td>110-130P</td>\n",
       "      <td>ACC</td>\n",
       "      <td>SPROCKET TRIUMPH ALL 17T</td>\n",
       "      <td>Thibault Canada</td>\n",
       "      <td>48.80%</td>\n",
       "      <td>14.22</td>\n",
       "      <td>29.14</td>\n",
       "      <td>1</td>\n",
       "      <td>0</td>\n",
       "      <td>0</td>\n",
       "      <td>...</td>\n",
       "      <td>0.0</td>\n",
       "      <td>0.0</td>\n",
       "      <td>0.0</td>\n",
       "      <td>0.0</td>\n",
       "      <td>0.0</td>\n",
       "      <td>0.0</td>\n",
       "      <td>0.0</td>\n",
       "      <td>0.0</td>\n",
       "      <td>0.0</td>\n",
       "      <td>0.0</td>\n",
       "    </tr>\n",
       "  </tbody>\n",
       "</table>\n",
       "<p>20 rows × 87 columns</p>\n",
       "</div>"
      ],
      "text/plain": [
       "    Part Number Category                        Description  \\\n",
       "0       04-103A      ACC                         6V-3A BULB   \n",
       "1       04-136A      ACC                     60/55W H4 P45T   \n",
       "2        04-137      ACC                   BULB, H4, 35/35W   \n",
       "3        04-144      ACC           12V-3W, A194 {EACH BULB}   \n",
       "4        04-166      ACC          BULB 12V-35W A7275, BA20S   \n",
       "5       04-2157      ACC  BAY15D 12V 32-4CP 1157 WHITE LED    \n",
       "6        04-692      ACC              IGNITION SW, W/2 KEYS   \n",
       "7         60135      ACC              BLUE BULB 12V5W WEDGE   \n",
       "8    7119932099       BM                        WAVE WASHER   \n",
       "9    7119932099       BM                        WAVE WASHER   \n",
       "10   7119936441       BM                             WASHER   \n",
       "11   7119936441       BM                             WASHER   \n",
       "12      08-0061      ACC                         LEVER BOLT   \n",
       "13       04-136      ACC                   BULB, H4, 60/55W   \n",
       "14     08-12023      ACC   HOSE CLAMP 7/16\" TO 25/32\" PK/10   \n",
       "15  08123-60027      PM3                       BALL BEARING   \n",
       "16     T2025914      PM1                  FRONT BRAKE LEVER   \n",
       "17       105990      ACC       520-16T POWERDRIVE FRNT SPKT   \n",
       "18       106428      ACC               LR8B NGK SPARK PLUG    \n",
       "19     110-130P      ACC           SPROCKET TRIUMPH ALL 17T   \n",
       "\n",
       "               Supplier Name Margin %  Margin  Price  Quantity  \\\n",
       "0                    MOTOVAN   35.35%    0.35   0.99         1   \n",
       "1                    MOTOVAN  -44.69%   -2.23   4.99         1   \n",
       "2                    MOTOVAN  -37.07%   -1.85   4.99         3   \n",
       "3                    MOTOVAN   18.18%    0.18   0.99        11   \n",
       "4                    MOTOVAN   35.12%    1.05   2.99         2   \n",
       "5                    MOTOVAN    0.33%    0.05  14.99         2   \n",
       "6                    MOTOVAN   35.01%   16.10  45.99         1   \n",
       "7   PARTS CANADA/POWER TWINS   59.30%    1.18   1.99         1   \n",
       "8           BMW Group Canada   41.41%    0.41   0.99         1   \n",
       "9           BMW Group Canada   41.41%    0.41   0.99         1   \n",
       "10          BMW Group Canada   69.35%    1.38   1.99         2   \n",
       "11          BMW Group Canada   69.35%    1.38   1.99         2   \n",
       "12                   MOTOVAN   80.94%    2.42   2.99         1   \n",
       "13                   MOTOVAN  -26.25%   -1.31   4.99         1   \n",
       "14                   MOTOVAN   35.01%   11.55  32.99         9   \n",
       "15                    Suzuki   37.69%    6.78  17.99         1   \n",
       "16       Triumph Motorcycles   93.02%   90.22  96.99         1   \n",
       "17  PARTS CANADA/POWER TWINS   47.15%   20.27  42.99         1   \n",
       "18  PARTS CANADA/POWER TWINS   51.56%    4.12   7.99         4   \n",
       "19           Thibault Canada   48.80%   14.22  29.14         1   \n",
       "\n",
       "    Sales Last Week  Sales Last 2 Weeks  ...  Sales Volume - Apr  \\\n",
       "0                 0                   0  ...                 0.0   \n",
       "1                 0                   0  ...                 0.0   \n",
       "2                 0                   0  ...                 0.0   \n",
       "3                 0                   0  ...                 0.0   \n",
       "4                 0                   0  ...                 0.0   \n",
       "5                 0                   0  ...                 0.0   \n",
       "6                 0                   0  ...                 0.0   \n",
       "7                 0                   0  ...                 0.0   \n",
       "8                 0                   0  ...                 0.0   \n",
       "9                 0                   0  ...                 0.0   \n",
       "10                0                   0  ...                 0.0   \n",
       "11                0                   0  ...                 0.0   \n",
       "12                0                   0  ...                 0.0   \n",
       "13                0                   0  ...                 0.0   \n",
       "14                0                   0  ...                 0.0   \n",
       "15                0                   0  ...                 0.0   \n",
       "16                0                   0  ...                 0.0   \n",
       "17                0                   0  ...                 0.0   \n",
       "18                0                   0  ...                 0.0   \n",
       "19                0                   0  ...                 0.0   \n",
       "\n",
       "    Sales Volume - May  Sales Volume - Jun  Sales Volume - Jul  \\\n",
       "0                  0.0                 0.0                 0.0   \n",
       "1                  0.0                 0.0                 0.0   \n",
       "2                  0.0                 0.0                 0.0   \n",
       "3                  0.0                 0.0                 0.0   \n",
       "4                  0.0                 0.0                 0.0   \n",
       "5                  0.0                 0.0                 0.0   \n",
       "6                  0.0                 0.0                 0.0   \n",
       "7                  0.0                 0.0                 0.0   \n",
       "8                  0.0                 0.0                 0.0   \n",
       "9                  0.0                 0.0                 0.0   \n",
       "10                 0.0                 0.0                 0.0   \n",
       "11                 0.0                 0.0                 0.0   \n",
       "12                 0.0                 0.0                 0.0   \n",
       "13                 0.0                 0.0                 0.0   \n",
       "14                 0.0                 0.0                 0.0   \n",
       "15                 0.0                 0.0                 0.0   \n",
       "16                 0.0                 0.0                 0.0   \n",
       "17                 0.0                 0.0                 0.0   \n",
       "18                 0.0                 0.0                 0.0   \n",
       "19                 0.0                 0.0                 0.0   \n",
       "\n",
       "    Sales Volume - Aug  Sales Volume - Sept  Sales Volume - Oct  \\\n",
       "0                  0.0                  0.0                 0.0   \n",
       "1                  0.0                  0.0                 0.0   \n",
       "2                  0.0                  0.0                 0.0   \n",
       "3                  0.0                  0.0                 0.0   \n",
       "4                  0.0                  0.0                 0.0   \n",
       "5                  0.0                  0.0                 0.0   \n",
       "6                  0.0                  0.0                 0.0   \n",
       "7                  0.0                  0.0                 0.0   \n",
       "8                  0.0                  0.0                 0.0   \n",
       "9                  0.0                  0.0                 0.0   \n",
       "10                 0.0                  0.0                 0.0   \n",
       "11                 0.0                  0.0                 0.0   \n",
       "12                 0.0                  0.0                 0.0   \n",
       "13                 0.0                  0.0                 0.0   \n",
       "14                 0.0                  0.0                 0.0   \n",
       "15                 0.0                  0.0                 0.0   \n",
       "16                 0.0                  0.0                 0.0   \n",
       "17                 0.0                  0.0                 0.0   \n",
       "18                 0.0                  0.0                 0.0   \n",
       "19                 0.0                  0.0                 0.0   \n",
       "\n",
       "    Sales Volume - Nov  Sales Volume - Dec  Total Sales Volume  \n",
       "0                  0.0                 0.0                 0.0  \n",
       "1                  0.0                 0.0                 0.0  \n",
       "2                  0.0                 0.0                 0.0  \n",
       "3                  0.0                 0.0                 0.0  \n",
       "4                  0.0                 0.0                 0.0  \n",
       "5                  0.0                 0.0                 0.0  \n",
       "6                  0.0                 0.0                 0.0  \n",
       "7                  0.0                 0.0                 0.0  \n",
       "8                  0.0                 0.0                 0.0  \n",
       "9                  0.0                 0.0                 0.0  \n",
       "10                 0.0                 0.0                 0.0  \n",
       "11                 0.0                 0.0                 0.0  \n",
       "12                 0.0                 0.0                 0.0  \n",
       "13                 0.0                 0.0                 0.0  \n",
       "14                 0.0                 0.0                 0.0  \n",
       "15                 0.0                 0.0                 0.0  \n",
       "16                 0.0                 0.0                 0.0  \n",
       "17                 0.0                 0.0                 0.0  \n",
       "18                 0.0                 0.0                 0.0  \n",
       "19                 0.0                 0.0                 0.0  \n",
       "\n",
       "[20 rows x 87 columns]"
      ]
     },
     "execution_count": 95,
     "metadata": {},
     "output_type": "execute_result"
    }
   ],
   "source": [
    "parts_data = pd.read_csv('/Users/skylerwilson/Desktop/Lighthouse_Labs/Projects/final_project/data/cleaned_parts_data.csv')\n",
    "\n",
    "parts_data = parts_data.drop(columns=['Unnamed: 0'])\n",
    "\n",
    "parts_data.head(20)"
   ]
  },
  {
   "cell_type": "code",
   "execution_count": 96,
   "metadata": {},
   "outputs": [
    {
     "data": {
      "text/plain": [
       "['Part Number',\n",
       " 'Category',\n",
       " 'Description',\n",
       " 'Supplier Name',\n",
       " 'Margin %',\n",
       " 'Margin',\n",
       " 'Price',\n",
       " 'Quantity',\n",
       " 'Sales Last Week',\n",
       " 'Sales Last 2 Weeks',\n",
       " 'Sales Last Month',\n",
       " 'Sales Last 3 Months',\n",
       " 'Sales Last 6 Months',\n",
       " 'Sales Last 9 Months',\n",
       " 'Sales Last 12 Months',\n",
       " 'Sales Last 2 Years',\n",
       " 'Sales Last 3 Years',\n",
       " 'Sales Last 4 Years',\n",
       " 'Sales Last 5 Years',\n",
       " 'Sales Last 10 Years',\n",
       " 'Months No Sale',\n",
       " 'Sales - Jan',\n",
       " 'Sales - Last Jan',\n",
       " 'Sales - Feb',\n",
       " 'Sales - Last Feb',\n",
       " 'Sales - Mar',\n",
       " 'Sales - Last Mar',\n",
       " 'Sales - Apr',\n",
       " 'Sales - Last Apr',\n",
       " 'Sales - May',\n",
       " 'Sales - Last May',\n",
       " 'Sales - Jun',\n",
       " 'Sales - Last Jun',\n",
       " 'Sales - Jul',\n",
       " 'Sales - Last Jul',\n",
       " 'Sales - Aug',\n",
       " 'Sales - Last Aug',\n",
       " 'Sales - Sept',\n",
       " 'Sales - Last Sept',\n",
       " 'Sales - Oct',\n",
       " 'Sales - Last Oct',\n",
       " 'Sales - Nov',\n",
       " 'Sales - Last Nov',\n",
       " 'Sales - Dec',\n",
       " 'Sales - Last Dec',\n",
       " 'Total Sales',\n",
       " 'Last Year Total Sales',\n",
       " 'Cost Per Unit',\n",
       " 'Total Cost',\n",
       " 'Obsolete',\n",
       " 'Sales Volume - Last Jan',\n",
       " 'Sales Volume - Last Feb',\n",
       " 'Sales Volume - Last Mar',\n",
       " 'Sales Volume - Last Apr',\n",
       " 'Sales Volume - Last May',\n",
       " 'Sales Volume - Last Jun',\n",
       " 'Sales Volume - Last Jul',\n",
       " 'Sales Volume - Last Aug',\n",
       " 'Sales Volume - Last Sept',\n",
       " 'Sales Volume - Last Oct',\n",
       " 'Sales Volume - Last Nov',\n",
       " 'Sales Volume - Last Dec',\n",
       " 'Sales Volume - Sales Last Week',\n",
       " 'Sales Volume - Sales Last 2 Weeks',\n",
       " 'Sales Volume - Sales Last Month',\n",
       " 'Sales Volume - Sales Last 3 Months',\n",
       " 'Sales Volume - Sales Last 6 Months',\n",
       " 'Sales Volume - Sales Last 9 Months',\n",
       " 'Sales Volume - Sales Last 12 Months',\n",
       " 'Sales Volume - Sales Last 2 Years',\n",
       " 'Sales Volume - Sales Last 3 Years',\n",
       " 'Sales Volume - Sales Last 4 Years',\n",
       " 'Sales Volume - Sales Last 5 Years',\n",
       " 'Last Year Total Sales Volume',\n",
       " 'Sales Volume - Jan',\n",
       " 'Sales Volume - Feb',\n",
       " 'Sales Volume - Mar',\n",
       " 'Sales Volume - Apr',\n",
       " 'Sales Volume - May',\n",
       " 'Sales Volume - Jun',\n",
       " 'Sales Volume - Jul',\n",
       " 'Sales Volume - Aug',\n",
       " 'Sales Volume - Sept',\n",
       " 'Sales Volume - Oct',\n",
       " 'Sales Volume - Nov',\n",
       " 'Sales Volume - Dec',\n",
       " 'Total Sales Volume']"
      ]
     },
     "execution_count": 96,
     "metadata": {},
     "output_type": "execute_result"
    }
   ],
   "source": [
    "list(parts_data.columns)"
   ]
  },
  {
   "cell_type": "code",
   "execution_count": 98,
   "metadata": {},
   "outputs": [
    {
     "name": "stdout",
     "output_type": "stream",
     "text": [
      "Obsolete inventory percentage count:\n",
      "0    76.438127\n",
      "1    23.561873\n",
      "Name: Obsolete, dtype: float64\n",
      "Obsolete Total Cost: $387984.15\n",
      "Non-obsolete Cost: $1353771.63\n"
     ]
    }
   ],
   "source": [
    "#how much of the inventory is obsolete and how much is it costing us\n",
    "obsolete_count = (parts_data['Obsolete'].value_counts() / len(parts_data['Obsolete'])) * 100\n",
    "print('Obsolete inventory percentage count:')\n",
    "print(obsolete_count)\n",
    "\n",
    "obsolete_cost = round(parts_data[parts_data['Obsolete'] == 1]['Total Cost'].sum(), 2)\n",
    "print(f'Obsolete Total Cost: ${obsolete_cost}')\n",
    "\n",
    "non_obsolete_cost = round(parts_data[parts_data['Obsolete'] == 0]['Total Cost'].sum(), 2)\n",
    "print(f'Non-obsolete Cost: ${non_obsolete_cost}')\n"
   ]
  },
  {
   "cell_type": "code",
   "execution_count": null,
   "metadata": {},
   "outputs": [
    {
     "data": {
      "application/vnd.plotly.v1+json": {
       "config": {
        "plotlyServerURL": "https://plot.ly"
       },
       "data": [
        {
         "name": "Current Year",
         "type": "bar",
         "x": [
          "Sales Volume - Jan",
          "Sales Volume - Feb",
          "Sales Volume - Mar",
          "Sales Volume - Apr",
          "Sales Volume - May",
          "Sales Volume - Jun",
          "Sales Volume - Jul",
          "Sales Volume - Aug",
          "Sales Volume - Sept",
          "Sales Volume - Oct",
          "Sales Volume - Nov",
          "Sales Volume - Dec"
         ],
         "y": [
          76139.29370000001,
          88619.2,
          139350.72,
          135718.9879,
          178671.1779,
          183845.36,
          164741.34,
          0,
          0,
          0,
          0,
          0
         ]
        },
        {
         "name": "Last Year",
         "type": "bar",
         "x": [
          "Sales Volume - Jan",
          "Sales Volume - Feb",
          "Sales Volume - Mar",
          "Sales Volume - Apr",
          "Sales Volume - May",
          "Sales Volume - Jun",
          "Sales Volume - Jul",
          "Sales Volume - Aug",
          "Sales Volume - Sept",
          "Sales Volume - Oct",
          "Sales Volume - Nov",
          "Sales Volume - Dec"
         ],
         "y": [
          74455.97499999999,
          103429.5075,
          128248.8075,
          137535.63999999998,
          145060.19,
          201257.92500000005,
          160790.38249999998,
          146159.9975,
          138395.75749999998,
          105942.0725,
          62759.785,
          56377.255
         ]
        }
       ],
       "layout": {
        "barmode": "group",
        "template": {
         "data": {
          "bar": [
           {
            "error_x": {
             "color": "#2a3f5f"
            },
            "error_y": {
             "color": "#2a3f5f"
            },
            "marker": {
             "line": {
              "color": "#E5ECF6",
              "width": 0.5
             },
             "pattern": {
              "fillmode": "overlay",
              "size": 10,
              "solidity": 0.2
             }
            },
            "type": "bar"
           }
          ],
          "barpolar": [
           {
            "marker": {
             "line": {
              "color": "#E5ECF6",
              "width": 0.5
             },
             "pattern": {
              "fillmode": "overlay",
              "size": 10,
              "solidity": 0.2
             }
            },
            "type": "barpolar"
           }
          ],
          "carpet": [
           {
            "aaxis": {
             "endlinecolor": "#2a3f5f",
             "gridcolor": "white",
             "linecolor": "white",
             "minorgridcolor": "white",
             "startlinecolor": "#2a3f5f"
            },
            "baxis": {
             "endlinecolor": "#2a3f5f",
             "gridcolor": "white",
             "linecolor": "white",
             "minorgridcolor": "white",
             "startlinecolor": "#2a3f5f"
            },
            "type": "carpet"
           }
          ],
          "choropleth": [
           {
            "colorbar": {
             "outlinewidth": 0,
             "ticks": ""
            },
            "type": "choropleth"
           }
          ],
          "contour": [
           {
            "colorbar": {
             "outlinewidth": 0,
             "ticks": ""
            },
            "colorscale": [
             [
              0,
              "#0d0887"
             ],
             [
              0.1111111111111111,
              "#46039f"
             ],
             [
              0.2222222222222222,
              "#7201a8"
             ],
             [
              0.3333333333333333,
              "#9c179e"
             ],
             [
              0.4444444444444444,
              "#bd3786"
             ],
             [
              0.5555555555555556,
              "#d8576b"
             ],
             [
              0.6666666666666666,
              "#ed7953"
             ],
             [
              0.7777777777777778,
              "#fb9f3a"
             ],
             [
              0.8888888888888888,
              "#fdca26"
             ],
             [
              1,
              "#f0f921"
             ]
            ],
            "type": "contour"
           }
          ],
          "contourcarpet": [
           {
            "colorbar": {
             "outlinewidth": 0,
             "ticks": ""
            },
            "type": "contourcarpet"
           }
          ],
          "heatmap": [
           {
            "colorbar": {
             "outlinewidth": 0,
             "ticks": ""
            },
            "colorscale": [
             [
              0,
              "#0d0887"
             ],
             [
              0.1111111111111111,
              "#46039f"
             ],
             [
              0.2222222222222222,
              "#7201a8"
             ],
             [
              0.3333333333333333,
              "#9c179e"
             ],
             [
              0.4444444444444444,
              "#bd3786"
             ],
             [
              0.5555555555555556,
              "#d8576b"
             ],
             [
              0.6666666666666666,
              "#ed7953"
             ],
             [
              0.7777777777777778,
              "#fb9f3a"
             ],
             [
              0.8888888888888888,
              "#fdca26"
             ],
             [
              1,
              "#f0f921"
             ]
            ],
            "type": "heatmap"
           }
          ],
          "heatmapgl": [
           {
            "colorbar": {
             "outlinewidth": 0,
             "ticks": ""
            },
            "colorscale": [
             [
              0,
              "#0d0887"
             ],
             [
              0.1111111111111111,
              "#46039f"
             ],
             [
              0.2222222222222222,
              "#7201a8"
             ],
             [
              0.3333333333333333,
              "#9c179e"
             ],
             [
              0.4444444444444444,
              "#bd3786"
             ],
             [
              0.5555555555555556,
              "#d8576b"
             ],
             [
              0.6666666666666666,
              "#ed7953"
             ],
             [
              0.7777777777777778,
              "#fb9f3a"
             ],
             [
              0.8888888888888888,
              "#fdca26"
             ],
             [
              1,
              "#f0f921"
             ]
            ],
            "type": "heatmapgl"
           }
          ],
          "histogram": [
           {
            "marker": {
             "pattern": {
              "fillmode": "overlay",
              "size": 10,
              "solidity": 0.2
             }
            },
            "type": "histogram"
           }
          ],
          "histogram2d": [
           {
            "colorbar": {
             "outlinewidth": 0,
             "ticks": ""
            },
            "colorscale": [
             [
              0,
              "#0d0887"
             ],
             [
              0.1111111111111111,
              "#46039f"
             ],
             [
              0.2222222222222222,
              "#7201a8"
             ],
             [
              0.3333333333333333,
              "#9c179e"
             ],
             [
              0.4444444444444444,
              "#bd3786"
             ],
             [
              0.5555555555555556,
              "#d8576b"
             ],
             [
              0.6666666666666666,
              "#ed7953"
             ],
             [
              0.7777777777777778,
              "#fb9f3a"
             ],
             [
              0.8888888888888888,
              "#fdca26"
             ],
             [
              1,
              "#f0f921"
             ]
            ],
            "type": "histogram2d"
           }
          ],
          "histogram2dcontour": [
           {
            "colorbar": {
             "outlinewidth": 0,
             "ticks": ""
            },
            "colorscale": [
             [
              0,
              "#0d0887"
             ],
             [
              0.1111111111111111,
              "#46039f"
             ],
             [
              0.2222222222222222,
              "#7201a8"
             ],
             [
              0.3333333333333333,
              "#9c179e"
             ],
             [
              0.4444444444444444,
              "#bd3786"
             ],
             [
              0.5555555555555556,
              "#d8576b"
             ],
             [
              0.6666666666666666,
              "#ed7953"
             ],
             [
              0.7777777777777778,
              "#fb9f3a"
             ],
             [
              0.8888888888888888,
              "#fdca26"
             ],
             [
              1,
              "#f0f921"
             ]
            ],
            "type": "histogram2dcontour"
           }
          ],
          "mesh3d": [
           {
            "colorbar": {
             "outlinewidth": 0,
             "ticks": ""
            },
            "type": "mesh3d"
           }
          ],
          "parcoords": [
           {
            "line": {
             "colorbar": {
              "outlinewidth": 0,
              "ticks": ""
             }
            },
            "type": "parcoords"
           }
          ],
          "pie": [
           {
            "automargin": true,
            "type": "pie"
           }
          ],
          "scatter": [
           {
            "fillpattern": {
             "fillmode": "overlay",
             "size": 10,
             "solidity": 0.2
            },
            "type": "scatter"
           }
          ],
          "scatter3d": [
           {
            "line": {
             "colorbar": {
              "outlinewidth": 0,
              "ticks": ""
             }
            },
            "marker": {
             "colorbar": {
              "outlinewidth": 0,
              "ticks": ""
             }
            },
            "type": "scatter3d"
           }
          ],
          "scattercarpet": [
           {
            "marker": {
             "colorbar": {
              "outlinewidth": 0,
              "ticks": ""
             }
            },
            "type": "scattercarpet"
           }
          ],
          "scattergeo": [
           {
            "marker": {
             "colorbar": {
              "outlinewidth": 0,
              "ticks": ""
             }
            },
            "type": "scattergeo"
           }
          ],
          "scattergl": [
           {
            "marker": {
             "colorbar": {
              "outlinewidth": 0,
              "ticks": ""
             }
            },
            "type": "scattergl"
           }
          ],
          "scattermapbox": [
           {
            "marker": {
             "colorbar": {
              "outlinewidth": 0,
              "ticks": ""
             }
            },
            "type": "scattermapbox"
           }
          ],
          "scatterpolar": [
           {
            "marker": {
             "colorbar": {
              "outlinewidth": 0,
              "ticks": ""
             }
            },
            "type": "scatterpolar"
           }
          ],
          "scatterpolargl": [
           {
            "marker": {
             "colorbar": {
              "outlinewidth": 0,
              "ticks": ""
             }
            },
            "type": "scatterpolargl"
           }
          ],
          "scatterternary": [
           {
            "marker": {
             "colorbar": {
              "outlinewidth": 0,
              "ticks": ""
             }
            },
            "type": "scatterternary"
           }
          ],
          "surface": [
           {
            "colorbar": {
             "outlinewidth": 0,
             "ticks": ""
            },
            "colorscale": [
             [
              0,
              "#0d0887"
             ],
             [
              0.1111111111111111,
              "#46039f"
             ],
             [
              0.2222222222222222,
              "#7201a8"
             ],
             [
              0.3333333333333333,
              "#9c179e"
             ],
             [
              0.4444444444444444,
              "#bd3786"
             ],
             [
              0.5555555555555556,
              "#d8576b"
             ],
             [
              0.6666666666666666,
              "#ed7953"
             ],
             [
              0.7777777777777778,
              "#fb9f3a"
             ],
             [
              0.8888888888888888,
              "#fdca26"
             ],
             [
              1,
              "#f0f921"
             ]
            ],
            "type": "surface"
           }
          ],
          "table": [
           {
            "cells": {
             "fill": {
              "color": "#EBF0F8"
             },
             "line": {
              "color": "white"
             }
            },
            "header": {
             "fill": {
              "color": "#C8D4E3"
             },
             "line": {
              "color": "white"
             }
            },
            "type": "table"
           }
          ]
         },
         "layout": {
          "annotationdefaults": {
           "arrowcolor": "#2a3f5f",
           "arrowhead": 0,
           "arrowwidth": 1
          },
          "autotypenumbers": "strict",
          "coloraxis": {
           "colorbar": {
            "outlinewidth": 0,
            "ticks": ""
           }
          },
          "colorscale": {
           "diverging": [
            [
             0,
             "#8e0152"
            ],
            [
             0.1,
             "#c51b7d"
            ],
            [
             0.2,
             "#de77ae"
            ],
            [
             0.3,
             "#f1b6da"
            ],
            [
             0.4,
             "#fde0ef"
            ],
            [
             0.5,
             "#f7f7f7"
            ],
            [
             0.6,
             "#e6f5d0"
            ],
            [
             0.7,
             "#b8e186"
            ],
            [
             0.8,
             "#7fbc41"
            ],
            [
             0.9,
             "#4d9221"
            ],
            [
             1,
             "#276419"
            ]
           ],
           "sequential": [
            [
             0,
             "#0d0887"
            ],
            [
             0.1111111111111111,
             "#46039f"
            ],
            [
             0.2222222222222222,
             "#7201a8"
            ],
            [
             0.3333333333333333,
             "#9c179e"
            ],
            [
             0.4444444444444444,
             "#bd3786"
            ],
            [
             0.5555555555555556,
             "#d8576b"
            ],
            [
             0.6666666666666666,
             "#ed7953"
            ],
            [
             0.7777777777777778,
             "#fb9f3a"
            ],
            [
             0.8888888888888888,
             "#fdca26"
            ],
            [
             1,
             "#f0f921"
            ]
           ],
           "sequentialminus": [
            [
             0,
             "#0d0887"
            ],
            [
             0.1111111111111111,
             "#46039f"
            ],
            [
             0.2222222222222222,
             "#7201a8"
            ],
            [
             0.3333333333333333,
             "#9c179e"
            ],
            [
             0.4444444444444444,
             "#bd3786"
            ],
            [
             0.5555555555555556,
             "#d8576b"
            ],
            [
             0.6666666666666666,
             "#ed7953"
            ],
            [
             0.7777777777777778,
             "#fb9f3a"
            ],
            [
             0.8888888888888888,
             "#fdca26"
            ],
            [
             1,
             "#f0f921"
            ]
           ]
          },
          "colorway": [
           "#636efa",
           "#EF553B",
           "#00cc96",
           "#ab63fa",
           "#FFA15A",
           "#19d3f3",
           "#FF6692",
           "#B6E880",
           "#FF97FF",
           "#FECB52"
          ],
          "font": {
           "color": "#2a3f5f"
          },
          "geo": {
           "bgcolor": "white",
           "lakecolor": "white",
           "landcolor": "#E5ECF6",
           "showlakes": true,
           "showland": true,
           "subunitcolor": "white"
          },
          "hoverlabel": {
           "align": "left"
          },
          "hovermode": "closest",
          "mapbox": {
           "style": "light"
          },
          "paper_bgcolor": "white",
          "plot_bgcolor": "#E5ECF6",
          "polar": {
           "angularaxis": {
            "gridcolor": "white",
            "linecolor": "white",
            "ticks": ""
           },
           "bgcolor": "#E5ECF6",
           "radialaxis": {
            "gridcolor": "white",
            "linecolor": "white",
            "ticks": ""
           }
          },
          "scene": {
           "xaxis": {
            "backgroundcolor": "#E5ECF6",
            "gridcolor": "white",
            "gridwidth": 2,
            "linecolor": "white",
            "showbackground": true,
            "ticks": "",
            "zerolinecolor": "white"
           },
           "yaxis": {
            "backgroundcolor": "#E5ECF6",
            "gridcolor": "white",
            "gridwidth": 2,
            "linecolor": "white",
            "showbackground": true,
            "ticks": "",
            "zerolinecolor": "white"
           },
           "zaxis": {
            "backgroundcolor": "#E5ECF6",
            "gridcolor": "white",
            "gridwidth": 2,
            "linecolor": "white",
            "showbackground": true,
            "ticks": "",
            "zerolinecolor": "white"
           }
          },
          "shapedefaults": {
           "line": {
            "color": "#2a3f5f"
           }
          },
          "ternary": {
           "aaxis": {
            "gridcolor": "white",
            "linecolor": "white",
            "ticks": ""
           },
           "baxis": {
            "gridcolor": "white",
            "linecolor": "white",
            "ticks": ""
           },
           "bgcolor": "#E5ECF6",
           "caxis": {
            "gridcolor": "white",
            "linecolor": "white",
            "ticks": ""
           }
          },
          "title": {
           "x": 0.05
          },
          "xaxis": {
           "automargin": true,
           "gridcolor": "white",
           "linecolor": "white",
           "ticks": "",
           "title": {
            "standoff": 15
           },
           "zerolinecolor": "white",
           "zerolinewidth": 2
          },
          "yaxis": {
           "automargin": true,
           "gridcolor": "white",
           "linecolor": "white",
           "ticks": "",
           "title": {
            "standoff": 15
           },
           "zerolinecolor": "white",
           "zerolinewidth": 2
          }
         }
        },
        "title": {
         "text": "Comparison of Total Sales Volume in Dollars for Each Month"
        },
        "xaxis": {
         "title": {
          "text": "Month"
         }
        },
        "yaxis": {
         "title": {
          "text": "Total Sales Volume (Dollars)"
         }
        }
       }
      }
     },
     "metadata": {},
     "output_type": "display_data"
    }
   ],
   "source": [
    "# Extract the sales volume columns for each month from cols_check\n",
    "sales_volume_cols = ['Sales Volume - Jan', 'Sales Volume - Feb', 'Sales Volume - Mar',\n",
    "                     'Sales Volume - Apr', 'Sales Volume - May', 'Sales Volume - Jun',\n",
    "                     'Sales Volume - Jul', 'Sales Volume - Aug', 'Sales Volume - Sept',\n",
    "                     'Sales Volume - Oct', 'Sales Volume - Nov', 'Sales Volume - Dec']\n",
    "\n",
    "last_year_volume = [ 'Sales Volume - Last Jan',\n",
    "                     'Sales Volume - Last Feb',\n",
    "                     'Sales Volume - Last Mar',\n",
    "                     'Sales Volume - Last Apr',\n",
    "                     'Sales Volume - Last May',\n",
    "                     'Sales Volume - Last Jun',\n",
    "                     'Sales Volume - Last Jul',\n",
    "                     'Sales Volume - Last Aug',\n",
    "                     'Sales Volume - Last Sept',\n",
    "                     'Sales Volume - Last Oct',\n",
    "                     'Sales Volume - Last Nov',\n",
    "                     'Sales Volume - Last Dec',]\n",
    "\n",
    "# Calculate the total sales volume for each month\n",
    "total_sales_volume = parts_data[sales_volume_cols].sum()\n",
    "total_volume = parts_data[last_year_volume].sum()\n",
    "\n",
    "# Create the comparison bar chart using plotly\n",
    "fig = go.Figure()\n",
    "\n",
    "# Add the bars for the total sales volume for each month in the current year\n",
    "fig.add_trace(go.Bar(x=sales_volume_cols, y=total_sales_volume, name='Current Year'))\n",
    "\n",
    "# Add the bars for the total sales volume for each month in the last year\n",
    "fig.add_trace(go.Bar(x=sales_volume_cols, y=2.75 * total_volume, name='Last Year')) #approximation (data missing)\n",
    "\n",
    "# Update the layout with labels and title\n",
    "fig.update_layout(title='Comparison of Total Sales Volume in Dollars for Each Month',\n",
    "                  xaxis_title='Month',\n",
    "                  yaxis_title='Total Sales Volume (Dollars)',\n",
    "                  barmode='group')\n",
    "\n",
    "# Show the interactive plot\n",
    "fig.show()"
   ]
  },
  {
   "cell_type": "code",
   "execution_count": null,
   "metadata": {},
   "outputs": [
    {
     "data": {
      "application/vnd.plotly.v1+json": {
       "config": {
        "plotlyServerURL": "https://plot.ly"
       },
       "data": [
        {
         "type": "bar",
         "x": [
          "Last Year",
          "This Year"
         ],
         "y": [
          963296.74,
          885068.9695
         ]
        }
       ],
       "layout": {
        "template": {
         "data": {
          "bar": [
           {
            "error_x": {
             "color": "#2a3f5f"
            },
            "error_y": {
             "color": "#2a3f5f"
            },
            "marker": {
             "line": {
              "color": "#E5ECF6",
              "width": 0.5
             },
             "pattern": {
              "fillmode": "overlay",
              "size": 10,
              "solidity": 0.2
             }
            },
            "type": "bar"
           }
          ],
          "barpolar": [
           {
            "marker": {
             "line": {
              "color": "#E5ECF6",
              "width": 0.5
             },
             "pattern": {
              "fillmode": "overlay",
              "size": 10,
              "solidity": 0.2
             }
            },
            "type": "barpolar"
           }
          ],
          "carpet": [
           {
            "aaxis": {
             "endlinecolor": "#2a3f5f",
             "gridcolor": "white",
             "linecolor": "white",
             "minorgridcolor": "white",
             "startlinecolor": "#2a3f5f"
            },
            "baxis": {
             "endlinecolor": "#2a3f5f",
             "gridcolor": "white",
             "linecolor": "white",
             "minorgridcolor": "white",
             "startlinecolor": "#2a3f5f"
            },
            "type": "carpet"
           }
          ],
          "choropleth": [
           {
            "colorbar": {
             "outlinewidth": 0,
             "ticks": ""
            },
            "type": "choropleth"
           }
          ],
          "contour": [
           {
            "colorbar": {
             "outlinewidth": 0,
             "ticks": ""
            },
            "colorscale": [
             [
              0,
              "#0d0887"
             ],
             [
              0.1111111111111111,
              "#46039f"
             ],
             [
              0.2222222222222222,
              "#7201a8"
             ],
             [
              0.3333333333333333,
              "#9c179e"
             ],
             [
              0.4444444444444444,
              "#bd3786"
             ],
             [
              0.5555555555555556,
              "#d8576b"
             ],
             [
              0.6666666666666666,
              "#ed7953"
             ],
             [
              0.7777777777777778,
              "#fb9f3a"
             ],
             [
              0.8888888888888888,
              "#fdca26"
             ],
             [
              1,
              "#f0f921"
             ]
            ],
            "type": "contour"
           }
          ],
          "contourcarpet": [
           {
            "colorbar": {
             "outlinewidth": 0,
             "ticks": ""
            },
            "type": "contourcarpet"
           }
          ],
          "heatmap": [
           {
            "colorbar": {
             "outlinewidth": 0,
             "ticks": ""
            },
            "colorscale": [
             [
              0,
              "#0d0887"
             ],
             [
              0.1111111111111111,
              "#46039f"
             ],
             [
              0.2222222222222222,
              "#7201a8"
             ],
             [
              0.3333333333333333,
              "#9c179e"
             ],
             [
              0.4444444444444444,
              "#bd3786"
             ],
             [
              0.5555555555555556,
              "#d8576b"
             ],
             [
              0.6666666666666666,
              "#ed7953"
             ],
             [
              0.7777777777777778,
              "#fb9f3a"
             ],
             [
              0.8888888888888888,
              "#fdca26"
             ],
             [
              1,
              "#f0f921"
             ]
            ],
            "type": "heatmap"
           }
          ],
          "heatmapgl": [
           {
            "colorbar": {
             "outlinewidth": 0,
             "ticks": ""
            },
            "colorscale": [
             [
              0,
              "#0d0887"
             ],
             [
              0.1111111111111111,
              "#46039f"
             ],
             [
              0.2222222222222222,
              "#7201a8"
             ],
             [
              0.3333333333333333,
              "#9c179e"
             ],
             [
              0.4444444444444444,
              "#bd3786"
             ],
             [
              0.5555555555555556,
              "#d8576b"
             ],
             [
              0.6666666666666666,
              "#ed7953"
             ],
             [
              0.7777777777777778,
              "#fb9f3a"
             ],
             [
              0.8888888888888888,
              "#fdca26"
             ],
             [
              1,
              "#f0f921"
             ]
            ],
            "type": "heatmapgl"
           }
          ],
          "histogram": [
           {
            "marker": {
             "pattern": {
              "fillmode": "overlay",
              "size": 10,
              "solidity": 0.2
             }
            },
            "type": "histogram"
           }
          ],
          "histogram2d": [
           {
            "colorbar": {
             "outlinewidth": 0,
             "ticks": ""
            },
            "colorscale": [
             [
              0,
              "#0d0887"
             ],
             [
              0.1111111111111111,
              "#46039f"
             ],
             [
              0.2222222222222222,
              "#7201a8"
             ],
             [
              0.3333333333333333,
              "#9c179e"
             ],
             [
              0.4444444444444444,
              "#bd3786"
             ],
             [
              0.5555555555555556,
              "#d8576b"
             ],
             [
              0.6666666666666666,
              "#ed7953"
             ],
             [
              0.7777777777777778,
              "#fb9f3a"
             ],
             [
              0.8888888888888888,
              "#fdca26"
             ],
             [
              1,
              "#f0f921"
             ]
            ],
            "type": "histogram2d"
           }
          ],
          "histogram2dcontour": [
           {
            "colorbar": {
             "outlinewidth": 0,
             "ticks": ""
            },
            "colorscale": [
             [
              0,
              "#0d0887"
             ],
             [
              0.1111111111111111,
              "#46039f"
             ],
             [
              0.2222222222222222,
              "#7201a8"
             ],
             [
              0.3333333333333333,
              "#9c179e"
             ],
             [
              0.4444444444444444,
              "#bd3786"
             ],
             [
              0.5555555555555556,
              "#d8576b"
             ],
             [
              0.6666666666666666,
              "#ed7953"
             ],
             [
              0.7777777777777778,
              "#fb9f3a"
             ],
             [
              0.8888888888888888,
              "#fdca26"
             ],
             [
              1,
              "#f0f921"
             ]
            ],
            "type": "histogram2dcontour"
           }
          ],
          "mesh3d": [
           {
            "colorbar": {
             "outlinewidth": 0,
             "ticks": ""
            },
            "type": "mesh3d"
           }
          ],
          "parcoords": [
           {
            "line": {
             "colorbar": {
              "outlinewidth": 0,
              "ticks": ""
             }
            },
            "type": "parcoords"
           }
          ],
          "pie": [
           {
            "automargin": true,
            "type": "pie"
           }
          ],
          "scatter": [
           {
            "fillpattern": {
             "fillmode": "overlay",
             "size": 10,
             "solidity": 0.2
            },
            "type": "scatter"
           }
          ],
          "scatter3d": [
           {
            "line": {
             "colorbar": {
              "outlinewidth": 0,
              "ticks": ""
             }
            },
            "marker": {
             "colorbar": {
              "outlinewidth": 0,
              "ticks": ""
             }
            },
            "type": "scatter3d"
           }
          ],
          "scattercarpet": [
           {
            "marker": {
             "colorbar": {
              "outlinewidth": 0,
              "ticks": ""
             }
            },
            "type": "scattercarpet"
           }
          ],
          "scattergeo": [
           {
            "marker": {
             "colorbar": {
              "outlinewidth": 0,
              "ticks": ""
             }
            },
            "type": "scattergeo"
           }
          ],
          "scattergl": [
           {
            "marker": {
             "colorbar": {
              "outlinewidth": 0,
              "ticks": ""
             }
            },
            "type": "scattergl"
           }
          ],
          "scattermapbox": [
           {
            "marker": {
             "colorbar": {
              "outlinewidth": 0,
              "ticks": ""
             }
            },
            "type": "scattermapbox"
           }
          ],
          "scatterpolar": [
           {
            "marker": {
             "colorbar": {
              "outlinewidth": 0,
              "ticks": ""
             }
            },
            "type": "scatterpolar"
           }
          ],
          "scatterpolargl": [
           {
            "marker": {
             "colorbar": {
              "outlinewidth": 0,
              "ticks": ""
             }
            },
            "type": "scatterpolargl"
           }
          ],
          "scatterternary": [
           {
            "marker": {
             "colorbar": {
              "outlinewidth": 0,
              "ticks": ""
             }
            },
            "type": "scatterternary"
           }
          ],
          "surface": [
           {
            "colorbar": {
             "outlinewidth": 0,
             "ticks": ""
            },
            "colorscale": [
             [
              0,
              "#0d0887"
             ],
             [
              0.1111111111111111,
              "#46039f"
             ],
             [
              0.2222222222222222,
              "#7201a8"
             ],
             [
              0.3333333333333333,
              "#9c179e"
             ],
             [
              0.4444444444444444,
              "#bd3786"
             ],
             [
              0.5555555555555556,
              "#d8576b"
             ],
             [
              0.6666666666666666,
              "#ed7953"
             ],
             [
              0.7777777777777778,
              "#fb9f3a"
             ],
             [
              0.8888888888888888,
              "#fdca26"
             ],
             [
              1,
              "#f0f921"
             ]
            ],
            "type": "surface"
           }
          ],
          "table": [
           {
            "cells": {
             "fill": {
              "color": "#EBF0F8"
             },
             "line": {
              "color": "white"
             }
            },
            "header": {
             "fill": {
              "color": "#C8D4E3"
             },
             "line": {
              "color": "white"
             }
            },
            "type": "table"
           }
          ]
         },
         "layout": {
          "annotationdefaults": {
           "arrowcolor": "#2a3f5f",
           "arrowhead": 0,
           "arrowwidth": 1
          },
          "autotypenumbers": "strict",
          "coloraxis": {
           "colorbar": {
            "outlinewidth": 0,
            "ticks": ""
           }
          },
          "colorscale": {
           "diverging": [
            [
             0,
             "#8e0152"
            ],
            [
             0.1,
             "#c51b7d"
            ],
            [
             0.2,
             "#de77ae"
            ],
            [
             0.3,
             "#f1b6da"
            ],
            [
             0.4,
             "#fde0ef"
            ],
            [
             0.5,
             "#f7f7f7"
            ],
            [
             0.6,
             "#e6f5d0"
            ],
            [
             0.7,
             "#b8e186"
            ],
            [
             0.8,
             "#7fbc41"
            ],
            [
             0.9,
             "#4d9221"
            ],
            [
             1,
             "#276419"
            ]
           ],
           "sequential": [
            [
             0,
             "#0d0887"
            ],
            [
             0.1111111111111111,
             "#46039f"
            ],
            [
             0.2222222222222222,
             "#7201a8"
            ],
            [
             0.3333333333333333,
             "#9c179e"
            ],
            [
             0.4444444444444444,
             "#bd3786"
            ],
            [
             0.5555555555555556,
             "#d8576b"
            ],
            [
             0.6666666666666666,
             "#ed7953"
            ],
            [
             0.7777777777777778,
             "#fb9f3a"
            ],
            [
             0.8888888888888888,
             "#fdca26"
            ],
            [
             1,
             "#f0f921"
            ]
           ],
           "sequentialminus": [
            [
             0,
             "#0d0887"
            ],
            [
             0.1111111111111111,
             "#46039f"
            ],
            [
             0.2222222222222222,
             "#7201a8"
            ],
            [
             0.3333333333333333,
             "#9c179e"
            ],
            [
             0.4444444444444444,
             "#bd3786"
            ],
            [
             0.5555555555555556,
             "#d8576b"
            ],
            [
             0.6666666666666666,
             "#ed7953"
            ],
            [
             0.7777777777777778,
             "#fb9f3a"
            ],
            [
             0.8888888888888888,
             "#fdca26"
            ],
            [
             1,
             "#f0f921"
            ]
           ]
          },
          "colorway": [
           "#636efa",
           "#EF553B",
           "#00cc96",
           "#ab63fa",
           "#FFA15A",
           "#19d3f3",
           "#FF6692",
           "#B6E880",
           "#FF97FF",
           "#FECB52"
          ],
          "font": {
           "color": "#2a3f5f"
          },
          "geo": {
           "bgcolor": "white",
           "lakecolor": "white",
           "landcolor": "#E5ECF6",
           "showlakes": true,
           "showland": true,
           "subunitcolor": "white"
          },
          "hoverlabel": {
           "align": "left"
          },
          "hovermode": "closest",
          "mapbox": {
           "style": "light"
          },
          "paper_bgcolor": "white",
          "plot_bgcolor": "#E5ECF6",
          "polar": {
           "angularaxis": {
            "gridcolor": "white",
            "linecolor": "white",
            "ticks": ""
           },
           "bgcolor": "#E5ECF6",
           "radialaxis": {
            "gridcolor": "white",
            "linecolor": "white",
            "ticks": ""
           }
          },
          "scene": {
           "xaxis": {
            "backgroundcolor": "#E5ECF6",
            "gridcolor": "white",
            "gridwidth": 2,
            "linecolor": "white",
            "showbackground": true,
            "ticks": "",
            "zerolinecolor": "white"
           },
           "yaxis": {
            "backgroundcolor": "#E5ECF6",
            "gridcolor": "white",
            "gridwidth": 2,
            "linecolor": "white",
            "showbackground": true,
            "ticks": "",
            "zerolinecolor": "white"
           },
           "zaxis": {
            "backgroundcolor": "#E5ECF6",
            "gridcolor": "white",
            "gridwidth": 2,
            "linecolor": "white",
            "showbackground": true,
            "ticks": "",
            "zerolinecolor": "white"
           }
          },
          "shapedefaults": {
           "line": {
            "color": "#2a3f5f"
           }
          },
          "ternary": {
           "aaxis": {
            "gridcolor": "white",
            "linecolor": "white",
            "ticks": ""
           },
           "baxis": {
            "gridcolor": "white",
            "linecolor": "white",
            "ticks": ""
           },
           "bgcolor": "#E5ECF6",
           "caxis": {
            "gridcolor": "white",
            "linecolor": "white",
            "ticks": ""
           }
          },
          "title": {
           "x": 0.05
          },
          "xaxis": {
           "automargin": true,
           "gridcolor": "white",
           "linecolor": "white",
           "ticks": "",
           "title": {
            "standoff": 15
           },
           "zerolinecolor": "white",
           "zerolinewidth": 2
          },
          "yaxis": {
           "automargin": true,
           "gridcolor": "white",
           "linecolor": "white",
           "ticks": "",
           "title": {
            "standoff": 15
           },
           "zerolinecolor": "white",
           "zerolinewidth": 2
          }
         }
        },
        "title": {
         "text": "Comparison of Last Year and This Year Total Sales"
        },
        "xaxis": {
         "title": {
          "text": "Year"
         }
        },
        "yaxis": {
         "title": {
          "text": "Total Sales"
         }
        }
       }
      }
     },
     "metadata": {},
     "output_type": "display_data"
    }
   ],
   "source": [
    "total_sales_volume = parts_data['Total Sales Volume'].sum()\n",
    "total_volume_last_year = 2 * parts_data['Last Year Total Sales Volume'].sum() #approximation (data missing)\n",
    "\n",
    "# Create the DataFrame to hold the totals\n",
    "sales_totals = pd.DataFrame({\n",
    "    'Year': ['Last Year', 'This Year'],\n",
    "    'Total Sales': [total_volume_last_year, total_sales_volume]\n",
    "})\n",
    "\n",
    "# Create the comparison bar chart using plotly\n",
    "fig = go.Figure()\n",
    "\n",
    "# Add the bars for 'Last Year' and 'This Year' sales\n",
    "fig.add_trace(go.Bar(x=sales_totals['Year'], y=sales_totals['Total Sales']))\n",
    "\n",
    "# Update the layout with labels and title\n",
    "fig.update_layout(title='Comparison of Last Year and This Year Total Sales',\n",
    "                  xaxis_title='Year',\n",
    "                  yaxis_title='Total Sales')\n",
    "\n",
    "# Show the interactive plot\n",
    "fig.show()"
   ]
  },
  {
   "cell_type": "code",
   "execution_count": null,
   "metadata": {},
   "outputs": [
    {
     "data": {
      "text/html": [
       "<div>\n",
       "<style scoped>\n",
       "    .dataframe tbody tr th:only-of-type {\n",
       "        vertical-align: middle;\n",
       "    }\n",
       "\n",
       "    .dataframe tbody tr th {\n",
       "        vertical-align: top;\n",
       "    }\n",
       "\n",
       "    .dataframe thead th {\n",
       "        text-align: right;\n",
       "    }\n",
       "</style>\n",
       "<table border=\"1\" class=\"dataframe\">\n",
       "  <thead>\n",
       "    <tr style=\"text-align: right;\">\n",
       "      <th></th>\n",
       "      <th>Part Number</th>\n",
       "      <th>Description</th>\n",
       "      <th>Quantity</th>\n",
       "      <th>Price</th>\n",
       "      <th>Margin %</th>\n",
       "      <th>Cost Per Unit</th>\n",
       "    </tr>\n",
       "  </thead>\n",
       "  <tbody>\n",
       "    <tr>\n",
       "      <th>3</th>\n",
       "      <td>04-136A</td>\n",
       "      <td>60/55W H4 P45T</td>\n",
       "      <td>1</td>\n",
       "      <td>4.99</td>\n",
       "      <td>-44.69</td>\n",
       "      <td>7.22</td>\n",
       "    </tr>\n",
       "    <tr>\n",
       "      <th>4</th>\n",
       "      <td>04-137</td>\n",
       "      <td>BULB, H4, 35/35W</td>\n",
       "      <td>3</td>\n",
       "      <td>4.99</td>\n",
       "      <td>-37.07</td>\n",
       "      <td>6.84</td>\n",
       "    </tr>\n",
       "    <tr>\n",
       "      <th>15</th>\n",
       "      <td>04-136</td>\n",
       "      <td>BULB, H4, 60/55W</td>\n",
       "      <td>1</td>\n",
       "      <td>4.99</td>\n",
       "      <td>-26.25</td>\n",
       "      <td>6.30</td>\n",
       "    </tr>\n",
       "    <tr>\n",
       "      <th>27</th>\n",
       "      <td>111584</td>\n",
       "      <td>RR SPRCT 40T 630</td>\n",
       "      <td>1</td>\n",
       "      <td>26.99</td>\n",
       "      <td>-3.56</td>\n",
       "      <td>27.95</td>\n",
       "    </tr>\n",
       "    <tr>\n",
       "      <th>497</th>\n",
       "      <td>04-136B</td>\n",
       "      <td>BULB 12V-45/45W</td>\n",
       "      <td>1</td>\n",
       "      <td>4.99</td>\n",
       "      <td>-118.64</td>\n",
       "      <td>10.91</td>\n",
       "    </tr>\n",
       "    <tr>\n",
       "      <th>4771</th>\n",
       "      <td>1990462</td>\n",
       "      <td>SILVER SLIP-ON</td>\n",
       "      <td>1</td>\n",
       "      <td>899.99</td>\n",
       "      <td>-4.22</td>\n",
       "      <td>937.99</td>\n",
       "    </tr>\n",
       "    <tr>\n",
       "      <th>5274</th>\n",
       "      <td>T2101995-PG</td>\n",
       "      <td>COVER ASSEMBLY,</td>\n",
       "      <td>1</td>\n",
       "      <td>89.99</td>\n",
       "      <td>-136.00</td>\n",
       "      <td>212.38</td>\n",
       "    </tr>\n",
       "    <tr>\n",
       "      <th>5716</th>\n",
       "      <td>04-132</td>\n",
       "      <td>BULB 12V 45/45W</td>\n",
       "      <td>1</td>\n",
       "      <td>1.99</td>\n",
       "      <td>-16.08</td>\n",
       "      <td>2.31</td>\n",
       "    </tr>\n",
       "    <tr>\n",
       "      <th>5717</th>\n",
       "      <td>04-139</td>\n",
       "      <td>H3 HALOGEN BULB,</td>\n",
       "      <td>2</td>\n",
       "      <td>2.99</td>\n",
       "      <td>-5.02</td>\n",
       "      <td>3.14</td>\n",
       "    </tr>\n",
       "    <tr>\n",
       "      <th>8242</th>\n",
       "      <td>04-1821</td>\n",
       "      <td>BULB 12V 55W H11</td>\n",
       "      <td>3</td>\n",
       "      <td>5.99</td>\n",
       "      <td>-185.64</td>\n",
       "      <td>17.11</td>\n",
       "    </tr>\n",
       "  </tbody>\n",
       "</table>\n",
       "</div>"
      ],
      "text/plain": [
       "      Part Number        Description  Quantity   Price  Margin %  \\\n",
       "3         04-136A     60/55W H4 P45T         1    4.99    -44.69   \n",
       "4          04-137   BULB, H4, 35/35W         3    4.99    -37.07   \n",
       "15         04-136   BULB, H4, 60/55W         1    4.99    -26.25   \n",
       "27         111584   RR SPRCT 40T 630         1   26.99     -3.56   \n",
       "497       04-136B   BULB 12V-45/45W          1    4.99   -118.64   \n",
       "4771      1990462    SILVER SLIP-ON          1  899.99     -4.22   \n",
       "5274  T2101995-PG    COVER ASSEMBLY,         1   89.99   -136.00   \n",
       "5716       04-132    BULB 12V 45/45W         1    1.99    -16.08   \n",
       "5717       04-139  H3 HALOGEN BULB,          2    2.99     -5.02   \n",
       "8242      04-1821  BULB 12V 55W H11          3    5.99   -185.64   \n",
       "\n",
       "      Cost Per Unit  \n",
       "3              7.22  \n",
       "4              6.84  \n",
       "15             6.30  \n",
       "27            27.95  \n",
       "497           10.91  \n",
       "4771         937.99  \n",
       "5274         212.38  \n",
       "5716           2.31  \n",
       "5717           3.14  \n",
       "8242          17.11  "
      ]
     },
     "execution_count": 59,
     "metadata": {},
     "output_type": "execute_result"
    }
   ],
   "source": [
    "#compare the margins\n",
    "margin_mask = parts_data['Margin %'] < 0 \n",
    "\n",
    "parts_data[margin_mask][['Part Number', 'Description', 'Quantity','Price', 'Margin %', 'Cost Per Unit']]"
   ]
  },
  {
   "cell_type": "code",
   "execution_count": null,
   "metadata": {},
   "outputs": [
    {
     "data": {
      "text/html": [
       "<div>\n",
       "<style scoped>\n",
       "    .dataframe tbody tr th:only-of-type {\n",
       "        vertical-align: middle;\n",
       "    }\n",
       "\n",
       "    .dataframe tbody tr th {\n",
       "        vertical-align: top;\n",
       "    }\n",
       "\n",
       "    .dataframe thead th {\n",
       "        text-align: right;\n",
       "    }\n",
       "</style>\n",
       "<table border=\"1\" class=\"dataframe\">\n",
       "  <thead>\n",
       "    <tr style=\"text-align: right;\">\n",
       "      <th></th>\n",
       "      <th>Part Number</th>\n",
       "      <th>Description</th>\n",
       "      <th>Price</th>\n",
       "      <th>Quantity</th>\n",
       "      <th>Margin %</th>\n",
       "      <th>Sales Last 3 Months</th>\n",
       "    </tr>\n",
       "  </thead>\n",
       "  <tbody>\n",
       "    <tr>\n",
       "      <th>46</th>\n",
       "      <td>11127673086</td>\n",
       "      <td>BMW R1200 GS</td>\n",
       "      <td>69.99</td>\n",
       "      <td>10</td>\n",
       "      <td>34.93</td>\n",
       "      <td>2</td>\n",
       "    </tr>\n",
       "    <tr>\n",
       "      <th>47</th>\n",
       "      <td>11127673086</td>\n",
       "      <td>EXTERIOR GASKET</td>\n",
       "      <td>69.99</td>\n",
       "      <td>10</td>\n",
       "      <td>34.93</td>\n",
       "      <td>2</td>\n",
       "    </tr>\n",
       "    <tr>\n",
       "      <th>63</th>\n",
       "      <td>31422311988</td>\n",
       "      <td>SHAFT SEAL</td>\n",
       "      <td>34.99</td>\n",
       "      <td>1</td>\n",
       "      <td>37.81</td>\n",
       "      <td>1</td>\n",
       "    </tr>\n",
       "    <tr>\n",
       "      <th>64</th>\n",
       "      <td>31422311988</td>\n",
       "      <td>FORK SEALS</td>\n",
       "      <td>34.99</td>\n",
       "      <td>1</td>\n",
       "      <td>37.81</td>\n",
       "      <td>1</td>\n",
       "    </tr>\n",
       "    <tr>\n",
       "      <th>65</th>\n",
       "      <td>31427702837</td>\n",
       "      <td>GASKET RING</td>\n",
       "      <td>43.99</td>\n",
       "      <td>7</td>\n",
       "      <td>37.44</td>\n",
       "      <td>1</td>\n",
       "    </tr>\n",
       "    <tr>\n",
       "      <th>...</th>\n",
       "      <td>...</td>\n",
       "      <td>...</td>\n",
       "      <td>...</td>\n",
       "      <td>...</td>\n",
       "      <td>...</td>\n",
       "      <td>...</td>\n",
       "    </tr>\n",
       "    <tr>\n",
       "      <th>11420</th>\n",
       "      <td>83222413512</td>\n",
       "      <td>HYPOID AXLE OIL</td>\n",
       "      <td>68.99</td>\n",
       "      <td>14</td>\n",
       "      <td>30.05</td>\n",
       "      <td>32</td>\n",
       "    </tr>\n",
       "    <tr>\n",
       "      <th>11421</th>\n",
       "      <td>T3550146</td>\n",
       "      <td>WASHER 6.4X11.5</td>\n",
       "      <td>1.99</td>\n",
       "      <td>3</td>\n",
       "      <td>38.69</td>\n",
       "      <td>9</td>\n",
       "    </tr>\n",
       "    <tr>\n",
       "      <th>11422</th>\n",
       "      <td>T3100015</td>\n",
       "      <td>EXHAUST STUDS</td>\n",
       "      <td>2.99</td>\n",
       "      <td>21</td>\n",
       "      <td>45.82</td>\n",
       "      <td>12</td>\n",
       "    </tr>\n",
       "    <tr>\n",
       "      <th>11423</th>\n",
       "      <td>T3350301</td>\n",
       "      <td>NUT, M8X1.2</td>\n",
       "      <td>1.99</td>\n",
       "      <td>31</td>\n",
       "      <td>62.31</td>\n",
       "      <td>12</td>\n",
       "    </tr>\n",
       "    <tr>\n",
       "      <th>11424</th>\n",
       "      <td>4010-0219</td>\n",
       "      <td>KRYPTOLOCK DFS</td>\n",
       "      <td>86.99</td>\n",
       "      <td>4</td>\n",
       "      <td>41.60</td>\n",
       "      <td>7</td>\n",
       "    </tr>\n",
       "  </tbody>\n",
       "</table>\n",
       "<p>2362 rows × 6 columns</p>\n",
       "</div>"
      ],
      "text/plain": [
       "       Part Number       Description  Price  Quantity  Margin %  \\\n",
       "46     11127673086     BMW R1200 GS   69.99        10     34.93   \n",
       "47     11127673086   EXTERIOR GASKET  69.99        10     34.93   \n",
       "63     31422311988        SHAFT SEAL  34.99         1     37.81   \n",
       "64     31422311988        FORK SEALS  34.99         1     37.81   \n",
       "65     31427702837       GASKET RING  43.99         7     37.44   \n",
       "...            ...               ...    ...       ...       ...   \n",
       "11420  83222413512  HYPOID AXLE OIL   68.99        14     30.05   \n",
       "11421     T3550146   WASHER 6.4X11.5   1.99         3     38.69   \n",
       "11422     T3100015     EXHAUST STUDS   2.99        21     45.82   \n",
       "11423     T3350301       NUT, M8X1.2   1.99        31     62.31   \n",
       "11424    4010-0219   KRYPTOLOCK DFS   86.99         4     41.60   \n",
       "\n",
       "       Sales Last 3 Months  \n",
       "46                       2  \n",
       "47                       2  \n",
       "63                       1  \n",
       "64                       1  \n",
       "65                       1  \n",
       "...                    ...  \n",
       "11420                   32  \n",
       "11421                    9  \n",
       "11422                   12  \n",
       "11423                   12  \n",
       "11424                    7  \n",
       "\n",
       "[2362 rows x 6 columns]"
      ]
     },
     "execution_count": 61,
     "metadata": {},
     "output_type": "execute_result"
    }
   ],
   "source": [
    "parts_data[parts_data['Sales Last 3 Months'] >= 1][['Part Number', 'Description', 'Price', 'Quantity', 'Margin %', 'Sales Last 3 Months']]"
   ]
  },
  {
   "cell_type": "code",
   "execution_count": null,
   "metadata": {},
   "outputs": [
    {
     "data": {
      "text/plain": [
       "20.673960612691467"
      ]
     },
     "execution_count": 80,
     "metadata": {},
     "output_type": "execute_result"
    }
   ],
   "source": [
    "len(parts_data[parts_data['Sales Last 3 Months'] >= 1]) / parts_data.shape[0] * 100"
   ]
  },
  {
   "cell_type": "code",
   "execution_count": null,
   "metadata": {},
   "outputs": [
    {
     "data": {
      "text/plain": [
       "70.47702407002188"
      ]
     },
     "execution_count": 81,
     "metadata": {},
     "output_type": "execute_result"
    }
   ],
   "source": [
    "len(parts_data[parts_data['Sales Last 12 Months'] == 0]) / parts_data.shape[0] * 100"
   ]
  },
  {
   "cell_type": "code",
   "execution_count": null,
   "metadata": {},
   "outputs": [
    {
     "data": {
      "text/plain": [
       "8.919037199124727"
      ]
     },
     "execution_count": 83,
     "metadata": {},
     "output_type": "execute_result"
    }
   ],
   "source": [
    "len(parts_data[(parts_data['Sales Last 3 Months'] == 0)\n",
    "                & (parts_data['Sales Last 12 Months'] >= 1)]) / parts_data.shape[0] * 100"
   ]
  },
  {
   "cell_type": "markdown",
   "metadata": {},
   "source": [
    "Look for parts that have sold in the last 12 months but not in the last 9, 6 or 3"
   ]
  },
  {
   "cell_type": "code",
   "execution_count": 99,
   "metadata": {},
   "outputs": [],
   "source": [
    "def bad_ordered_parts_data(parts_data):\n",
    "    # Create the masks using the corrected comparisons\n",
    "    sales_mask = (parts_data['Sales Last 12 Months'] >= 1) & (parts_data['Sales Last 9 Months'] == 0)\n",
    "    price_mask = parts_data['Price'] > 250.00\n",
    "\n",
    "    # Apply both masks to filter the DataFrame\n",
    "    result_df = parts_data[sales_mask & price_mask][['Part Number', 'Description', 'Supplier Name','Price', 'Quantity', 'Cost Per Unit', 'Total Cost', 'Months No Sale']]\n",
    "\n",
    "    return result_df\n",
    "\n",
    "# Example usage:\n",
    "filtered_parts_data = bad_ordered_parts_data(parts_data)\n",
    "filtered_parts_data.to_csv('bad_orders_parts.csv')\n"
   ]
  }
 ],
 "metadata": {
  "kernelspec": {
   "display_name": "base",
   "language": "python",
   "name": "python3"
  },
  "language_info": {
   "codemirror_mode": {
    "name": "ipython",
    "version": 3
   },
   "file_extension": ".py",
   "mimetype": "text/x-python",
   "name": "python",
   "nbconvert_exporter": "python",
   "pygments_lexer": "ipython3",
   "version": "3.10.10"
  },
  "orig_nbformat": 4
 },
 "nbformat": 4,
 "nbformat_minor": 2
}
