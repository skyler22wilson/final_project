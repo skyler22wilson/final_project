{
 "cells": [
  {
   "cell_type": "code",
   "execution_count": 130,
   "metadata": {},
   "outputs": [],
   "source": [
    "import pandas as pd\n",
    "import numpy as np\n",
    "from sklearn.cluster import KMeans\n",
    "from sklearn.base import BaseEstimator, TransformerMixin\n",
    "from sklearn.metrics import silhouette_score\n",
    "from sklearn.decomposition import TruncatedSVD\n",
    "from sklearn.compose import ColumnTransformer\n",
    "from sklearn.feature_selection import SelectKBest, f_regression\n",
    "from sklearn.preprocessing import RobustScaler, normalize\n",
    "from sklearn.pipeline import Pipeline, FeatureUnion\n",
    "from scipy.stats import yeojohnson\n",
    "from sklearn.model_selection import train_test_split\n",
    "import matplotlib.pyplot as plt\n",
    "import shap"
   ]
  },
  {
   "cell_type": "code",
   "execution_count": 131,
   "metadata": {},
   "outputs": [],
   "source": [
    "parts_data = pd.read_csv('/Users/skylerwilson/Desktop/Lighthouse_Labs/Projects/final_project/data/Project_Data/final_parts_data.csv')"
   ]
  },
  {
   "cell_type": "code",
   "execution_count": 132,
   "metadata": {},
   "outputs": [],
   "source": [
    "# Clean sales data function\n",
    "def clean_sales_data(df, column_names):\n",
    "    for col in column_names:  \n",
    "        df[col] = np.abs(df[col])\n",
    "    return df\n",
    "\n",
    "# Clean quantity data function\n",
    "def clean_quantity_data(df, quantity_col):\n",
    "    return df[df[quantity_col] > 0]\n",
    "\n",
    "# Clean turnover data function\n",
    "def clean_negative_data(df, turnover_col):\n",
    "    return df[df[turnover_col] >= 0]\n",
    "\n",
    "\n",
    "def z_score(column, threshold=2):\n",
    "    z_scores = (column - column.mean()) / column.std()\n",
    "    return np.abs(z_scores) < threshold\n",
    "\n",
    "sales_data = ['Sales Last Month', 'Sales Last 3 Months', 'Sales Last 6 Months', 'Sales Last 9 Months',\n",
    "              'Sales Last 12 Months', 'Sales Last 2 Years', 'Sales Last 3 Years',\n",
    "              'Sales Last 4 Years', 'Sales Last 5 Years', 'Sales Last 10 Years',\n",
    "              'Months No Sale', 'Reorder Point', 'Sales - Jan', 'Sales - Feb',\n",
    "              'Sales - Mar', 'Sales - Apr', 'Sales - May', 'Sales - Jun',\n",
    "              'Sales - Jul', 'Sales - Aug', 'Sales - Sep', 'Sales - Oct',\n",
    "              'Sales - Nov', 'Sales - Dec', 'Sales - 1st Qtr', 'Sales - 2nd Qtr',\n",
    "              'Sales - 3rd Qtr', 'Sales - 4th Qtr', 'Sales - This Year','Sales - Last Year']\n",
    "quantity_col = 'Quantity'\n",
    "turnover_col = 'Turnover'\n",
    "\n",
    "num_cols = parts_data.select_dtypes(include='number').columns\n",
    "\n",
    "# Apply preprocessing steps\n",
    "parts_data = clean_sales_data(parts_data, sales_data)\n",
    "parts_data = clean_quantity_data(parts_data, quantity_col)\n",
    "parts_data = clean_negative_data(parts_data, turnover_col)\n",
    "\n",
    "\n",
    "# Apply z-score transformation to numerical columns\n",
    "parts_data[num_cols] = parts_data[parts_data[num_cols].apply(z_score)][num_cols]\n",
    "\n",
    "#deals with columns that dont have data yet so they end up as NaN when they shouldnt\n",
    "parts_data[num_cols] = np.where(parts_data[num_cols].isna(), 0, parts_data[num_cols])"
   ]
  },
  {
   "cell_type": "code",
   "execution_count": 133,
   "metadata": {},
   "outputs": [],
   "source": [
    "# Custom transformer classes\n",
    "class YeoJohnsonTransformer(BaseEstimator, TransformerMixin):\n",
    "    def __init__(self, columns):\n",
    "        self.columns = columns\n",
    "    \n",
    "    def fit(self, X, y=None):\n",
    "        return self\n",
    "    \n",
    "    def transform(self, X, y=None):\n",
    "        transformed_data = X.copy()\n",
    "        for col in self.columns:\n",
    "            transformed_data[col], _ = yeojohnson(X[col] + 0.01)  # Adding 0.01 to avoid zero values\n",
    "        return transformed_data\n",
    "\n",
    "# Load and preprocess the data\n",
    "X = parts_data.select_dtypes(include='number')\n",
    "constant_columns = X.columns[X.nunique() == 1]\n",
    "X.drop(columns=constant_columns, inplace=True)\n",
    "\n",
    "X_train, X_test= train_test_split(X, test_size=0.2, random_state=42, shuffle=True)\n",
    "\n",
    "# Define columns to transform\n",
    "cols_to_transform = X.columns\n",
    "\n",
    "# Column transformer for Yeo-Johnson transformation\n",
    "yeo_johnson_cols = ColumnTransformer(\n",
    "    transformers=[('yeo_johnson', YeoJohnsonTransformer(columns=cols_to_transform), cols_to_transform)],\n",
    "    remainder='passthrough'\n",
    ")\n",
    "\n",
    "# Create FeatureUnion combining TruncatedSVD and SelectKBest\n",
    "features = FeatureUnion([\n",
    "    ('svd', TruncatedSVD(n_components=10))\n",
    "])\n",
    "\n",
    "final_pipeline = Pipeline([\n",
    "    ('transformer', yeo_johnson_cols),\n",
    "    ('features', features),\n",
    "    ('scaler', RobustScaler()),\n",
    "])\n",
    "\n",
    "final_pipeline.fit(X_train)\n",
    "\n",
    "X_train_transformed = final_pipeline.named_steps['transformer'].transform(X_train)\n",
    "X_train_transformed = final_pipeline.named_steps['features'].transform(X_train_transformed)\n",
    "X_train_transformed = final_pipeline.named_steps['scaler'].transform(X_train_transformed)\n",
    "\n",
    "# Transform the testing data using the pipeline\n",
    "X_test_transformed = final_pipeline.named_steps['transformer'].transform(X_test)\n",
    "X_test_transformed = final_pipeline.named_steps['features'].transform(X_test_transformed)\n",
    "X_test_transformed = final_pipeline.named_steps['scaler'].transform(X_test_transformed)"
   ]
  },
  {
   "cell_type": "code",
   "execution_count": 134,
   "metadata": {},
   "outputs": [
    {
     "data": {
      "image/png": "[encoded data removed]",
      "text/plain": [
       "<Figure size 640x480 with 1 Axes>"
      ]
     },
     "metadata": {},
     "output_type": "display_data"
    }
   ],
   "source": [
    "def plot_distortion(pipeline, max_clusters=10):\n",
    "    X_transformed = pipeline.named_steps['transformer'].transform(X_train)\n",
    "    X_transformed = pipeline.named_steps['features'].transform(X_transformed)\n",
    "    X_transformed = pipeline.named_steps['scaler'].transform(X_transformed)\n",
    "    \n",
    "    distortions = []\n",
    "    for k in range(1, max_clusters + 1):\n",
    "        km = KMeans(n_clusters=k, init='k-means++', n_init=10, random_state=42)\n",
    "        km.fit(X_transformed)\n",
    "        distortions.append(km.inertia_)\n",
    "\n",
    "    plt.plot(range(1, max_clusters + 1), distortions, marker='o')\n",
    "    plt.xlabel('Number of clusters')\n",
    "    plt.ylabel('Distortion')\n",
    "    plt.title('Elbow Diagram')\n",
    "    plt.show()\n",
    "\n",
    "# Call the function with your pipeline\n",
    "plot_distortion(final_pipeline)"
   ]
  },
  {
   "cell_type": "code",
   "execution_count": 135,
   "metadata": {},
   "outputs": [
    {
     "name": "stdout",
     "output_type": "stream",
     "text": [
      "Optimal number of clusters from Silhouette Score: 4\n"
     ]
    }
   ],
   "source": [
    "silhouette_scores = []\n",
    "X_transformed = final_pipeline.named_steps['transformer'].transform(X_train)\n",
    "X_transformed = final_pipeline.named_steps['features'].transform(X_transformed)\n",
    "X_transformed = final_pipeline.named_steps['scaler'].transform(X_transformed)\n",
    "\n",
    "for k in range(3, 10):\n",
    "    km = KMeans(n_clusters=k, init='k-means++', n_init=15, random_state=42)\n",
    "    kmeans_labels = km.fit_predict(X_transformed)\n",
    "    silhouette_scores.append(silhouette_score(X_transformed, kmeans_labels))\n",
    "\n",
    "# Find the index of the K with the highest silhouette score\n",
    "optimal_k = silhouette_scores.index(max(silhouette_scores)) + 3  # Add 4 because we started from K=4\n",
    "print(\"Optimal number of clusters from Silhouette Score:\", optimal_k)"
   ]
  },
  {
   "cell_type": "code",
   "execution_count": 136,
   "metadata": {},
   "outputs": [],
   "source": [
    "svd = final_pipeline.named_steps['features'].transformer_list[0][1]\n",
    "# Normalize singular values to use as weights\n",
    "normalized_singular_values = normalize([svd.singular_values_], norm='l1')\n",
    "\n",
    "# Multiply the transformed data by normalized singular values to get weighted transformed data\n",
    "weighted_transformed_data = X_train_transformed * normalized_singular_values"
   ]
  },
  {
   "cell_type": "code",
   "execution_count": 226,
   "metadata": {},
   "outputs": [
    {
     "name": "stderr",
     "output_type": "stream",
     "text": [
      "/opt/homebrew/Caskroom/miniforge/base/lib/python3.10/site-packages/sklearn/cluster/_kmeans.py:870: FutureWarning:\n",
      "\n",
      "The default value of `n_init` will change from 10 to 'auto' in 1.4. Set the value of `n_init` explicitly to suppress the warning\n",
      "\n"
     ]
    },
    {
     "data": {
      "text/html": [
       "<div>\n",
       "<style scoped>\n",
       "    .dataframe tbody tr th:only-of-type {\n",
       "        vertical-align: middle;\n",
       "    }\n",
       "\n",
       "    .dataframe tbody tr th {\n",
       "        vertical-align: top;\n",
       "    }\n",
       "\n",
       "    .dataframe thead th {\n",
       "        text-align: right;\n",
       "    }\n",
       "</style>\n",
       "<table border=\"1\" class=\"dataframe\">\n",
       "  <thead>\n",
       "    <tr style=\"text-align: right;\">\n",
       "      <th></th>\n",
       "      <th>ItemID</th>\n",
       "      <th>Cluster</th>\n",
       "      <th>Score</th>\n",
       "      <th>Category</th>\n",
       "    </tr>\n",
       "  </thead>\n",
       "  <tbody>\n",
       "    <tr>\n",
       "      <th>291</th>\n",
       "      <td>292</td>\n",
       "      <td>0</td>\n",
       "      <td>2.375030</td>\n",
       "      <td>Essential</td>\n",
       "    </tr>\n",
       "    <tr>\n",
       "      <th>4377</th>\n",
       "      <td>4378</td>\n",
       "      <td>0</td>\n",
       "      <td>2.366012</td>\n",
       "      <td>Essential</td>\n",
       "    </tr>\n",
       "    <tr>\n",
       "      <th>7675</th>\n",
       "      <td>7676</td>\n",
       "      <td>0</td>\n",
       "      <td>2.306391</td>\n",
       "      <td>Essential</td>\n",
       "    </tr>\n",
       "    <tr>\n",
       "      <th>2395</th>\n",
       "      <td>2396</td>\n",
       "      <td>0</td>\n",
       "      <td>2.304065</td>\n",
       "      <td>Essential</td>\n",
       "    </tr>\n",
       "    <tr>\n",
       "      <th>5453</th>\n",
       "      <td>5454</td>\n",
       "      <td>0</td>\n",
       "      <td>2.294187</td>\n",
       "      <td>Essential</td>\n",
       "    </tr>\n",
       "    <tr>\n",
       "      <th>...</th>\n",
       "      <td>...</td>\n",
       "      <td>...</td>\n",
       "      <td>...</td>\n",
       "      <td>...</td>\n",
       "    </tr>\n",
       "    <tr>\n",
       "      <th>7177</th>\n",
       "      <td>7178</td>\n",
       "      <td>3</td>\n",
       "      <td>-1.852947</td>\n",
       "      <td>Non-Essential</td>\n",
       "    </tr>\n",
       "    <tr>\n",
       "      <th>7616</th>\n",
       "      <td>7617</td>\n",
       "      <td>3</td>\n",
       "      <td>-2.024667</td>\n",
       "      <td>Non-Essential</td>\n",
       "    </tr>\n",
       "    <tr>\n",
       "      <th>3144</th>\n",
       "      <td>3145</td>\n",
       "      <td>3</td>\n",
       "      <td>-4.719058</td>\n",
       "      <td>Non-Essential</td>\n",
       "    </tr>\n",
       "    <tr>\n",
       "      <th>988</th>\n",
       "      <td>989</td>\n",
       "      <td>3</td>\n",
       "      <td>-9.739817</td>\n",
       "      <td>Non-Essential</td>\n",
       "    </tr>\n",
       "    <tr>\n",
       "      <th>5112</th>\n",
       "      <td>5113</td>\n",
       "      <td>3</td>\n",
       "      <td>-20.675049</td>\n",
       "      <td>Non-Essential</td>\n",
       "    </tr>\n",
       "  </tbody>\n",
       "</table>\n",
       "<p>8328 rows × 4 columns</p>\n",
       "</div>"
      ],
      "text/plain": [
       "      ItemID  Cluster      Score       Category\n",
       "291      292        0   2.375030      Essential\n",
       "4377    4378        0   2.366012      Essential\n",
       "7675    7676        0   2.306391      Essential\n",
       "2395    2396        0   2.304065      Essential\n",
       "5453    5454        0   2.294187      Essential\n",
       "...      ...      ...        ...            ...\n",
       "7177    7178        3  -1.852947  Non-Essential\n",
       "7616    7617        3  -2.024667  Non-Essential\n",
       "3144    3145        3  -4.719058  Non-Essential\n",
       "988      989        3  -9.739817  Non-Essential\n",
       "5112    5113        3 -20.675049  Non-Essential\n",
       "\n",
       "[8328 rows x 4 columns]"
      ]
     },
     "execution_count": 226,
     "metadata": {},
     "output_type": "execute_result"
    }
   ],
   "source": [
    "# Access the SVD transformer within the FeatureUnion\n",
    "svd_transformer = final_pipeline.named_steps['features'].transformer_list[0][1]\n",
    "\n",
    "# Normalize singular values to use as weights\n",
    "normalized_singular_values = normalize([svd_transformer.components_[0]], norm='l1')\n",
    "criteria_weights = normalized_singular_values.squeeze()\n",
    "\n",
    "# Perform KMeans clustering on the transformed data\n",
    "n_clusters = 4\n",
    "kmeans_model = KMeans(n_clusters=n_clusters, random_state=42)\n",
    "cluster_assignments = kmeans_model.fit_predict(X_train_transformed)\n",
    "\n",
    "n_samples, n_features = X_train_transformed.shape\n",
    "\n",
    "# Create a DataFrame with the clustering results\n",
    "cluster_data = pd.DataFrame({'ItemID': np.arange(1, n_samples + 1), 'Cluster': cluster_assignments})\n",
    "\n",
    "# Calculate criteria scores using dot product with weights\n",
    "criteria_scores = np.dot(X_train_transformed, criteria_weights[:n_features])\n",
    "cluster_data['Score'] = criteria_scores\n",
    "\n",
    "# Sort items within each cluster based on scores\n",
    "sorted_cluster_data = cluster_data.sort_values(by=['Cluster', 'Score'], ascending=[True, False])\n",
    "\n",
    "# Calculate thresholds for A, B, and C categories within each cluster\n",
    "a_threshold = int(n_samples * 0.55)\n",
    "b_threshold = int(n_samples * 0.85)\n",
    "\n",
    "# Assign categories based on thresholds\n",
    "sorted_cluster_data['Category'] = 'Obsolete'\n",
    "sorted_cluster_data.loc[sorted_cluster_data.groupby('Cluster').head(a_threshold).index, 'Category'] = 'Essential'\n",
    "sorted_cluster_data.loc[sorted_cluster_data.groupby('Cluster').tail(b_threshold - a_threshold).index, 'Category'] = 'Non-Essential'\n",
    "\n",
    "sorted_cluster_data"
   ]
  },
  {
   "cell_type": "code",
   "execution_count": 227,
   "metadata": {},
   "outputs": [
    {
     "data": {
      "text/plain": [
       "Essential        54.995197\n",
       "Non-Essential    35.194524\n",
       "Obsolete          9.810279\n",
       "Name: Category, dtype: float64"
      ]
     },
     "execution_count": 227,
     "metadata": {},
     "output_type": "execute_result"
    }
   ],
   "source": [
    "(sorted_cluster_data['Category'].value_counts() / len(sorted_cluster_data['Category'])) * 100"
   ]
  },
  {
   "cell_type": "code",
   "execution_count": 225,
   "metadata": {},
   "outputs": [
    {
     "data": {
      "application/vnd.plotly.v1+json": {
       "config": {
        "plotlyServerURL": "https://plot.ly"
       },
       "data": [
        {
         "alignmentgroup": "True",
         "hovertemplate": "Category=%{x}<br>Score=%{y}<extra></extra>",
         "legendgroup": "",
         "marker": {
          "color": "#636efa",
          "pattern": {
           "shape": ""
          }
         },
         "name": "",
         "offsetgroup": "",
         "orientation": "v",
         "showlegend": false,
         "textposition": "auto",
         "type": "bar",
         "x": [
          "Essential",
          "Non-Essential",
          "Obsolete"
         ],
         "xaxis": "x",
         "y": [
          0.1972595404069435,
          -0.05747007017706984,
          -0.028068179075875208
         ],
         "yaxis": "y"
        }
       ],
       "layout": {
        "barmode": "relative",
        "legend": {
         "tracegroupgap": 0
        },
        "template": {
         "data": {
          "bar": [
           {
            "error_x": {
             "color": "#2a3f5f"
            },
            "error_y": {
             "color": "#2a3f5f"
            },
            "marker": {
             "line": {
              "color": "#E5ECF6",
              "width": 0.5
             },
             "pattern": {
              "fillmode": "overlay",
              "size": 10,
              "solidity": 0.2
             }
            },
            "type": "bar"
           }
          ],
          "barpolar": [
           {
            "marker": {
             "line": {
              "color": "#E5ECF6",
              "width": 0.5
             },
             "pattern": {
              "fillmode": "overlay",
              "size": 10,
              "solidity": 0.2
             }
            },
            "type": "barpolar"
           }
          ],
          "carpet": [
           {
            "aaxis": {
             "endlinecolor": "#2a3f5f",
             "gridcolor": "white",
             "linecolor": "white",
             "minorgridcolor": "white",
             "startlinecolor": "#2a3f5f"
            },
            "baxis": {
             "endlinecolor": "#2a3f5f",
             "gridcolor": "white",
             "linecolor": "white",
             "minorgridcolor": "white",
             "startlinecolor": "#2a3f5f"
            },
            "type": "carpet"
           }
          ],
          "choropleth": [
           {
            "colorbar": {
             "outlinewidth": 0,
             "ticks": ""
            },
            "type": "choropleth"
           }
          ],
          "contour": [
           {
            "colorbar": {
             "outlinewidth": 0,
             "ticks": ""
            },
            "colorscale": [
             [
              0,
              "#0d0887"
             ],
             [
              0.1111111111111111,
              "#46039f"
             ],
             [
              0.2222222222222222,
              "#7201a8"
             ],
             [
              0.3333333333333333,
              "#9c179e"
             ],
             [
              0.4444444444444444,
              "#bd3786"
             ],
             [
              0.5555555555555556,
              "#d8576b"
             ],
             [
              0.6666666666666666,
              "#ed7953"
             ],
             [
              0.7777777777777778,
              "#fb9f3a"
             ],
             [
              0.8888888888888888,
              "#fdca26"
             ],
             [
              1,
              "#f0f921"
             ]
            ],
            "type": "contour"
           }
          ],
          "contourcarpet": [
           {
            "colorbar": {
             "outlinewidth": 0,
             "ticks": ""
            },
            "type": "contourcarpet"
           }
          ],
          "heatmap": [
           {
            "colorbar": {
             "outlinewidth": 0,
             "ticks": ""
            },
            "colorscale": [
             [
              0,
              "#0d0887"
             ],
             [
              0.1111111111111111,
              "#46039f"
             ],
             [
              0.2222222222222222,
              "#7201a8"
             ],
             [
              0.3333333333333333,
              "#9c179e"
             ],
             [
              0.4444444444444444,
              "#bd3786"
             ],
             [
              0.5555555555555556,
              "#d8576b"
             ],
             [
              0.6666666666666666,
              "#ed7953"
             ],
             [
              0.7777777777777778,
              "#fb9f3a"
             ],
             [
              0.8888888888888888,
              "#fdca26"
             ],
             [
              1,
              "#f0f921"
             ]
            ],
            "type": "heatmap"
           }
          ],
          "heatmapgl": [
           {
            "colorbar": {
             "outlinewidth": 0,
             "ticks": ""
            },
            "colorscale": [
             [
              0,
              "#0d0887"
             ],
             [
              0.1111111111111111,
              "#46039f"
             ],
             [
              0.2222222222222222,
              "#7201a8"
             ],
             [
              0.3333333333333333,
              "#9c179e"
             ],
             [
              0.4444444444444444,
              "#bd3786"
             ],
             [
              0.5555555555555556,
              "#d8576b"
             ],
             [
              0.6666666666666666,
              "#ed7953"
             ],
             [
              0.7777777777777778,
              "#fb9f3a"
             ],
             [
              0.8888888888888888,
              "#fdca26"
             ],
             [
              1,
              "#f0f921"
             ]
            ],
            "type": "heatmapgl"
           }
          ],
          "histogram": [
           {
            "marker": {
             "pattern": {
              "fillmode": "overlay",
              "size": 10,
              "solidity": 0.2
             }
            },
            "type": "histogram"
           }
          ],
          "histogram2d": [
           {
            "colorbar": {
             "outlinewidth": 0,
             "ticks": ""
            },
            "colorscale": [
             [
              0,
              "#0d0887"
             ],
             [
              0.1111111111111111,
              "#46039f"
             ],
             [
              0.2222222222222222,
              "#7201a8"
             ],
             [
              0.3333333333333333,
              "#9c179e"
             ],
             [
              0.4444444444444444,
              "#bd3786"
             ],
             [
              0.5555555555555556,
              "#d8576b"
             ],
             [
              0.6666666666666666,
              "#ed7953"
             ],
             [
              0.7777777777777778,
              "#fb9f3a"
             ],
             [
              0.8888888888888888,
              "#fdca26"
             ],
             [
              1,
              "#f0f921"
             ]
            ],
            "type": "histogram2d"
           }
          ],
          "histogram2dcontour": [
           {
            "colorbar": {
             "outlinewidth": 0,
             "ticks": ""
            },
            "colorscale": [
             [
              0,
              "#0d0887"
             ],
             [
              0.1111111111111111,
              "#46039f"
             ],
             [
              0.2222222222222222,
              "#7201a8"
             ],
             [
              0.3333333333333333,
              "#9c179e"
             ],
             [
              0.4444444444444444,
              "#bd3786"
             ],
             [
              0.5555555555555556,
              "#d8576b"
             ],
             [
              0.6666666666666666,
              "#ed7953"
             ],
             [
              0.7777777777777778,
              "#fb9f3a"
             ],
             [
              0.8888888888888888,
              "#fdca26"
             ],
             [
              1,
              "#f0f921"
             ]
            ],
            "type": "histogram2dcontour"
           }
          ],
          "mesh3d": [
           {
            "colorbar": {
             "outlinewidth": 0,
             "ticks": ""
            },
            "type": "mesh3d"
           }
          ],
          "parcoords": [
           {
            "line": {
             "colorbar": {
              "outlinewidth": 0,
              "ticks": ""
             }
            },
            "type": "parcoords"
           }
          ],
          "pie": [
           {
            "automargin": true,
            "type": "pie"
           }
          ],
          "scatter": [
           {
            "fillpattern": {
             "fillmode": "overlay",
             "size": 10,
             "solidity": 0.2
            },
            "type": "scatter"
           }
          ],
          "scatter3d": [
           {
            "line": {
             "colorbar": {
              "outlinewidth": 0,
              "ticks": ""
             }
            },
            "marker": {
             "colorbar": {
              "outlinewidth": 0,
              "ticks": ""
             }
            },
            "type": "scatter3d"
           }
          ],
          "scattercarpet": [
           {
            "marker": {
             "colorbar": {
              "outlinewidth": 0,
              "ticks": ""
             }
            },
            "type": "scattercarpet"
           }
          ],
          "scattergeo": [
           {
            "marker": {
             "colorbar": {
              "outlinewidth": 0,
              "ticks": ""
             }
            },
            "type": "scattergeo"
           }
          ],
          "scattergl": [
           {
            "marker": {
             "colorbar": {
              "outlinewidth": 0,
              "ticks": ""
             }
            },
            "type": "scattergl"
           }
          ],
          "scattermapbox": [
           {
            "marker": {
             "colorbar": {
              "outlinewidth": 0,
              "ticks": ""
             }
            },
            "type": "scattermapbox"
           }
          ],
          "scatterpolar": [
           {
            "marker": {
             "colorbar": {
              "outlinewidth": 0,
              "ticks": ""
             }
            },
            "type": "scatterpolar"
           }
          ],
          "scatterpolargl": [
           {
            "marker": {
             "colorbar": {
              "outlinewidth": 0,
              "ticks": ""
             }
            },
            "type": "scatterpolargl"
           }
          ],
          "scatterternary": [
           {
            "marker": {
             "colorbar": {
              "outlinewidth": 0,
              "ticks": ""
             }
            },
            "type": "scatterternary"
           }
          ],
          "surface": [
           {
            "colorbar": {
             "outlinewidth": 0,
             "ticks": ""
            },
            "colorscale": [
             [
              0,
              "#0d0887"
             ],
             [
              0.1111111111111111,
              "#46039f"
             ],
             [
              0.2222222222222222,
              "#7201a8"
             ],
             [
              0.3333333333333333,
              "#9c179e"
             ],
             [
              0.4444444444444444,
              "#bd3786"
             ],
             [
              0.5555555555555556,
              "#d8576b"
             ],
             [
              0.6666666666666666,
              "#ed7953"
             ],
             [
              0.7777777777777778,
              "#fb9f3a"
             ],
             [
              0.8888888888888888,
              "#fdca26"
             ],
             [
              1,
              "#f0f921"
             ]
            ],
            "type": "surface"
           }
          ],
          "table": [
           {
            "cells": {
             "fill": {
              "color": "#EBF0F8"
             },
             "line": {
              "color": "white"
             }
            },
            "header": {
             "fill": {
              "color": "#C8D4E3"
             },
             "line": {
              "color": "white"
             }
            },
            "type": "table"
           }
          ]
         },
         "layout": {
          "annotationdefaults": {
           "arrowcolor": "#2a3f5f",
           "arrowhead": 0,
           "arrowwidth": 1
          },
          "autotypenumbers": "strict",
          "coloraxis": {
           "colorbar": {
            "outlinewidth": 0,
            "ticks": ""
           }
          },
          "colorscale": {
           "diverging": [
            [
             0,
             "#8e0152"
            ],
            [
             0.1,
             "#c51b7d"
            ],
            [
             0.2,
             "#de77ae"
            ],
            [
             0.3,
             "#f1b6da"
            ],
            [
             0.4,
             "#fde0ef"
            ],
            [
             0.5,
             "#f7f7f7"
            ],
            [
             0.6,
             "#e6f5d0"
            ],
            [
             0.7,
             "#b8e186"
            ],
            [
             0.8,
             "#7fbc41"
            ],
            [
             0.9,
             "#4d9221"
            ],
            [
             1,
             "#276419"
            ]
           ],
           "sequential": [
            [
             0,
             "#0d0887"
            ],
            [
             0.1111111111111111,
             "#46039f"
            ],
            [
             0.2222222222222222,
             "#7201a8"
            ],
            [
             0.3333333333333333,
             "#9c179e"
            ],
            [
             0.4444444444444444,
             "#bd3786"
            ],
            [
             0.5555555555555556,
             "#d8576b"
            ],
            [
             0.6666666666666666,
             "#ed7953"
            ],
            [
             0.7777777777777778,
             "#fb9f3a"
            ],
            [
             0.8888888888888888,
             "#fdca26"
            ],
            [
             1,
             "#f0f921"
            ]
           ],
           "sequentialminus": [
            [
             0,
             "#0d0887"
            ],
            [
             0.1111111111111111,
             "#46039f"
            ],
            [
             0.2222222222222222,
             "#7201a8"
            ],
            [
             0.3333333333333333,
             "#9c179e"
            ],
            [
             0.4444444444444444,
             "#bd3786"
            ],
            [
             0.5555555555555556,
             "#d8576b"
            ],
            [
             0.6666666666666666,
             "#ed7953"
            ],
            [
             0.7777777777777778,
             "#fb9f3a"
            ],
            [
             0.8888888888888888,
             "#fdca26"
            ],
            [
             1,
             "#f0f921"
            ]
           ]
          },
          "colorway": [
           "#636efa",
           "#EF553B",
           "#00cc96",
           "#ab63fa",
           "#FFA15A",
           "#19d3f3",
           "#FF6692",
           "#B6E880",
           "#FF97FF",
           "#FECB52"
          ],
          "font": {
           "color": "#2a3f5f"
          },
          "geo": {
           "bgcolor": "white",
           "lakecolor": "white",
           "landcolor": "#E5ECF6",
           "showlakes": true,
           "showland": true,
           "subunitcolor": "white"
          },
          "hoverlabel": {
           "align": "left"
          },
          "hovermode": "closest",
          "mapbox": {
           "style": "light"
          },
          "paper_bgcolor": "white",
          "plot_bgcolor": "#E5ECF6",
          "polar": {
           "angularaxis": {
            "gridcolor": "white",
            "linecolor": "white",
            "ticks": ""
           },
           "bgcolor": "#E5ECF6",
           "radialaxis": {
            "gridcolor": "white",
            "linecolor": "white",
            "ticks": ""
           }
          },
          "scene": {
           "xaxis": {
            "backgroundcolor": "#E5ECF6",
            "gridcolor": "white",
            "gridwidth": 2,
            "linecolor": "white",
            "showbackground": true,
            "ticks": "",
            "zerolinecolor": "white"
           },
           "yaxis": {
            "backgroundcolor": "#E5ECF6",
            "gridcolor": "white",
            "gridwidth": 2,
            "linecolor": "white",
            "showbackground": true,
            "ticks": "",
            "zerolinecolor": "white"
           },
           "zaxis": {
            "backgroundcolor": "#E5ECF6",
            "gridcolor": "white",
            "gridwidth": 2,
            "linecolor": "white",
            "showbackground": true,
            "ticks": "",
            "zerolinecolor": "white"
           }
          },
          "shapedefaults": {
           "line": {
            "color": "#2a3f5f"
           }
          },
          "ternary": {
           "aaxis": {
            "gridcolor": "white",
            "linecolor": "white",
            "ticks": ""
           },
           "baxis": {
            "gridcolor": "white",
            "linecolor": "white",
            "ticks": ""
           },
           "bgcolor": "#E5ECF6",
           "caxis": {
            "gridcolor": "white",
            "linecolor": "white",
            "ticks": ""
           }
          },
          "title": {
           "x": 0.05
          },
          "xaxis": {
           "automargin": true,
           "gridcolor": "white",
           "linecolor": "white",
           "ticks": "",
           "title": {
            "standoff": 15
           },
           "zerolinecolor": "white",
           "zerolinewidth": 2
          },
          "yaxis": {
           "automargin": true,
           "gridcolor": "white",
           "linecolor": "white",
           "ticks": "",
           "title": {
            "standoff": 15
           },
           "zerolinecolor": "white",
           "zerolinewidth": 2
          }
         }
        },
        "title": {
         "text": "Mean Score for Each Category"
        },
        "xaxis": {
         "anchor": "y",
         "domain": [
          0,
          1
         ],
         "title": {
          "text": "Category"
         }
        },
        "yaxis": {
         "anchor": "x",
         "domain": [
          0,
          1
         ],
         "title": {
          "text": "Score"
         }
        }
       }
      }
     },
     "metadata": {},
     "output_type": "display_data"
    }
   ],
   "source": [
    "import plotly.express as px\n",
    "\n",
    "# Assuming you have sorted_cluster_data available\n",
    "\n",
    "# Calculate mean scores for each category\n",
    "mean_scores = sorted_cluster_data.groupby('Category')['Score'].mean().reset_index()\n",
    "\n",
    "# Create an interactive bar chart using Plotly Express\n",
    "fig = px.bar(mean_scores, x='Category', y='Score', title='Mean Score for Each Category')\n",
    "fig.show()\n",
    "\n"
   ]
  }
 ],
 "metadata": {
  "kernelspec": {
   "display_name": "base",
   "language": "python",
   "name": "python3"
  },
  "language_info": {
   "codemirror_mode": {
    "name": "ipython",
    "version": 3
   },
   "file_extension": ".py",
   "mimetype": "text/x-python",
   "name": "python",
   "nbconvert_exporter": "python",
   "pygments_lexer": "ipython3",
   "version": "3.10.10"
  },
  "orig_nbformat": 4
 },
 "nbformat": 4,
 "nbformat_minor": 2
}
