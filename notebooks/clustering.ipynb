{
 "cells": [
  {
   "cell_type": "code",
   "execution_count": 256,
   "metadata": {},
   "outputs": [],
   "source": [
    "import pandas as pd\n",
    "import numpy as np\n",
    "from sklearn.cluster import KMeans\n",
    "from sklearn.base import BaseEstimator, TransformerMixin\n",
    "from sklearn.metrics import silhouette_score\n",
    "from sklearn.decomposition import TruncatedSVD\n",
    "from sklearn.compose import ColumnTransformer\n",
    "from sklearn.feature_selection import SelectKBest, f_regression\n",
    "from sklearn.preprocessing import RobustScaler, normalize\n",
    "from sklearn.pipeline import Pipeline, FeatureUnion\n",
    "from scipy.stats import yeojohnson\n",
    "from sklearn.model_selection import train_test_split\n",
    "import matplotlib.pyplot as plt\n",
    "import shap"
   ]
  },
  {
   "cell_type": "code",
   "execution_count": 257,
   "metadata": {},
   "outputs": [],
   "source": [
    "parts_data = pd.read_csv('/Users/skylerwilson/Desktop/Lighthouse_Labs/Projects/final_project/data/Project_Data/final_parts_data.csv')"
   ]
  },
  {
   "cell_type": "code",
   "execution_count": 258,
   "metadata": {},
   "outputs": [],
   "source": [
    "# Clean sales data function\n",
    "def clean_sales_data(df, column_names):\n",
    "    for col in column_names:  \n",
    "        df[col] = np.abs(df[col])\n",
    "    return df\n",
    "\n",
    "# Clean quantity data function\n",
    "def clean_quantity_data(df, quantity_col):\n",
    "    return df[df[quantity_col] > 0]\n",
    "\n",
    "# Clean turnover data function\n",
    "def clean_negative_data(df, turnover_col):\n",
    "    return df[df[turnover_col] >= 0]\n",
    "\n",
    "\n",
    "def z_score(column, threshold=2):\n",
    "    z_scores = (column - column.mean()) / column.std()\n",
    "    return np.abs(z_scores) < threshold\n",
    "\n",
    "sales_data = ['Sales Last Month', 'Sales Last 3 Months', 'Sales Last 6 Months', 'Sales Last 9 Months',\n",
    "              'Sales Last 12 Months', 'Sales Last 2 Years', 'Sales Last 3 Years',\n",
    "              'Sales Last 4 Years', 'Sales Last 5 Years', 'Sales Last 10 Years',\n",
    "              'Months No Sale', 'Reorder Point', 'Sales - Jan', 'Sales - Feb',\n",
    "              'Sales - Mar', 'Sales - Apr', 'Sales - May', 'Sales - Jun',\n",
    "              'Sales - Jul', 'Sales - Aug', 'Sales - Sep', 'Sales - Oct',\n",
    "              'Sales - Nov', 'Sales - Dec', 'Sales - 1st Qtr', 'Sales - 2nd Qtr',\n",
    "              'Sales - 3rd Qtr', 'Sales - 4th Qtr', 'Sales - This Year','Sales - Last Year']\n",
    "quantity_col = 'Quantity'\n",
    "turnover_col = 'Turnover'\n",
    "\n",
    "num_cols = parts_data.select_dtypes(include='number').columns\n",
    "\n",
    "# Apply preprocessing steps\n",
    "parts_data = clean_sales_data(parts_data, sales_data)\n",
    "parts_data = clean_quantity_data(parts_data, quantity_col)\n",
    "parts_data = clean_negative_data(parts_data, turnover_col)\n",
    "\n",
    "\n",
    "# Apply z-score transformation to numerical columns\n",
    "parts_data[num_cols] = parts_data[parts_data[num_cols].apply(z_score)][num_cols]\n",
    "\n",
    "#deals with columns that dont have data yet so they end up as NaN when they shouldnt\n",
    "parts_data[num_cols] = np.where(parts_data[num_cols].isna(), 0, parts_data[num_cols])"
   ]
  },
  {
   "cell_type": "code",
   "execution_count": 259,
   "metadata": {},
   "outputs": [],
   "source": [
    "# Custom transformer classes\n",
    "class YeoJohnsonTransformer(BaseEstimator, TransformerMixin):\n",
    "    def __init__(self, columns):\n",
    "        self.columns = columns\n",
    "    \n",
    "    def fit(self, X, y=None):\n",
    "        return self\n",
    "    \n",
    "    def transform(self, X, y=None):\n",
    "        transformed_data = X.copy()\n",
    "        for col in self.columns:\n",
    "            transformed_data[col], _ = yeojohnson(X[col] + 0.01)  # Adding 0.01 to avoid zero values\n",
    "        return transformed_data\n",
    "\n",
    "# Load and preprocess the data\n",
    "X = parts_data.select_dtypes(include='number')\n",
    "constant_columns = X.columns[X.nunique() == 1]\n",
    "X.drop(columns=constant_columns, inplace=True)\n",
    "\n",
    "X_train, X_test= train_test_split(X, test_size=0.2, random_state=42, shuffle=True)\n",
    "\n",
    "# Define columns to transform\n",
    "cols_to_transform = X.columns\n",
    "\n",
    "# Column transformer for Yeo-Johnson transformation\n",
    "yeo_johnson_cols = ColumnTransformer(\n",
    "    transformers=[('yeo_johnson', YeoJohnsonTransformer(columns=cols_to_transform), cols_to_transform)],\n",
    "    remainder='passthrough'\n",
    ")\n",
    "\n",
    "# Create FeatureUnion combining TruncatedSVD and SelectKBest\n",
    "features = FeatureUnion([\n",
    "    ('svd', TruncatedSVD(n_components=10))\n",
    "])\n",
    "\n",
    "final_pipeline = Pipeline([\n",
    "    ('transformer', yeo_johnson_cols),\n",
    "    ('features', features),\n",
    "    ('scaler', RobustScaler()),\n",
    "])\n",
    "\n",
    "final_pipeline.fit(X_train)\n",
    "\n",
    "X_train_transformed = final_pipeline.named_steps['transformer'].transform(X_train)\n",
    "X_train_transformed = final_pipeline.named_steps['features'].transform(X_train_transformed)\n",
    "X_train_transformed = final_pipeline.named_steps['scaler'].transform(X_train_transformed)\n",
    "\n",
    "# Create a DataFrame with transformed and non-transformed data\n",
    "X_train_transformed_df = pd.DataFrame(\n",
    "    np.hstack((X_train_transformed, X_train.drop(columns=cols_to_transform))),\n",
    "    columns=final_pipeline.named_steps['features'].get_feature_names_out(input_features=X_train.columns),\n",
    "    index=X_train.index\n",
    ")\n",
    "\n",
    "# Transform the testing data using the pipeline\n",
    "X_test_transformed = final_pipeline.named_steps['transformer'].transform(X_test)\n",
    "X_test_transformed = final_pipeline.named_steps['features'].transform(X_test_transformed)\n",
    "X_test_transformed = final_pipeline.named_steps['scaler'].transform(X_test_transformed)\n",
    "\n",
    "X_test_transformed_df = pd.DataFrame(\n",
    "    np.hstack((X_test_transformed, X_test.drop(columns=cols_to_transform))),\n",
    "    columns=final_pipeline.named_steps['features'].get_feature_names_out(input_features=X_test.columns),\n",
    "    index=X_test.index\n",
    ")"
   ]
  },
  {
   "cell_type": "code",
   "execution_count": 260,
   "metadata": {},
   "outputs": [
    {
     "data": {
      "text/html": [
       "<div>\n",
       "<style scoped>\n",
       "    .dataframe tbody tr th:only-of-type {\n",
       "        vertical-align: middle;\n",
       "    }\n",
       "\n",
       "    .dataframe tbody tr th {\n",
       "        vertical-align: top;\n",
       "    }\n",
       "\n",
       "    .dataframe thead th {\n",
       "        text-align: right;\n",
       "    }\n",
       "</style>\n",
       "<table border=\"1\" class=\"dataframe\">\n",
       "  <thead>\n",
       "    <tr style=\"text-align: right;\">\n",
       "      <th></th>\n",
       "      <th>svd__truncatedsvd0</th>\n",
       "      <th>svd__truncatedsvd1</th>\n",
       "      <th>svd__truncatedsvd2</th>\n",
       "      <th>svd__truncatedsvd3</th>\n",
       "      <th>svd__truncatedsvd4</th>\n",
       "      <th>svd__truncatedsvd5</th>\n",
       "      <th>svd__truncatedsvd6</th>\n",
       "      <th>svd__truncatedsvd7</th>\n",
       "      <th>svd__truncatedsvd8</th>\n",
       "      <th>svd__truncatedsvd9</th>\n",
       "      <th>ItemID</th>\n",
       "    </tr>\n",
       "  </thead>\n",
       "  <tbody>\n",
       "    <tr>\n",
       "      <th>61713</th>\n",
       "      <td>0.019544</td>\n",
       "      <td>0.571059</td>\n",
       "      <td>-0.243376</td>\n",
       "      <td>-0.048570</td>\n",
       "      <td>0.362747</td>\n",
       "      <td>-0.479590</td>\n",
       "      <td>-0.081514</td>\n",
       "      <td>-0.064673</td>\n",
       "      <td>-0.406258</td>\n",
       "      <td>0.497216</td>\n",
       "      <td>61713</td>\n",
       "    </tr>\n",
       "    <tr>\n",
       "      <th>6798</th>\n",
       "      <td>-0.174017</td>\n",
       "      <td>0.209098</td>\n",
       "      <td>6.489778</td>\n",
       "      <td>1.005552</td>\n",
       "      <td>0.949647</td>\n",
       "      <td>-0.275446</td>\n",
       "      <td>6.207905</td>\n",
       "      <td>3.702506</td>\n",
       "      <td>-0.447599</td>\n",
       "      <td>0.514783</td>\n",
       "      <td>6798</td>\n",
       "    </tr>\n",
       "    <tr>\n",
       "      <th>60793</th>\n",
       "      <td>-0.551573</td>\n",
       "      <td>1.719331</td>\n",
       "      <td>-0.876495</td>\n",
       "      <td>-0.132868</td>\n",
       "      <td>0.932040</td>\n",
       "      <td>-1.180505</td>\n",
       "      <td>0.350983</td>\n",
       "      <td>-0.104261</td>\n",
       "      <td>-0.903137</td>\n",
       "      <td>1.244609</td>\n",
       "      <td>60793</td>\n",
       "    </tr>\n",
       "    <tr>\n",
       "      <th>68300</th>\n",
       "      <td>0.206201</td>\n",
       "      <td>0.188218</td>\n",
       "      <td>-0.008926</td>\n",
       "      <td>-0.011849</td>\n",
       "      <td>0.096854</td>\n",
       "      <td>-0.162039</td>\n",
       "      <td>-0.116430</td>\n",
       "      <td>-0.031228</td>\n",
       "      <td>-0.033104</td>\n",
       "      <td>0.024107</td>\n",
       "      <td>68300</td>\n",
       "    </tr>\n",
       "    <tr>\n",
       "      <th>26237</th>\n",
       "      <td>0.774777</td>\n",
       "      <td>-0.947292</td>\n",
       "      <td>0.572660</td>\n",
       "      <td>0.085662</td>\n",
       "      <td>-0.413871</td>\n",
       "      <td>0.483886</td>\n",
       "      <td>-0.572100</td>\n",
       "      <td>0.080122</td>\n",
       "      <td>0.342402</td>\n",
       "      <td>-0.554795</td>\n",
       "      <td>26237</td>\n",
       "    </tr>\n",
       "    <tr>\n",
       "      <th>...</th>\n",
       "      <td>...</td>\n",
       "      <td>...</td>\n",
       "      <td>...</td>\n",
       "      <td>...</td>\n",
       "      <td>...</td>\n",
       "      <td>...</td>\n",
       "      <td>...</td>\n",
       "      <td>...</td>\n",
       "      <td>...</td>\n",
       "      <td>...</td>\n",
       "      <td>...</td>\n",
       "    </tr>\n",
       "    <tr>\n",
       "      <th>84160</th>\n",
       "      <td>-0.236966</td>\n",
       "      <td>1.071555</td>\n",
       "      <td>-0.449907</td>\n",
       "      <td>-0.090524</td>\n",
       "      <td>0.483265</td>\n",
       "      <td>-0.653548</td>\n",
       "      <td>0.238691</td>\n",
       "      <td>-0.132677</td>\n",
       "      <td>-0.301216</td>\n",
       "      <td>0.439970</td>\n",
       "      <td>84160</td>\n",
       "    </tr>\n",
       "    <tr>\n",
       "      <th>85386</th>\n",
       "      <td>0.220659</td>\n",
       "      <td>-0.108329</td>\n",
       "      <td>-2.705919</td>\n",
       "      <td>0.536860</td>\n",
       "      <td>0.602433</td>\n",
       "      <td>-0.530717</td>\n",
       "      <td>-0.318010</td>\n",
       "      <td>-0.026151</td>\n",
       "      <td>-0.313769</td>\n",
       "      <td>0.467333</td>\n",
       "      <td>85386</td>\n",
       "    </tr>\n",
       "    <tr>\n",
       "      <th>44259</th>\n",
       "      <td>-0.510972</td>\n",
       "      <td>-0.190487</td>\n",
       "      <td>-16.895627</td>\n",
       "      <td>3.607649</td>\n",
       "      <td>4.305763</td>\n",
       "      <td>-3.178573</td>\n",
       "      <td>0.842763</td>\n",
       "      <td>-0.191287</td>\n",
       "      <td>-2.528587</td>\n",
       "      <td>-0.026797</td>\n",
       "      <td>44259</td>\n",
       "    </tr>\n",
       "    <tr>\n",
       "      <th>21267</th>\n",
       "      <td>0.033350</td>\n",
       "      <td>-2.016488</td>\n",
       "      <td>-2.100332</td>\n",
       "      <td>-19.320464</td>\n",
       "      <td>5.178954</td>\n",
       "      <td>-1.219034</td>\n",
       "      <td>0.681110</td>\n",
       "      <td>2.112028</td>\n",
       "      <td>-1.203861</td>\n",
       "      <td>-0.734565</td>\n",
       "      <td>21267</td>\n",
       "    </tr>\n",
       "    <tr>\n",
       "      <th>57440</th>\n",
       "      <td>-0.127535</td>\n",
       "      <td>0.875200</td>\n",
       "      <td>-0.464119</td>\n",
       "      <td>-0.055332</td>\n",
       "      <td>0.567429</td>\n",
       "      <td>-0.716273</td>\n",
       "      <td>0.019533</td>\n",
       "      <td>0.004707</td>\n",
       "      <td>-0.656894</td>\n",
       "      <td>0.864630</td>\n",
       "      <td>57440</td>\n",
       "    </tr>\n",
       "  </tbody>\n",
       "</table>\n",
       "<p>2074 rows × 11 columns</p>\n",
       "</div>"
      ],
      "text/plain": [
       "       svd__truncatedsvd0  svd__truncatedsvd1  svd__truncatedsvd2  \\\n",
       "61713            0.019544            0.571059           -0.243376   \n",
       "6798            -0.174017            0.209098            6.489778   \n",
       "60793           -0.551573            1.719331           -0.876495   \n",
       "68300            0.206201            0.188218           -0.008926   \n",
       "26237            0.774777           -0.947292            0.572660   \n",
       "...                   ...                 ...                 ...   \n",
       "84160           -0.236966            1.071555           -0.449907   \n",
       "85386            0.220659           -0.108329           -2.705919   \n",
       "44259           -0.510972           -0.190487          -16.895627   \n",
       "21267            0.033350           -2.016488           -2.100332   \n",
       "57440           -0.127535            0.875200           -0.464119   \n",
       "\n",
       "       svd__truncatedsvd3  svd__truncatedsvd4  svd__truncatedsvd5  \\\n",
       "61713           -0.048570            0.362747           -0.479590   \n",
       "6798             1.005552            0.949647           -0.275446   \n",
       "60793           -0.132868            0.932040           -1.180505   \n",
       "68300           -0.011849            0.096854           -0.162039   \n",
       "26237            0.085662           -0.413871            0.483886   \n",
       "...                   ...                 ...                 ...   \n",
       "84160           -0.090524            0.483265           -0.653548   \n",
       "85386            0.536860            0.602433           -0.530717   \n",
       "44259            3.607649            4.305763           -3.178573   \n",
       "21267          -19.320464            5.178954           -1.219034   \n",
       "57440           -0.055332            0.567429           -0.716273   \n",
       "\n",
       "       svd__truncatedsvd6  svd__truncatedsvd7  svd__truncatedsvd8  \\\n",
       "61713           -0.081514           -0.064673           -0.406258   \n",
       "6798             6.207905            3.702506           -0.447599   \n",
       "60793            0.350983           -0.104261           -0.903137   \n",
       "68300           -0.116430           -0.031228           -0.033104   \n",
       "26237           -0.572100            0.080122            0.342402   \n",
       "...                   ...                 ...                 ...   \n",
       "84160            0.238691           -0.132677           -0.301216   \n",
       "85386           -0.318010           -0.026151           -0.313769   \n",
       "44259            0.842763           -0.191287           -2.528587   \n",
       "21267            0.681110            2.112028           -1.203861   \n",
       "57440            0.019533            0.004707           -0.656894   \n",
       "\n",
       "       svd__truncatedsvd9  ItemID  \n",
       "61713            0.497216   61713  \n",
       "6798             0.514783    6798  \n",
       "60793            1.244609   60793  \n",
       "68300            0.024107   68300  \n",
       "26237           -0.554795   26237  \n",
       "...                   ...     ...  \n",
       "84160            0.439970   84160  \n",
       "85386            0.467333   85386  \n",
       "44259           -0.026797   44259  \n",
       "21267           -0.734565   21267  \n",
       "57440            0.864630   57440  \n",
       "\n",
       "[2074 rows x 11 columns]"
      ]
     },
     "execution_count": 260,
     "metadata": {},
     "output_type": "execute_result"
    }
   ],
   "source": [
    "X_test_transformed_df['ItemID'] = X_test_transformed_df.index\n",
    "X_test_transformed_df"
   ]
  },
  {
   "cell_type": "code",
   "execution_count": 261,
   "metadata": {},
   "outputs": [
    {
     "data": {
      "image/png": "[encoded data removed]",
      "text/plain": [
       "<Figure size 640x480 with 1 Axes>"
      ]
     },
     "metadata": {},
     "output_type": "display_data"
    }
   ],
   "source": [
    "def plot_distortion(pipeline, max_clusters=10):\n",
    "    X_transformed = pipeline.named_steps['transformer'].transform(X_train)\n",
    "    X_transformed = pipeline.named_steps['features'].transform(X_transformed)\n",
    "    X_transformed = pipeline.named_steps['scaler'].transform(X_transformed)\n",
    "    \n",
    "    distortions = []\n",
    "    for k in range(1, max_clusters + 1):\n",
    "        km = KMeans(n_clusters=k, init='k-means++', n_init=10, random_state=42)\n",
    "        km.fit(X_transformed)\n",
    "        distortions.append(km.inertia_)\n",
    "\n",
    "    plt.plot(range(1, max_clusters + 1), distortions, marker='o')\n",
    "    plt.xlabel('Number of clusters')\n",
    "    plt.ylabel('Distortion')\n",
    "    plt.title('Elbow Diagram')\n",
    "    plt.show()\n",
    "\n",
    "# Call the function with your pipeline\n",
    "plot_distortion(final_pipeline)"
   ]
  },
  {
   "cell_type": "code",
   "execution_count": 262,
   "metadata": {},
   "outputs": [
    {
     "name": "stdout",
     "output_type": "stream",
     "text": [
      "Optimal number of clusters from Silhouette Score: 3\n"
     ]
    }
   ],
   "source": [
    "silhouette_scores = []\n",
    "X_transformed = final_pipeline.named_steps['transformer'].transform(X_train)\n",
    "X_transformed = final_pipeline.named_steps['features'].transform(X_transformed)\n",
    "X_transformed = final_pipeline.named_steps['scaler'].transform(X_transformed)\n",
    "\n",
    "for k in range(3, 10):\n",
    "    km = KMeans(n_clusters=k, init='k-means++', n_init=15, random_state=42)\n",
    "    kmeans_labels = km.fit_predict(X_transformed)\n",
    "    silhouette_scores.append(silhouette_score(X_transformed, kmeans_labels))\n",
    "\n",
    "# Find the index of the K with the highest silhouette score\n",
    "optimal_k = silhouette_scores.index(max(silhouette_scores)) + 3  # Add 4 because we started from K=4\n",
    "print(\"Optimal number of clusters from Silhouette Score:\", optimal_k)"
   ]
  },
  {
   "cell_type": "code",
   "execution_count": 263,
   "metadata": {},
   "outputs": [],
   "source": [
    "svd = final_pipeline.named_steps['features'].transformer_list[0][1]\n",
    "# Normalize singular values to use as weights\n",
    "normalized_singular_values = normalize([svd.singular_values_], norm='l1')\n",
    "\n",
    "# Multiply the transformed data by normalized singular values to get weighted transformed data\n",
    "weighted_transformed_data = X_train_transformed * normalized_singular_values"
   ]
  },
  {
   "cell_type": "code",
   "execution_count": 264,
   "metadata": {},
   "outputs": [
    {
     "name": "stderr",
     "output_type": "stream",
     "text": [
      "/opt/homebrew/Caskroom/miniforge/base/lib/python3.10/site-packages/sklearn/cluster/_kmeans.py:870: FutureWarning:\n",
      "\n",
      "The default value of `n_init` will change from 10 to 'auto' in 1.4. Set the value of `n_init` explicitly to suppress the warning\n",
      "\n"
     ]
    },
    {
     "data": {
      "text/html": [
       "<div>\n",
       "<style scoped>\n",
       "    .dataframe tbody tr th:only-of-type {\n",
       "        vertical-align: middle;\n",
       "    }\n",
       "\n",
       "    .dataframe tbody tr th {\n",
       "        vertical-align: top;\n",
       "    }\n",
       "\n",
       "    .dataframe thead th {\n",
       "        text-align: right;\n",
       "    }\n",
       "</style>\n",
       "<table border=\"1\" class=\"dataframe\">\n",
       "  <thead>\n",
       "    <tr style=\"text-align: right;\">\n",
       "      <th></th>\n",
       "      <th>ItemID</th>\n",
       "      <th>Score</th>\n",
       "      <th>Category</th>\n",
       "    </tr>\n",
       "  </thead>\n",
       "  <tbody>\n",
       "    <tr>\n",
       "      <th>1197</th>\n",
       "      <td>1198</td>\n",
       "      <td>2.693967</td>\n",
       "      <td>Essential</td>\n",
       "    </tr>\n",
       "    <tr>\n",
       "      <th>2039</th>\n",
       "      <td>2040</td>\n",
       "      <td>1.504075</td>\n",
       "      <td>Essential</td>\n",
       "    </tr>\n",
       "    <tr>\n",
       "      <th>92</th>\n",
       "      <td>93</td>\n",
       "      <td>1.454668</td>\n",
       "      <td>Essential</td>\n",
       "    </tr>\n",
       "    <tr>\n",
       "      <th>2006</th>\n",
       "      <td>2007</td>\n",
       "      <td>1.202471</td>\n",
       "      <td>Essential</td>\n",
       "    </tr>\n",
       "    <tr>\n",
       "      <th>1030</th>\n",
       "      <td>1031</td>\n",
       "      <td>0.951985</td>\n",
       "      <td>Essential</td>\n",
       "    </tr>\n",
       "    <tr>\n",
       "      <th>...</th>\n",
       "      <td>...</td>\n",
       "      <td>...</td>\n",
       "      <td>...</td>\n",
       "    </tr>\n",
       "    <tr>\n",
       "      <th>1077</th>\n",
       "      <td>1078</td>\n",
       "      <td>-0.939276</td>\n",
       "      <td>Non-Essential</td>\n",
       "    </tr>\n",
       "    <tr>\n",
       "      <th>1629</th>\n",
       "      <td>1630</td>\n",
       "      <td>-0.989191</td>\n",
       "      <td>Non-Essential</td>\n",
       "    </tr>\n",
       "    <tr>\n",
       "      <th>134</th>\n",
       "      <td>135</td>\n",
       "      <td>-0.990372</td>\n",
       "      <td>Non-Essential</td>\n",
       "    </tr>\n",
       "    <tr>\n",
       "      <th>375</th>\n",
       "      <td>376</td>\n",
       "      <td>-1.104247</td>\n",
       "      <td>Non-Essential</td>\n",
       "    </tr>\n",
       "    <tr>\n",
       "      <th>507</th>\n",
       "      <td>508</td>\n",
       "      <td>-2.765943</td>\n",
       "      <td>Non-Essential</td>\n",
       "    </tr>\n",
       "  </tbody>\n",
       "</table>\n",
       "<p>2074 rows × 3 columns</p>\n",
       "</div>"
      ],
      "text/plain": [
       "      ItemID     Score       Category\n",
       "1197    1198  2.693967      Essential\n",
       "2039    2040  1.504075      Essential\n",
       "92        93  1.454668      Essential\n",
       "2006    2007  1.202471      Essential\n",
       "1030    1031  0.951985      Essential\n",
       "...      ...       ...            ...\n",
       "1077    1078 -0.939276  Non-Essential\n",
       "1629    1630 -0.989191  Non-Essential\n",
       "134      135 -0.990372  Non-Essential\n",
       "375      376 -1.104247  Non-Essential\n",
       "507      508 -2.765943  Non-Essential\n",
       "\n",
       "[2074 rows x 3 columns]"
      ]
     },
     "execution_count": 264,
     "metadata": {},
     "output_type": "execute_result"
    }
   ],
   "source": [
    "# Access the SVD transformer within the FeatureUnion\n",
    "svd_transformer = final_pipeline.named_steps['features'].transformer_list[0][1]\n",
    "\n",
    "# Normalize singular values to use as weights\n",
    "normalized_singular_values = normalize([svd_transformer.components_[0]], norm='l1')\n",
    "criteria_weights = normalized_singular_values.squeeze()\n",
    "\n",
    "# Perform KMeans clustering on the transformed data\n",
    "n_clusters = 3\n",
    "kmeans_model = KMeans(n_clusters=n_clusters, random_state=42)\n",
    "cluster_assignments = kmeans_model.fit_predict(X_train_transformed)\n",
    "\n",
    "n_samples, n_features = X_train_transformed.shape\n",
    "\n",
    "# Create a DataFrame with the clustering results\n",
    "cluster_data = pd.DataFrame({'ItemID': np.arange(1, n_samples + 1), 'Cluster': cluster_assignments})\n",
    "\n",
    "# Calculate criteria scores using dot product with weights\n",
    "criteria_scores_test = np.dot(X_test_transformed, criteria_weights[:n_features])\n",
    "\n",
    "# Create a DataFrame with the clustering results for the testing set\n",
    "cluster_data_test = pd.DataFrame({'ItemID': np.arange(1, X_test_transformed.shape[0] + 1), 'Score': criteria_scores_test})\n",
    "\n",
    "# Sort items based on scores for the testing set\n",
    "sorted_cluster_data_test = cluster_data_test.sort_values(by='Score', ascending=False)\n",
    "\n",
    "# Calculate thresholds for A, B, and C categories for the testing set\n",
    "a_threshold_test = int(X_test_transformed.shape[0] * 0.55)\n",
    "b_threshold_test = int(X_test_transformed.shape[0] * 0.85)\n",
    "\n",
    "# Assign categories based on thresholds for the testing set\n",
    "sorted_cluster_data_test['Category'] = 'Obsolete'\n",
    "sorted_cluster_data_test.loc[sorted_cluster_data_test.head(a_threshold_test).index, 'Category'] = 'Essential'\n",
    "sorted_cluster_data_test.loc[sorted_cluster_data_test.tail(b_threshold_test - a_threshold_test).index, 'Category'] = 'Non-Essential'\n",
    "sorted_cluster_data_test"
   ]
  },
  {
   "cell_type": "code",
   "execution_count": 265,
   "metadata": {},
   "outputs": [],
   "source": [
    "sorted_cluster_data_test = sorted_cluster_data_test[['ItemID', 'Category']]\n",
    "\n",
    "parts_data['ItemID'] = parts_data.index\n",
    "\n",
    "cols_to_drop = ['Sales Last Month',\n",
    "       'Sales Last 3 Months', 'Sales Last 6 Months', 'Sales Last 9 Months',\n",
    "       'Sales Last 12 Months', 'Sales Last 2 Years', 'Sales Last 3 Years',\n",
    "       'Sales Last 4 Years', 'Sales Last 5 Years', 'Sales Last 10 Years',\n",
    "       'Months No Sale', 'Sales - Jan', 'Sales - Feb', 'Sales - Mar',\n",
    "       'Sales - Apr', 'Sales - May', 'Sales - Jun', 'Sales - Jul','Reorder Point', 'Sales - Aug',\n",
    "       'Sales - Sep', 'Sales - Oct', 'Sales - Nov', 'Sales - Dec',\n",
    "       'Sales - 4th Qtr', 'Gross Profit - Sep', 'Gross Profit - Oct',\n",
    "       'Gross Profit - Nov', 'Gross Profit - Dec', \n",
    "       'Sales - 1st Qtr', 'Sales - 2nd Qtr', 'Sales - 3rd Qtr',\n",
    "       'Sales - This Year', 'Sales - Last Year', 'Quantity Ordered YTD',\n",
    "       'Quantity Received YTD', 'Cost Per Unit', 'Total Cost', 'Obsolete',\n",
    "       'Gross Profit -  Last Month', 'Gross Profit -  Last 3 Months',\n",
    "       'Gross Profit -  Last 6 Months', 'Gross Profit -  Last 9 Months',\n",
    "       'Gross Profit -  Last 12 Months', 'Gross Profit -  Last 2 Years',\n",
    "       'Gross Profit -  Last 3 Years', 'Gross Profit -  Last 4 Years',\n",
    "       'Gross Profit -  Last 5 Years', 'Gross Profit -  Last 10 Years',\n",
    "       'Total Gross Profit', 'Gross Profit - Jan', 'Gross Profit - Feb',\n",
    "       'Gross Profit - Mar', 'Gross Profit - Apr', 'Gross Profit - May',\n",
    "       'Gross Profit - Jun', 'Gross Profit - Jul', 'Gross Profit - Aug',\n",
    "       'COGS', 'Starting Inventory', 'Ending Inventory', 'Average Inventory']\n",
    "parts_data.drop(columns=cols_to_drop, inplace=True)\n",
    "\n",
    "merged_data_df = pd.merge(\n",
    "    parts_data, \n",
    "    sorted_cluster_data_test,\n",
    "    on='ItemID',\n",
    "    how='left')\n"
   ]
  },
  {
   "cell_type": "code",
   "execution_count": 268,
   "metadata": {},
   "outputs": [
    {
     "data": {
      "text/plain": [
       "Essential        54.995197\n",
       "Non-Essential    35.194524\n",
       "Obsolete          9.810279\n",
       "Name: Category, dtype: float64"
      ]
     },
     "execution_count": 268,
     "metadata": {},
     "output_type": "execute_result"
    }
   ],
   "source": [
    "(sorted_cluster_data['Category'].value_counts() / len(sorted_cluster_data['Category'])) * 100"
   ]
  },
  {
   "cell_type": "code",
   "execution_count": 269,
   "metadata": {},
   "outputs": [
    {
     "data": {
      "application/vnd.plotly.v1+json": {
       "config": {
        "plotlyServerURL": "https://plot.ly"
       },
       "data": [
        {
         "alignmentgroup": "True",
         "hovertemplate": "Category=%{x}<br>Score=%{y}<extra></extra>",
         "legendgroup": "",
         "marker": {
          "color": "#636efa",
          "pattern": {
           "shape": ""
          }
         },
         "name": "",
         "offsetgroup": "",
         "orientation": "v",
         "showlegend": false,
         "textposition": "auto",
         "type": "bar",
         "x": [
          "Essential",
          "Non-Essential",
          "Obsolete"
         ],
         "xaxis": "x",
         "y": [
          0.19467407319024801,
          -0.052858858840070924,
          -0.028138337816608457
         ],
         "yaxis": "y"
        }
       ],
       "layout": {
        "barmode": "relative",
        "legend": {
         "tracegroupgap": 0
        },
        "template": {
         "data": {
          "bar": [
           {
            "error_x": {
             "color": "#2a3f5f"
            },
            "error_y": {
             "color": "#2a3f5f"
            },
            "marker": {
             "line": {
              "color": "#E5ECF6",
              "width": 0.5
             },
             "pattern": {
              "fillmode": "overlay",
              "size": 10,
              "solidity": 0.2
             }
            },
            "type": "bar"
           }
          ],
          "barpolar": [
           {
            "marker": {
             "line": {
              "color": "#E5ECF6",
              "width": 0.5
             },
             "pattern": {
              "fillmode": "overlay",
              "size": 10,
              "solidity": 0.2
             }
            },
            "type": "barpolar"
           }
          ],
          "carpet": [
           {
            "aaxis": {
             "endlinecolor": "#2a3f5f",
             "gridcolor": "white",
             "linecolor": "white",
             "minorgridcolor": "white",
             "startlinecolor": "#2a3f5f"
            },
            "baxis": {
             "endlinecolor": "#2a3f5f",
             "gridcolor": "white",
             "linecolor": "white",
             "minorgridcolor": "white",
             "startlinecolor": "#2a3f5f"
            },
            "type": "carpet"
           }
          ],
          "choropleth": [
           {
            "colorbar": {
             "outlinewidth": 0,
             "ticks": ""
            },
            "type": "choropleth"
           }
          ],
          "contour": [
           {
            "colorbar": {
             "outlinewidth": 0,
             "ticks": ""
            },
            "colorscale": [
             [
              0,
              "#0d0887"
             ],
             [
              0.1111111111111111,
              "#46039f"
             ],
             [
              0.2222222222222222,
              "#7201a8"
             ],
             [
              0.3333333333333333,
              "#9c179e"
             ],
             [
              0.4444444444444444,
              "#bd3786"
             ],
             [
              0.5555555555555556,
              "#d8576b"
             ],
             [
              0.6666666666666666,
              "#ed7953"
             ],
             [
              0.7777777777777778,
              "#fb9f3a"
             ],
             [
              0.8888888888888888,
              "#fdca26"
             ],
             [
              1,
              "#f0f921"
             ]
            ],
            "type": "contour"
           }
          ],
          "contourcarpet": [
           {
            "colorbar": {
             "outlinewidth": 0,
             "ticks": ""
            },
            "type": "contourcarpet"
           }
          ],
          "heatmap": [
           {
            "colorbar": {
             "outlinewidth": 0,
             "ticks": ""
            },
            "colorscale": [
             [
              0,
              "#0d0887"
             ],
             [
              0.1111111111111111,
              "#46039f"
             ],
             [
              0.2222222222222222,
              "#7201a8"
             ],
             [
              0.3333333333333333,
              "#9c179e"
             ],
             [
              0.4444444444444444,
              "#bd3786"
             ],
             [
              0.5555555555555556,
              "#d8576b"
             ],
             [
              0.6666666666666666,
              "#ed7953"
             ],
             [
              0.7777777777777778,
              "#fb9f3a"
             ],
             [
              0.8888888888888888,
              "#fdca26"
             ],
             [
              1,
              "#f0f921"
             ]
            ],
            "type": "heatmap"
           }
          ],
          "heatmapgl": [
           {
            "colorbar": {
             "outlinewidth": 0,
             "ticks": ""
            },
            "colorscale": [
             [
              0,
              "#0d0887"
             ],
             [
              0.1111111111111111,
              "#46039f"
             ],
             [
              0.2222222222222222,
              "#7201a8"
             ],
             [
              0.3333333333333333,
              "#9c179e"
             ],
             [
              0.4444444444444444,
              "#bd3786"
             ],
             [
              0.5555555555555556,
              "#d8576b"
             ],
             [
              0.6666666666666666,
              "#ed7953"
             ],
             [
              0.7777777777777778,
              "#fb9f3a"
             ],
             [
              0.8888888888888888,
              "#fdca26"
             ],
             [
              1,
              "#f0f921"
             ]
            ],
            "type": "heatmapgl"
           }
          ],
          "histogram": [
           {
            "marker": {
             "pattern": {
              "fillmode": "overlay",
              "size": 10,
              "solidity": 0.2
             }
            },
            "type": "histogram"
           }
          ],
          "histogram2d": [
           {
            "colorbar": {
             "outlinewidth": 0,
             "ticks": ""
            },
            "colorscale": [
             [
              0,
              "#0d0887"
             ],
             [
              0.1111111111111111,
              "#46039f"
             ],
             [
              0.2222222222222222,
              "#7201a8"
             ],
             [
              0.3333333333333333,
              "#9c179e"
             ],
             [
              0.4444444444444444,
              "#bd3786"
             ],
             [
              0.5555555555555556,
              "#d8576b"
             ],
             [
              0.6666666666666666,
              "#ed7953"
             ],
             [
              0.7777777777777778,
              "#fb9f3a"
             ],
             [
              0.8888888888888888,
              "#fdca26"
             ],
             [
              1,
              "#f0f921"
             ]
            ],
            "type": "histogram2d"
           }
          ],
          "histogram2dcontour": [
           {
            "colorbar": {
             "outlinewidth": 0,
             "ticks": ""
            },
            "colorscale": [
             [
              0,
              "#0d0887"
             ],
             [
              0.1111111111111111,
              "#46039f"
             ],
             [
              0.2222222222222222,
              "#7201a8"
             ],
             [
              0.3333333333333333,
              "#9c179e"
             ],
             [
              0.4444444444444444,
              "#bd3786"
             ],
             [
              0.5555555555555556,
              "#d8576b"
             ],
             [
              0.6666666666666666,
              "#ed7953"
             ],
             [
              0.7777777777777778,
              "#fb9f3a"
             ],
             [
              0.8888888888888888,
              "#fdca26"
             ],
             [
              1,
              "#f0f921"
             ]
            ],
            "type": "histogram2dcontour"
           }
          ],
          "mesh3d": [
           {
            "colorbar": {
             "outlinewidth": 0,
             "ticks": ""
            },
            "type": "mesh3d"
           }
          ],
          "parcoords": [
           {
            "line": {
             "colorbar": {
              "outlinewidth": 0,
              "ticks": ""
             }
            },
            "type": "parcoords"
           }
          ],
          "pie": [
           {
            "automargin": true,
            "type": "pie"
           }
          ],
          "scatter": [
           {
            "fillpattern": {
             "fillmode": "overlay",
             "size": 10,
             "solidity": 0.2
            },
            "type": "scatter"
           }
          ],
          "scatter3d": [
           {
            "line": {
             "colorbar": {
              "outlinewidth": 0,
              "ticks": ""
             }
            },
            "marker": {
             "colorbar": {
              "outlinewidth": 0,
              "ticks": ""
             }
            },
            "type": "scatter3d"
           }
          ],
          "scattercarpet": [
           {
            "marker": {
             "colorbar": {
              "outlinewidth": 0,
              "ticks": ""
             }
            },
            "type": "scattercarpet"
           }
          ],
          "scattergeo": [
           {
            "marker": {
             "colorbar": {
              "outlinewidth": 0,
              "ticks": ""
             }
            },
            "type": "scattergeo"
           }
          ],
          "scattergl": [
           {
            "marker": {
             "colorbar": {
              "outlinewidth": 0,
              "ticks": ""
             }
            },
            "type": "scattergl"
           }
          ],
          "scattermapbox": [
           {
            "marker": {
             "colorbar": {
              "outlinewidth": 0,
              "ticks": ""
             }
            },
            "type": "scattermapbox"
           }
          ],
          "scatterpolar": [
           {
            "marker": {
             "colorbar": {
              "outlinewidth": 0,
              "ticks": ""
             }
            },
            "type": "scatterpolar"
           }
          ],
          "scatterpolargl": [
           {
            "marker": {
             "colorbar": {
              "outlinewidth": 0,
              "ticks": ""
             }
            },
            "type": "scatterpolargl"
           }
          ],
          "scatterternary": [
           {
            "marker": {
             "colorbar": {
              "outlinewidth": 0,
              "ticks": ""
             }
            },
            "type": "scatterternary"
           }
          ],
          "surface": [
           {
            "colorbar": {
             "outlinewidth": 0,
             "ticks": ""
            },
            "colorscale": [
             [
              0,
              "#0d0887"
             ],
             [
              0.1111111111111111,
              "#46039f"
             ],
             [
              0.2222222222222222,
              "#7201a8"
             ],
             [
              0.3333333333333333,
              "#9c179e"
             ],
             [
              0.4444444444444444,
              "#bd3786"
             ],
             [
              0.5555555555555556,
              "#d8576b"
             ],
             [
              0.6666666666666666,
              "#ed7953"
             ],
             [
              0.7777777777777778,
              "#fb9f3a"
             ],
             [
              0.8888888888888888,
              "#fdca26"
             ],
             [
              1,
              "#f0f921"
             ]
            ],
            "type": "surface"
           }
          ],
          "table": [
           {
            "cells": {
             "fill": {
              "color": "#EBF0F8"
             },
             "line": {
              "color": "white"
             }
            },
            "header": {
             "fill": {
              "color": "#C8D4E3"
             },
             "line": {
              "color": "white"
             }
            },
            "type": "table"
           }
          ]
         },
         "layout": {
          "annotationdefaults": {
           "arrowcolor": "#2a3f5f",
           "arrowhead": 0,
           "arrowwidth": 1
          },
          "autotypenumbers": "strict",
          "coloraxis": {
           "colorbar": {
            "outlinewidth": 0,
            "ticks": ""
           }
          },
          "colorscale": {
           "diverging": [
            [
             0,
             "#8e0152"
            ],
            [
             0.1,
             "#c51b7d"
            ],
            [
             0.2,
             "#de77ae"
            ],
            [
             0.3,
             "#f1b6da"
            ],
            [
             0.4,
             "#fde0ef"
            ],
            [
             0.5,
             "#f7f7f7"
            ],
            [
             0.6,
             "#e6f5d0"
            ],
            [
             0.7,
             "#b8e186"
            ],
            [
             0.8,
             "#7fbc41"
            ],
            [
             0.9,
             "#4d9221"
            ],
            [
             1,
             "#276419"
            ]
           ],
           "sequential": [
            [
             0,
             "#0d0887"
            ],
            [
             0.1111111111111111,
             "#46039f"
            ],
            [
             0.2222222222222222,
             "#7201a8"
            ],
            [
             0.3333333333333333,
             "#9c179e"
            ],
            [
             0.4444444444444444,
             "#bd3786"
            ],
            [
             0.5555555555555556,
             "#d8576b"
            ],
            [
             0.6666666666666666,
             "#ed7953"
            ],
            [
             0.7777777777777778,
             "#fb9f3a"
            ],
            [
             0.8888888888888888,
             "#fdca26"
            ],
            [
             1,
             "#f0f921"
            ]
           ],
           "sequentialminus": [
            [
             0,
             "#0d0887"
            ],
            [
             0.1111111111111111,
             "#46039f"
            ],
            [
             0.2222222222222222,
             "#7201a8"
            ],
            [
             0.3333333333333333,
             "#9c179e"
            ],
            [
             0.4444444444444444,
             "#bd3786"
            ],
            [
             0.5555555555555556,
             "#d8576b"
            ],
            [
             0.6666666666666666,
             "#ed7953"
            ],
            [
             0.7777777777777778,
             "#fb9f3a"
            ],
            [
             0.8888888888888888,
             "#fdca26"
            ],
            [
             1,
             "#f0f921"
            ]
           ]
          },
          "colorway": [
           "#636efa",
           "#EF553B",
           "#00cc96",
           "#ab63fa",
           "#FFA15A",
           "#19d3f3",
           "#FF6692",
           "#B6E880",
           "#FF97FF",
           "#FECB52"
          ],
          "font": {
           "color": "#2a3f5f"
          },
          "geo": {
           "bgcolor": "white",
           "lakecolor": "white",
           "landcolor": "#E5ECF6",
           "showlakes": true,
           "showland": true,
           "subunitcolor": "white"
          },
          "hoverlabel": {
           "align": "left"
          },
          "hovermode": "closest",
          "mapbox": {
           "style": "light"
          },
          "paper_bgcolor": "white",
          "plot_bgcolor": "#E5ECF6",
          "polar": {
           "angularaxis": {
            "gridcolor": "white",
            "linecolor": "white",
            "ticks": ""
           },
           "bgcolor": "#E5ECF6",
           "radialaxis": {
            "gridcolor": "white",
            "linecolor": "white",
            "ticks": ""
           }
          },
          "scene": {
           "xaxis": {
            "backgroundcolor": "#E5ECF6",
            "gridcolor": "white",
            "gridwidth": 2,
            "linecolor": "white",
            "showbackground": true,
            "ticks": "",
            "zerolinecolor": "white"
           },
           "yaxis": {
            "backgroundcolor": "#E5ECF6",
            "gridcolor": "white",
            "gridwidth": 2,
            "linecolor": "white",
            "showbackground": true,
            "ticks": "",
            "zerolinecolor": "white"
           },
           "zaxis": {
            "backgroundcolor": "#E5ECF6",
            "gridcolor": "white",
            "gridwidth": 2,
            "linecolor": "white",
            "showbackground": true,
            "ticks": "",
            "zerolinecolor": "white"
           }
          },
          "shapedefaults": {
           "line": {
            "color": "#2a3f5f"
           }
          },
          "ternary": {
           "aaxis": {
            "gridcolor": "white",
            "linecolor": "white",
            "ticks": ""
           },
           "baxis": {
            "gridcolor": "white",
            "linecolor": "white",
            "ticks": ""
           },
           "bgcolor": "#E5ECF6",
           "caxis": {
            "gridcolor": "white",
            "linecolor": "white",
            "ticks": ""
           }
          },
          "title": {
           "x": 0.05
          },
          "xaxis": {
           "automargin": true,
           "gridcolor": "white",
           "linecolor": "white",
           "ticks": "",
           "title": {
            "standoff": 15
           },
           "zerolinecolor": "white",
           "zerolinewidth": 2
          },
          "yaxis": {
           "automargin": true,
           "gridcolor": "white",
           "linecolor": "white",
           "ticks": "",
           "title": {
            "standoff": 15
           },
           "zerolinecolor": "white",
           "zerolinewidth": 2
          }
         }
        },
        "title": {
         "text": "Mean Score for Each Category"
        },
        "xaxis": {
         "anchor": "y",
         "domain": [
          0,
          1
         ],
         "title": {
          "text": "Category"
         }
        },
        "yaxis": {
         "anchor": "x",
         "domain": [
          0,
          1
         ],
         "title": {
          "text": "Score"
         }
        }
       }
      }
     },
     "metadata": {},
     "output_type": "display_data"
    }
   ],
   "source": [
    "import plotly.express as px\n",
    "\n",
    "# Assuming you have sorted_cluster_data available\n",
    "\n",
    "# Calculate mean scores for each category\n",
    "mean_scores = sorted_cluster_data.groupby('Category')['Score'].mean().reset_index()\n",
    "\n",
    "# Create an interactive bar chart using Plotly Express\n",
    "fig = px.bar(mean_scores, x='Category', y='Score', title='Mean Score for Each Category')\n",
    "fig.show()\n",
    "\n"
   ]
  }
 ],
 "metadata": {
  "kernelspec": {
   "display_name": "base",
   "language": "python",
   "name": "python3"
  },
  "language_info": {
   "codemirror_mode": {
    "name": "ipython",
    "version": 3
   },
   "file_extension": ".py",
   "mimetype": "text/x-python",
   "name": "python",
   "nbconvert_exporter": "python",
   "pygments_lexer": "ipython3",
   "version": "3.10.10"
  },
  "orig_nbformat": 4
 },
 "nbformat": 4,
 "nbformat_minor": 2
}
