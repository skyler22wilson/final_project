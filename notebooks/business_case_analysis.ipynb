{
 "cells": [
  {
   "cell_type": "code",
   "execution_count": 467,
   "metadata": {},
   "outputs": [],
   "source": [
    "import pandas as pd\n",
    "import numpy as np\n",
    "import matplotlib.pyplot as plt\n",
    "import seaborn as sns\n",
    "import plotly.graph_objects as go\n",
    "import plotly.express as px"
   ]
  },
  {
   "cell_type": "code",
   "execution_count": 468,
   "metadata": {},
   "outputs": [
    {
     "data": {
      "text/html": [
       "<div>\n",
       "<style scoped>\n",
       "    .dataframe tbody tr th:only-of-type {\n",
       "        vertical-align: middle;\n",
       "    }\n",
       "\n",
       "    .dataframe tbody tr th {\n",
       "        vertical-align: top;\n",
       "    }\n",
       "\n",
       "    .dataframe thead th {\n",
       "        text-align: right;\n",
       "    }\n",
       "</style>\n",
       "<table border=\"1\" class=\"dataframe\">\n",
       "  <thead>\n",
       "    <tr style=\"text-align: right;\">\n",
       "      <th></th>\n",
       "      <th>Part Number</th>\n",
       "      <th>Category</th>\n",
       "      <th>Description</th>\n",
       "      <th>Supplier Name</th>\n",
       "      <th>Margin %</th>\n",
       "      <th>Margin</th>\n",
       "      <th>Price</th>\n",
       "      <th>Quantity</th>\n",
       "      <th>Sales Last Month</th>\n",
       "      <th>Sales Last 3 Months</th>\n",
       "      <th>...</th>\n",
       "      <th>Gross Profit - Mar</th>\n",
       "      <th>Gross Profit - Apr</th>\n",
       "      <th>Gross Profit - May</th>\n",
       "      <th>Gross Profit - Jun</th>\n",
       "      <th>Gross Profit - Jul</th>\n",
       "      <th>Gross Profit - Aug</th>\n",
       "      <th>Gross Profit - Sep</th>\n",
       "      <th>Gross Profit - Oct</th>\n",
       "      <th>Gross Profit - Nov</th>\n",
       "      <th>Gross Profit - Dec</th>\n",
       "    </tr>\n",
       "  </thead>\n",
       "  <tbody>\n",
       "    <tr>\n",
       "      <th>0</th>\n",
       "      <td>0</td>\n",
       "      <td>PM1</td>\n",
       "      <td>return spring</td>\n",
       "      <td>triumph motorcycles</td>\n",
       "      <td>100.0</td>\n",
       "      <td>7.26</td>\n",
       "      <td>7.26</td>\n",
       "      <td>0.0</td>\n",
       "      <td>0.0</td>\n",
       "      <td>0.0</td>\n",
       "      <td>...</td>\n",
       "      <td>0.0</td>\n",
       "      <td>0.0</td>\n",
       "      <td>0.0</td>\n",
       "      <td>0.0</td>\n",
       "      <td>0.0</td>\n",
       "      <td>0.0</td>\n",
       "      <td>0.0</td>\n",
       "      <td>0.0</td>\n",
       "      <td>0.0</td>\n",
       "      <td>0.0</td>\n",
       "    </tr>\n",
       "    <tr>\n",
       "      <th>1</th>\n",
       "      <td>0 580 463 999</td>\n",
       "      <td>ACC</td>\n",
       "      <td>euro motorelectrics bosch</td>\n",
       "      <td>euro motorelectrics</td>\n",
       "      <td>100.0</td>\n",
       "      <td>629.99</td>\n",
       "      <td>629.99</td>\n",
       "      <td>0.0</td>\n",
       "      <td>0.0</td>\n",
       "      <td>0.0</td>\n",
       "      <td>...</td>\n",
       "      <td>0.0</td>\n",
       "      <td>0.0</td>\n",
       "      <td>0.0</td>\n",
       "      <td>0.0</td>\n",
       "      <td>0.0</td>\n",
       "      <td>0.0</td>\n",
       "      <td>0.0</td>\n",
       "      <td>0.0</td>\n",
       "      <td>0.0</td>\n",
       "      <td>0.0</td>\n",
       "    </tr>\n",
       "    <tr>\n",
       "      <th>2</th>\n",
       "      <td>00-0450</td>\n",
       "      <td>ACC</td>\n",
       "      <td>screw, gearbox,inspec&amp;</td>\n",
       "      <td>motovan</td>\n",
       "      <td>100.0</td>\n",
       "      <td>1.95</td>\n",
       "      <td>1.95</td>\n",
       "      <td>0.0</td>\n",
       "      <td>0.0</td>\n",
       "      <td>0.0</td>\n",
       "      <td>...</td>\n",
       "      <td>0.0</td>\n",
       "      <td>0.0</td>\n",
       "      <td>0.0</td>\n",
       "      <td>0.0</td>\n",
       "      <td>0.0</td>\n",
       "      <td>0.0</td>\n",
       "      <td>0.0</td>\n",
       "      <td>0.0</td>\n",
       "      <td>0.0</td>\n",
       "      <td>0.0</td>\n",
       "    </tr>\n",
       "    <tr>\n",
       "      <th>3</th>\n",
       "      <td>00-548588</td>\n",
       "      <td>ATA</td>\n",
       "      <td>tube 150/90- 15 centre90' stem</td>\n",
       "      <td>butler maps inc</td>\n",
       "      <td>100.0</td>\n",
       "      <td>19.99</td>\n",
       "      <td>19.99</td>\n",
       "      <td>0.0</td>\n",
       "      <td>0.0</td>\n",
       "      <td>0.0</td>\n",
       "      <td>...</td>\n",
       "      <td>0.0</td>\n",
       "      <td>0.0</td>\n",
       "      <td>0.0</td>\n",
       "      <td>0.0</td>\n",
       "      <td>0.0</td>\n",
       "      <td>0.0</td>\n",
       "      <td>0.0</td>\n",
       "      <td>0.0</td>\n",
       "      <td>0.0</td>\n",
       "      <td>0.0</td>\n",
       "    </tr>\n",
       "    <tr>\n",
       "      <th>4</th>\n",
       "      <td>00-F01740401</td>\n",
       "      <td>ACC</td>\n",
       "      <td>turn signal light control</td>\n",
       "      <td>motowest</td>\n",
       "      <td>100.0</td>\n",
       "      <td>166.99</td>\n",
       "      <td>166.99</td>\n",
       "      <td>0.0</td>\n",
       "      <td>0.0</td>\n",
       "      <td>0.0</td>\n",
       "      <td>...</td>\n",
       "      <td>0.0</td>\n",
       "      <td>0.0</td>\n",
       "      <td>0.0</td>\n",
       "      <td>0.0</td>\n",
       "      <td>0.0</td>\n",
       "      <td>0.0</td>\n",
       "      <td>0.0</td>\n",
       "      <td>0.0</td>\n",
       "      <td>0.0</td>\n",
       "      <td>0.0</td>\n",
       "    </tr>\n",
       "    <tr>\n",
       "      <th>5</th>\n",
       "      <td>00-F02600371</td>\n",
       "      <td>ACC</td>\n",
       "      <td>1399 belt drive</td>\n",
       "      <td>motowest</td>\n",
       "      <td>100.0</td>\n",
       "      <td>51.99</td>\n",
       "      <td>51.99</td>\n",
       "      <td>0.0</td>\n",
       "      <td>0.0</td>\n",
       "      <td>0.0</td>\n",
       "      <td>...</td>\n",
       "      <td>0.0</td>\n",
       "      <td>0.0</td>\n",
       "      <td>0.0</td>\n",
       "      <td>0.0</td>\n",
       "      <td>0.0</td>\n",
       "      <td>0.0</td>\n",
       "      <td>0.0</td>\n",
       "      <td>0.0</td>\n",
       "      <td>0.0</td>\n",
       "      <td>0.0</td>\n",
       "    </tr>\n",
       "    <tr>\n",
       "      <th>6</th>\n",
       "      <td>00-G01702301</td>\n",
       "      <td>ACC</td>\n",
       "      <td>1183-rear right indicator assy</td>\n",
       "      <td>motowest</td>\n",
       "      <td>100.0</td>\n",
       "      <td>33.29</td>\n",
       "      <td>33.29</td>\n",
       "      <td>0.0</td>\n",
       "      <td>0.0</td>\n",
       "      <td>0.0</td>\n",
       "      <td>...</td>\n",
       "      <td>0.0</td>\n",
       "      <td>0.0</td>\n",
       "      <td>0.0</td>\n",
       "      <td>0.0</td>\n",
       "      <td>0.0</td>\n",
       "      <td>0.0</td>\n",
       "      <td>0.0</td>\n",
       "      <td>0.0</td>\n",
       "      <td>0.0</td>\n",
       "      <td>0.0</td>\n",
       "    </tr>\n",
       "    <tr>\n",
       "      <th>7</th>\n",
       "      <td>00-H01701071</td>\n",
       "      <td>ACC</td>\n",
       "      <td>1182- lens, turn signal (sq</td>\n",
       "      <td>motowest</td>\n",
       "      <td>100.0</td>\n",
       "      <td>13.50</td>\n",
       "      <td>13.50</td>\n",
       "      <td>0.0</td>\n",
       "      <td>0.0</td>\n",
       "      <td>0.0</td>\n",
       "      <td>...</td>\n",
       "      <td>0.0</td>\n",
       "      <td>0.0</td>\n",
       "      <td>0.0</td>\n",
       "      <td>0.0</td>\n",
       "      <td>0.0</td>\n",
       "      <td>0.0</td>\n",
       "      <td>0.0</td>\n",
       "      <td>0.0</td>\n",
       "      <td>0.0</td>\n",
       "      <td>0.0</td>\n",
       "    </tr>\n",
       "    <tr>\n",
       "      <th>8</th>\n",
       "      <td>00-SC6S</td>\n",
       "      <td>ACC</td>\n",
       "      <td>usi 6\" steal bar</td>\n",
       "      <td>motovan</td>\n",
       "      <td>100.0</td>\n",
       "      <td>99.99</td>\n",
       "      <td>99.99</td>\n",
       "      <td>0.0</td>\n",
       "      <td>0.0</td>\n",
       "      <td>0.0</td>\n",
       "      <td>...</td>\n",
       "      <td>0.0</td>\n",
       "      <td>0.0</td>\n",
       "      <td>0.0</td>\n",
       "      <td>0.0</td>\n",
       "      <td>0.0</td>\n",
       "      <td>0.0</td>\n",
       "      <td>0.0</td>\n",
       "      <td>0.0</td>\n",
       "      <td>0.0</td>\n",
       "      <td>0.0</td>\n",
       "    </tr>\n",
       "    <tr>\n",
       "      <th>9</th>\n",
       "      <td>001-027</td>\n",
       "      <td>ACC</td>\n",
       "      <td>xr-15/10 silver mirror</td>\n",
       "      <td>moto</td>\n",
       "      <td>100.0</td>\n",
       "      <td>39.95</td>\n",
       "      <td>39.95</td>\n",
       "      <td>0.0</td>\n",
       "      <td>0.0</td>\n",
       "      <td>0.0</td>\n",
       "      <td>...</td>\n",
       "      <td>0.0</td>\n",
       "      <td>0.0</td>\n",
       "      <td>0.0</td>\n",
       "      <td>0.0</td>\n",
       "      <td>0.0</td>\n",
       "      <td>0.0</td>\n",
       "      <td>0.0</td>\n",
       "      <td>0.0</td>\n",
       "      <td>0.0</td>\n",
       "      <td>0.0</td>\n",
       "    </tr>\n",
       "  </tbody>\n",
       "</table>\n",
       "<p>10 rows × 66 columns</p>\n",
       "</div>"
      ],
      "text/plain": [
       "     Part Number Category                     Description  \\\n",
       "0              0      PM1                   return spring   \n",
       "1  0 580 463 999      ACC       euro motorelectrics bosch   \n",
       "2        00-0450      ACC          screw, gearbox,inspec&   \n",
       "3      00-548588      ATA  tube 150/90- 15 centre90' stem   \n",
       "4   00-F01740401      ACC       turn signal light control   \n",
       "5   00-F02600371      ACC                 1399 belt drive   \n",
       "6   00-G01702301      ACC  1183-rear right indicator assy   \n",
       "7   00-H01701071      ACC     1182- lens, turn signal (sq   \n",
       "8        00-SC6S      ACC                usi 6\" steal bar   \n",
       "9        001-027      ACC          xr-15/10 silver mirror   \n",
       "\n",
       "         Supplier Name  Margin %  Margin   Price  Quantity  Sales Last Month  \\\n",
       "0  triumph motorcycles     100.0    7.26    7.26       0.0               0.0   \n",
       "1  euro motorelectrics     100.0  629.99  629.99       0.0               0.0   \n",
       "2              motovan     100.0    1.95    1.95       0.0               0.0   \n",
       "3      butler maps inc     100.0   19.99   19.99       0.0               0.0   \n",
       "4             motowest     100.0  166.99  166.99       0.0               0.0   \n",
       "5             motowest     100.0   51.99   51.99       0.0               0.0   \n",
       "6             motowest     100.0   33.29   33.29       0.0               0.0   \n",
       "7             motowest     100.0   13.50   13.50       0.0               0.0   \n",
       "8              motovan     100.0   99.99   99.99       0.0               0.0   \n",
       "9                 moto     100.0   39.95   39.95       0.0               0.0   \n",
       "\n",
       "   Sales Last 3 Months  ...  Gross Profit - Mar  Gross Profit - Apr  \\\n",
       "0                  0.0  ...                 0.0                 0.0   \n",
       "1                  0.0  ...                 0.0                 0.0   \n",
       "2                  0.0  ...                 0.0                 0.0   \n",
       "3                  0.0  ...                 0.0                 0.0   \n",
       "4                  0.0  ...                 0.0                 0.0   \n",
       "5                  0.0  ...                 0.0                 0.0   \n",
       "6                  0.0  ...                 0.0                 0.0   \n",
       "7                  0.0  ...                 0.0                 0.0   \n",
       "8                  0.0  ...                 0.0                 0.0   \n",
       "9                  0.0  ...                 0.0                 0.0   \n",
       "\n",
       "   Gross Profit - May  Gross Profit - Jun  Gross Profit - Jul  \\\n",
       "0                 0.0                 0.0                 0.0   \n",
       "1                 0.0                 0.0                 0.0   \n",
       "2                 0.0                 0.0                 0.0   \n",
       "3                 0.0                 0.0                 0.0   \n",
       "4                 0.0                 0.0                 0.0   \n",
       "5                 0.0                 0.0                 0.0   \n",
       "6                 0.0                 0.0                 0.0   \n",
       "7                 0.0                 0.0                 0.0   \n",
       "8                 0.0                 0.0                 0.0   \n",
       "9                 0.0                 0.0                 0.0   \n",
       "\n",
       "   Gross Profit - Aug  Gross Profit - Sep  Gross Profit - Oct  \\\n",
       "0                 0.0                 0.0                 0.0   \n",
       "1                 0.0                 0.0                 0.0   \n",
       "2                 0.0                 0.0                 0.0   \n",
       "3                 0.0                 0.0                 0.0   \n",
       "4                 0.0                 0.0                 0.0   \n",
       "5                 0.0                 0.0                 0.0   \n",
       "6                 0.0                 0.0                 0.0   \n",
       "7                 0.0                 0.0                 0.0   \n",
       "8                 0.0                 0.0                 0.0   \n",
       "9                 0.0                 0.0                 0.0   \n",
       "\n",
       "   Gross Profit - Nov  Gross Profit - Dec  \n",
       "0                 0.0                 0.0  \n",
       "1                 0.0                 0.0  \n",
       "2                 0.0                 0.0  \n",
       "3                 0.0                 0.0  \n",
       "4                 0.0                 0.0  \n",
       "5                 0.0                 0.0  \n",
       "6                 0.0                 0.0  \n",
       "7                 0.0                 0.0  \n",
       "8                 0.0                 0.0  \n",
       "9                 0.0                 0.0  \n",
       "\n",
       "[10 rows x 66 columns]"
      ]
     },
     "execution_count": 468,
     "metadata": {},
     "output_type": "execute_result"
    }
   ],
   "source": [
    "parts_data = pd.read_csv('/Users/skylerwilson/Desktop/Lighthouse_Labs/Projects/final_project/data/Project_Data/cleaned_parts_data.csv')\n",
    "\n",
    "parts_data = parts_data.drop(columns=['Unnamed: 0'])\n",
    "\n",
    "parts_data.head(10)"
   ]
  },
  {
   "cell_type": "code",
   "execution_count": 469,
   "metadata": {},
   "outputs": [
    {
     "name": "stdout",
     "output_type": "stream",
     "text": [
      "Obsolete inventory percentage count:\n",
      "0    51.934344\n",
      "1    48.065656\n",
      "Name: Obsolete, dtype: float64\n",
      "Obsolete Total Cost: $376067.83\n",
      "Non-obsolete Cost: $1481143.0\n"
     ]
    }
   ],
   "source": [
    "#how much of the inventory is obsolete and how much is it costing us\n",
    "obsolete_count = (parts_data['Obsolete'].value_counts() / len(parts_data['Obsolete'])) * 100\n",
    "print('Obsolete inventory percentage count:')\n",
    "print(obsolete_count)\n",
    "\n",
    "obsolete_cost = round(parts_data[parts_data['Obsolete'] == 1]['Total Cost'].sum(), 2)\n",
    "print(f'Obsolete Total Cost: ${obsolete_cost}')\n",
    "\n",
    "non_obsolete_cost = round(parts_data[parts_data['Obsolete'] == 0]['Total Cost'].sum(), 2)\n",
    "print(f'Non-obsolete Cost: ${non_obsolete_cost}')\n"
   ]
  },
  {
   "cell_type": "code",
   "execution_count": 470,
   "metadata": {},
   "outputs": [
    {
     "data": {
      "text/html": [
       "<div>\n",
       "<style scoped>\n",
       "    .dataframe tbody tr th:only-of-type {\n",
       "        vertical-align: middle;\n",
       "    }\n",
       "\n",
       "    .dataframe tbody tr th {\n",
       "        vertical-align: top;\n",
       "    }\n",
       "\n",
       "    .dataframe thead th {\n",
       "        text-align: right;\n",
       "    }\n",
       "</style>\n",
       "<table border=\"1\" class=\"dataframe\">\n",
       "  <thead>\n",
       "    <tr style=\"text-align: right;\">\n",
       "      <th></th>\n",
       "      <th>Part Number</th>\n",
       "      <th>Supplier Name</th>\n",
       "      <th>Description</th>\n",
       "      <th>Quantity</th>\n",
       "      <th>Price</th>\n",
       "      <th>Margin %</th>\n",
       "      <th>Cost Per Unit</th>\n",
       "    </tr>\n",
       "  </thead>\n",
       "  <tbody>\n",
       "    <tr>\n",
       "      <th>2413</th>\n",
       "      <td>04-132</td>\n",
       "      <td>motovan</td>\n",
       "      <td>bulb 12v 45/45w</td>\n",
       "      <td>1.0</td>\n",
       "      <td>1.99</td>\n",
       "      <td>-16.080402</td>\n",
       "      <td>2.31</td>\n",
       "    </tr>\n",
       "    <tr>\n",
       "      <th>2417</th>\n",
       "      <td>04-136</td>\n",
       "      <td>motovan</td>\n",
       "      <td>bulb, h4, 60/55w</td>\n",
       "      <td>1.0</td>\n",
       "      <td>4.99</td>\n",
       "      <td>-26.252505</td>\n",
       "      <td>6.30</td>\n",
       "    </tr>\n",
       "    <tr>\n",
       "      <th>2419</th>\n",
       "      <td>04-136A</td>\n",
       "      <td>motovan</td>\n",
       "      <td>60/55w h4 p45t</td>\n",
       "      <td>1.0</td>\n",
       "      <td>4.99</td>\n",
       "      <td>-44.689379</td>\n",
       "      <td>7.22</td>\n",
       "    </tr>\n",
       "    <tr>\n",
       "      <th>2420</th>\n",
       "      <td>04-136B</td>\n",
       "      <td>motovan</td>\n",
       "      <td>bulb 12v-45/45w h4 p43t clear</td>\n",
       "      <td>1.0</td>\n",
       "      <td>4.99</td>\n",
       "      <td>-118.637275</td>\n",
       "      <td>10.91</td>\n",
       "    </tr>\n",
       "    <tr>\n",
       "      <th>2421</th>\n",
       "      <td>04-137</td>\n",
       "      <td>motovan</td>\n",
       "      <td>bulb, h4, 35/35w</td>\n",
       "      <td>3.0</td>\n",
       "      <td>4.99</td>\n",
       "      <td>-37.074148</td>\n",
       "      <td>6.84</td>\n",
       "    </tr>\n",
       "    <tr>\n",
       "      <th>2422</th>\n",
       "      <td>04-139</td>\n",
       "      <td>motovan</td>\n",
       "      <td>h3 halogen bulb, 55w</td>\n",
       "      <td>2.0</td>\n",
       "      <td>2.99</td>\n",
       "      <td>-5.016722</td>\n",
       "      <td>3.14</td>\n",
       "    </tr>\n",
       "    <tr>\n",
       "      <th>2459</th>\n",
       "      <td>04-1821</td>\n",
       "      <td>motovan</td>\n",
       "      <td>bulb 12v 55w h11 pgj19-2 0609-</td>\n",
       "      <td>3.0</td>\n",
       "      <td>5.99</td>\n",
       "      <td>-185.642738</td>\n",
       "      <td>17.11</td>\n",
       "    </tr>\n",
       "    <tr>\n",
       "      <th>8290</th>\n",
       "      <td>111584</td>\n",
       "      <td>parts canada/power twins</td>\n",
       "      <td>rr sprct 40t 630</td>\n",
       "      <td>1.0</td>\n",
       "      <td>26.99</td>\n",
       "      <td>-3.556873</td>\n",
       "      <td>27.95</td>\n",
       "    </tr>\n",
       "    <tr>\n",
       "      <th>17709</th>\n",
       "      <td>1990462</td>\n",
       "      <td>royal enfield</td>\n",
       "      <td>silver slip-on silencer-us</td>\n",
       "      <td>1.0</td>\n",
       "      <td>899.99</td>\n",
       "      <td>-4.222269</td>\n",
       "      <td>937.99</td>\n",
       "    </tr>\n",
       "    <tr>\n",
       "      <th>96935</th>\n",
       "      <td>T2101995-PG</td>\n",
       "      <td>triumph motorcycles</td>\n",
       "      <td>cover assembly,radiator,pg</td>\n",
       "      <td>1.0</td>\n",
       "      <td>89.99</td>\n",
       "      <td>-136.004000</td>\n",
       "      <td>212.38</td>\n",
       "    </tr>\n",
       "  </tbody>\n",
       "</table>\n",
       "</div>"
      ],
      "text/plain": [
       "       Part Number             Supplier Name                     Description  \\\n",
       "2413        04-132                   motovan                 bulb 12v 45/45w   \n",
       "2417        04-136                   motovan                bulb, h4, 60/55w   \n",
       "2419       04-136A                   motovan                  60/55w h4 p45t   \n",
       "2420       04-136B                   motovan   bulb 12v-45/45w h4 p43t clear   \n",
       "2421        04-137                   motovan                bulb, h4, 35/35w   \n",
       "2422        04-139                   motovan            h3 halogen bulb, 55w   \n",
       "2459       04-1821                   motovan  bulb 12v 55w h11 pgj19-2 0609-   \n",
       "8290        111584  parts canada/power twins                rr sprct 40t 630   \n",
       "17709      1990462             royal enfield      silver slip-on silencer-us   \n",
       "96935  T2101995-PG       triumph motorcycles      cover assembly,radiator,pg   \n",
       "\n",
       "       Quantity   Price    Margin %  Cost Per Unit  \n",
       "2413        1.0    1.99  -16.080402           2.31  \n",
       "2417        1.0    4.99  -26.252505           6.30  \n",
       "2419        1.0    4.99  -44.689379           7.22  \n",
       "2420        1.0    4.99 -118.637275          10.91  \n",
       "2421        3.0    4.99  -37.074148           6.84  \n",
       "2422        2.0    2.99   -5.016722           3.14  \n",
       "2459        3.0    5.99 -185.642738          17.11  \n",
       "8290        1.0   26.99   -3.556873          27.95  \n",
       "17709       1.0  899.99   -4.222269         937.99  \n",
       "96935       1.0   89.99 -136.004000         212.38  "
      ]
     },
     "execution_count": 470,
     "metadata": {},
     "output_type": "execute_result"
    }
   ],
   "source": [
    "#compare the margins\n",
    "margin_mask = parts_data['Margin %'] < 0 \n",
    "\n",
    "parts_data[margin_mask][['Part Number', 'Supplier Name', 'Description', 'Quantity','Price', 'Margin %', 'Cost Per Unit']]"
   ]
  },
  {
   "cell_type": "code",
   "execution_count": 471,
   "metadata": {},
   "outputs": [
    {
     "data": {
      "text/html": [
       "<div>\n",
       "<style scoped>\n",
       "    .dataframe tbody tr th:only-of-type {\n",
       "        vertical-align: middle;\n",
       "    }\n",
       "\n",
       "    .dataframe tbody tr th {\n",
       "        vertical-align: top;\n",
       "    }\n",
       "\n",
       "    .dataframe thead th {\n",
       "        text-align: right;\n",
       "    }\n",
       "</style>\n",
       "<table border=\"1\" class=\"dataframe\">\n",
       "  <thead>\n",
       "    <tr style=\"text-align: right;\">\n",
       "      <th></th>\n",
       "      <th>Part Number</th>\n",
       "      <th>Description</th>\n",
       "      <th>Price</th>\n",
       "      <th>Quantity</th>\n",
       "      <th>Margin %</th>\n",
       "      <th>Sales Last 3 Months</th>\n",
       "    </tr>\n",
       "  </thead>\n",
       "  <tbody>\n",
       "    <tr>\n",
       "      <th>69</th>\n",
       "      <td>0069925B</td>\n",
       "      <td>universal cruise control 1\"</td>\n",
       "      <td>18.99</td>\n",
       "      <td>1.0</td>\n",
       "      <td>50.026330</td>\n",
       "      <td>1.0</td>\n",
       "    </tr>\n",
       "    <tr>\n",
       "      <th>180</th>\n",
       "      <td>01-05040</td>\n",
       "      <td>lexin smart pump tire pump</td>\n",
       "      <td>85.99</td>\n",
       "      <td>1.0</td>\n",
       "      <td>22.700314</td>\n",
       "      <td>2.0</td>\n",
       "    </tr>\n",
       "    <tr>\n",
       "      <th>184</th>\n",
       "      <td>01-10000</td>\n",
       "      <td>tire iron</td>\n",
       "      <td>14.99</td>\n",
       "      <td>0.0</td>\n",
       "      <td>100.000000</td>\n",
       "      <td>1.0</td>\n",
       "    </tr>\n",
       "    <tr>\n",
       "      <th>239</th>\n",
       "      <td>01-70565</td>\n",
       "      <td>hornet x2 cheek pad set 35mm</td>\n",
       "      <td>92.99</td>\n",
       "      <td>0.0</td>\n",
       "      <td>100.000000</td>\n",
       "      <td>1.0</td>\n",
       "    </tr>\n",
       "    <tr>\n",
       "      <th>505</th>\n",
       "      <td>0136-0026</td>\n",
       "      <td>helmet service pad icon</td>\n",
       "      <td>29.99</td>\n",
       "      <td>2.0</td>\n",
       "      <td>35.078359</td>\n",
       "      <td>1.0</td>\n",
       "    </tr>\n",
       "    <tr>\n",
       "      <th>...</th>\n",
       "      <td>...</td>\n",
       "      <td>...</td>\n",
       "      <td>...</td>\n",
       "      <td>...</td>\n",
       "      <td>...</td>\n",
       "      <td>...</td>\n",
       "    </tr>\n",
       "    <tr>\n",
       "      <th>101067</th>\n",
       "      <td>TIRE</td>\n",
       "      <td>**tire fee (5.00 per tire)</td>\n",
       "      <td>5.00</td>\n",
       "      <td>0.0</td>\n",
       "      <td>100.000000</td>\n",
       "      <td>297.0</td>\n",
       "    </tr>\n",
       "    <tr>\n",
       "      <th>101093</th>\n",
       "      <td>TIRE900RALLY</td>\n",
       "      <td>take off tires</td>\n",
       "      <td>319.99</td>\n",
       "      <td>1.0</td>\n",
       "      <td>6.247070</td>\n",
       "      <td>1.0</td>\n",
       "    </tr>\n",
       "    <tr>\n",
       "      <th>101432</th>\n",
       "      <td>YT12B-BS</td>\n",
       "      <td>yt12b-bs w/acid pack</td>\n",
       "      <td>184.99</td>\n",
       "      <td>10.0</td>\n",
       "      <td>30.017839</td>\n",
       "      <td>13.0</td>\n",
       "    </tr>\n",
       "    <tr>\n",
       "      <th>101476</th>\n",
       "      <td>YTX9-BS</td>\n",
       "      <td>ytx9-bs w/acid pack</td>\n",
       "      <td>139.99</td>\n",
       "      <td>0.0</td>\n",
       "      <td>100.000000</td>\n",
       "      <td>1.0</td>\n",
       "    </tr>\n",
       "    <tr>\n",
       "      <th>101528</th>\n",
       "      <td>blk 1</td>\n",
       "      <td>brakeline kit, 1 line, el-0762-000-</td>\n",
       "      <td>79.99</td>\n",
       "      <td>0.0</td>\n",
       "      <td>100.000000</td>\n",
       "      <td>1.0</td>\n",
       "    </tr>\n",
       "  </tbody>\n",
       "</table>\n",
       "<p>3536 rows × 6 columns</p>\n",
       "</div>"
      ],
      "text/plain": [
       "         Part Number                          Description   Price  Quantity  \\\n",
       "69          0069925B          universal cruise control 1\"   18.99       1.0   \n",
       "180         01-05040           lexin smart pump tire pump   85.99       1.0   \n",
       "184         01-10000                            tire iron   14.99       0.0   \n",
       "239         01-70565         hornet x2 cheek pad set 35mm   92.99       0.0   \n",
       "505        0136-0026              helmet service pad icon   29.99       2.0   \n",
       "...              ...                                  ...     ...       ...   \n",
       "101067          TIRE           **tire fee (5.00 per tire)    5.00       0.0   \n",
       "101093  TIRE900RALLY                       take off tires  319.99       1.0   \n",
       "101432      YT12B-BS                 yt12b-bs w/acid pack  184.99      10.0   \n",
       "101476       YTX9-BS                  ytx9-bs w/acid pack  139.99       0.0   \n",
       "101528         blk 1  brakeline kit, 1 line, el-0762-000-   79.99       0.0   \n",
       "\n",
       "          Margin %  Sales Last 3 Months  \n",
       "69       50.026330                  1.0  \n",
       "180      22.700314                  2.0  \n",
       "184     100.000000                  1.0  \n",
       "239     100.000000                  1.0  \n",
       "505      35.078359                  1.0  \n",
       "...            ...                  ...  \n",
       "101067  100.000000                297.0  \n",
       "101093    6.247070                  1.0  \n",
       "101432   30.017839                 13.0  \n",
       "101476  100.000000                  1.0  \n",
       "101528  100.000000                  1.0  \n",
       "\n",
       "[3536 rows x 6 columns]"
      ]
     },
     "execution_count": 471,
     "metadata": {},
     "output_type": "execute_result"
    }
   ],
   "source": [
    "parts_data[parts_data['Sales Last 3 Months'] >= 1][['Part Number', 'Description', 'Price', 'Quantity', 'Margin %', 'Sales Last 3 Months']]"
   ]
  },
  {
   "cell_type": "code",
   "execution_count": 472,
   "metadata": {},
   "outputs": [
    {
     "data": {
      "text/html": [
       "<div>\n",
       "<style scoped>\n",
       "    .dataframe tbody tr th:only-of-type {\n",
       "        vertical-align: middle;\n",
       "    }\n",
       "\n",
       "    .dataframe tbody tr th {\n",
       "        vertical-align: top;\n",
       "    }\n",
       "\n",
       "    .dataframe thead th {\n",
       "        text-align: right;\n",
       "    }\n",
       "</style>\n",
       "<table border=\"1\" class=\"dataframe\">\n",
       "  <thead>\n",
       "    <tr style=\"text-align: right;\">\n",
       "      <th></th>\n",
       "      <th>Category</th>\n",
       "      <th>Percentage</th>\n",
       "    </tr>\n",
       "  </thead>\n",
       "  <tbody>\n",
       "    <tr>\n",
       "      <th>0</th>\n",
       "      <td>Essential</td>\n",
       "      <td>36.249865</td>\n",
       "    </tr>\n",
       "    <tr>\n",
       "      <th>1</th>\n",
       "      <td>Obsolete</td>\n",
       "      <td>48.065656</td>\n",
       "    </tr>\n",
       "    <tr>\n",
       "      <th>2</th>\n",
       "      <td>Non-Essential</td>\n",
       "      <td>15.684479</td>\n",
       "    </tr>\n",
       "  </tbody>\n",
       "</table>\n",
       "</div>"
      ],
      "text/plain": [
       "        Category  Percentage\n",
       "0      Essential   36.249865\n",
       "1       Obsolete   48.065656\n",
       "2  Non-Essential   15.684479"
      ]
     },
     "execution_count": 472,
     "metadata": {},
     "output_type": "execute_result"
    }
   ],
   "source": [
    "# Calculate the percentages\n",
    "total_parts = parts_data.shape[0]\n",
    "essential_percent = len(parts_data[parts_data['Months No Sale'] <= 3]) / total_parts * 100\n",
    "obsolete_percent = len(parts_data[parts_data['Months No Sale'] >= 12]) / total_parts * 100\n",
    "non_essential_percent = len(parts_data[(parts_data['Months No Sale'] > 3) & (parts_data['Months No Sale'] < 12)]) / total_parts * 100\n",
    "\n",
    "# Create a DataFrame to store the results\n",
    "data = {\n",
    "    'Category': ['Essential', 'Obsolete', 'Non-Essential'],\n",
    "    'Percentage': [essential_percent, obsolete_percent, non_essential_percent]\n",
    "}\n",
    "result_df = pd.DataFrame(data)\n",
    "result_df\n"
   ]
  },
  {
   "cell_type": "code",
   "execution_count": 473,
   "metadata": {},
   "outputs": [
    {
     "data": {
      "application/vnd.plotly.v1+json": {
       "config": {
        "plotlyServerURL": "https://plot.ly"
       },
       "data": [
        {
         "domain": {
          "x": [
           0,
           1
          ],
          "y": [
           0,
           1
          ]
         },
         "hovertemplate": "Category=%{label}<br>Percentage=%{value}<extra></extra>",
         "labels": [
          "Essential",
          "Obsolete",
          "Non-Essential"
         ],
         "legendgroup": "",
         "name": "",
         "showlegend": true,
         "textfont": {
          "size": 18
         },
         "type": "pie",
         "values": [
          36.24986461071889,
          48.06565641646727,
          15.684478972813832
         ]
        }
       ],
       "layout": {
        "height": 600,
        "legend": {
         "font": {
          "size": 16
         },
         "tracegroupgap": 0
        },
        "template": {
         "data": {
          "bar": [
           {
            "error_x": {
             "color": "#2a3f5f"
            },
            "error_y": {
             "color": "#2a3f5f"
            },
            "marker": {
             "line": {
              "color": "#E5ECF6",
              "width": 0.5
             },
             "pattern": {
              "fillmode": "overlay",
              "size": 10,
              "solidity": 0.2
             }
            },
            "type": "bar"
           }
          ],
          "barpolar": [
           {
            "marker": {
             "line": {
              "color": "#E5ECF6",
              "width": 0.5
             },
             "pattern": {
              "fillmode": "overlay",
              "size": 10,
              "solidity": 0.2
             }
            },
            "type": "barpolar"
           }
          ],
          "carpet": [
           {
            "aaxis": {
             "endlinecolor": "#2a3f5f",
             "gridcolor": "white",
             "linecolor": "white",
             "minorgridcolor": "white",
             "startlinecolor": "#2a3f5f"
            },
            "baxis": {
             "endlinecolor": "#2a3f5f",
             "gridcolor": "white",
             "linecolor": "white",
             "minorgridcolor": "white",
             "startlinecolor": "#2a3f5f"
            },
            "type": "carpet"
           }
          ],
          "choropleth": [
           {
            "colorbar": {
             "outlinewidth": 0,
             "ticks": ""
            },
            "type": "choropleth"
           }
          ],
          "contour": [
           {
            "colorbar": {
             "outlinewidth": 0,
             "ticks": ""
            },
            "colorscale": [
             [
              0,
              "#0d0887"
             ],
             [
              0.1111111111111111,
              "#46039f"
             ],
             [
              0.2222222222222222,
              "#7201a8"
             ],
             [
              0.3333333333333333,
              "#9c179e"
             ],
             [
              0.4444444444444444,
              "#bd3786"
             ],
             [
              0.5555555555555556,
              "#d8576b"
             ],
             [
              0.6666666666666666,
              "#ed7953"
             ],
             [
              0.7777777777777778,
              "#fb9f3a"
             ],
             [
              0.8888888888888888,
              "#fdca26"
             ],
             [
              1,
              "#f0f921"
             ]
            ],
            "type": "contour"
           }
          ],
          "contourcarpet": [
           {
            "colorbar": {
             "outlinewidth": 0,
             "ticks": ""
            },
            "type": "contourcarpet"
           }
          ],
          "heatmap": [
           {
            "colorbar": {
             "outlinewidth": 0,
             "ticks": ""
            },
            "colorscale": [
             [
              0,
              "#0d0887"
             ],
             [
              0.1111111111111111,
              "#46039f"
             ],
             [
              0.2222222222222222,
              "#7201a8"
             ],
             [
              0.3333333333333333,
              "#9c179e"
             ],
             [
              0.4444444444444444,
              "#bd3786"
             ],
             [
              0.5555555555555556,
              "#d8576b"
             ],
             [
              0.6666666666666666,
              "#ed7953"
             ],
             [
              0.7777777777777778,
              "#fb9f3a"
             ],
             [
              0.8888888888888888,
              "#fdca26"
             ],
             [
              1,
              "#f0f921"
             ]
            ],
            "type": "heatmap"
           }
          ],
          "heatmapgl": [
           {
            "colorbar": {
             "outlinewidth": 0,
             "ticks": ""
            },
            "colorscale": [
             [
              0,
              "#0d0887"
             ],
             [
              0.1111111111111111,
              "#46039f"
             ],
             [
              0.2222222222222222,
              "#7201a8"
             ],
             [
              0.3333333333333333,
              "#9c179e"
             ],
             [
              0.4444444444444444,
              "#bd3786"
             ],
             [
              0.5555555555555556,
              "#d8576b"
             ],
             [
              0.6666666666666666,
              "#ed7953"
             ],
             [
              0.7777777777777778,
              "#fb9f3a"
             ],
             [
              0.8888888888888888,
              "#fdca26"
             ],
             [
              1,
              "#f0f921"
             ]
            ],
            "type": "heatmapgl"
           }
          ],
          "histogram": [
           {
            "marker": {
             "pattern": {
              "fillmode": "overlay",
              "size": 10,
              "solidity": 0.2
             }
            },
            "type": "histogram"
           }
          ],
          "histogram2d": [
           {
            "colorbar": {
             "outlinewidth": 0,
             "ticks": ""
            },
            "colorscale": [
             [
              0,
              "#0d0887"
             ],
             [
              0.1111111111111111,
              "#46039f"
             ],
             [
              0.2222222222222222,
              "#7201a8"
             ],
             [
              0.3333333333333333,
              "#9c179e"
             ],
             [
              0.4444444444444444,
              "#bd3786"
             ],
             [
              0.5555555555555556,
              "#d8576b"
             ],
             [
              0.6666666666666666,
              "#ed7953"
             ],
             [
              0.7777777777777778,
              "#fb9f3a"
             ],
             [
              0.8888888888888888,
              "#fdca26"
             ],
             [
              1,
              "#f0f921"
             ]
            ],
            "type": "histogram2d"
           }
          ],
          "histogram2dcontour": [
           {
            "colorbar": {
             "outlinewidth": 0,
             "ticks": ""
            },
            "colorscale": [
             [
              0,
              "#0d0887"
             ],
             [
              0.1111111111111111,
              "#46039f"
             ],
             [
              0.2222222222222222,
              "#7201a8"
             ],
             [
              0.3333333333333333,
              "#9c179e"
             ],
             [
              0.4444444444444444,
              "#bd3786"
             ],
             [
              0.5555555555555556,
              "#d8576b"
             ],
             [
              0.6666666666666666,
              "#ed7953"
             ],
             [
              0.7777777777777778,
              "#fb9f3a"
             ],
             [
              0.8888888888888888,
              "#fdca26"
             ],
             [
              1,
              "#f0f921"
             ]
            ],
            "type": "histogram2dcontour"
           }
          ],
          "mesh3d": [
           {
            "colorbar": {
             "outlinewidth": 0,
             "ticks": ""
            },
            "type": "mesh3d"
           }
          ],
          "parcoords": [
           {
            "line": {
             "colorbar": {
              "outlinewidth": 0,
              "ticks": ""
             }
            },
            "type": "parcoords"
           }
          ],
          "pie": [
           {
            "automargin": true,
            "type": "pie"
           }
          ],
          "scatter": [
           {
            "fillpattern": {
             "fillmode": "overlay",
             "size": 10,
             "solidity": 0.2
            },
            "type": "scatter"
           }
          ],
          "scatter3d": [
           {
            "line": {
             "colorbar": {
              "outlinewidth": 0,
              "ticks": ""
             }
            },
            "marker": {
             "colorbar": {
              "outlinewidth": 0,
              "ticks": ""
             }
            },
            "type": "scatter3d"
           }
          ],
          "scattercarpet": [
           {
            "marker": {
             "colorbar": {
              "outlinewidth": 0,
              "ticks": ""
             }
            },
            "type": "scattercarpet"
           }
          ],
          "scattergeo": [
           {
            "marker": {
             "colorbar": {
              "outlinewidth": 0,
              "ticks": ""
             }
            },
            "type": "scattergeo"
           }
          ],
          "scattergl": [
           {
            "marker": {
             "colorbar": {
              "outlinewidth": 0,
              "ticks": ""
             }
            },
            "type": "scattergl"
           }
          ],
          "scattermapbox": [
           {
            "marker": {
             "colorbar": {
              "outlinewidth": 0,
              "ticks": ""
             }
            },
            "type": "scattermapbox"
           }
          ],
          "scatterpolar": [
           {
            "marker": {
             "colorbar": {
              "outlinewidth": 0,
              "ticks": ""
             }
            },
            "type": "scatterpolar"
           }
          ],
          "scatterpolargl": [
           {
            "marker": {
             "colorbar": {
              "outlinewidth": 0,
              "ticks": ""
             }
            },
            "type": "scatterpolargl"
           }
          ],
          "scatterternary": [
           {
            "marker": {
             "colorbar": {
              "outlinewidth": 0,
              "ticks": ""
             }
            },
            "type": "scatterternary"
           }
          ],
          "surface": [
           {
            "colorbar": {
             "outlinewidth": 0,
             "ticks": ""
            },
            "colorscale": [
             [
              0,
              "#0d0887"
             ],
             [
              0.1111111111111111,
              "#46039f"
             ],
             [
              0.2222222222222222,
              "#7201a8"
             ],
             [
              0.3333333333333333,
              "#9c179e"
             ],
             [
              0.4444444444444444,
              "#bd3786"
             ],
             [
              0.5555555555555556,
              "#d8576b"
             ],
             [
              0.6666666666666666,
              "#ed7953"
             ],
             [
              0.7777777777777778,
              "#fb9f3a"
             ],
             [
              0.8888888888888888,
              "#fdca26"
             ],
             [
              1,
              "#f0f921"
             ]
            ],
            "type": "surface"
           }
          ],
          "table": [
           {
            "cells": {
             "fill": {
              "color": "#EBF0F8"
             },
             "line": {
              "color": "white"
             }
            },
            "header": {
             "fill": {
              "color": "#C8D4E3"
             },
             "line": {
              "color": "white"
             }
            },
            "type": "table"
           }
          ]
         },
         "layout": {
          "annotationdefaults": {
           "arrowcolor": "#2a3f5f",
           "arrowhead": 0,
           "arrowwidth": 1
          },
          "autotypenumbers": "strict",
          "coloraxis": {
           "colorbar": {
            "outlinewidth": 0,
            "ticks": ""
           }
          },
          "colorscale": {
           "diverging": [
            [
             0,
             "#8e0152"
            ],
            [
             0.1,
             "#c51b7d"
            ],
            [
             0.2,
             "#de77ae"
            ],
            [
             0.3,
             "#f1b6da"
            ],
            [
             0.4,
             "#fde0ef"
            ],
            [
             0.5,
             "#f7f7f7"
            ],
            [
             0.6,
             "#e6f5d0"
            ],
            [
             0.7,
             "#b8e186"
            ],
            [
             0.8,
             "#7fbc41"
            ],
            [
             0.9,
             "#4d9221"
            ],
            [
             1,
             "#276419"
            ]
           ],
           "sequential": [
            [
             0,
             "#0d0887"
            ],
            [
             0.1111111111111111,
             "#46039f"
            ],
            [
             0.2222222222222222,
             "#7201a8"
            ],
            [
             0.3333333333333333,
             "#9c179e"
            ],
            [
             0.4444444444444444,
             "#bd3786"
            ],
            [
             0.5555555555555556,
             "#d8576b"
            ],
            [
             0.6666666666666666,
             "#ed7953"
            ],
            [
             0.7777777777777778,
             "#fb9f3a"
            ],
            [
             0.8888888888888888,
             "#fdca26"
            ],
            [
             1,
             "#f0f921"
            ]
           ],
           "sequentialminus": [
            [
             0,
             "#0d0887"
            ],
            [
             0.1111111111111111,
             "#46039f"
            ],
            [
             0.2222222222222222,
             "#7201a8"
            ],
            [
             0.3333333333333333,
             "#9c179e"
            ],
            [
             0.4444444444444444,
             "#bd3786"
            ],
            [
             0.5555555555555556,
             "#d8576b"
            ],
            [
             0.6666666666666666,
             "#ed7953"
            ],
            [
             0.7777777777777778,
             "#fb9f3a"
            ],
            [
             0.8888888888888888,
             "#fdca26"
            ],
            [
             1,
             "#f0f921"
            ]
           ]
          },
          "colorway": [
           "#636efa",
           "#EF553B",
           "#00cc96",
           "#ab63fa",
           "#FFA15A",
           "#19d3f3",
           "#FF6692",
           "#B6E880",
           "#FF97FF",
           "#FECB52"
          ],
          "font": {
           "color": "#2a3f5f"
          },
          "geo": {
           "bgcolor": "white",
           "lakecolor": "white",
           "landcolor": "#E5ECF6",
           "showlakes": true,
           "showland": true,
           "subunitcolor": "white"
          },
          "hoverlabel": {
           "align": "left"
          },
          "hovermode": "closest",
          "mapbox": {
           "style": "light"
          },
          "paper_bgcolor": "white",
          "plot_bgcolor": "#E5ECF6",
          "polar": {
           "angularaxis": {
            "gridcolor": "white",
            "linecolor": "white",
            "ticks": ""
           },
           "bgcolor": "#E5ECF6",
           "radialaxis": {
            "gridcolor": "white",
            "linecolor": "white",
            "ticks": ""
           }
          },
          "scene": {
           "xaxis": {
            "backgroundcolor": "#E5ECF6",
            "gridcolor": "white",
            "gridwidth": 2,
            "linecolor": "white",
            "showbackground": true,
            "ticks": "",
            "zerolinecolor": "white"
           },
           "yaxis": {
            "backgroundcolor": "#E5ECF6",
            "gridcolor": "white",
            "gridwidth": 2,
            "linecolor": "white",
            "showbackground": true,
            "ticks": "",
            "zerolinecolor": "white"
           },
           "zaxis": {
            "backgroundcolor": "#E5ECF6",
            "gridcolor": "white",
            "gridwidth": 2,
            "linecolor": "white",
            "showbackground": true,
            "ticks": "",
            "zerolinecolor": "white"
           }
          },
          "shapedefaults": {
           "line": {
            "color": "#2a3f5f"
           }
          },
          "ternary": {
           "aaxis": {
            "gridcolor": "white",
            "linecolor": "white",
            "ticks": ""
           },
           "baxis": {
            "gridcolor": "white",
            "linecolor": "white",
            "ticks": ""
           },
           "bgcolor": "#E5ECF6",
           "caxis": {
            "gridcolor": "white",
            "linecolor": "white",
            "ticks": ""
           }
          },
          "title": {
           "x": 0.05
          },
          "xaxis": {
           "automargin": true,
           "gridcolor": "white",
           "linecolor": "white",
           "ticks": "",
           "title": {
            "standoff": 15
           },
           "zerolinecolor": "white",
           "zerolinewidth": 2
          },
          "yaxis": {
           "automargin": true,
           "gridcolor": "white",
           "linecolor": "white",
           "ticks": "",
           "title": {
            "standoff": 15
           },
           "zerolinecolor": "white",
           "zerolinewidth": 2
          }
         }
        },
        "title": {
         "text": "Percentage of Parts in Each Category"
        },
        "width": 800
       }
      }
     },
     "metadata": {},
     "output_type": "display_data"
    }
   ],
   "source": [
    "#interactive pie chart of above:\n",
    "# Create an interactive pie chart\n",
    "fig = px.pie(result_df, values='Percentage', names='Category', title='Percentage of Parts in Each Category')\n",
    "\n",
    "fig.update_layout(width=800, height=600)\n",
    "\n",
    "fig.update_layout(legend=dict(font=dict(size=16)))\n",
    "\n",
    "fig.update_traces(textfont=dict(size=18))\n",
    "\n",
    "fig.show()"
   ]
  },
  {
   "cell_type": "code",
   "execution_count": 474,
   "metadata": {},
   "outputs": [
    {
     "data": {
      "text/html": [
       "<div>\n",
       "<style scoped>\n",
       "    .dataframe tbody tr th:only-of-type {\n",
       "        vertical-align: middle;\n",
       "    }\n",
       "\n",
       "    .dataframe tbody tr th {\n",
       "        vertical-align: top;\n",
       "    }\n",
       "\n",
       "    .dataframe thead th {\n",
       "        text-align: right;\n",
       "    }\n",
       "</style>\n",
       "<table border=\"1\" class=\"dataframe\">\n",
       "  <thead>\n",
       "    <tr style=\"text-align: right;\">\n",
       "      <th></th>\n",
       "      <th>Category</th>\n",
       "      <th>Total Cost</th>\n",
       "    </tr>\n",
       "  </thead>\n",
       "  <tbody>\n",
       "    <tr>\n",
       "      <th>0</th>\n",
       "      <td>Essential</td>\n",
       "      <td>794599.24</td>\n",
       "    </tr>\n",
       "    <tr>\n",
       "      <th>1</th>\n",
       "      <td>Obsolete</td>\n",
       "      <td>376067.83</td>\n",
       "    </tr>\n",
       "    <tr>\n",
       "      <th>2</th>\n",
       "      <td>Non-Essential</td>\n",
       "      <td>686543.76</td>\n",
       "    </tr>\n",
       "  </tbody>\n",
       "</table>\n",
       "</div>"
      ],
      "text/plain": [
       "        Category  Total Cost\n",
       "0      Essential   794599.24\n",
       "1       Obsolete   376067.83\n",
       "2  Non-Essential   686543.76"
      ]
     },
     "execution_count": 474,
     "metadata": {},
     "output_type": "execute_result"
    }
   ],
   "source": [
    "#inventory category breakdown in dollars\n",
    "total_parts_cost = parts_data['Total Cost'].sum()\n",
    "\n",
    "#these calculations will change once I develop the clustering distance function\n",
    "essential_cost = parts_data[parts_data['Months No Sale'] <= 3]['Total Cost'].sum()\n",
    "non_essential_cost = parts_data[(parts_data['Months No Sale'] > 3) & (parts_data['Months No Sale'] < 12)]['Total Cost'].sum()\n",
    "obsolete_cost = parts_data[parts_data['Months No Sale'] >= 12]['Total Cost'].sum()\n",
    "\n",
    "# Create a DataFrame to store the results\n",
    "data = {\n",
    "    'Category': ['Essential', 'Obsolete', 'Non-Essential'],\n",
    "    'Total Cost': [round(essential_cost, 2), round(obsolete_cost, 2), round(non_essential_cost, 2)]\n",
    "}\n",
    "result_df_cost = pd.DataFrame(data)\n",
    "result_df_cost"
   ]
  },
  {
   "cell_type": "code",
   "execution_count": 475,
   "metadata": {},
   "outputs": [
    {
     "data": {
      "application/vnd.plotly.v1+json": {
       "config": {
        "plotlyServerURL": "https://plot.ly"
       },
       "data": [
        {
         "marker": {
          "color": [
           "blue",
           "orange",
           "red"
          ]
         },
         "text": [
          "$794599.24",
          "$686543.76",
          "$376067.83"
         ],
         "textposition": "auto",
         "type": "bar",
         "x": [
          "Essential",
          "Non-Essential",
          "Obsolete"
         ],
         "y": [
          794599.24186,
          686543.7596999999,
          376067.8300000001
         ]
        }
       ],
       "layout": {
        "template": {
         "data": {
          "bar": [
           {
            "error_x": {
             "color": "#2a3f5f"
            },
            "error_y": {
             "color": "#2a3f5f"
            },
            "marker": {
             "line": {
              "color": "#E5ECF6",
              "width": 0.5
             },
             "pattern": {
              "fillmode": "overlay",
              "size": 10,
              "solidity": 0.2
             }
            },
            "type": "bar"
           }
          ],
          "barpolar": [
           {
            "marker": {
             "line": {
              "color": "#E5ECF6",
              "width": 0.5
             },
             "pattern": {
              "fillmode": "overlay",
              "size": 10,
              "solidity": 0.2
             }
            },
            "type": "barpolar"
           }
          ],
          "carpet": [
           {
            "aaxis": {
             "endlinecolor": "#2a3f5f",
             "gridcolor": "white",
             "linecolor": "white",
             "minorgridcolor": "white",
             "startlinecolor": "#2a3f5f"
            },
            "baxis": {
             "endlinecolor": "#2a3f5f",
             "gridcolor": "white",
             "linecolor": "white",
             "minorgridcolor": "white",
             "startlinecolor": "#2a3f5f"
            },
            "type": "carpet"
           }
          ],
          "choropleth": [
           {
            "colorbar": {
             "outlinewidth": 0,
             "ticks": ""
            },
            "type": "choropleth"
           }
          ],
          "contour": [
           {
            "colorbar": {
             "outlinewidth": 0,
             "ticks": ""
            },
            "colorscale": [
             [
              0,
              "#0d0887"
             ],
             [
              0.1111111111111111,
              "#46039f"
             ],
             [
              0.2222222222222222,
              "#7201a8"
             ],
             [
              0.3333333333333333,
              "#9c179e"
             ],
             [
              0.4444444444444444,
              "#bd3786"
             ],
             [
              0.5555555555555556,
              "#d8576b"
             ],
             [
              0.6666666666666666,
              "#ed7953"
             ],
             [
              0.7777777777777778,
              "#fb9f3a"
             ],
             [
              0.8888888888888888,
              "#fdca26"
             ],
             [
              1,
              "#f0f921"
             ]
            ],
            "type": "contour"
           }
          ],
          "contourcarpet": [
           {
            "colorbar": {
             "outlinewidth": 0,
             "ticks": ""
            },
            "type": "contourcarpet"
           }
          ],
          "heatmap": [
           {
            "colorbar": {
             "outlinewidth": 0,
             "ticks": ""
            },
            "colorscale": [
             [
              0,
              "#0d0887"
             ],
             [
              0.1111111111111111,
              "#46039f"
             ],
             [
              0.2222222222222222,
              "#7201a8"
             ],
             [
              0.3333333333333333,
              "#9c179e"
             ],
             [
              0.4444444444444444,
              "#bd3786"
             ],
             [
              0.5555555555555556,
              "#d8576b"
             ],
             [
              0.6666666666666666,
              "#ed7953"
             ],
             [
              0.7777777777777778,
              "#fb9f3a"
             ],
             [
              0.8888888888888888,
              "#fdca26"
             ],
             [
              1,
              "#f0f921"
             ]
            ],
            "type": "heatmap"
           }
          ],
          "heatmapgl": [
           {
            "colorbar": {
             "outlinewidth": 0,
             "ticks": ""
            },
            "colorscale": [
             [
              0,
              "#0d0887"
             ],
             [
              0.1111111111111111,
              "#46039f"
             ],
             [
              0.2222222222222222,
              "#7201a8"
             ],
             [
              0.3333333333333333,
              "#9c179e"
             ],
             [
              0.4444444444444444,
              "#bd3786"
             ],
             [
              0.5555555555555556,
              "#d8576b"
             ],
             [
              0.6666666666666666,
              "#ed7953"
             ],
             [
              0.7777777777777778,
              "#fb9f3a"
             ],
             [
              0.8888888888888888,
              "#fdca26"
             ],
             [
              1,
              "#f0f921"
             ]
            ],
            "type": "heatmapgl"
           }
          ],
          "histogram": [
           {
            "marker": {
             "pattern": {
              "fillmode": "overlay",
              "size": 10,
              "solidity": 0.2
             }
            },
            "type": "histogram"
           }
          ],
          "histogram2d": [
           {
            "colorbar": {
             "outlinewidth": 0,
             "ticks": ""
            },
            "colorscale": [
             [
              0,
              "#0d0887"
             ],
             [
              0.1111111111111111,
              "#46039f"
             ],
             [
              0.2222222222222222,
              "#7201a8"
             ],
             [
              0.3333333333333333,
              "#9c179e"
             ],
             [
              0.4444444444444444,
              "#bd3786"
             ],
             [
              0.5555555555555556,
              "#d8576b"
             ],
             [
              0.6666666666666666,
              "#ed7953"
             ],
             [
              0.7777777777777778,
              "#fb9f3a"
             ],
             [
              0.8888888888888888,
              "#fdca26"
             ],
             [
              1,
              "#f0f921"
             ]
            ],
            "type": "histogram2d"
           }
          ],
          "histogram2dcontour": [
           {
            "colorbar": {
             "outlinewidth": 0,
             "ticks": ""
            },
            "colorscale": [
             [
              0,
              "#0d0887"
             ],
             [
              0.1111111111111111,
              "#46039f"
             ],
             [
              0.2222222222222222,
              "#7201a8"
             ],
             [
              0.3333333333333333,
              "#9c179e"
             ],
             [
              0.4444444444444444,
              "#bd3786"
             ],
             [
              0.5555555555555556,
              "#d8576b"
             ],
             [
              0.6666666666666666,
              "#ed7953"
             ],
             [
              0.7777777777777778,
              "#fb9f3a"
             ],
             [
              0.8888888888888888,
              "#fdca26"
             ],
             [
              1,
              "#f0f921"
             ]
            ],
            "type": "histogram2dcontour"
           }
          ],
          "mesh3d": [
           {
            "colorbar": {
             "outlinewidth": 0,
             "ticks": ""
            },
            "type": "mesh3d"
           }
          ],
          "parcoords": [
           {
            "line": {
             "colorbar": {
              "outlinewidth": 0,
              "ticks": ""
             }
            },
            "type": "parcoords"
           }
          ],
          "pie": [
           {
            "automargin": true,
            "type": "pie"
           }
          ],
          "scatter": [
           {
            "fillpattern": {
             "fillmode": "overlay",
             "size": 10,
             "solidity": 0.2
            },
            "type": "scatter"
           }
          ],
          "scatter3d": [
           {
            "line": {
             "colorbar": {
              "outlinewidth": 0,
              "ticks": ""
             }
            },
            "marker": {
             "colorbar": {
              "outlinewidth": 0,
              "ticks": ""
             }
            },
            "type": "scatter3d"
           }
          ],
          "scattercarpet": [
           {
            "marker": {
             "colorbar": {
              "outlinewidth": 0,
              "ticks": ""
             }
            },
            "type": "scattercarpet"
           }
          ],
          "scattergeo": [
           {
            "marker": {
             "colorbar": {
              "outlinewidth": 0,
              "ticks": ""
             }
            },
            "type": "scattergeo"
           }
          ],
          "scattergl": [
           {
            "marker": {
             "colorbar": {
              "outlinewidth": 0,
              "ticks": ""
             }
            },
            "type": "scattergl"
           }
          ],
          "scattermapbox": [
           {
            "marker": {
             "colorbar": {
              "outlinewidth": 0,
              "ticks": ""
             }
            },
            "type": "scattermapbox"
           }
          ],
          "scatterpolar": [
           {
            "marker": {
             "colorbar": {
              "outlinewidth": 0,
              "ticks": ""
             }
            },
            "type": "scatterpolar"
           }
          ],
          "scatterpolargl": [
           {
            "marker": {
             "colorbar": {
              "outlinewidth": 0,
              "ticks": ""
             }
            },
            "type": "scatterpolargl"
           }
          ],
          "scatterternary": [
           {
            "marker": {
             "colorbar": {
              "outlinewidth": 0,
              "ticks": ""
             }
            },
            "type": "scatterternary"
           }
          ],
          "surface": [
           {
            "colorbar": {
             "outlinewidth": 0,
             "ticks": ""
            },
            "colorscale": [
             [
              0,
              "#0d0887"
             ],
             [
              0.1111111111111111,
              "#46039f"
             ],
             [
              0.2222222222222222,
              "#7201a8"
             ],
             [
              0.3333333333333333,
              "#9c179e"
             ],
             [
              0.4444444444444444,
              "#bd3786"
             ],
             [
              0.5555555555555556,
              "#d8576b"
             ],
             [
              0.6666666666666666,
              "#ed7953"
             ],
             [
              0.7777777777777778,
              "#fb9f3a"
             ],
             [
              0.8888888888888888,
              "#fdca26"
             ],
             [
              1,
              "#f0f921"
             ]
            ],
            "type": "surface"
           }
          ],
          "table": [
           {
            "cells": {
             "fill": {
              "color": "#EBF0F8"
             },
             "line": {
              "color": "white"
             }
            },
            "header": {
             "fill": {
              "color": "#C8D4E3"
             },
             "line": {
              "color": "white"
             }
            },
            "type": "table"
           }
          ]
         },
         "layout": {
          "annotationdefaults": {
           "arrowcolor": "#2a3f5f",
           "arrowhead": 0,
           "arrowwidth": 1
          },
          "autotypenumbers": "strict",
          "coloraxis": {
           "colorbar": {
            "outlinewidth": 0,
            "ticks": ""
           }
          },
          "colorscale": {
           "diverging": [
            [
             0,
             "#8e0152"
            ],
            [
             0.1,
             "#c51b7d"
            ],
            [
             0.2,
             "#de77ae"
            ],
            [
             0.3,
             "#f1b6da"
            ],
            [
             0.4,
             "#fde0ef"
            ],
            [
             0.5,
             "#f7f7f7"
            ],
            [
             0.6,
             "#e6f5d0"
            ],
            [
             0.7,
             "#b8e186"
            ],
            [
             0.8,
             "#7fbc41"
            ],
            [
             0.9,
             "#4d9221"
            ],
            [
             1,
             "#276419"
            ]
           ],
           "sequential": [
            [
             0,
             "#0d0887"
            ],
            [
             0.1111111111111111,
             "#46039f"
            ],
            [
             0.2222222222222222,
             "#7201a8"
            ],
            [
             0.3333333333333333,
             "#9c179e"
            ],
            [
             0.4444444444444444,
             "#bd3786"
            ],
            [
             0.5555555555555556,
             "#d8576b"
            ],
            [
             0.6666666666666666,
             "#ed7953"
            ],
            [
             0.7777777777777778,
             "#fb9f3a"
            ],
            [
             0.8888888888888888,
             "#fdca26"
            ],
            [
             1,
             "#f0f921"
            ]
           ],
           "sequentialminus": [
            [
             0,
             "#0d0887"
            ],
            [
             0.1111111111111111,
             "#46039f"
            ],
            [
             0.2222222222222222,
             "#7201a8"
            ],
            [
             0.3333333333333333,
             "#9c179e"
            ],
            [
             0.4444444444444444,
             "#bd3786"
            ],
            [
             0.5555555555555556,
             "#d8576b"
            ],
            [
             0.6666666666666666,
             "#ed7953"
            ],
            [
             0.7777777777777778,
             "#fb9f3a"
            ],
            [
             0.8888888888888888,
             "#fdca26"
            ],
            [
             1,
             "#f0f921"
            ]
           ]
          },
          "colorway": [
           "#636efa",
           "#EF553B",
           "#00cc96",
           "#ab63fa",
           "#FFA15A",
           "#19d3f3",
           "#FF6692",
           "#B6E880",
           "#FF97FF",
           "#FECB52"
          ],
          "font": {
           "color": "#2a3f5f"
          },
          "geo": {
           "bgcolor": "white",
           "lakecolor": "white",
           "landcolor": "#E5ECF6",
           "showlakes": true,
           "showland": true,
           "subunitcolor": "white"
          },
          "hoverlabel": {
           "align": "left"
          },
          "hovermode": "closest",
          "mapbox": {
           "style": "light"
          },
          "paper_bgcolor": "white",
          "plot_bgcolor": "#E5ECF6",
          "polar": {
           "angularaxis": {
            "gridcolor": "white",
            "linecolor": "white",
            "ticks": ""
           },
           "bgcolor": "#E5ECF6",
           "radialaxis": {
            "gridcolor": "white",
            "linecolor": "white",
            "ticks": ""
           }
          },
          "scene": {
           "xaxis": {
            "backgroundcolor": "#E5ECF6",
            "gridcolor": "white",
            "gridwidth": 2,
            "linecolor": "white",
            "showbackground": true,
            "ticks": "",
            "zerolinecolor": "white"
           },
           "yaxis": {
            "backgroundcolor": "#E5ECF6",
            "gridcolor": "white",
            "gridwidth": 2,
            "linecolor": "white",
            "showbackground": true,
            "ticks": "",
            "zerolinecolor": "white"
           },
           "zaxis": {
            "backgroundcolor": "#E5ECF6",
            "gridcolor": "white",
            "gridwidth": 2,
            "linecolor": "white",
            "showbackground": true,
            "ticks": "",
            "zerolinecolor": "white"
           }
          },
          "shapedefaults": {
           "line": {
            "color": "#2a3f5f"
           }
          },
          "ternary": {
           "aaxis": {
            "gridcolor": "white",
            "linecolor": "white",
            "ticks": ""
           },
           "baxis": {
            "gridcolor": "white",
            "linecolor": "white",
            "ticks": ""
           },
           "bgcolor": "#E5ECF6",
           "caxis": {
            "gridcolor": "white",
            "linecolor": "white",
            "ticks": ""
           }
          },
          "title": {
           "x": 0.05
          },
          "xaxis": {
           "automargin": true,
           "gridcolor": "white",
           "linecolor": "white",
           "ticks": "",
           "title": {
            "standoff": 15
           },
           "zerolinecolor": "white",
           "zerolinewidth": 2
          },
          "yaxis": {
           "automargin": true,
           "gridcolor": "white",
           "linecolor": "white",
           "ticks": "",
           "title": {
            "standoff": 15
           },
           "zerolinecolor": "white",
           "zerolinewidth": 2
          }
         }
        },
        "title": {
         "text": "Total Cost of Parts by Category"
        },
        "xaxis": {
         "title": {
          "text": "Category"
         }
        },
        "yaxis": {
         "tickprefix": "$",
         "title": {
          "text": "Total Cost"
         }
        }
       }
      }
     },
     "metadata": {},
     "output_type": "display_data"
    }
   ],
   "source": [
    "# Create a bar chart\n",
    "fig = go.Figure()\n",
    "fig.add_trace(go.Bar(x=['Essential', 'Non-Essential', 'Obsolete'],\n",
    "                     y=[essential_cost, non_essential_cost, obsolete_cost],\n",
    "                     text=[f'${essential_cost:.2f}', f'${non_essential_cost:.2f}', f'${obsolete_cost:.2f}'],\n",
    "                     textposition='auto',\n",
    "                     marker_color=['blue', 'orange', 'red']))\n",
    "\n",
    "# Add chart labels and title\n",
    "fig.update_layout(title='Total Cost of Parts by Category',\n",
    "                  xaxis_title='Category',\n",
    "                  yaxis_title='Total Cost',\n",
    "                  yaxis_tickprefix='$')\n",
    "\n",
    "# Show the interactive chart\n",
    "fig.show()"
   ]
  },
  {
   "cell_type": "code",
   "execution_count": 476,
   "metadata": {},
   "outputs": [
    {
     "data": {
      "text/plain": [
       "bmw group canada                  23830\n",
       "triumph motorcycles               14645\n",
       "motovan                            9357\n",
       "ducati                             9219\n",
       "suzuki                             7021\n",
       "                                  ...  \n",
       "revzilla                              1\n",
       "washington cycle works                1\n",
       "roland sands designs (official        1\n",
       "chesapeake cycles inc                 1\n",
       "black widow (uk)                      1\n",
       "Name: Supplier Name, Length: 280, dtype: int64"
      ]
     },
     "execution_count": 476,
     "metadata": {},
     "output_type": "execute_result"
    }
   ],
   "source": [
    "parts_data['Supplier Name'].value_counts()"
   ]
  },
  {
   "cell_type": "code",
   "execution_count": 477,
   "metadata": {},
   "outputs": [
    {
     "data": {
      "application/vnd.plotly.v1+json": {
       "config": {
        "plotlyServerURL": "https://plot.ly"
       },
       "data": [
        {
         "marker": {
          "color": "blue"
         },
         "name": "Quarterly Sales",
         "type": "bar",
         "x": [
          "Sales - 1st Qtr",
          "Sales - 2nd Qtr",
          "Sales - 3rd Qtr",
          "Sales - 4th Qtr"
         ],
         "y": [
          12830,
          24077.1,
          8150.5,
          0
         ]
        }
       ],
       "layout": {
        "template": {
         "data": {
          "bar": [
           {
            "error_x": {
             "color": "#2a3f5f"
            },
            "error_y": {
             "color": "#2a3f5f"
            },
            "marker": {
             "line": {
              "color": "#E5ECF6",
              "width": 0.5
             },
             "pattern": {
              "fillmode": "overlay",
              "size": 10,
              "solidity": 0.2
             }
            },
            "type": "bar"
           }
          ],
          "barpolar": [
           {
            "marker": {
             "line": {
              "color": "#E5ECF6",
              "width": 0.5
             },
             "pattern": {
              "fillmode": "overlay",
              "size": 10,
              "solidity": 0.2
             }
            },
            "type": "barpolar"
           }
          ],
          "carpet": [
           {
            "aaxis": {
             "endlinecolor": "#2a3f5f",
             "gridcolor": "white",
             "linecolor": "white",
             "minorgridcolor": "white",
             "startlinecolor": "#2a3f5f"
            },
            "baxis": {
             "endlinecolor": "#2a3f5f",
             "gridcolor": "white",
             "linecolor": "white",
             "minorgridcolor": "white",
             "startlinecolor": "#2a3f5f"
            },
            "type": "carpet"
           }
          ],
          "choropleth": [
           {
            "colorbar": {
             "outlinewidth": 0,
             "ticks": ""
            },
            "type": "choropleth"
           }
          ],
          "contour": [
           {
            "colorbar": {
             "outlinewidth": 0,
             "ticks": ""
            },
            "colorscale": [
             [
              0,
              "#0d0887"
             ],
             [
              0.1111111111111111,
              "#46039f"
             ],
             [
              0.2222222222222222,
              "#7201a8"
             ],
             [
              0.3333333333333333,
              "#9c179e"
             ],
             [
              0.4444444444444444,
              "#bd3786"
             ],
             [
              0.5555555555555556,
              "#d8576b"
             ],
             [
              0.6666666666666666,
              "#ed7953"
             ],
             [
              0.7777777777777778,
              "#fb9f3a"
             ],
             [
              0.8888888888888888,
              "#fdca26"
             ],
             [
              1,
              "#f0f921"
             ]
            ],
            "type": "contour"
           }
          ],
          "contourcarpet": [
           {
            "colorbar": {
             "outlinewidth": 0,
             "ticks": ""
            },
            "type": "contourcarpet"
           }
          ],
          "heatmap": [
           {
            "colorbar": {
             "outlinewidth": 0,
             "ticks": ""
            },
            "colorscale": [
             [
              0,
              "#0d0887"
             ],
             [
              0.1111111111111111,
              "#46039f"
             ],
             [
              0.2222222222222222,
              "#7201a8"
             ],
             [
              0.3333333333333333,
              "#9c179e"
             ],
             [
              0.4444444444444444,
              "#bd3786"
             ],
             [
              0.5555555555555556,
              "#d8576b"
             ],
             [
              0.6666666666666666,
              "#ed7953"
             ],
             [
              0.7777777777777778,
              "#fb9f3a"
             ],
             [
              0.8888888888888888,
              "#fdca26"
             ],
             [
              1,
              "#f0f921"
             ]
            ],
            "type": "heatmap"
           }
          ],
          "heatmapgl": [
           {
            "colorbar": {
             "outlinewidth": 0,
             "ticks": ""
            },
            "colorscale": [
             [
              0,
              "#0d0887"
             ],
             [
              0.1111111111111111,
              "#46039f"
             ],
             [
              0.2222222222222222,
              "#7201a8"
             ],
             [
              0.3333333333333333,
              "#9c179e"
             ],
             [
              0.4444444444444444,
              "#bd3786"
             ],
             [
              0.5555555555555556,
              "#d8576b"
             ],
             [
              0.6666666666666666,
              "#ed7953"
             ],
             [
              0.7777777777777778,
              "#fb9f3a"
             ],
             [
              0.8888888888888888,
              "#fdca26"
             ],
             [
              1,
              "#f0f921"
             ]
            ],
            "type": "heatmapgl"
           }
          ],
          "histogram": [
           {
            "marker": {
             "pattern": {
              "fillmode": "overlay",
              "size": 10,
              "solidity": 0.2
             }
            },
            "type": "histogram"
           }
          ],
          "histogram2d": [
           {
            "colorbar": {
             "outlinewidth": 0,
             "ticks": ""
            },
            "colorscale": [
             [
              0,
              "#0d0887"
             ],
             [
              0.1111111111111111,
              "#46039f"
             ],
             [
              0.2222222222222222,
              "#7201a8"
             ],
             [
              0.3333333333333333,
              "#9c179e"
             ],
             [
              0.4444444444444444,
              "#bd3786"
             ],
             [
              0.5555555555555556,
              "#d8576b"
             ],
             [
              0.6666666666666666,
              "#ed7953"
             ],
             [
              0.7777777777777778,
              "#fb9f3a"
             ],
             [
              0.8888888888888888,
              "#fdca26"
             ],
             [
              1,
              "#f0f921"
             ]
            ],
            "type": "histogram2d"
           }
          ],
          "histogram2dcontour": [
           {
            "colorbar": {
             "outlinewidth": 0,
             "ticks": ""
            },
            "colorscale": [
             [
              0,
              "#0d0887"
             ],
             [
              0.1111111111111111,
              "#46039f"
             ],
             [
              0.2222222222222222,
              "#7201a8"
             ],
             [
              0.3333333333333333,
              "#9c179e"
             ],
             [
              0.4444444444444444,
              "#bd3786"
             ],
             [
              0.5555555555555556,
              "#d8576b"
             ],
             [
              0.6666666666666666,
              "#ed7953"
             ],
             [
              0.7777777777777778,
              "#fb9f3a"
             ],
             [
              0.8888888888888888,
              "#fdca26"
             ],
             [
              1,
              "#f0f921"
             ]
            ],
            "type": "histogram2dcontour"
           }
          ],
          "mesh3d": [
           {
            "colorbar": {
             "outlinewidth": 0,
             "ticks": ""
            },
            "type": "mesh3d"
           }
          ],
          "parcoords": [
           {
            "line": {
             "colorbar": {
              "outlinewidth": 0,
              "ticks": ""
             }
            },
            "type": "parcoords"
           }
          ],
          "pie": [
           {
            "automargin": true,
            "type": "pie"
           }
          ],
          "scatter": [
           {
            "fillpattern": {
             "fillmode": "overlay",
             "size": 10,
             "solidity": 0.2
            },
            "type": "scatter"
           }
          ],
          "scatter3d": [
           {
            "line": {
             "colorbar": {
              "outlinewidth": 0,
              "ticks": ""
             }
            },
            "marker": {
             "colorbar": {
              "outlinewidth": 0,
              "ticks": ""
             }
            },
            "type": "scatter3d"
           }
          ],
          "scattercarpet": [
           {
            "marker": {
             "colorbar": {
              "outlinewidth": 0,
              "ticks": ""
             }
            },
            "type": "scattercarpet"
           }
          ],
          "scattergeo": [
           {
            "marker": {
             "colorbar": {
              "outlinewidth": 0,
              "ticks": ""
             }
            },
            "type": "scattergeo"
           }
          ],
          "scattergl": [
           {
            "marker": {
             "colorbar": {
              "outlinewidth": 0,
              "ticks": ""
             }
            },
            "type": "scattergl"
           }
          ],
          "scattermapbox": [
           {
            "marker": {
             "colorbar": {
              "outlinewidth": 0,
              "ticks": ""
             }
            },
            "type": "scattermapbox"
           }
          ],
          "scatterpolar": [
           {
            "marker": {
             "colorbar": {
              "outlinewidth": 0,
              "ticks": ""
             }
            },
            "type": "scatterpolar"
           }
          ],
          "scatterpolargl": [
           {
            "marker": {
             "colorbar": {
              "outlinewidth": 0,
              "ticks": ""
             }
            },
            "type": "scatterpolargl"
           }
          ],
          "scatterternary": [
           {
            "marker": {
             "colorbar": {
              "outlinewidth": 0,
              "ticks": ""
             }
            },
            "type": "scatterternary"
           }
          ],
          "surface": [
           {
            "colorbar": {
             "outlinewidth": 0,
             "ticks": ""
            },
            "colorscale": [
             [
              0,
              "#0d0887"
             ],
             [
              0.1111111111111111,
              "#46039f"
             ],
             [
              0.2222222222222222,
              "#7201a8"
             ],
             [
              0.3333333333333333,
              "#9c179e"
             ],
             [
              0.4444444444444444,
              "#bd3786"
             ],
             [
              0.5555555555555556,
              "#d8576b"
             ],
             [
              0.6666666666666666,
              "#ed7953"
             ],
             [
              0.7777777777777778,
              "#fb9f3a"
             ],
             [
              0.8888888888888888,
              "#fdca26"
             ],
             [
              1,
              "#f0f921"
             ]
            ],
            "type": "surface"
           }
          ],
          "table": [
           {
            "cells": {
             "fill": {
              "color": "#EBF0F8"
             },
             "line": {
              "color": "white"
             }
            },
            "header": {
             "fill": {
              "color": "#C8D4E3"
             },
             "line": {
              "color": "white"
             }
            },
            "type": "table"
           }
          ]
         },
         "layout": {
          "annotationdefaults": {
           "arrowcolor": "#2a3f5f",
           "arrowhead": 0,
           "arrowwidth": 1
          },
          "autotypenumbers": "strict",
          "coloraxis": {
           "colorbar": {
            "outlinewidth": 0,
            "ticks": ""
           }
          },
          "colorscale": {
           "diverging": [
            [
             0,
             "#8e0152"
            ],
            [
             0.1,
             "#c51b7d"
            ],
            [
             0.2,
             "#de77ae"
            ],
            [
             0.3,
             "#f1b6da"
            ],
            [
             0.4,
             "#fde0ef"
            ],
            [
             0.5,
             "#f7f7f7"
            ],
            [
             0.6,
             "#e6f5d0"
            ],
            [
             0.7,
             "#b8e186"
            ],
            [
             0.8,
             "#7fbc41"
            ],
            [
             0.9,
             "#4d9221"
            ],
            [
             1,
             "#276419"
            ]
           ],
           "sequential": [
            [
             0,
             "#0d0887"
            ],
            [
             0.1111111111111111,
             "#46039f"
            ],
            [
             0.2222222222222222,
             "#7201a8"
            ],
            [
             0.3333333333333333,
             "#9c179e"
            ],
            [
             0.4444444444444444,
             "#bd3786"
            ],
            [
             0.5555555555555556,
             "#d8576b"
            ],
            [
             0.6666666666666666,
             "#ed7953"
            ],
            [
             0.7777777777777778,
             "#fb9f3a"
            ],
            [
             0.8888888888888888,
             "#fdca26"
            ],
            [
             1,
             "#f0f921"
            ]
           ],
           "sequentialminus": [
            [
             0,
             "#0d0887"
            ],
            [
             0.1111111111111111,
             "#46039f"
            ],
            [
             0.2222222222222222,
             "#7201a8"
            ],
            [
             0.3333333333333333,
             "#9c179e"
            ],
            [
             0.4444444444444444,
             "#bd3786"
            ],
            [
             0.5555555555555556,
             "#d8576b"
            ],
            [
             0.6666666666666666,
             "#ed7953"
            ],
            [
             0.7777777777777778,
             "#fb9f3a"
            ],
            [
             0.8888888888888888,
             "#fdca26"
            ],
            [
             1,
             "#f0f921"
            ]
           ]
          },
          "colorway": [
           "#636efa",
           "#EF553B",
           "#00cc96",
           "#ab63fa",
           "#FFA15A",
           "#19d3f3",
           "#FF6692",
           "#B6E880",
           "#FF97FF",
           "#FECB52"
          ],
          "font": {
           "color": "#2a3f5f"
          },
          "geo": {
           "bgcolor": "white",
           "lakecolor": "white",
           "landcolor": "#E5ECF6",
           "showlakes": true,
           "showland": true,
           "subunitcolor": "white"
          },
          "hoverlabel": {
           "align": "left"
          },
          "hovermode": "closest",
          "mapbox": {
           "style": "light"
          },
          "paper_bgcolor": "white",
          "plot_bgcolor": "#E5ECF6",
          "polar": {
           "angularaxis": {
            "gridcolor": "white",
            "linecolor": "white",
            "ticks": ""
           },
           "bgcolor": "#E5ECF6",
           "radialaxis": {
            "gridcolor": "white",
            "linecolor": "white",
            "ticks": ""
           }
          },
          "scene": {
           "xaxis": {
            "backgroundcolor": "#E5ECF6",
            "gridcolor": "white",
            "gridwidth": 2,
            "linecolor": "white",
            "showbackground": true,
            "ticks": "",
            "zerolinecolor": "white"
           },
           "yaxis": {
            "backgroundcolor": "#E5ECF6",
            "gridcolor": "white",
            "gridwidth": 2,
            "linecolor": "white",
            "showbackground": true,
            "ticks": "",
            "zerolinecolor": "white"
           },
           "zaxis": {
            "backgroundcolor": "#E5ECF6",
            "gridcolor": "white",
            "gridwidth": 2,
            "linecolor": "white",
            "showbackground": true,
            "ticks": "",
            "zerolinecolor": "white"
           }
          },
          "shapedefaults": {
           "line": {
            "color": "#2a3f5f"
           }
          },
          "ternary": {
           "aaxis": {
            "gridcolor": "white",
            "linecolor": "white",
            "ticks": ""
           },
           "baxis": {
            "gridcolor": "white",
            "linecolor": "white",
            "ticks": ""
           },
           "bgcolor": "#E5ECF6",
           "caxis": {
            "gridcolor": "white",
            "linecolor": "white",
            "ticks": ""
           }
          },
          "title": {
           "x": 0.05
          },
          "xaxis": {
           "automargin": true,
           "gridcolor": "white",
           "linecolor": "white",
           "ticks": "",
           "title": {
            "standoff": 15
           },
           "zerolinecolor": "white",
           "zerolinewidth": 2
          },
          "yaxis": {
           "automargin": true,
           "gridcolor": "white",
           "linecolor": "white",
           "ticks": "",
           "title": {
            "standoff": 15
           },
           "zerolinecolor": "white",
           "zerolinewidth": 2
          }
         }
        },
        "title": {
         "text": "Total Sales Comparison by Quarter"
        },
        "xaxis": {
         "title": {
          "text": "Quarter"
         }
        },
        "yaxis": {
         "tickprefix": "$",
         "title": {
          "text": "Total Sales"
         }
        }
       }
      }
     },
     "metadata": {},
     "output_type": "display_data"
    },
    {
     "data": {
      "application/vnd.plotly.v1+json": {
       "config": {
        "plotlyServerURL": "https://plot.ly"
       },
       "data": [
        {
         "marker": {
          "color": "orange"
         },
         "name": "Monthly Sales",
         "type": "bar",
         "x": [
          "Sales - Jan",
          "Sales - Feb",
          "Sales - Mar",
          "Sales - Apr",
          "Sales - May",
          "Sales - Jun",
          "Sales - Jul",
          "Sales - Aug",
          "Sales - Sep",
          "Sales - Oct",
          "Sales - Nov",
          "Sales - Dec"
         ],
         "y": [
          4714,
          4498.8,
          7331.4,
          7210.599999999999,
          9126.9,
          10124.3,
          7335.5,
          389,
          0,
          0,
          0,
          0
         ]
        }
       ],
       "layout": {
        "template": {
         "data": {
          "bar": [
           {
            "error_x": {
             "color": "#2a3f5f"
            },
            "error_y": {
             "color": "#2a3f5f"
            },
            "marker": {
             "line": {
              "color": "#E5ECF6",
              "width": 0.5
             },
             "pattern": {
              "fillmode": "overlay",
              "size": 10,
              "solidity": 0.2
             }
            },
            "type": "bar"
           }
          ],
          "barpolar": [
           {
            "marker": {
             "line": {
              "color": "#E5ECF6",
              "width": 0.5
             },
             "pattern": {
              "fillmode": "overlay",
              "size": 10,
              "solidity": 0.2
             }
            },
            "type": "barpolar"
           }
          ],
          "carpet": [
           {
            "aaxis": {
             "endlinecolor": "#2a3f5f",
             "gridcolor": "white",
             "linecolor": "white",
             "minorgridcolor": "white",
             "startlinecolor": "#2a3f5f"
            },
            "baxis": {
             "endlinecolor": "#2a3f5f",
             "gridcolor": "white",
             "linecolor": "white",
             "minorgridcolor": "white",
             "startlinecolor": "#2a3f5f"
            },
            "type": "carpet"
           }
          ],
          "choropleth": [
           {
            "colorbar": {
             "outlinewidth": 0,
             "ticks": ""
            },
            "type": "choropleth"
           }
          ],
          "contour": [
           {
            "colorbar": {
             "outlinewidth": 0,
             "ticks": ""
            },
            "colorscale": [
             [
              0,
              "#0d0887"
             ],
             [
              0.1111111111111111,
              "#46039f"
             ],
             [
              0.2222222222222222,
              "#7201a8"
             ],
             [
              0.3333333333333333,
              "#9c179e"
             ],
             [
              0.4444444444444444,
              "#bd3786"
             ],
             [
              0.5555555555555556,
              "#d8576b"
             ],
             [
              0.6666666666666666,
              "#ed7953"
             ],
             [
              0.7777777777777778,
              "#fb9f3a"
             ],
             [
              0.8888888888888888,
              "#fdca26"
             ],
             [
              1,
              "#f0f921"
             ]
            ],
            "type": "contour"
           }
          ],
          "contourcarpet": [
           {
            "colorbar": {
             "outlinewidth": 0,
             "ticks": ""
            },
            "type": "contourcarpet"
           }
          ],
          "heatmap": [
           {
            "colorbar": {
             "outlinewidth": 0,
             "ticks": ""
            },
            "colorscale": [
             [
              0,
              "#0d0887"
             ],
             [
              0.1111111111111111,
              "#46039f"
             ],
             [
              0.2222222222222222,
              "#7201a8"
             ],
             [
              0.3333333333333333,
              "#9c179e"
             ],
             [
              0.4444444444444444,
              "#bd3786"
             ],
             [
              0.5555555555555556,
              "#d8576b"
             ],
             [
              0.6666666666666666,
              "#ed7953"
             ],
             [
              0.7777777777777778,
              "#fb9f3a"
             ],
             [
              0.8888888888888888,
              "#fdca26"
             ],
             [
              1,
              "#f0f921"
             ]
            ],
            "type": "heatmap"
           }
          ],
          "heatmapgl": [
           {
            "colorbar": {
             "outlinewidth": 0,
             "ticks": ""
            },
            "colorscale": [
             [
              0,
              "#0d0887"
             ],
             [
              0.1111111111111111,
              "#46039f"
             ],
             [
              0.2222222222222222,
              "#7201a8"
             ],
             [
              0.3333333333333333,
              "#9c179e"
             ],
             [
              0.4444444444444444,
              "#bd3786"
             ],
             [
              0.5555555555555556,
              "#d8576b"
             ],
             [
              0.6666666666666666,
              "#ed7953"
             ],
             [
              0.7777777777777778,
              "#fb9f3a"
             ],
             [
              0.8888888888888888,
              "#fdca26"
             ],
             [
              1,
              "#f0f921"
             ]
            ],
            "type": "heatmapgl"
           }
          ],
          "histogram": [
           {
            "marker": {
             "pattern": {
              "fillmode": "overlay",
              "size": 10,
              "solidity": 0.2
             }
            },
            "type": "histogram"
           }
          ],
          "histogram2d": [
           {
            "colorbar": {
             "outlinewidth": 0,
             "ticks": ""
            },
            "colorscale": [
             [
              0,
              "#0d0887"
             ],
             [
              0.1111111111111111,
              "#46039f"
             ],
             [
              0.2222222222222222,
              "#7201a8"
             ],
             [
              0.3333333333333333,
              "#9c179e"
             ],
             [
              0.4444444444444444,
              "#bd3786"
             ],
             [
              0.5555555555555556,
              "#d8576b"
             ],
             [
              0.6666666666666666,
              "#ed7953"
             ],
             [
              0.7777777777777778,
              "#fb9f3a"
             ],
             [
              0.8888888888888888,
              "#fdca26"
             ],
             [
              1,
              "#f0f921"
             ]
            ],
            "type": "histogram2d"
           }
          ],
          "histogram2dcontour": [
           {
            "colorbar": {
             "outlinewidth": 0,
             "ticks": ""
            },
            "colorscale": [
             [
              0,
              "#0d0887"
             ],
             [
              0.1111111111111111,
              "#46039f"
             ],
             [
              0.2222222222222222,
              "#7201a8"
             ],
             [
              0.3333333333333333,
              "#9c179e"
             ],
             [
              0.4444444444444444,
              "#bd3786"
             ],
             [
              0.5555555555555556,
              "#d8576b"
             ],
             [
              0.6666666666666666,
              "#ed7953"
             ],
             [
              0.7777777777777778,
              "#fb9f3a"
             ],
             [
              0.8888888888888888,
              "#fdca26"
             ],
             [
              1,
              "#f0f921"
             ]
            ],
            "type": "histogram2dcontour"
           }
          ],
          "mesh3d": [
           {
            "colorbar": {
             "outlinewidth": 0,
             "ticks": ""
            },
            "type": "mesh3d"
           }
          ],
          "parcoords": [
           {
            "line": {
             "colorbar": {
              "outlinewidth": 0,
              "ticks": ""
             }
            },
            "type": "parcoords"
           }
          ],
          "pie": [
           {
            "automargin": true,
            "type": "pie"
           }
          ],
          "scatter": [
           {
            "fillpattern": {
             "fillmode": "overlay",
             "size": 10,
             "solidity": 0.2
            },
            "type": "scatter"
           }
          ],
          "scatter3d": [
           {
            "line": {
             "colorbar": {
              "outlinewidth": 0,
              "ticks": ""
             }
            },
            "marker": {
             "colorbar": {
              "outlinewidth": 0,
              "ticks": ""
             }
            },
            "type": "scatter3d"
           }
          ],
          "scattercarpet": [
           {
            "marker": {
             "colorbar": {
              "outlinewidth": 0,
              "ticks": ""
             }
            },
            "type": "scattercarpet"
           }
          ],
          "scattergeo": [
           {
            "marker": {
             "colorbar": {
              "outlinewidth": 0,
              "ticks": ""
             }
            },
            "type": "scattergeo"
           }
          ],
          "scattergl": [
           {
            "marker": {
             "colorbar": {
              "outlinewidth": 0,
              "ticks": ""
             }
            },
            "type": "scattergl"
           }
          ],
          "scattermapbox": [
           {
            "marker": {
             "colorbar": {
              "outlinewidth": 0,
              "ticks": ""
             }
            },
            "type": "scattermapbox"
           }
          ],
          "scatterpolar": [
           {
            "marker": {
             "colorbar": {
              "outlinewidth": 0,
              "ticks": ""
             }
            },
            "type": "scatterpolar"
           }
          ],
          "scatterpolargl": [
           {
            "marker": {
             "colorbar": {
              "outlinewidth": 0,
              "ticks": ""
             }
            },
            "type": "scatterpolargl"
           }
          ],
          "scatterternary": [
           {
            "marker": {
             "colorbar": {
              "outlinewidth": 0,
              "ticks": ""
             }
            },
            "type": "scatterternary"
           }
          ],
          "surface": [
           {
            "colorbar": {
             "outlinewidth": 0,
             "ticks": ""
            },
            "colorscale": [
             [
              0,
              "#0d0887"
             ],
             [
              0.1111111111111111,
              "#46039f"
             ],
             [
              0.2222222222222222,
              "#7201a8"
             ],
             [
              0.3333333333333333,
              "#9c179e"
             ],
             [
              0.4444444444444444,
              "#bd3786"
             ],
             [
              0.5555555555555556,
              "#d8576b"
             ],
             [
              0.6666666666666666,
              "#ed7953"
             ],
             [
              0.7777777777777778,
              "#fb9f3a"
             ],
             [
              0.8888888888888888,
              "#fdca26"
             ],
             [
              1,
              "#f0f921"
             ]
            ],
            "type": "surface"
           }
          ],
          "table": [
           {
            "cells": {
             "fill": {
              "color": "#EBF0F8"
             },
             "line": {
              "color": "white"
             }
            },
            "header": {
             "fill": {
              "color": "#C8D4E3"
             },
             "line": {
              "color": "white"
             }
            },
            "type": "table"
           }
          ]
         },
         "layout": {
          "annotationdefaults": {
           "arrowcolor": "#2a3f5f",
           "arrowhead": 0,
           "arrowwidth": 1
          },
          "autotypenumbers": "strict",
          "coloraxis": {
           "colorbar": {
            "outlinewidth": 0,
            "ticks": ""
           }
          },
          "colorscale": {
           "diverging": [
            [
             0,
             "#8e0152"
            ],
            [
             0.1,
             "#c51b7d"
            ],
            [
             0.2,
             "#de77ae"
            ],
            [
             0.3,
             "#f1b6da"
            ],
            [
             0.4,
             "#fde0ef"
            ],
            [
             0.5,
             "#f7f7f7"
            ],
            [
             0.6,
             "#e6f5d0"
            ],
            [
             0.7,
             "#b8e186"
            ],
            [
             0.8,
             "#7fbc41"
            ],
            [
             0.9,
             "#4d9221"
            ],
            [
             1,
             "#276419"
            ]
           ],
           "sequential": [
            [
             0,
             "#0d0887"
            ],
            [
             0.1111111111111111,
             "#46039f"
            ],
            [
             0.2222222222222222,
             "#7201a8"
            ],
            [
             0.3333333333333333,
             "#9c179e"
            ],
            [
             0.4444444444444444,
             "#bd3786"
            ],
            [
             0.5555555555555556,
             "#d8576b"
            ],
            [
             0.6666666666666666,
             "#ed7953"
            ],
            [
             0.7777777777777778,
             "#fb9f3a"
            ],
            [
             0.8888888888888888,
             "#fdca26"
            ],
            [
             1,
             "#f0f921"
            ]
           ],
           "sequentialminus": [
            [
             0,
             "#0d0887"
            ],
            [
             0.1111111111111111,
             "#46039f"
            ],
            [
             0.2222222222222222,
             "#7201a8"
            ],
            [
             0.3333333333333333,
             "#9c179e"
            ],
            [
             0.4444444444444444,
             "#bd3786"
            ],
            [
             0.5555555555555556,
             "#d8576b"
            ],
            [
             0.6666666666666666,
             "#ed7953"
            ],
            [
             0.7777777777777778,
             "#fb9f3a"
            ],
            [
             0.8888888888888888,
             "#fdca26"
            ],
            [
             1,
             "#f0f921"
            ]
           ]
          },
          "colorway": [
           "#636efa",
           "#EF553B",
           "#00cc96",
           "#ab63fa",
           "#FFA15A",
           "#19d3f3",
           "#FF6692",
           "#B6E880",
           "#FF97FF",
           "#FECB52"
          ],
          "font": {
           "color": "#2a3f5f"
          },
          "geo": {
           "bgcolor": "white",
           "lakecolor": "white",
           "landcolor": "#E5ECF6",
           "showlakes": true,
           "showland": true,
           "subunitcolor": "white"
          },
          "hoverlabel": {
           "align": "left"
          },
          "hovermode": "closest",
          "mapbox": {
           "style": "light"
          },
          "paper_bgcolor": "white",
          "plot_bgcolor": "#E5ECF6",
          "polar": {
           "angularaxis": {
            "gridcolor": "white",
            "linecolor": "white",
            "ticks": ""
           },
           "bgcolor": "#E5ECF6",
           "radialaxis": {
            "gridcolor": "white",
            "linecolor": "white",
            "ticks": ""
           }
          },
          "scene": {
           "xaxis": {
            "backgroundcolor": "#E5ECF6",
            "gridcolor": "white",
            "gridwidth": 2,
            "linecolor": "white",
            "showbackground": true,
            "ticks": "",
            "zerolinecolor": "white"
           },
           "yaxis": {
            "backgroundcolor": "#E5ECF6",
            "gridcolor": "white",
            "gridwidth": 2,
            "linecolor": "white",
            "showbackground": true,
            "ticks": "",
            "zerolinecolor": "white"
           },
           "zaxis": {
            "backgroundcolor": "#E5ECF6",
            "gridcolor": "white",
            "gridwidth": 2,
            "linecolor": "white",
            "showbackground": true,
            "ticks": "",
            "zerolinecolor": "white"
           }
          },
          "shapedefaults": {
           "line": {
            "color": "#2a3f5f"
           }
          },
          "ternary": {
           "aaxis": {
            "gridcolor": "white",
            "linecolor": "white",
            "ticks": ""
           },
           "baxis": {
            "gridcolor": "white",
            "linecolor": "white",
            "ticks": ""
           },
           "bgcolor": "#E5ECF6",
           "caxis": {
            "gridcolor": "white",
            "linecolor": "white",
            "ticks": ""
           }
          },
          "title": {
           "x": 0.05
          },
          "xaxis": {
           "automargin": true,
           "gridcolor": "white",
           "linecolor": "white",
           "ticks": "",
           "title": {
            "standoff": 15
           },
           "zerolinecolor": "white",
           "zerolinewidth": 2
          },
          "yaxis": {
           "automargin": true,
           "gridcolor": "white",
           "linecolor": "white",
           "ticks": "",
           "title": {
            "standoff": 15
           },
           "zerolinecolor": "white",
           "zerolinewidth": 2
          }
         }
        },
        "title": {
         "text": "Total Sales Comparison by Month"
        },
        "xaxis": {
         "title": {
          "text": "Month"
         }
        },
        "yaxis": {
         "tickprefix": "$",
         "title": {
          "text": "Total Sales"
         }
        }
       }
      }
     },
     "metadata": {},
     "output_type": "display_data"
    }
   ],
   "source": [
    "# Calculate the total sales for each subset\n",
    "qtr_sales = parts_data[['Sales - 1st Qtr', 'Sales - 2nd Qtr', 'Sales - 3rd Qtr', 'Sales - 4th Qtr']].sum()\n",
    "month_sales = parts_data[['Sales - Jan', 'Sales - Feb', 'Sales - Mar', 'Sales - Apr', \n",
    "                          'Sales - May', 'Sales - Jun', 'Sales - Jul', 'Sales - Aug',\n",
    "                          'Sales - Sep', 'Sales - Oct', 'Sales - Nov', 'Sales - Dec']].sum()\n",
    "\n",
    "# Create separate bar charts for quarters and months\n",
    "fig_qtr = go.Figure()\n",
    "fig_qtr.add_trace(go.Bar(x=qtr_sales.index,\n",
    "                         y=qtr_sales.values,\n",
    "                         name='Quarterly Sales',\n",
    "                         marker_color='blue'))\n",
    "\n",
    "fig_qtr.update_layout(title='Total Sales Comparison by Quarter',\n",
    "                      xaxis_title='Quarter',\n",
    "                      yaxis_title='Total Sales',\n",
    "                      yaxis_tickprefix='$')\n",
    "\n",
    "fig_month = go.Figure()\n",
    "fig_month.add_trace(go.Bar(x=month_sales.index,\n",
    "                           y=month_sales.values,\n",
    "                           name='Monthly Sales',\n",
    "                           marker_color='orange'))\n",
    "\n",
    "fig_month.update_layout(title='Total Sales Comparison by Month',\n",
    "                        xaxis_title='Month',\n",
    "                        yaxis_title='Total Sales',\n",
    "                        yaxis_tickprefix='$')\n",
    "\n",
    "# Show the interactive charts\n",
    "fig_qtr.show()\n",
    "fig_month.show()"
   ]
  },
  {
   "cell_type": "markdown",
   "metadata": {},
   "source": [
    "Look for parts that have sold in the last 12 months but not in the last 9, 6 or 3"
   ]
  },
  {
   "cell_type": "code",
   "execution_count": 478,
   "metadata": {},
   "outputs": [],
   "source": [
    "def bad_ordered_parts_data(parts_data, suppliers=[]):\n",
    "    \"\"\"\n",
    "        Gives a list of parts that sold this year but have not sold in more than 9 months\n",
    "        These parts are most likely going to become obsolete and should not have been ordered again\n",
    "\n",
    "        Usage:\n",
    "            Default is all suppliers but can handle a list of 1 or more specific suppliers if desired\n",
    "    \"\"\"\n",
    "\n",
    "    # Create the masks using the corrected comparisons\n",
    "    sales_mask = (parts_data['Months No Sale'] < 12) & (parts_data['Months No Sale'] >= 9)\n",
    "    price_mask = parts_data['Price'] > 250.00\n",
    "    \n",
    "    # Create a mask to filter the DataFrame for the specified suppliers, if any are provided\n",
    "    if suppliers:\n",
    "        suppliers_mask = parts_data['Supplier Name'].isin(suppliers)\n",
    "    else:\n",
    "        suppliers_mask = pd.Series(True, index=parts_data.index)  # Select all rows if suppliers list is empty\n",
    "    \n",
    "    # Apply all masks to filter the DataFrame\n",
    "    result_df = parts_data[sales_mask & price_mask & suppliers_mask][['Part Number', 'Description', 'Supplier Name', 'Price', 'Quantity', 'Cost Per Unit', 'Total Cost', 'Months No Sale']]\n",
    "\n",
    "    return result_df\n",
    "\n",
    "# Example usage without specifying suppliers (will keep all suppliers):\n",
    "filtered_parts_data_all = bad_ordered_parts_data(parts_data)\n",
    "filtered_parts_data_all.to_csv('/Users/skylerwilson/Desktop/Lighthouse_Labs/Projects/final_project/data/Dealership_Data/bad_orders_parts_all.csv')"
   ]
  },
  {
   "cell_type": "code",
   "execution_count": 479,
   "metadata": {},
   "outputs": [
    {
     "data": {
      "application/vnd.plotly.v1+json": {
       "config": {
        "plotlyServerURL": "https://plot.ly"
       },
       "data": [
        {
         "alignmentgroup": "True",
         "hovertemplate": "Supplier Name=%{x}<br>Total Cost=%{y}<extra></extra>",
         "legendgroup": "",
         "marker": {
          "color": "#636efa",
          "pattern": {
           "shape": ""
          }
         },
         "name": "",
         "offsetgroup": "",
         "orientation": "v",
         "showlegend": false,
         "textposition": "auto",
         "type": "bar",
         "x": [
          "bmw group canada",
          "polaris acceptance",
          "triumph motorcycles",
          "ducati",
          "parts canada/power twins",
          "kimpex",
          "royal enfield",
          "motovan",
          "bell sports inc",
          "thibault canada",
          "schuberth",
          "klim",
          "full bore",
          "Other"
         ],
         "xaxis": "x",
         "y": [
          527144.8725,
          388657.78,
          349799.67,
          191993.3114,
          135997.9816,
          74324.02,
          30984.39,
          26532.5238,
          19157.3,
          18553.760000000002,
          16400.7487,
          16064.730000000001,
          10379.470000000001,
          51220.27356
         ],
         "yaxis": "y"
        }
       ],
       "layout": {
        "barmode": "relative",
        "legend": {
         "tracegroupgap": 0
        },
        "template": {
         "data": {
          "bar": [
           {
            "error_x": {
             "color": "#2a3f5f"
            },
            "error_y": {
             "color": "#2a3f5f"
            },
            "marker": {
             "line": {
              "color": "#E5ECF6",
              "width": 0.5
             },
             "pattern": {
              "fillmode": "overlay",
              "size": 10,
              "solidity": 0.2
             }
            },
            "type": "bar"
           }
          ],
          "barpolar": [
           {
            "marker": {
             "line": {
              "color": "#E5ECF6",
              "width": 0.5
             },
             "pattern": {
              "fillmode": "overlay",
              "size": 10,
              "solidity": 0.2
             }
            },
            "type": "barpolar"
           }
          ],
          "carpet": [
           {
            "aaxis": {
             "endlinecolor": "#2a3f5f",
             "gridcolor": "white",
             "linecolor": "white",
             "minorgridcolor": "white",
             "startlinecolor": "#2a3f5f"
            },
            "baxis": {
             "endlinecolor": "#2a3f5f",
             "gridcolor": "white",
             "linecolor": "white",
             "minorgridcolor": "white",
             "startlinecolor": "#2a3f5f"
            },
            "type": "carpet"
           }
          ],
          "choropleth": [
           {
            "colorbar": {
             "outlinewidth": 0,
             "ticks": ""
            },
            "type": "choropleth"
           }
          ],
          "contour": [
           {
            "colorbar": {
             "outlinewidth": 0,
             "ticks": ""
            },
            "colorscale": [
             [
              0,
              "#0d0887"
             ],
             [
              0.1111111111111111,
              "#46039f"
             ],
             [
              0.2222222222222222,
              "#7201a8"
             ],
             [
              0.3333333333333333,
              "#9c179e"
             ],
             [
              0.4444444444444444,
              "#bd3786"
             ],
             [
              0.5555555555555556,
              "#d8576b"
             ],
             [
              0.6666666666666666,
              "#ed7953"
             ],
             [
              0.7777777777777778,
              "#fb9f3a"
             ],
             [
              0.8888888888888888,
              "#fdca26"
             ],
             [
              1,
              "#f0f921"
             ]
            ],
            "type": "contour"
           }
          ],
          "contourcarpet": [
           {
            "colorbar": {
             "outlinewidth": 0,
             "ticks": ""
            },
            "type": "contourcarpet"
           }
          ],
          "heatmap": [
           {
            "colorbar": {
             "outlinewidth": 0,
             "ticks": ""
            },
            "colorscale": [
             [
              0,
              "#0d0887"
             ],
             [
              0.1111111111111111,
              "#46039f"
             ],
             [
              0.2222222222222222,
              "#7201a8"
             ],
             [
              0.3333333333333333,
              "#9c179e"
             ],
             [
              0.4444444444444444,
              "#bd3786"
             ],
             [
              0.5555555555555556,
              "#d8576b"
             ],
             [
              0.6666666666666666,
              "#ed7953"
             ],
             [
              0.7777777777777778,
              "#fb9f3a"
             ],
             [
              0.8888888888888888,
              "#fdca26"
             ],
             [
              1,
              "#f0f921"
             ]
            ],
            "type": "heatmap"
           }
          ],
          "heatmapgl": [
           {
            "colorbar": {
             "outlinewidth": 0,
             "ticks": ""
            },
            "colorscale": [
             [
              0,
              "#0d0887"
             ],
             [
              0.1111111111111111,
              "#46039f"
             ],
             [
              0.2222222222222222,
              "#7201a8"
             ],
             [
              0.3333333333333333,
              "#9c179e"
             ],
             [
              0.4444444444444444,
              "#bd3786"
             ],
             [
              0.5555555555555556,
              "#d8576b"
             ],
             [
              0.6666666666666666,
              "#ed7953"
             ],
             [
              0.7777777777777778,
              "#fb9f3a"
             ],
             [
              0.8888888888888888,
              "#fdca26"
             ],
             [
              1,
              "#f0f921"
             ]
            ],
            "type": "heatmapgl"
           }
          ],
          "histogram": [
           {
            "marker": {
             "pattern": {
              "fillmode": "overlay",
              "size": 10,
              "solidity": 0.2
             }
            },
            "type": "histogram"
           }
          ],
          "histogram2d": [
           {
            "colorbar": {
             "outlinewidth": 0,
             "ticks": ""
            },
            "colorscale": [
             [
              0,
              "#0d0887"
             ],
             [
              0.1111111111111111,
              "#46039f"
             ],
             [
              0.2222222222222222,
              "#7201a8"
             ],
             [
              0.3333333333333333,
              "#9c179e"
             ],
             [
              0.4444444444444444,
              "#bd3786"
             ],
             [
              0.5555555555555556,
              "#d8576b"
             ],
             [
              0.6666666666666666,
              "#ed7953"
             ],
             [
              0.7777777777777778,
              "#fb9f3a"
             ],
             [
              0.8888888888888888,
              "#fdca26"
             ],
             [
              1,
              "#f0f921"
             ]
            ],
            "type": "histogram2d"
           }
          ],
          "histogram2dcontour": [
           {
            "colorbar": {
             "outlinewidth": 0,
             "ticks": ""
            },
            "colorscale": [
             [
              0,
              "#0d0887"
             ],
             [
              0.1111111111111111,
              "#46039f"
             ],
             [
              0.2222222222222222,
              "#7201a8"
             ],
             [
              0.3333333333333333,
              "#9c179e"
             ],
             [
              0.4444444444444444,
              "#bd3786"
             ],
             [
              0.5555555555555556,
              "#d8576b"
             ],
             [
              0.6666666666666666,
              "#ed7953"
             ],
             [
              0.7777777777777778,
              "#fb9f3a"
             ],
             [
              0.8888888888888888,
              "#fdca26"
             ],
             [
              1,
              "#f0f921"
             ]
            ],
            "type": "histogram2dcontour"
           }
          ],
          "mesh3d": [
           {
            "colorbar": {
             "outlinewidth": 0,
             "ticks": ""
            },
            "type": "mesh3d"
           }
          ],
          "parcoords": [
           {
            "line": {
             "colorbar": {
              "outlinewidth": 0,
              "ticks": ""
             }
            },
            "type": "parcoords"
           }
          ],
          "pie": [
           {
            "automargin": true,
            "type": "pie"
           }
          ],
          "scatter": [
           {
            "fillpattern": {
             "fillmode": "overlay",
             "size": 10,
             "solidity": 0.2
            },
            "type": "scatter"
           }
          ],
          "scatter3d": [
           {
            "line": {
             "colorbar": {
              "outlinewidth": 0,
              "ticks": ""
             }
            },
            "marker": {
             "colorbar": {
              "outlinewidth": 0,
              "ticks": ""
             }
            },
            "type": "scatter3d"
           }
          ],
          "scattercarpet": [
           {
            "marker": {
             "colorbar": {
              "outlinewidth": 0,
              "ticks": ""
             }
            },
            "type": "scattercarpet"
           }
          ],
          "scattergeo": [
           {
            "marker": {
             "colorbar": {
              "outlinewidth": 0,
              "ticks": ""
             }
            },
            "type": "scattergeo"
           }
          ],
          "scattergl": [
           {
            "marker": {
             "colorbar": {
              "outlinewidth": 0,
              "ticks": ""
             }
            },
            "type": "scattergl"
           }
          ],
          "scattermapbox": [
           {
            "marker": {
             "colorbar": {
              "outlinewidth": 0,
              "ticks": ""
             }
            },
            "type": "scattermapbox"
           }
          ],
          "scatterpolar": [
           {
            "marker": {
             "colorbar": {
              "outlinewidth": 0,
              "ticks": ""
             }
            },
            "type": "scatterpolar"
           }
          ],
          "scatterpolargl": [
           {
            "marker": {
             "colorbar": {
              "outlinewidth": 0,
              "ticks": ""
             }
            },
            "type": "scatterpolargl"
           }
          ],
          "scatterternary": [
           {
            "marker": {
             "colorbar": {
              "outlinewidth": 0,
              "ticks": ""
             }
            },
            "type": "scatterternary"
           }
          ],
          "surface": [
           {
            "colorbar": {
             "outlinewidth": 0,
             "ticks": ""
            },
            "colorscale": [
             [
              0,
              "#0d0887"
             ],
             [
              0.1111111111111111,
              "#46039f"
             ],
             [
              0.2222222222222222,
              "#7201a8"
             ],
             [
              0.3333333333333333,
              "#9c179e"
             ],
             [
              0.4444444444444444,
              "#bd3786"
             ],
             [
              0.5555555555555556,
              "#d8576b"
             ],
             [
              0.6666666666666666,
              "#ed7953"
             ],
             [
              0.7777777777777778,
              "#fb9f3a"
             ],
             [
              0.8888888888888888,
              "#fdca26"
             ],
             [
              1,
              "#f0f921"
             ]
            ],
            "type": "surface"
           }
          ],
          "table": [
           {
            "cells": {
             "fill": {
              "color": "#EBF0F8"
             },
             "line": {
              "color": "white"
             }
            },
            "header": {
             "fill": {
              "color": "#C8D4E3"
             },
             "line": {
              "color": "white"
             }
            },
            "type": "table"
           }
          ]
         },
         "layout": {
          "annotationdefaults": {
           "arrowcolor": "#2a3f5f",
           "arrowhead": 0,
           "arrowwidth": 1
          },
          "autotypenumbers": "strict",
          "coloraxis": {
           "colorbar": {
            "outlinewidth": 0,
            "ticks": ""
           }
          },
          "colorscale": {
           "diverging": [
            [
             0,
             "#8e0152"
            ],
            [
             0.1,
             "#c51b7d"
            ],
            [
             0.2,
             "#de77ae"
            ],
            [
             0.3,
             "#f1b6da"
            ],
            [
             0.4,
             "#fde0ef"
            ],
            [
             0.5,
             "#f7f7f7"
            ],
            [
             0.6,
             "#e6f5d0"
            ],
            [
             0.7,
             "#b8e186"
            ],
            [
             0.8,
             "#7fbc41"
            ],
            [
             0.9,
             "#4d9221"
            ],
            [
             1,
             "#276419"
            ]
           ],
           "sequential": [
            [
             0,
             "#0d0887"
            ],
            [
             0.1111111111111111,
             "#46039f"
            ],
            [
             0.2222222222222222,
             "#7201a8"
            ],
            [
             0.3333333333333333,
             "#9c179e"
            ],
            [
             0.4444444444444444,
             "#bd3786"
            ],
            [
             0.5555555555555556,
             "#d8576b"
            ],
            [
             0.6666666666666666,
             "#ed7953"
            ],
            [
             0.7777777777777778,
             "#fb9f3a"
            ],
            [
             0.8888888888888888,
             "#fdca26"
            ],
            [
             1,
             "#f0f921"
            ]
           ],
           "sequentialminus": [
            [
             0,
             "#0d0887"
            ],
            [
             0.1111111111111111,
             "#46039f"
            ],
            [
             0.2222222222222222,
             "#7201a8"
            ],
            [
             0.3333333333333333,
             "#9c179e"
            ],
            [
             0.4444444444444444,
             "#bd3786"
            ],
            [
             0.5555555555555556,
             "#d8576b"
            ],
            [
             0.6666666666666666,
             "#ed7953"
            ],
            [
             0.7777777777777778,
             "#fb9f3a"
            ],
            [
             0.8888888888888888,
             "#fdca26"
            ],
            [
             1,
             "#f0f921"
            ]
           ]
          },
          "colorway": [
           "#636efa",
           "#EF553B",
           "#00cc96",
           "#ab63fa",
           "#FFA15A",
           "#19d3f3",
           "#FF6692",
           "#B6E880",
           "#FF97FF",
           "#FECB52"
          ],
          "font": {
           "color": "#2a3f5f"
          },
          "geo": {
           "bgcolor": "white",
           "lakecolor": "white",
           "landcolor": "#E5ECF6",
           "showlakes": true,
           "showland": true,
           "subunitcolor": "white"
          },
          "hoverlabel": {
           "align": "left"
          },
          "hovermode": "closest",
          "mapbox": {
           "style": "light"
          },
          "paper_bgcolor": "white",
          "plot_bgcolor": "#E5ECF6",
          "polar": {
           "angularaxis": {
            "gridcolor": "white",
            "linecolor": "white",
            "ticks": ""
           },
           "bgcolor": "#E5ECF6",
           "radialaxis": {
            "gridcolor": "white",
            "linecolor": "white",
            "ticks": ""
           }
          },
          "scene": {
           "xaxis": {
            "backgroundcolor": "#E5ECF6",
            "gridcolor": "white",
            "gridwidth": 2,
            "linecolor": "white",
            "showbackground": true,
            "ticks": "",
            "zerolinecolor": "white"
           },
           "yaxis": {
            "backgroundcolor": "#E5ECF6",
            "gridcolor": "white",
            "gridwidth": 2,
            "linecolor": "white",
            "showbackground": true,
            "ticks": "",
            "zerolinecolor": "white"
           },
           "zaxis": {
            "backgroundcolor": "#E5ECF6",
            "gridcolor": "white",
            "gridwidth": 2,
            "linecolor": "white",
            "showbackground": true,
            "ticks": "",
            "zerolinecolor": "white"
           }
          },
          "shapedefaults": {
           "line": {
            "color": "#2a3f5f"
           }
          },
          "ternary": {
           "aaxis": {
            "gridcolor": "white",
            "linecolor": "white",
            "ticks": ""
           },
           "baxis": {
            "gridcolor": "white",
            "linecolor": "white",
            "ticks": ""
           },
           "bgcolor": "#E5ECF6",
           "caxis": {
            "gridcolor": "white",
            "linecolor": "white",
            "ticks": ""
           }
          },
          "title": {
           "x": 0.05
          },
          "xaxis": {
           "automargin": true,
           "gridcolor": "white",
           "linecolor": "white",
           "ticks": "",
           "title": {
            "standoff": 15
           },
           "zerolinecolor": "white",
           "zerolinewidth": 2
          },
          "yaxis": {
           "automargin": true,
           "gridcolor": "white",
           "linecolor": "white",
           "ticks": "",
           "title": {
            "standoff": 15
           },
           "zerolinecolor": "white",
           "zerolinewidth": 2
          }
         }
        },
        "title": {
         "text": "Total Cost per Supplier"
        },
        "xaxis": {
         "anchor": "y",
         "domain": [
          0,
          1
         ],
         "title": {
          "text": "Supplier Name"
         }
        },
        "yaxis": {
         "anchor": "x",
         "domain": [
          0,
          1
         ],
         "title": {
          "text": "Total Cost"
         }
        }
       }
      }
     },
     "metadata": {},
     "output_type": "display_data"
    }
   ],
   "source": [
    "# Calculate the 'Supplier Cost' by grouping and summing 'Total Cost' for each supplier\n",
    "supplier_cost = parts_data.groupby('Supplier Name')['Total Cost'].sum().sort_values(ascending=False)\n",
    "\n",
    "# Convert the supplier_cost Series back to a DataFrame\n",
    "supplier_cost_df = supplier_cost.reset_index()\n",
    "\n",
    "# Filter out the high-cost suppliers\n",
    "high_cost_suppliers = supplier_cost_df[supplier_cost_df['Total Cost'] > 10000]\n",
    "\n",
    "# Sum the 'Total Cost' of all other suppliers and create a row for 'Other'\n",
    "other_suppliers_cost = supplier_cost_df[supplier_cost_df['Total Cost'] <= 10000]['Total Cost'].sum()\n",
    "other_supplier_row = {'Supplier Name': 'Other', 'Total Cost': other_suppliers_cost}\n",
    "\n",
    "# Concatenate the high-cost suppliers DataFrame with the 'Other' row DataFrame\n",
    "supplier_cost_df = pd.concat([high_cost_suppliers, pd.DataFrame([other_supplier_row])])\n",
    "\n",
    "# Create an interactive bar chart\n",
    "fig = px.bar(supplier_cost_df, x='Supplier Name', y='Total Cost', title='Total Cost per Supplier')\n",
    "fig.show()"
   ]
  },
  {
   "cell_type": "code",
   "execution_count": 480,
   "metadata": {},
   "outputs": [],
   "source": [
    "#compare margins for parts where parts are either below or above the 40% threshold\n",
    "margin_threshold = 40 #desirable margin\n",
    "dollar_amount = 20 #remove small items that have little affect on bottom line\n",
    "parts_data_below_margin = parts_data[(parts_data[\"Margin %\"] < margin_threshold) & (parts_data['Price'] > dollar_amount)]\n",
    "parts_data_above_margin = parts_data[(parts_data[\"Margin %\"] >= margin_threshold) & (parts_data['Price'] > dollar_amount)]"
   ]
  },
  {
   "cell_type": "code",
   "execution_count": 481,
   "metadata": {},
   "outputs": [],
   "source": [
    "key_cols = ['Part Number', 'Supplier Name', 'Description', 'Quantity', 'Price', 'Total Cost', 'Margin %', 'Months No Sale']\n",
    "parts_data_below_margin[key_cols]\n",
    "parts_data_below_margin[key_cols].to_csv('/Users/skylerwilson/Desktop/Lighthouse_Labs/Projects/final_project/data/Dealership_Data/Parts_Below_Margin_Threshold.csv')"
   ]
  },
  {
   "cell_type": "code",
   "execution_count": 482,
   "metadata": {},
   "outputs": [],
   "source": [
    "obsolete_below_threshold = parts_data_below_margin[parts_data_below_margin['Months No Sale'] >= 12][key_cols]\n",
    "obsolete_below_threshold.to_csv('/Users/skylerwilson/Desktop/Lighthouse_Labs/Projects/final_project/data/Dealership_Data/Parts_Below_Margin_Threshold_Obsolete.csv')"
   ]
  },
  {
   "cell_type": "code",
   "execution_count": 483,
   "metadata": {},
   "outputs": [
    {
     "data": {
      "application/vnd.plotly.v1+json": {
       "config": {
        "plotlyServerURL": "https://plot.ly"
       },
       "data": [
        {
         "marker": {
          "color": "blue"
         },
         "name": "Total Cost",
         "type": "bar",
         "x": [
          "Below Margin Threshold",
          "Above or Equal to Margin Threshold"
         ],
         "y": [
          1307159.106,
          431665.73345999996
         ]
        }
       ],
       "layout": {
        "barmode": "group",
        "template": {
         "data": {
          "bar": [
           {
            "error_x": {
             "color": "#2a3f5f"
            },
            "error_y": {
             "color": "#2a3f5f"
            },
            "marker": {
             "line": {
              "color": "#E5ECF6",
              "width": 0.5
             },
             "pattern": {
              "fillmode": "overlay",
              "size": 10,
              "solidity": 0.2
             }
            },
            "type": "bar"
           }
          ],
          "barpolar": [
           {
            "marker": {
             "line": {
              "color": "#E5ECF6",
              "width": 0.5
             },
             "pattern": {
              "fillmode": "overlay",
              "size": 10,
              "solidity": 0.2
             }
            },
            "type": "barpolar"
           }
          ],
          "carpet": [
           {
            "aaxis": {
             "endlinecolor": "#2a3f5f",
             "gridcolor": "white",
             "linecolor": "white",
             "minorgridcolor": "white",
             "startlinecolor": "#2a3f5f"
            },
            "baxis": {
             "endlinecolor": "#2a3f5f",
             "gridcolor": "white",
             "linecolor": "white",
             "minorgridcolor": "white",
             "startlinecolor": "#2a3f5f"
            },
            "type": "carpet"
           }
          ],
          "choropleth": [
           {
            "colorbar": {
             "outlinewidth": 0,
             "ticks": ""
            },
            "type": "choropleth"
           }
          ],
          "contour": [
           {
            "colorbar": {
             "outlinewidth": 0,
             "ticks": ""
            },
            "colorscale": [
             [
              0,
              "#0d0887"
             ],
             [
              0.1111111111111111,
              "#46039f"
             ],
             [
              0.2222222222222222,
              "#7201a8"
             ],
             [
              0.3333333333333333,
              "#9c179e"
             ],
             [
              0.4444444444444444,
              "#bd3786"
             ],
             [
              0.5555555555555556,
              "#d8576b"
             ],
             [
              0.6666666666666666,
              "#ed7953"
             ],
             [
              0.7777777777777778,
              "#fb9f3a"
             ],
             [
              0.8888888888888888,
              "#fdca26"
             ],
             [
              1,
              "#f0f921"
             ]
            ],
            "type": "contour"
           }
          ],
          "contourcarpet": [
           {
            "colorbar": {
             "outlinewidth": 0,
             "ticks": ""
            },
            "type": "contourcarpet"
           }
          ],
          "heatmap": [
           {
            "colorbar": {
             "outlinewidth": 0,
             "ticks": ""
            },
            "colorscale": [
             [
              0,
              "#0d0887"
             ],
             [
              0.1111111111111111,
              "#46039f"
             ],
             [
              0.2222222222222222,
              "#7201a8"
             ],
             [
              0.3333333333333333,
              "#9c179e"
             ],
             [
              0.4444444444444444,
              "#bd3786"
             ],
             [
              0.5555555555555556,
              "#d8576b"
             ],
             [
              0.6666666666666666,
              "#ed7953"
             ],
             [
              0.7777777777777778,
              "#fb9f3a"
             ],
             [
              0.8888888888888888,
              "#fdca26"
             ],
             [
              1,
              "#f0f921"
             ]
            ],
            "type": "heatmap"
           }
          ],
          "heatmapgl": [
           {
            "colorbar": {
             "outlinewidth": 0,
             "ticks": ""
            },
            "colorscale": [
             [
              0,
              "#0d0887"
             ],
             [
              0.1111111111111111,
              "#46039f"
             ],
             [
              0.2222222222222222,
              "#7201a8"
             ],
             [
              0.3333333333333333,
              "#9c179e"
             ],
             [
              0.4444444444444444,
              "#bd3786"
             ],
             [
              0.5555555555555556,
              "#d8576b"
             ],
             [
              0.6666666666666666,
              "#ed7953"
             ],
             [
              0.7777777777777778,
              "#fb9f3a"
             ],
             [
              0.8888888888888888,
              "#fdca26"
             ],
             [
              1,
              "#f0f921"
             ]
            ],
            "type": "heatmapgl"
           }
          ],
          "histogram": [
           {
            "marker": {
             "pattern": {
              "fillmode": "overlay",
              "size": 10,
              "solidity": 0.2
             }
            },
            "type": "histogram"
           }
          ],
          "histogram2d": [
           {
            "colorbar": {
             "outlinewidth": 0,
             "ticks": ""
            },
            "colorscale": [
             [
              0,
              "#0d0887"
             ],
             [
              0.1111111111111111,
              "#46039f"
             ],
             [
              0.2222222222222222,
              "#7201a8"
             ],
             [
              0.3333333333333333,
              "#9c179e"
             ],
             [
              0.4444444444444444,
              "#bd3786"
             ],
             [
              0.5555555555555556,
              "#d8576b"
             ],
             [
              0.6666666666666666,
              "#ed7953"
             ],
             [
              0.7777777777777778,
              "#fb9f3a"
             ],
             [
              0.8888888888888888,
              "#fdca26"
             ],
             [
              1,
              "#f0f921"
             ]
            ],
            "type": "histogram2d"
           }
          ],
          "histogram2dcontour": [
           {
            "colorbar": {
             "outlinewidth": 0,
             "ticks": ""
            },
            "colorscale": [
             [
              0,
              "#0d0887"
             ],
             [
              0.1111111111111111,
              "#46039f"
             ],
             [
              0.2222222222222222,
              "#7201a8"
             ],
             [
              0.3333333333333333,
              "#9c179e"
             ],
             [
              0.4444444444444444,
              "#bd3786"
             ],
             [
              0.5555555555555556,
              "#d8576b"
             ],
             [
              0.6666666666666666,
              "#ed7953"
             ],
             [
              0.7777777777777778,
              "#fb9f3a"
             ],
             [
              0.8888888888888888,
              "#fdca26"
             ],
             [
              1,
              "#f0f921"
             ]
            ],
            "type": "histogram2dcontour"
           }
          ],
          "mesh3d": [
           {
            "colorbar": {
             "outlinewidth": 0,
             "ticks": ""
            },
            "type": "mesh3d"
           }
          ],
          "parcoords": [
           {
            "line": {
             "colorbar": {
              "outlinewidth": 0,
              "ticks": ""
             }
            },
            "type": "parcoords"
           }
          ],
          "pie": [
           {
            "automargin": true,
            "type": "pie"
           }
          ],
          "scatter": [
           {
            "fillpattern": {
             "fillmode": "overlay",
             "size": 10,
             "solidity": 0.2
            },
            "type": "scatter"
           }
          ],
          "scatter3d": [
           {
            "line": {
             "colorbar": {
              "outlinewidth": 0,
              "ticks": ""
             }
            },
            "marker": {
             "colorbar": {
              "outlinewidth": 0,
              "ticks": ""
             }
            },
            "type": "scatter3d"
           }
          ],
          "scattercarpet": [
           {
            "marker": {
             "colorbar": {
              "outlinewidth": 0,
              "ticks": ""
             }
            },
            "type": "scattercarpet"
           }
          ],
          "scattergeo": [
           {
            "marker": {
             "colorbar": {
              "outlinewidth": 0,
              "ticks": ""
             }
            },
            "type": "scattergeo"
           }
          ],
          "scattergl": [
           {
            "marker": {
             "colorbar": {
              "outlinewidth": 0,
              "ticks": ""
             }
            },
            "type": "scattergl"
           }
          ],
          "scattermapbox": [
           {
            "marker": {
             "colorbar": {
              "outlinewidth": 0,
              "ticks": ""
             }
            },
            "type": "scattermapbox"
           }
          ],
          "scatterpolar": [
           {
            "marker": {
             "colorbar": {
              "outlinewidth": 0,
              "ticks": ""
             }
            },
            "type": "scatterpolar"
           }
          ],
          "scatterpolargl": [
           {
            "marker": {
             "colorbar": {
              "outlinewidth": 0,
              "ticks": ""
             }
            },
            "type": "scatterpolargl"
           }
          ],
          "scatterternary": [
           {
            "marker": {
             "colorbar": {
              "outlinewidth": 0,
              "ticks": ""
             }
            },
            "type": "scatterternary"
           }
          ],
          "surface": [
           {
            "colorbar": {
             "outlinewidth": 0,
             "ticks": ""
            },
            "colorscale": [
             [
              0,
              "#0d0887"
             ],
             [
              0.1111111111111111,
              "#46039f"
             ],
             [
              0.2222222222222222,
              "#7201a8"
             ],
             [
              0.3333333333333333,
              "#9c179e"
             ],
             [
              0.4444444444444444,
              "#bd3786"
             ],
             [
              0.5555555555555556,
              "#d8576b"
             ],
             [
              0.6666666666666666,
              "#ed7953"
             ],
             [
              0.7777777777777778,
              "#fb9f3a"
             ],
             [
              0.8888888888888888,
              "#fdca26"
             ],
             [
              1,
              "#f0f921"
             ]
            ],
            "type": "surface"
           }
          ],
          "table": [
           {
            "cells": {
             "fill": {
              "color": "#EBF0F8"
             },
             "line": {
              "color": "white"
             }
            },
            "header": {
             "fill": {
              "color": "#C8D4E3"
             },
             "line": {
              "color": "white"
             }
            },
            "type": "table"
           }
          ]
         },
         "layout": {
          "annotationdefaults": {
           "arrowcolor": "#2a3f5f",
           "arrowhead": 0,
           "arrowwidth": 1
          },
          "autotypenumbers": "strict",
          "coloraxis": {
           "colorbar": {
            "outlinewidth": 0,
            "ticks": ""
           }
          },
          "colorscale": {
           "diverging": [
            [
             0,
             "#8e0152"
            ],
            [
             0.1,
             "#c51b7d"
            ],
            [
             0.2,
             "#de77ae"
            ],
            [
             0.3,
             "#f1b6da"
            ],
            [
             0.4,
             "#fde0ef"
            ],
            [
             0.5,
             "#f7f7f7"
            ],
            [
             0.6,
             "#e6f5d0"
            ],
            [
             0.7,
             "#b8e186"
            ],
            [
             0.8,
             "#7fbc41"
            ],
            [
             0.9,
             "#4d9221"
            ],
            [
             1,
             "#276419"
            ]
           ],
           "sequential": [
            [
             0,
             "#0d0887"
            ],
            [
             0.1111111111111111,
             "#46039f"
            ],
            [
             0.2222222222222222,
             "#7201a8"
            ],
            [
             0.3333333333333333,
             "#9c179e"
            ],
            [
             0.4444444444444444,
             "#bd3786"
            ],
            [
             0.5555555555555556,
             "#d8576b"
            ],
            [
             0.6666666666666666,
             "#ed7953"
            ],
            [
             0.7777777777777778,
             "#fb9f3a"
            ],
            [
             0.8888888888888888,
             "#fdca26"
            ],
            [
             1,
             "#f0f921"
            ]
           ],
           "sequentialminus": [
            [
             0,
             "#0d0887"
            ],
            [
             0.1111111111111111,
             "#46039f"
            ],
            [
             0.2222222222222222,
             "#7201a8"
            ],
            [
             0.3333333333333333,
             "#9c179e"
            ],
            [
             0.4444444444444444,
             "#bd3786"
            ],
            [
             0.5555555555555556,
             "#d8576b"
            ],
            [
             0.6666666666666666,
             "#ed7953"
            ],
            [
             0.7777777777777778,
             "#fb9f3a"
            ],
            [
             0.8888888888888888,
             "#fdca26"
            ],
            [
             1,
             "#f0f921"
            ]
           ]
          },
          "colorway": [
           "#636efa",
           "#EF553B",
           "#00cc96",
           "#ab63fa",
           "#FFA15A",
           "#19d3f3",
           "#FF6692",
           "#B6E880",
           "#FF97FF",
           "#FECB52"
          ],
          "font": {
           "color": "#2a3f5f"
          },
          "geo": {
           "bgcolor": "white",
           "lakecolor": "white",
           "landcolor": "#E5ECF6",
           "showlakes": true,
           "showland": true,
           "subunitcolor": "white"
          },
          "hoverlabel": {
           "align": "left"
          },
          "hovermode": "closest",
          "mapbox": {
           "style": "light"
          },
          "paper_bgcolor": "white",
          "plot_bgcolor": "#E5ECF6",
          "polar": {
           "angularaxis": {
            "gridcolor": "white",
            "linecolor": "white",
            "ticks": ""
           },
           "bgcolor": "#E5ECF6",
           "radialaxis": {
            "gridcolor": "white",
            "linecolor": "white",
            "ticks": ""
           }
          },
          "scene": {
           "xaxis": {
            "backgroundcolor": "#E5ECF6",
            "gridcolor": "white",
            "gridwidth": 2,
            "linecolor": "white",
            "showbackground": true,
            "ticks": "",
            "zerolinecolor": "white"
           },
           "yaxis": {
            "backgroundcolor": "#E5ECF6",
            "gridcolor": "white",
            "gridwidth": 2,
            "linecolor": "white",
            "showbackground": true,
            "ticks": "",
            "zerolinecolor": "white"
           },
           "zaxis": {
            "backgroundcolor": "#E5ECF6",
            "gridcolor": "white",
            "gridwidth": 2,
            "linecolor": "white",
            "showbackground": true,
            "ticks": "",
            "zerolinecolor": "white"
           }
          },
          "shapedefaults": {
           "line": {
            "color": "#2a3f5f"
           }
          },
          "ternary": {
           "aaxis": {
            "gridcolor": "white",
            "linecolor": "white",
            "ticks": ""
           },
           "baxis": {
            "gridcolor": "white",
            "linecolor": "white",
            "ticks": ""
           },
           "bgcolor": "#E5ECF6",
           "caxis": {
            "gridcolor": "white",
            "linecolor": "white",
            "ticks": ""
           }
          },
          "title": {
           "x": 0.05
          },
          "xaxis": {
           "automargin": true,
           "gridcolor": "white",
           "linecolor": "white",
           "ticks": "",
           "title": {
            "standoff": 15
           },
           "zerolinecolor": "white",
           "zerolinewidth": 2
          },
          "yaxis": {
           "automargin": true,
           "gridcolor": "white",
           "linecolor": "white",
           "ticks": "",
           "title": {
            "standoff": 15
           },
           "zerolinecolor": "white",
           "zerolinewidth": 2
          }
         }
        },
        "title": {
         "text": "Total Cost of Parts by Margin Group"
        },
        "xaxis": {
         "title": {
          "text": "Margin Group"
         }
        },
        "yaxis": {
         "tickprefix": "$",
         "title": {
          "text": "Total Cost"
         }
        }
       }
      }
     },
     "metadata": {},
     "output_type": "display_data"
    }
   ],
   "source": [
    "\n",
    "# Calculate the total cost for each subset\n",
    "total_cost_below_margin = parts_data_below_margin['Total Cost'].sum()\n",
    "total_cost_above_margin = parts_data_above_margin['Total Cost'].sum()\n",
    "\n",
    "# Create a grouped bar chart\n",
    "fig = go.Figure()\n",
    "fig.add_trace(go.Bar(x=['Below Margin Threshold', 'Above or Equal to Margin Threshold'],\n",
    "                     y=[total_cost_below_margin, total_cost_above_margin],\n",
    "                     name='Total Cost',\n",
    "                     marker_color='blue'))\n",
    "\n",
    "# Add chart labels and title\n",
    "fig.update_layout(title='Total Cost of Parts by Margin Group',\n",
    "                  xaxis_title='Margin Group',\n",
    "                  yaxis_title='Total Cost',\n",
    "                  yaxis_tickprefix='$',\n",
    "                  barmode='group')\n",
    "\n",
    "# Show the interactive chart\n",
    "fig.show()"
   ]
  },
  {
   "cell_type": "markdown",
   "metadata": {},
   "source": [
    "Note: Lots of parts just below the 40% desirable margin"
   ]
  },
  {
   "cell_type": "code",
   "execution_count": 484,
   "metadata": {},
   "outputs": [
    {
     "data": {
      "text/html": [
       "<div>\n",
       "<style scoped>\n",
       "    .dataframe tbody tr th:only-of-type {\n",
       "        vertical-align: middle;\n",
       "    }\n",
       "\n",
       "    .dataframe tbody tr th {\n",
       "        vertical-align: top;\n",
       "    }\n",
       "\n",
       "    .dataframe thead th {\n",
       "        text-align: right;\n",
       "    }\n",
       "</style>\n",
       "<table border=\"1\" class=\"dataframe\">\n",
       "  <thead>\n",
       "    <tr style=\"text-align: right;\">\n",
       "      <th></th>\n",
       "      <th>Part Number</th>\n",
       "      <th>Category</th>\n",
       "      <th>Description</th>\n",
       "      <th>Supplier Name</th>\n",
       "      <th>Margin %</th>\n",
       "      <th>Margin</th>\n",
       "      <th>Price</th>\n",
       "      <th>Quantity</th>\n",
       "      <th>Sales Last Month</th>\n",
       "      <th>Sales Last 3 Months</th>\n",
       "      <th>...</th>\n",
       "      <th>Gross Profit - Mar</th>\n",
       "      <th>Gross Profit - Apr</th>\n",
       "      <th>Gross Profit - May</th>\n",
       "      <th>Gross Profit - Jun</th>\n",
       "      <th>Gross Profit - Jul</th>\n",
       "      <th>Gross Profit - Aug</th>\n",
       "      <th>Gross Profit - Sep</th>\n",
       "      <th>Gross Profit - Oct</th>\n",
       "      <th>Gross Profit - Nov</th>\n",
       "      <th>Gross Profit - Dec</th>\n",
       "    </tr>\n",
       "  </thead>\n",
       "  <tbody>\n",
       "    <tr>\n",
       "      <th>2413</th>\n",
       "      <td>04-132</td>\n",
       "      <td>ACC</td>\n",
       "      <td>bulb 12v 45/45w</td>\n",
       "      <td>motovan</td>\n",
       "      <td>-16.080402</td>\n",
       "      <td>-0.32</td>\n",
       "      <td>1.990</td>\n",
       "      <td>1.0</td>\n",
       "      <td>0.0</td>\n",
       "      <td>0.0</td>\n",
       "      <td>...</td>\n",
       "      <td>0.0</td>\n",
       "      <td>0.0</td>\n",
       "      <td>0.0</td>\n",
       "      <td>0.0</td>\n",
       "      <td>0.0</td>\n",
       "      <td>0.0</td>\n",
       "      <td>0.0</td>\n",
       "      <td>0.0</td>\n",
       "      <td>0.0</td>\n",
       "      <td>0.0</td>\n",
       "    </tr>\n",
       "    <tr>\n",
       "      <th>2417</th>\n",
       "      <td>04-136</td>\n",
       "      <td>ACC</td>\n",
       "      <td>bulb, h4, 60/55w</td>\n",
       "      <td>motovan</td>\n",
       "      <td>-26.252505</td>\n",
       "      <td>-1.31</td>\n",
       "      <td>4.990</td>\n",
       "      <td>1.0</td>\n",
       "      <td>0.0</td>\n",
       "      <td>0.0</td>\n",
       "      <td>...</td>\n",
       "      <td>0.0</td>\n",
       "      <td>0.0</td>\n",
       "      <td>0.0</td>\n",
       "      <td>0.0</td>\n",
       "      <td>0.0</td>\n",
       "      <td>0.0</td>\n",
       "      <td>0.0</td>\n",
       "      <td>0.0</td>\n",
       "      <td>0.0</td>\n",
       "      <td>0.0</td>\n",
       "    </tr>\n",
       "    <tr>\n",
       "      <th>2419</th>\n",
       "      <td>04-136A</td>\n",
       "      <td>ACC</td>\n",
       "      <td>60/55w h4 p45t</td>\n",
       "      <td>motovan</td>\n",
       "      <td>-44.689379</td>\n",
       "      <td>-2.23</td>\n",
       "      <td>4.990</td>\n",
       "      <td>1.0</td>\n",
       "      <td>0.0</td>\n",
       "      <td>0.0</td>\n",
       "      <td>...</td>\n",
       "      <td>0.0</td>\n",
       "      <td>0.0</td>\n",
       "      <td>0.0</td>\n",
       "      <td>0.0</td>\n",
       "      <td>0.0</td>\n",
       "      <td>0.0</td>\n",
       "      <td>0.0</td>\n",
       "      <td>0.0</td>\n",
       "      <td>0.0</td>\n",
       "      <td>0.0</td>\n",
       "    </tr>\n",
       "    <tr>\n",
       "      <th>2420</th>\n",
       "      <td>04-136B</td>\n",
       "      <td>ACC</td>\n",
       "      <td>bulb 12v-45/45w h4 p43t clear</td>\n",
       "      <td>motovan</td>\n",
       "      <td>-118.637275</td>\n",
       "      <td>-5.92</td>\n",
       "      <td>4.990</td>\n",
       "      <td>1.0</td>\n",
       "      <td>0.0</td>\n",
       "      <td>0.0</td>\n",
       "      <td>...</td>\n",
       "      <td>0.0</td>\n",
       "      <td>0.0</td>\n",
       "      <td>0.0</td>\n",
       "      <td>0.0</td>\n",
       "      <td>0.0</td>\n",
       "      <td>0.0</td>\n",
       "      <td>0.0</td>\n",
       "      <td>0.0</td>\n",
       "      <td>0.0</td>\n",
       "      <td>0.0</td>\n",
       "    </tr>\n",
       "    <tr>\n",
       "      <th>2421</th>\n",
       "      <td>04-137</td>\n",
       "      <td>ACC</td>\n",
       "      <td>bulb, h4, 35/35w</td>\n",
       "      <td>motovan</td>\n",
       "      <td>-37.074148</td>\n",
       "      <td>-1.85</td>\n",
       "      <td>4.990</td>\n",
       "      <td>3.0</td>\n",
       "      <td>0.0</td>\n",
       "      <td>0.0</td>\n",
       "      <td>...</td>\n",
       "      <td>0.0</td>\n",
       "      <td>0.0</td>\n",
       "      <td>0.0</td>\n",
       "      <td>0.0</td>\n",
       "      <td>0.0</td>\n",
       "      <td>0.0</td>\n",
       "      <td>0.0</td>\n",
       "      <td>0.0</td>\n",
       "      <td>0.0</td>\n",
       "      <td>0.0</td>\n",
       "    </tr>\n",
       "    <tr>\n",
       "      <th>2422</th>\n",
       "      <td>04-139</td>\n",
       "      <td>ACC</td>\n",
       "      <td>h3 halogen bulb, 55w</td>\n",
       "      <td>motovan</td>\n",
       "      <td>-5.016722</td>\n",
       "      <td>-0.15</td>\n",
       "      <td>2.990</td>\n",
       "      <td>2.0</td>\n",
       "      <td>0.0</td>\n",
       "      <td>0.0</td>\n",
       "      <td>...</td>\n",
       "      <td>0.0</td>\n",
       "      <td>0.0</td>\n",
       "      <td>0.0</td>\n",
       "      <td>0.0</td>\n",
       "      <td>0.0</td>\n",
       "      <td>0.0</td>\n",
       "      <td>0.0</td>\n",
       "      <td>0.0</td>\n",
       "      <td>0.0</td>\n",
       "      <td>0.0</td>\n",
       "    </tr>\n",
       "    <tr>\n",
       "      <th>2459</th>\n",
       "      <td>04-1821</td>\n",
       "      <td>ACC</td>\n",
       "      <td>bulb 12v 55w h11 pgj19-2 0609-</td>\n",
       "      <td>motovan</td>\n",
       "      <td>-185.642738</td>\n",
       "      <td>-11.12</td>\n",
       "      <td>5.990</td>\n",
       "      <td>3.0</td>\n",
       "      <td>0.0</td>\n",
       "      <td>0.0</td>\n",
       "      <td>...</td>\n",
       "      <td>0.0</td>\n",
       "      <td>0.0</td>\n",
       "      <td>0.0</td>\n",
       "      <td>0.0</td>\n",
       "      <td>0.0</td>\n",
       "      <td>0.0</td>\n",
       "      <td>0.0</td>\n",
       "      <td>0.0</td>\n",
       "      <td>0.0</td>\n",
       "      <td>0.0</td>\n",
       "    </tr>\n",
       "    <tr>\n",
       "      <th>8290</th>\n",
       "      <td>111584</td>\n",
       "      <td>ACC</td>\n",
       "      <td>rr sprct 40t 630</td>\n",
       "      <td>parts canada/power twins</td>\n",
       "      <td>-3.556873</td>\n",
       "      <td>-0.96</td>\n",
       "      <td>26.990</td>\n",
       "      <td>1.0</td>\n",
       "      <td>0.0</td>\n",
       "      <td>0.0</td>\n",
       "      <td>...</td>\n",
       "      <td>0.0</td>\n",
       "      <td>0.0</td>\n",
       "      <td>0.0</td>\n",
       "      <td>0.0</td>\n",
       "      <td>0.0</td>\n",
       "      <td>0.0</td>\n",
       "      <td>0.0</td>\n",
       "      <td>0.0</td>\n",
       "      <td>0.0</td>\n",
       "      <td>0.0</td>\n",
       "    </tr>\n",
       "    <tr>\n",
       "      <th>17709</th>\n",
       "      <td>1990462</td>\n",
       "      <td>ACC</td>\n",
       "      <td>silver slip-on silencer-us</td>\n",
       "      <td>royal enfield</td>\n",
       "      <td>-4.222269</td>\n",
       "      <td>-38.00</td>\n",
       "      <td>899.990</td>\n",
       "      <td>1.0</td>\n",
       "      <td>0.0</td>\n",
       "      <td>0.0</td>\n",
       "      <td>...</td>\n",
       "      <td>0.0</td>\n",
       "      <td>0.0</td>\n",
       "      <td>0.0</td>\n",
       "      <td>0.0</td>\n",
       "      <td>0.0</td>\n",
       "      <td>0.0</td>\n",
       "      <td>0.0</td>\n",
       "      <td>0.0</td>\n",
       "      <td>0.0</td>\n",
       "      <td>0.0</td>\n",
       "    </tr>\n",
       "    <tr>\n",
       "      <th>17735</th>\n",
       "      <td>1D6-83330-01</td>\n",
       "      <td>PAM</td>\n",
       "      <td>rear signal yamaha v star</td>\n",
       "      <td>action motorcycles / barnes</td>\n",
       "      <td>0.000000</td>\n",
       "      <td>0.00</td>\n",
       "      <td>102.990</td>\n",
       "      <td>1.0</td>\n",
       "      <td>0.0</td>\n",
       "      <td>0.0</td>\n",
       "      <td>...</td>\n",
       "      <td>0.0</td>\n",
       "      <td>0.0</td>\n",
       "      <td>0.0</td>\n",
       "      <td>0.0</td>\n",
       "      <td>0.0</td>\n",
       "      <td>0.0</td>\n",
       "      <td>0.0</td>\n",
       "      <td>0.0</td>\n",
       "      <td>0.0</td>\n",
       "      <td>0.0</td>\n",
       "    </tr>\n",
       "    <tr>\n",
       "      <th>25816</th>\n",
       "      <td>2879768-266-T</td>\n",
       "      <td>P0</td>\n",
       "      <td>kit-exhaust,stage1,50,csr,blk</td>\n",
       "      <td>polaris acceptance</td>\n",
       "      <td>0.000000</td>\n",
       "      <td>0.00</td>\n",
       "      <td>350.990</td>\n",
       "      <td>1.0</td>\n",
       "      <td>0.0</td>\n",
       "      <td>0.0</td>\n",
       "      <td>...</td>\n",
       "      <td>0.0</td>\n",
       "      <td>0.0</td>\n",
       "      <td>0.0</td>\n",
       "      <td>0.0</td>\n",
       "      <td>0.0</td>\n",
       "      <td>0.0</td>\n",
       "      <td>0.0</td>\n",
       "      <td>0.0</td>\n",
       "      <td>0.0</td>\n",
       "      <td>0.0</td>\n",
       "    </tr>\n",
       "    <tr>\n",
       "      <th>50427</th>\n",
       "      <td>53170-mje-305</td>\n",
       "      <td>PAM</td>\n",
       "      <td>lever assy r hndl</td>\n",
       "      <td>vancouver island</td>\n",
       "      <td>0.000000</td>\n",
       "      <td>0.00</td>\n",
       "      <td>90.930</td>\n",
       "      <td>1.0</td>\n",
       "      <td>0.0</td>\n",
       "      <td>0.0</td>\n",
       "      <td>...</td>\n",
       "      <td>0.0</td>\n",
       "      <td>0.0</td>\n",
       "      <td>0.0</td>\n",
       "      <td>0.0</td>\n",
       "      <td>0.0</td>\n",
       "      <td>0.0</td>\n",
       "      <td>0.0</td>\n",
       "      <td>0.0</td>\n",
       "      <td>0.0</td>\n",
       "      <td>0.0</td>\n",
       "    </tr>\n",
       "    <tr>\n",
       "      <th>51835</th>\n",
       "      <td>558.8</td>\n",
       "      <td>PAM</td>\n",
       "      <td>butane solder gun</td>\n",
       "      <td>wurth</td>\n",
       "      <td>0.000000</td>\n",
       "      <td>0.00</td>\n",
       "      <td>89.990</td>\n",
       "      <td>1.0</td>\n",
       "      <td>0.0</td>\n",
       "      <td>0.0</td>\n",
       "      <td>...</td>\n",
       "      <td>0.0</td>\n",
       "      <td>0.0</td>\n",
       "      <td>0.0</td>\n",
       "      <td>0.0</td>\n",
       "      <td>0.0</td>\n",
       "      <td>0.0</td>\n",
       "      <td>0.0</td>\n",
       "      <td>0.0</td>\n",
       "      <td>0.0</td>\n",
       "      <td>0.0</td>\n",
       "    </tr>\n",
       "    <tr>\n",
       "      <th>71129</th>\n",
       "      <td>800610</td>\n",
       "      <td>ACC</td>\n",
       "      <td>black cycle vise screw type</td>\n",
       "      <td>thibault canada</td>\n",
       "      <td>0.000000</td>\n",
       "      <td>0.00</td>\n",
       "      <td>224.990</td>\n",
       "      <td>1.0</td>\n",
       "      <td>0.0</td>\n",
       "      <td>0.0</td>\n",
       "      <td>...</td>\n",
       "      <td>0.0</td>\n",
       "      <td>0.0</td>\n",
       "      <td>0.0</td>\n",
       "      <td>0.0</td>\n",
       "      <td>0.0</td>\n",
       "      <td>0.0</td>\n",
       "      <td>0.0</td>\n",
       "      <td>0.0</td>\n",
       "      <td>0.0</td>\n",
       "      <td>0.0</td>\n",
       "    </tr>\n",
       "    <tr>\n",
       "      <th>82972</th>\n",
       "      <td>BLACKPOOL</td>\n",
       "      <td>ACC</td>\n",
       "      <td>parts for project bike</td>\n",
       "      <td>blackpool - website</td>\n",
       "      <td>0.000000</td>\n",
       "      <td>0.00</td>\n",
       "      <td>872.770</td>\n",
       "      <td>1.0</td>\n",
       "      <td>0.0</td>\n",
       "      <td>0.0</td>\n",
       "      <td>...</td>\n",
       "      <td>0.0</td>\n",
       "      <td>0.0</td>\n",
       "      <td>0.0</td>\n",
       "      <td>0.0</td>\n",
       "      <td>0.0</td>\n",
       "      <td>0.0</td>\n",
       "      <td>0.0</td>\n",
       "      <td>0.0</td>\n",
       "      <td>0.0</td>\n",
       "      <td>0.0</td>\n",
       "    </tr>\n",
       "    <tr>\n",
       "      <th>92343</th>\n",
       "      <td>NGK4339</td>\n",
       "      <td>PAM</td>\n",
       "      <td>dcpr8e standard spark plug</td>\n",
       "      <td>lordco</td>\n",
       "      <td>0.000000</td>\n",
       "      <td>0.00</td>\n",
       "      <td>4.382</td>\n",
       "      <td>2.0</td>\n",
       "      <td>0.0</td>\n",
       "      <td>0.0</td>\n",
       "      <td>...</td>\n",
       "      <td>0.0</td>\n",
       "      <td>0.0</td>\n",
       "      <td>0.0</td>\n",
       "      <td>0.0</td>\n",
       "      <td>0.0</td>\n",
       "      <td>0.0</td>\n",
       "      <td>0.0</td>\n",
       "      <td>0.0</td>\n",
       "      <td>0.0</td>\n",
       "      <td>0.0</td>\n",
       "    </tr>\n",
       "    <tr>\n",
       "      <th>96935</th>\n",
       "      <td>T2101995-PG</td>\n",
       "      <td>PM1</td>\n",
       "      <td>cover assembly,radiator,pg</td>\n",
       "      <td>triumph motorcycles</td>\n",
       "      <td>-136.004000</td>\n",
       "      <td>-122.39</td>\n",
       "      <td>89.990</td>\n",
       "      <td>1.0</td>\n",
       "      <td>0.0</td>\n",
       "      <td>0.0</td>\n",
       "      <td>...</td>\n",
       "      <td>0.0</td>\n",
       "      <td>0.0</td>\n",
       "      <td>0.0</td>\n",
       "      <td>0.0</td>\n",
       "      <td>0.0</td>\n",
       "      <td>0.0</td>\n",
       "      <td>0.0</td>\n",
       "      <td>0.0</td>\n",
       "      <td>0.0</td>\n",
       "      <td>0.0</td>\n",
       "    </tr>\n",
       "  </tbody>\n",
       "</table>\n",
       "<p>17 rows × 66 columns</p>\n",
       "</div>"
      ],
      "text/plain": [
       "         Part Number Category                     Description  \\\n",
       "2413          04-132      ACC                 bulb 12v 45/45w   \n",
       "2417          04-136      ACC                bulb, h4, 60/55w   \n",
       "2419         04-136A      ACC                  60/55w h4 p45t   \n",
       "2420         04-136B      ACC   bulb 12v-45/45w h4 p43t clear   \n",
       "2421          04-137      ACC                bulb, h4, 35/35w   \n",
       "2422          04-139      ACC            h3 halogen bulb, 55w   \n",
       "2459         04-1821      ACC  bulb 12v 55w h11 pgj19-2 0609-   \n",
       "8290          111584      ACC                rr sprct 40t 630   \n",
       "17709        1990462      ACC      silver slip-on silencer-us   \n",
       "17735   1D6-83330-01      PAM       rear signal yamaha v star   \n",
       "25816  2879768-266-T       P0   kit-exhaust,stage1,50,csr,blk   \n",
       "50427  53170-mje-305      PAM               lever assy r hndl   \n",
       "51835          558.8      PAM               butane solder gun   \n",
       "71129         800610      ACC     black cycle vise screw type   \n",
       "82972      BLACKPOOL      ACC          parts for project bike   \n",
       "92343        NGK4339      PAM      dcpr8e standard spark plug   \n",
       "96935    T2101995-PG      PM1      cover assembly,radiator,pg   \n",
       "\n",
       "                     Supplier Name    Margin %  Margin    Price  Quantity  \\\n",
       "2413                       motovan  -16.080402   -0.32    1.990       1.0   \n",
       "2417                       motovan  -26.252505   -1.31    4.990       1.0   \n",
       "2419                       motovan  -44.689379   -2.23    4.990       1.0   \n",
       "2420                       motovan -118.637275   -5.92    4.990       1.0   \n",
       "2421                       motovan  -37.074148   -1.85    4.990       3.0   \n",
       "2422                       motovan   -5.016722   -0.15    2.990       2.0   \n",
       "2459                       motovan -185.642738  -11.12    5.990       3.0   \n",
       "8290      parts canada/power twins   -3.556873   -0.96   26.990       1.0   \n",
       "17709                royal enfield   -4.222269  -38.00  899.990       1.0   \n",
       "17735  action motorcycles / barnes    0.000000    0.00  102.990       1.0   \n",
       "25816           polaris acceptance    0.000000    0.00  350.990       1.0   \n",
       "50427             vancouver island    0.000000    0.00   90.930       1.0   \n",
       "51835                        wurth    0.000000    0.00   89.990       1.0   \n",
       "71129              thibault canada    0.000000    0.00  224.990       1.0   \n",
       "82972          blackpool - website    0.000000    0.00  872.770       1.0   \n",
       "92343                       lordco    0.000000    0.00    4.382       2.0   \n",
       "96935          triumph motorcycles -136.004000 -122.39   89.990       1.0   \n",
       "\n",
       "       Sales Last Month  Sales Last 3 Months  ...  Gross Profit - Mar  \\\n",
       "2413                0.0                  0.0  ...                 0.0   \n",
       "2417                0.0                  0.0  ...                 0.0   \n",
       "2419                0.0                  0.0  ...                 0.0   \n",
       "2420                0.0                  0.0  ...                 0.0   \n",
       "2421                0.0                  0.0  ...                 0.0   \n",
       "2422                0.0                  0.0  ...                 0.0   \n",
       "2459                0.0                  0.0  ...                 0.0   \n",
       "8290                0.0                  0.0  ...                 0.0   \n",
       "17709               0.0                  0.0  ...                 0.0   \n",
       "17735               0.0                  0.0  ...                 0.0   \n",
       "25816               0.0                  0.0  ...                 0.0   \n",
       "50427               0.0                  0.0  ...                 0.0   \n",
       "51835               0.0                  0.0  ...                 0.0   \n",
       "71129               0.0                  0.0  ...                 0.0   \n",
       "82972               0.0                  0.0  ...                 0.0   \n",
       "92343               0.0                  0.0  ...                 0.0   \n",
       "96935               0.0                  0.0  ...                 0.0   \n",
       "\n",
       "       Gross Profit - Apr  Gross Profit - May  Gross Profit - Jun  \\\n",
       "2413                  0.0                 0.0                 0.0   \n",
       "2417                  0.0                 0.0                 0.0   \n",
       "2419                  0.0                 0.0                 0.0   \n",
       "2420                  0.0                 0.0                 0.0   \n",
       "2421                  0.0                 0.0                 0.0   \n",
       "2422                  0.0                 0.0                 0.0   \n",
       "2459                  0.0                 0.0                 0.0   \n",
       "8290                  0.0                 0.0                 0.0   \n",
       "17709                 0.0                 0.0                 0.0   \n",
       "17735                 0.0                 0.0                 0.0   \n",
       "25816                 0.0                 0.0                 0.0   \n",
       "50427                 0.0                 0.0                 0.0   \n",
       "51835                 0.0                 0.0                 0.0   \n",
       "71129                 0.0                 0.0                 0.0   \n",
       "82972                 0.0                 0.0                 0.0   \n",
       "92343                 0.0                 0.0                 0.0   \n",
       "96935                 0.0                 0.0                 0.0   \n",
       "\n",
       "       Gross Profit - Jul  Gross Profit - Aug  Gross Profit - Sep  \\\n",
       "2413                  0.0                 0.0                 0.0   \n",
       "2417                  0.0                 0.0                 0.0   \n",
       "2419                  0.0                 0.0                 0.0   \n",
       "2420                  0.0                 0.0                 0.0   \n",
       "2421                  0.0                 0.0                 0.0   \n",
       "2422                  0.0                 0.0                 0.0   \n",
       "2459                  0.0                 0.0                 0.0   \n",
       "8290                  0.0                 0.0                 0.0   \n",
       "17709                 0.0                 0.0                 0.0   \n",
       "17735                 0.0                 0.0                 0.0   \n",
       "25816                 0.0                 0.0                 0.0   \n",
       "50427                 0.0                 0.0                 0.0   \n",
       "51835                 0.0                 0.0                 0.0   \n",
       "71129                 0.0                 0.0                 0.0   \n",
       "82972                 0.0                 0.0                 0.0   \n",
       "92343                 0.0                 0.0                 0.0   \n",
       "96935                 0.0                 0.0                 0.0   \n",
       "\n",
       "       Gross Profit - Oct  Gross Profit - Nov  Gross Profit - Dec  \n",
       "2413                  0.0                 0.0                 0.0  \n",
       "2417                  0.0                 0.0                 0.0  \n",
       "2419                  0.0                 0.0                 0.0  \n",
       "2420                  0.0                 0.0                 0.0  \n",
       "2421                  0.0                 0.0                 0.0  \n",
       "2422                  0.0                 0.0                 0.0  \n",
       "2459                  0.0                 0.0                 0.0  \n",
       "8290                  0.0                 0.0                 0.0  \n",
       "17709                 0.0                 0.0                 0.0  \n",
       "17735                 0.0                 0.0                 0.0  \n",
       "25816                 0.0                 0.0                 0.0  \n",
       "50427                 0.0                 0.0                 0.0  \n",
       "51835                 0.0                 0.0                 0.0  \n",
       "71129                 0.0                 0.0                 0.0  \n",
       "82972                 0.0                 0.0                 0.0  \n",
       "92343                 0.0                 0.0                 0.0  \n",
       "96935                 0.0                 0.0                 0.0  \n",
       "\n",
       "[17 rows x 66 columns]"
      ]
     },
     "execution_count": 484,
     "metadata": {},
     "output_type": "execute_result"
    }
   ],
   "source": [
    "m = parts_data['Margin %'] <= 0\n",
    "parts_data[m]"
   ]
  },
  {
   "cell_type": "code",
   "execution_count": 485,
   "metadata": {},
   "outputs": [
    {
     "data": {
      "text/html": [
       "<div>\n",
       "<style scoped>\n",
       "    .dataframe tbody tr th:only-of-type {\n",
       "        vertical-align: middle;\n",
       "    }\n",
       "\n",
       "    .dataframe tbody tr th {\n",
       "        vertical-align: top;\n",
       "    }\n",
       "\n",
       "    .dataframe thead th {\n",
       "        text-align: right;\n",
       "    }\n",
       "</style>\n",
       "<table border=\"1\" class=\"dataframe\">\n",
       "  <thead>\n",
       "    <tr style=\"text-align: right;\">\n",
       "      <th></th>\n",
       "      <th>Part Number</th>\n",
       "      <th>Category</th>\n",
       "      <th>Description</th>\n",
       "      <th>Supplier Name</th>\n",
       "      <th>Margin %</th>\n",
       "      <th>Margin</th>\n",
       "      <th>Price</th>\n",
       "      <th>Quantity</th>\n",
       "      <th>Sales Last Month</th>\n",
       "      <th>Sales Last 3 Months</th>\n",
       "      <th>...</th>\n",
       "      <th>Gross Profit - Mar</th>\n",
       "      <th>Gross Profit - Apr</th>\n",
       "      <th>Gross Profit - May</th>\n",
       "      <th>Gross Profit - Jun</th>\n",
       "      <th>Gross Profit - Jul</th>\n",
       "      <th>Gross Profit - Aug</th>\n",
       "      <th>Gross Profit - Sep</th>\n",
       "      <th>Gross Profit - Oct</th>\n",
       "      <th>Gross Profit - Nov</th>\n",
       "      <th>Gross Profit - Dec</th>\n",
       "    </tr>\n",
       "  </thead>\n",
       "  <tbody>\n",
       "  </tbody>\n",
       "</table>\n",
       "<p>0 rows × 66 columns</p>\n",
       "</div>"
      ],
      "text/plain": [
       "Empty DataFrame\n",
       "Columns: [Part Number, Category, Description, Supplier Name, Margin %, Margin, Price, Quantity, Sales Last Month, Sales Last 3 Months, Sales Last 6 Months, Sales Last 9 Months, Sales Last 12 Months, Sales Last 2 Years, Sales Last 3 Years, Sales Last 4 Years, Sales Last 5 Years, Sales Last 10 Years, Months No Sale, Reorder Point, Sales - Jan, Sales - Feb, Sales - Mar, Sales - Apr, Sales - May, Sales - Jun, Sales - Jul, Sales - Aug, Sales - Sep, Sales - Oct, Sales - Nov, Sales - Dec, Sales - 1st Qtr, Sales - 2nd Qtr, Sales - 3rd Qtr, Sales - 4th Qtr, Sales - This Year, Sales - Last Year, Quantity Ordered YTD, Quantity Received YTD, Cost Per Unit, Total Cost, Obsolete, Gross Profit -  Last Month, Gross Profit -  Last 3 Months, Gross Profit -  Last 6 Months, Gross Profit -  Last 9 Months, Gross Profit -  Last 12 Months, Gross Profit -  Last 2 Years, Gross Profit -  Last 3 Years, Gross Profit -  Last 4 Years, Gross Profit -  Last 5 Years, Gross Profit -  Last 10 Years, Total Gross Profit, Gross Profit - Jan, Gross Profit - Feb, Gross Profit - Mar, Gross Profit - Apr, Gross Profit - May, Gross Profit - Jun, Gross Profit - Jul, Gross Profit - Aug, Gross Profit - Sep, Gross Profit - Oct, Gross Profit - Nov, Gross Profit - Dec]\n",
       "Index: []\n",
       "\n",
       "[0 rows x 66 columns]"
      ]
     },
     "execution_count": 485,
     "metadata": {},
     "output_type": "execute_result"
    }
   ],
   "source": [
    "mask = parts_data['Reorder Point'] > 0\n",
    "\n",
    "parts_data[mask]"
   ]
  },
  {
   "cell_type": "markdown",
   "metadata": {},
   "source": [
    "Question: why is the reorder point 0 for everything? --> solve with DL model"
   ]
  },
  {
   "cell_type": "code",
   "execution_count": 486,
   "metadata": {},
   "outputs": [],
   "source": [
    "#calculate inventory turnover\n",
    "#formula: COGS / ((Goods at begging of time period - goods at end of time period) / 2)\n",
    "\n",
    "def inventory_turn_total(cogs, end, start, ):\n",
    "    \"\"\"\n",
    "        Gets the turnover for the inventory given a particular time period\n",
    "        \n",
    "        Usage: provide inventory amount at begining of period and end of period \n",
    "               and the cost of the goods sold over that period\n",
    "    \n",
    "        If the 'start' parameter is not provided, the function assumes that the beginning inventory is equal to the ending inventory.\n",
    "    \"\"\"\n",
    "    average_inventory = (start + end) / 2\n",
    "    \n",
    "    turnover = cogs / average_inventory\n",
    "    \n",
    "    return turnover\n"
   ]
  },
  {
   "cell_type": "code",
   "execution_count": 487,
   "metadata": {},
   "outputs": [
    {
     "name": "stdout",
     "output_type": "stream",
     "text": [
      "+-------------------+------------------+\n",
      "|      Metric       |      Value       |\n",
      "+-------------------+------------------+\n",
      "|  Start Inventory  |    4561114.88    |\n",
      "|   End Inventory   |    2999069.82    |\n",
      "| Average Inventory |    3780092.35    |\n",
      "|       COGS        |    2035948.06    |\n",
      "|     Turnover      | 0.53859743929272 |\n",
      "+-------------------+------------------+\n"
     ]
    }
   ],
   "source": [
    "from tabulate import tabulate\n",
    "\n",
    "# Calculate the required metrics in the parts_data DataFrame\n",
    "total_cogs = round((parts_data['Cost Per Unit'] * parts_data['Sales - This Year']).sum(), 2)\n",
    "total_end_inventory = round((parts_data['Price'] * parts_data['Quantity']).sum(), 2)\n",
    "total_start_inventory = (total_end_inventory - parts_data['Quantity Received YTD'].sum()) + total_cogs\n",
    "avg_total_inventory = round((total_start_inventory + total_end_inventory) / 2, 2)\n",
    "total_turnover = total_cogs / avg_total_inventory if avg_total_inventory > 0 else 0\n",
    "\n",
    "# Create a list of dictionaries for the tabular chart\n",
    "data = [\n",
    "    {\n",
    "        \"Metric\": \"Start Inventory\",\n",
    "        \"Value\": total_start_inventory\n",
    "    },\n",
    "    {\n",
    "        \"Metric\": \"End Inventory\",\n",
    "        \"Value\": total_end_inventory\n",
    "    },\n",
    "    {\n",
    "        \"Metric\": \"Average Inventory\",\n",
    "        \"Value\": avg_total_inventory\n",
    "    },\n",
    "    {\n",
    "        \"Metric\": \"COGS\",\n",
    "        \"Value\": total_cogs\n",
    "    },\n",
    "    {\n",
    "        \"Metric\": \"Turnover\",\n",
    "        \"Value\": total_turnover\n",
    "    }\n",
    "]\n",
    "\n",
    "# Print the tabular chart\n",
    "table = tabulate(data, headers=\"keys\", tablefmt=\"pretty\")\n",
    "print(table)"
   ]
  },
  {
   "cell_type": "code",
   "execution_count": 488,
   "metadata": {},
   "outputs": [],
   "source": [
    "def create_supplier_dataframe(parts_data, suppliers=None):\n",
    "    \"\"\"\n",
    "    Create a data frame with the turnover, cogs, and average inventory for suppliers\n",
    "    \n",
    "    Usage: Takes 1 or more suppliers and returns a DataFrame with the corresponding values.\n",
    "           The default value if no supplier is given is all the suppliers in the data set\n",
    "    \"\"\"\n",
    "    if suppliers is None:\n",
    "        suppliers = parts_data['Supplier Name'].unique()\n",
    "    \n",
    "    # Filter data based on suppliers\n",
    "    suppliers_data = parts_data[parts_data['Supplier Name'].isin(suppliers)]\n",
    "    \n",
    "    # Calculate COGS, end inventory, start inventory, average inventory, and turnover\n",
    "    suppliers_data['COGS'] = round(suppliers_data['Cost Per Unit'] * suppliers_data['Sales - This Year'], 2)\n",
    "    suppliers_data['End Inventory'] = round(suppliers_data['Price'] * suppliers_data['Quantity'], 2)\n",
    "    suppliers_data['Start Inventory'] = suppliers_data['End Inventory'] - suppliers_data['Quantity Received YTD'] + suppliers_data['COGS']\n",
    "    suppliers_data['Average Inventory'] = (suppliers_data['Start Inventory'] + suppliers_data['End Inventory']) / 2\n",
    "    suppliers_data['Turnover'] = np.where(suppliers_data['Average Inventory'] <= 0, 0, suppliers_data['COGS'] / suppliers_data['Average Inventory'])\n",
    "\n",
    "    # Group by supplier and aggregate the data\n",
    "    result_df = suppliers_data.groupby(['Supplier Name']).agg({\n",
    "        'Average Inventory': 'mean',\n",
    "        'COGS': 'sum',\n",
    "        'Turnover': 'mean'\n",
    "    }).reset_index()\n",
    "    \n",
    "    return result_df"
   ]
  },
  {
   "cell_type": "code",
   "execution_count": 489,
   "metadata": {},
   "outputs": [],
   "source": [
    "supplier_df = create_supplier_dataframe(parts_data)"
   ]
  },
  {
   "cell_type": "code",
   "execution_count": 490,
   "metadata": {},
   "outputs": [
    {
     "data": {
      "text/plain": [
       "Index(['Supplier Name', 'Average Inventory', 'COGS', 'Turnover'], dtype='object')"
      ]
     },
     "execution_count": 490,
     "metadata": {},
     "output_type": "execute_result"
    }
   ],
   "source": [
    "supplier_df.columns"
   ]
  },
  {
   "cell_type": "code",
   "execution_count": 491,
   "metadata": {},
   "outputs": [
    {
     "data": {
      "text/html": [
       "<div>\n",
       "<style scoped>\n",
       "    .dataframe tbody tr th:only-of-type {\n",
       "        vertical-align: middle;\n",
       "    }\n",
       "\n",
       "    .dataframe tbody tr th {\n",
       "        vertical-align: top;\n",
       "    }\n",
       "\n",
       "    .dataframe thead th {\n",
       "        text-align: right;\n",
       "    }\n",
       "</style>\n",
       "<table border=\"1\" class=\"dataframe\">\n",
       "  <thead>\n",
       "    <tr style=\"text-align: right;\">\n",
       "      <th></th>\n",
       "      <th>Supplier Name</th>\n",
       "      <th>Average Inventory</th>\n",
       "      <th>COGS</th>\n",
       "      <th>Turnover</th>\n",
       "    </tr>\n",
       "  </thead>\n",
       "  <tbody>\n",
       "    <tr>\n",
       "      <th>188</th>\n",
       "      <td>power house</td>\n",
       "      <td>53.935000</td>\n",
       "      <td>107.87</td>\n",
       "      <td>2.000000</td>\n",
       "    </tr>\n",
       "    <tr>\n",
       "      <th>17</th>\n",
       "      <td>barnes harley-davidson</td>\n",
       "      <td>13.777273</td>\n",
       "      <td>303.10</td>\n",
       "      <td>1.636364</td>\n",
       "    </tr>\n",
       "    <tr>\n",
       "      <th>263</th>\n",
       "      <td>vancouver island</td>\n",
       "      <td>40.303571</td>\n",
       "      <td>382.39</td>\n",
       "      <td>1.428571</td>\n",
       "    </tr>\n",
       "    <tr>\n",
       "      <th>44</th>\n",
       "      <td>bt moto</td>\n",
       "      <td>829.631667</td>\n",
       "      <td>2849.95</td>\n",
       "      <td>1.334070</td>\n",
       "    </tr>\n",
       "    <tr>\n",
       "      <th>270</th>\n",
       "      <td>wunderlich</td>\n",
       "      <td>167.918500</td>\n",
       "      <td>1426.49</td>\n",
       "      <td>1.254371</td>\n",
       "    </tr>\n",
       "    <tr>\n",
       "      <th>...</th>\n",
       "      <td>...</td>\n",
       "      <td>...</td>\n",
       "      <td>...</td>\n",
       "      <td>...</td>\n",
       "    </tr>\n",
       "    <tr>\n",
       "      <th>111</th>\n",
       "      <td>gt moto products</td>\n",
       "      <td>0.000000</td>\n",
       "      <td>0.00</td>\n",
       "      <td>0.000000</td>\n",
       "    </tr>\n",
       "    <tr>\n",
       "      <th>112</th>\n",
       "      <td>happy trail motorcycles</td>\n",
       "      <td>0.000000</td>\n",
       "      <td>0.00</td>\n",
       "      <td>0.000000</td>\n",
       "    </tr>\n",
       "    <tr>\n",
       "      <th>113</th>\n",
       "      <td>happy trails com</td>\n",
       "      <td>0.000000</td>\n",
       "      <td>0.00</td>\n",
       "      <td>0.000000</td>\n",
       "    </tr>\n",
       "    <tr>\n",
       "      <th>115</th>\n",
       "      <td>held usa</td>\n",
       "      <td>0.000000</td>\n",
       "      <td>0.00</td>\n",
       "      <td>0.000000</td>\n",
       "    </tr>\n",
       "    <tr>\n",
       "      <th>279</th>\n",
       "      <td>ztechnik</td>\n",
       "      <td>0.000000</td>\n",
       "      <td>0.00</td>\n",
       "      <td>0.000000</td>\n",
       "    </tr>\n",
       "  </tbody>\n",
       "</table>\n",
       "<p>280 rows × 4 columns</p>\n",
       "</div>"
      ],
      "text/plain": [
       "               Supplier Name  Average Inventory     COGS  Turnover\n",
       "188              power house          53.935000   107.87  2.000000\n",
       "17    barnes harley-davidson          13.777273   303.10  1.636364\n",
       "263         vancouver island          40.303571   382.39  1.428571\n",
       "44                   bt moto         829.631667  2849.95  1.334070\n",
       "270               wunderlich         167.918500  1426.49  1.254371\n",
       "..                       ...                ...      ...       ...\n",
       "111         gt moto products           0.000000     0.00  0.000000\n",
       "112  happy trail motorcycles           0.000000     0.00  0.000000\n",
       "113         happy trails com           0.000000     0.00  0.000000\n",
       "115                 held usa           0.000000     0.00  0.000000\n",
       "279                 ztechnik           0.000000     0.00  0.000000\n",
       "\n",
       "[280 rows x 4 columns]"
      ]
     },
     "execution_count": 491,
     "metadata": {},
     "output_type": "execute_result"
    }
   ],
   "source": [
    "supplier_df.sort_values(by='Turnover', ascending=False)"
   ]
  },
  {
   "cell_type": "code",
   "execution_count": 492,
   "metadata": {},
   "outputs": [],
   "source": [
    "def create_part_dataframe(parts_data, part_numbers=None):\n",
    "    \"\"\"\n",
    "    Create a data frame with the turnover, cogs, and average inventory for individual part numbers\n",
    "    \n",
    "    Usage: Takes 1 or more part numbers and returns a DataFrame with the corresponding values.\n",
    "           The default value if no part number is given is all the part numbers in the data set\n",
    "    \"\"\"\n",
    "    if part_numbers is None:\n",
    "        part_numbers = parts_data['Part Number'].unique()\n",
    "    \n",
    "    part_data = parts_data[parts_data['Part Number'].isin(part_numbers)]  # Filter the relevant data\n",
    "    part_data['COGS'] = round(part_data['Cost Per Unit'] * part_data['Sales - This Year'], 2)\n",
    "    part_data['End Inventory'] = round(part_data['Price'] * part_data['Quantity'], 2)\n",
    "    part_data['Start Inventory'] = part_data['End Inventory'] - part_data['Quantity Received YTD'] + part_data['COGS']\n",
    "    part_data['Average Inventory'] = (part_data['Start Inventory'] + part_data['End Inventory']) / 2\n",
    "    part_data.loc[part_data['Average Inventory'] <= 0, 'Turnover'] = 0\n",
    "    part_data.loc[part_data['Average Inventory'] > 0, 'Turnover'] = part_data['COGS'] / part_data['Average Inventory']\n",
    "    \n",
    "    result_df = part_data.groupby(['Part Number', 'Description', 'Supplier Name', 'Quantity']).agg({\n",
    "        'Average Inventory': 'mean',\n",
    "        'COGS': 'sum',\n",
    "        'Turnover': 'mean'\n",
    "    }).reset_index()\n",
    "    \n",
    "    return result_df"
   ]
  },
  {
   "cell_type": "code",
   "execution_count": 493,
   "metadata": {},
   "outputs": [
    {
     "data": {
      "text/html": [
       "<div>\n",
       "<style scoped>\n",
       "    .dataframe tbody tr th:only-of-type {\n",
       "        vertical-align: middle;\n",
       "    }\n",
       "\n",
       "    .dataframe tbody tr th {\n",
       "        vertical-align: top;\n",
       "    }\n",
       "\n",
       "    .dataframe thead th {\n",
       "        text-align: right;\n",
       "    }\n",
       "</style>\n",
       "<table border=\"1\" class=\"dataframe\">\n",
       "  <thead>\n",
       "    <tr style=\"text-align: right;\">\n",
       "      <th></th>\n",
       "      <th>Part Number</th>\n",
       "      <th>Description</th>\n",
       "      <th>Supplier Name</th>\n",
       "      <th>Quantity</th>\n",
       "      <th>Average Inventory</th>\n",
       "      <th>COGS</th>\n",
       "      <th>Turnover</th>\n",
       "    </tr>\n",
       "  </thead>\n",
       "  <tbody>\n",
       "    <tr>\n",
       "      <th>0</th>\n",
       "      <td>0</td>\n",
       "      <td>return spring</td>\n",
       "      <td>triumph motorcycles</td>\n",
       "      <td>0.0</td>\n",
       "      <td>0.0</td>\n",
       "      <td>0.0</td>\n",
       "      <td>0.0</td>\n",
       "    </tr>\n",
       "    <tr>\n",
       "      <th>1</th>\n",
       "      <td>0 580 463 999</td>\n",
       "      <td>euro motorelectrics bosch</td>\n",
       "      <td>euro motorelectrics</td>\n",
       "      <td>0.0</td>\n",
       "      <td>0.0</td>\n",
       "      <td>0.0</td>\n",
       "      <td>0.0</td>\n",
       "    </tr>\n",
       "    <tr>\n",
       "      <th>2</th>\n",
       "      <td>00-0450</td>\n",
       "      <td>screw, gearbox,inspec&amp;</td>\n",
       "      <td>motovan</td>\n",
       "      <td>0.0</td>\n",
       "      <td>0.0</td>\n",
       "      <td>0.0</td>\n",
       "      <td>0.0</td>\n",
       "    </tr>\n",
       "    <tr>\n",
       "      <th>3</th>\n",
       "      <td>00-548588</td>\n",
       "      <td>tube 150/90- 15 centre90' stem</td>\n",
       "      <td>butler maps inc</td>\n",
       "      <td>0.0</td>\n",
       "      <td>0.0</td>\n",
       "      <td>0.0</td>\n",
       "      <td>0.0</td>\n",
       "    </tr>\n",
       "    <tr>\n",
       "      <th>4</th>\n",
       "      <td>00-F01740401</td>\n",
       "      <td>turn signal light control</td>\n",
       "      <td>motowest</td>\n",
       "      <td>0.0</td>\n",
       "      <td>0.0</td>\n",
       "      <td>0.0</td>\n",
       "      <td>0.0</td>\n",
       "    </tr>\n",
       "  </tbody>\n",
       "</table>\n",
       "</div>"
      ],
      "text/plain": [
       "     Part Number                     Description        Supplier Name  \\\n",
       "0              0                   return spring  triumph motorcycles   \n",
       "1  0 580 463 999       euro motorelectrics bosch  euro motorelectrics   \n",
       "2        00-0450          screw, gearbox,inspec&              motovan   \n",
       "3      00-548588  tube 150/90- 15 centre90' stem      butler maps inc   \n",
       "4   00-F01740401       turn signal light control             motowest   \n",
       "\n",
       "   Quantity  Average Inventory  COGS  Turnover  \n",
       "0       0.0                0.0   0.0       0.0  \n",
       "1       0.0                0.0   0.0       0.0  \n",
       "2       0.0                0.0   0.0       0.0  \n",
       "3       0.0                0.0   0.0       0.0  \n",
       "4       0.0                0.0   0.0       0.0  "
      ]
     },
     "execution_count": 493,
     "metadata": {},
     "output_type": "execute_result"
    }
   ],
   "source": [
    "#usage of above\n",
    "parts_turn = create_part_dataframe(parts_data)\n",
    "parts_turn.head()"
   ]
  },
  {
   "cell_type": "code",
   "execution_count": 494,
   "metadata": {},
   "outputs": [
    {
     "data": {
      "text/html": [
       "<div>\n",
       "<style scoped>\n",
       "    .dataframe tbody tr th:only-of-type {\n",
       "        vertical-align: middle;\n",
       "    }\n",
       "\n",
       "    .dataframe tbody tr th {\n",
       "        vertical-align: top;\n",
       "    }\n",
       "\n",
       "    .dataframe thead th {\n",
       "        text-align: right;\n",
       "    }\n",
       "</style>\n",
       "<table border=\"1\" class=\"dataframe\">\n",
       "  <thead>\n",
       "    <tr style=\"text-align: right;\">\n",
       "      <th></th>\n",
       "      <th>Part Number</th>\n",
       "      <th>Description</th>\n",
       "      <th>Supplier Name</th>\n",
       "      <th>Quantity</th>\n",
       "      <th>Average Inventory</th>\n",
       "      <th>COGS</th>\n",
       "      <th>Turnover</th>\n",
       "    </tr>\n",
       "  </thead>\n",
       "  <tbody>\n",
       "    <tr>\n",
       "      <th>642</th>\n",
       "      <td>02-15954S</td>\n",
       "      <td>6mmx1.0 chrhex nut (10)</td>\n",
       "      <td>motovan</td>\n",
       "      <td>0.0</td>\n",
       "      <td>1.400</td>\n",
       "      <td>4.80</td>\n",
       "      <td>3.428571</td>\n",
       "    </tr>\n",
       "    <tr>\n",
       "      <th>643</th>\n",
       "      <td>02-15958S</td>\n",
       "      <td>8mmx1.25 chhex nut (10)</td>\n",
       "      <td>motovan</td>\n",
       "      <td>0.0</td>\n",
       "      <td>0.400</td>\n",
       "      <td>1.80</td>\n",
       "      <td>4.500000</td>\n",
       "    </tr>\n",
       "    <tr>\n",
       "      <th>646</th>\n",
       "      <td>02-24989S</td>\n",
       "      <td>8mm chro lock washer (10)</td>\n",
       "      <td>motovan</td>\n",
       "      <td>0.0</td>\n",
       "      <td>1.600</td>\n",
       "      <td>7.20</td>\n",
       "      <td>4.500000</td>\n",
       "    </tr>\n",
       "    <tr>\n",
       "      <th>1270</th>\n",
       "      <td>0302-1305</td>\n",
       "      <td>180/55zr17 (73w) mt60w c spec</td>\n",
       "      <td>parts canada    power twins (price</td>\n",
       "      <td>0.0</td>\n",
       "      <td>386.840</td>\n",
       "      <td>2095.36</td>\n",
       "      <td>3.096702</td>\n",
       "    </tr>\n",
       "    <tr>\n",
       "      <th>1271</th>\n",
       "      <td>0302-1305</td>\n",
       "      <td>180/55zr17 (73w) mt60w c spec</td>\n",
       "      <td>parts canada/power twins</td>\n",
       "      <td>0.0</td>\n",
       "      <td>263.680</td>\n",
       "      <td>1602.72</td>\n",
       "      <td>4.162930</td>\n",
       "    </tr>\n",
       "    <tr>\n",
       "      <th>...</th>\n",
       "      <td>...</td>\n",
       "      <td>...</td>\n",
       "      <td>...</td>\n",
       "      <td>...</td>\n",
       "      <td>...</td>\n",
       "      <td>...</td>\n",
       "      <td>...</td>\n",
       "    </tr>\n",
       "    <tr>\n",
       "      <th>98459</th>\n",
       "      <td>T3330018</td>\n",
       "      <td>screw, phil, pa</td>\n",
       "      <td>triumph motorcycles</td>\n",
       "      <td>0.0</td>\n",
       "      <td>0.355</td>\n",
       "      <td>1.71</td>\n",
       "      <td>4.816901</td>\n",
       "    </tr>\n",
       "    <tr>\n",
       "      <th>98591</th>\n",
       "      <td>T3330959</td>\n",
       "      <td>screw,csk,m6x1.0x16,slv,enc</td>\n",
       "      <td>triumph motorcycles</td>\n",
       "      <td>0.0</td>\n",
       "      <td>0.960</td>\n",
       "      <td>2.92</td>\n",
       "      <td>3.041667</td>\n",
       "    </tr>\n",
       "    <tr>\n",
       "      <th>100051</th>\n",
       "      <td>YTX14-BS</td>\n",
       "      <td>battery ytx14-bs</td>\n",
       "      <td>motovan</td>\n",
       "      <td>0.0</td>\n",
       "      <td>7.545</td>\n",
       "      <td>68.09</td>\n",
       "      <td>9.024520</td>\n",
       "    </tr>\n",
       "    <tr>\n",
       "      <th>100052</th>\n",
       "      <td>YTX14-BS</td>\n",
       "      <td>ytx14-bs (allbattery)</td>\n",
       "      <td>all battery victoria</td>\n",
       "      <td>0.0</td>\n",
       "      <td>20.620</td>\n",
       "      <td>94.24</td>\n",
       "      <td>4.570320</td>\n",
       "    </tr>\n",
       "    <tr>\n",
       "      <th>100054</th>\n",
       "      <td>YTX14-BS</td>\n",
       "      <td>ytx14-bs w/acid pack</td>\n",
       "      <td>parts canada    power twins (price</td>\n",
       "      <td>0.0</td>\n",
       "      <td>23.860</td>\n",
       "      <td>100.72</td>\n",
       "      <td>4.221291</td>\n",
       "    </tr>\n",
       "  </tbody>\n",
       "</table>\n",
       "<p>91 rows × 7 columns</p>\n",
       "</div>"
      ],
      "text/plain": [
       "       Part Number                    Description  \\\n",
       "642      02-15954S        6mmx1.0 chrhex nut (10)   \n",
       "643      02-15958S        8mmx1.25 chhex nut (10)   \n",
       "646      02-24989S      8mm chro lock washer (10)   \n",
       "1270     0302-1305  180/55zr17 (73w) mt60w c spec   \n",
       "1271     0302-1305  180/55zr17 (73w) mt60w c spec   \n",
       "...            ...                            ...   \n",
       "98459     T3330018                screw, phil, pa   \n",
       "98591     T3330959    screw,csk,m6x1.0x16,slv,enc   \n",
       "100051    YTX14-BS               battery ytx14-bs   \n",
       "100052    YTX14-BS          ytx14-bs (allbattery)   \n",
       "100054    YTX14-BS           ytx14-bs w/acid pack   \n",
       "\n",
       "                             Supplier Name  Quantity  Average Inventory  \\\n",
       "642                                motovan       0.0              1.400   \n",
       "643                                motovan       0.0              0.400   \n",
       "646                                motovan       0.0              1.600   \n",
       "1270    parts canada    power twins (price       0.0            386.840   \n",
       "1271              parts canada/power twins       0.0            263.680   \n",
       "...                                    ...       ...                ...   \n",
       "98459                  triumph motorcycles       0.0              0.355   \n",
       "98591                  triumph motorcycles       0.0              0.960   \n",
       "100051                             motovan       0.0              7.545   \n",
       "100052                all battery victoria       0.0             20.620   \n",
       "100054  parts canada    power twins (price       0.0             23.860   \n",
       "\n",
       "           COGS  Turnover  \n",
       "642        4.80  3.428571  \n",
       "643        1.80  4.500000  \n",
       "646        7.20  4.500000  \n",
       "1270    2095.36  3.096702  \n",
       "1271    1602.72  4.162930  \n",
       "...         ...       ...  \n",
       "98459      1.71  4.816901  \n",
       "98591      2.92  3.041667  \n",
       "100051    68.09  9.024520  \n",
       "100052    94.24  4.570320  \n",
       "100054   100.72  4.221291  \n",
       "\n",
       "[91 rows x 7 columns]"
      ]
     },
     "execution_count": 494,
     "metadata": {},
     "output_type": "execute_result"
    }
   ],
   "source": [
    "turn_mask = parts_turn['Turnover'] >= 3\n",
    "parts_turn[turn_mask]"
   ]
  },
  {
   "cell_type": "code",
   "execution_count": 495,
   "metadata": {},
   "outputs": [
    {
     "data": {
      "application/vnd.plotly.v1+json": {
       "config": {
        "plotlyServerURL": "https://plot.ly"
       },
       "data": [
        {
         "alignmentgroup": "True",
         "hovertemplate": "Supplier Name=%{x}<br>Turnover=%{y}<extra></extra>",
         "legendgroup": "",
         "marker": {
          "color": "#636efa",
          "pattern": {
           "shape": ""
          }
         },
         "name": "",
         "offsetgroup": "",
         "orientation": "v",
         "showlegend": false,
         "textposition": "auto",
         "type": "bar",
         "x": [
          "**added from pricebook**",
          "action motorcycles",
          "action motorcycles / barnes",
          "advanced rider training (ryan",
          "all battery victoria",
          "argyll motorsports",
          "barnes harley-davidson",
          "beeline moto",
          "bell sports inc",
          "bmw",
          "bmw group canada",
          "bn3th",
          "british imports motorcycles",
          "bt moto",
          "bumper to bumper",
          "butler maps inc",
          "clear water lights",
          "clearwater lights",
          "columbia promotions",
          "cycle works motorsports",
          "dci sales/klim",
          "doubletake mirror",
          "ducati",
          "ducati canada",
          "full bore",
          "fullbore marketing ltd.",
          "fundy textile and design ltd",
          "gamma power sports",
          "gamma sales inc.",
          "gotham cycles",
          "harbour city motorsports",
          "ilium works",
          "illium works",
          "international motorsports",
          "interstate battery",
          "island bmw",
          "kimpex",
          "klim",
          "lordco",
          "lordco auto parts",
          "maverick distributing",
          "mavrick",
          "mile zero motorsports ltd",
          "moto",
          "motovan",
          "motovan corporation",
          "out of the blue",
          "parts canada    power twins (price",
          "parts canada/power twins",
          "pazzo",
          "pazzo racing inc.",
          "polaris acceptance",
          "power house",
          "royal enfield",
          "savage cycles",
          "schuberth",
          "schuberth north america",
          "sg power",
          "shell canada",
          "speigler",
          "spiegler",
          "spunky's motorcycle shop",
          "suzuki",
          "thibault canada",
          "thibault canada (price book)",
          "triumph motorcycles",
          "twisted throttle canada inc",
          "twisted throttle llc",
          "vancouver island",
          "wunderlich",
          "wunderlich usa",
          "wurth",
          "wurth canada",
          "zero motorcycles"
         ],
         "xaxis": "x",
         "y": [
          0.25,
          0.01680672268907563,
          0.008836893662221174,
          1,
          0.9140640155189137,
          0.2222222222222222,
          1.6363636363636365,
          0.05604798643524776,
          0.24687544766387118,
          0.07309566642803512,
          0.20124281551332124,
          0.0975609756097561,
          0.03389830508474576,
          1.334070299171282,
          0.02094965382830025,
          0.003110419906687403,
          0.08695652173913043,
          0.8247617006521437,
          0.025774039563101335,
          0.10526315789473684,
          0.04134404816416987,
          0.4,
          0.09421183501247642,
          0.23618255181690923,
          0.036061404074846315,
          0.028169014084507043,
          0.06747504614285775,
          0.32,
          0.03995337218329595,
          0.32335329341317365,
          1,
          0.2,
          0.7692307692307693,
          0.719819530029897,
          0.07692307692307693,
          0.09912151202501099,
          0.14870692144364336,
          0.831767663606545,
          0.25179313588923813,
          0.038461538461538464,
          0.75,
          0.7737312963844851,
          0.2888000864024193,
          0.008048289738430584,
          0.029420616938982683,
          0.051067067391987256,
          0.20439545652636407,
          0.15258404942694742,
          0.08654247012166491,
          0.007590377678217323,
          0.16666666666666666,
          0.23840528001989375,
          2,
          0.12382260641671787,
          0.8331012583112465,
          0.9087393543727508,
          0.1754798328932612,
          0.005291005291005291,
          0.1425498416999604,
          0.8635568968819889,
          0.23282328466303956,
          0.18181818181818182,
          0.0003164484038283022,
          0.08850182645010256,
          0.14371136873217116,
          0.09218781202964106,
          0.05263834586466165,
          0.07547169811320754,
          1.4285714285714286,
          1.2543711481396942,
          0.2,
          0.004607349509507775,
          0.028368794326241134,
          0.2968719919461365
         ],
         "yaxis": "y"
        }
       ],
       "layout": {
        "barmode": "relative",
        "legend": {
         "tracegroupgap": 0
        },
        "template": {
         "data": {
          "bar": [
           {
            "error_x": {
             "color": "#2a3f5f"
            },
            "error_y": {
             "color": "#2a3f5f"
            },
            "marker": {
             "line": {
              "color": "#E5ECF6",
              "width": 0.5
             },
             "pattern": {
              "fillmode": "overlay",
              "size": 10,
              "solidity": 0.2
             }
            },
            "type": "bar"
           }
          ],
          "barpolar": [
           {
            "marker": {
             "line": {
              "color": "#E5ECF6",
              "width": 0.5
             },
             "pattern": {
              "fillmode": "overlay",
              "size": 10,
              "solidity": 0.2
             }
            },
            "type": "barpolar"
           }
          ],
          "carpet": [
           {
            "aaxis": {
             "endlinecolor": "#2a3f5f",
             "gridcolor": "white",
             "linecolor": "white",
             "minorgridcolor": "white",
             "startlinecolor": "#2a3f5f"
            },
            "baxis": {
             "endlinecolor": "#2a3f5f",
             "gridcolor": "white",
             "linecolor": "white",
             "minorgridcolor": "white",
             "startlinecolor": "#2a3f5f"
            },
            "type": "carpet"
           }
          ],
          "choropleth": [
           {
            "colorbar": {
             "outlinewidth": 0,
             "ticks": ""
            },
            "type": "choropleth"
           }
          ],
          "contour": [
           {
            "colorbar": {
             "outlinewidth": 0,
             "ticks": ""
            },
            "colorscale": [
             [
              0,
              "#0d0887"
             ],
             [
              0.1111111111111111,
              "#46039f"
             ],
             [
              0.2222222222222222,
              "#7201a8"
             ],
             [
              0.3333333333333333,
              "#9c179e"
             ],
             [
              0.4444444444444444,
              "#bd3786"
             ],
             [
              0.5555555555555556,
              "#d8576b"
             ],
             [
              0.6666666666666666,
              "#ed7953"
             ],
             [
              0.7777777777777778,
              "#fb9f3a"
             ],
             [
              0.8888888888888888,
              "#fdca26"
             ],
             [
              1,
              "#f0f921"
             ]
            ],
            "type": "contour"
           }
          ],
          "contourcarpet": [
           {
            "colorbar": {
             "outlinewidth": 0,
             "ticks": ""
            },
            "type": "contourcarpet"
           }
          ],
          "heatmap": [
           {
            "colorbar": {
             "outlinewidth": 0,
             "ticks": ""
            },
            "colorscale": [
             [
              0,
              "#0d0887"
             ],
             [
              0.1111111111111111,
              "#46039f"
             ],
             [
              0.2222222222222222,
              "#7201a8"
             ],
             [
              0.3333333333333333,
              "#9c179e"
             ],
             [
              0.4444444444444444,
              "#bd3786"
             ],
             [
              0.5555555555555556,
              "#d8576b"
             ],
             [
              0.6666666666666666,
              "#ed7953"
             ],
             [
              0.7777777777777778,
              "#fb9f3a"
             ],
             [
              0.8888888888888888,
              "#fdca26"
             ],
             [
              1,
              "#f0f921"
             ]
            ],
            "type": "heatmap"
           }
          ],
          "heatmapgl": [
           {
            "colorbar": {
             "outlinewidth": 0,
             "ticks": ""
            },
            "colorscale": [
             [
              0,
              "#0d0887"
             ],
             [
              0.1111111111111111,
              "#46039f"
             ],
             [
              0.2222222222222222,
              "#7201a8"
             ],
             [
              0.3333333333333333,
              "#9c179e"
             ],
             [
              0.4444444444444444,
              "#bd3786"
             ],
             [
              0.5555555555555556,
              "#d8576b"
             ],
             [
              0.6666666666666666,
              "#ed7953"
             ],
             [
              0.7777777777777778,
              "#fb9f3a"
             ],
             [
              0.8888888888888888,
              "#fdca26"
             ],
             [
              1,
              "#f0f921"
             ]
            ],
            "type": "heatmapgl"
           }
          ],
          "histogram": [
           {
            "marker": {
             "pattern": {
              "fillmode": "overlay",
              "size": 10,
              "solidity": 0.2
             }
            },
            "type": "histogram"
           }
          ],
          "histogram2d": [
           {
            "colorbar": {
             "outlinewidth": 0,
             "ticks": ""
            },
            "colorscale": [
             [
              0,
              "#0d0887"
             ],
             [
              0.1111111111111111,
              "#46039f"
             ],
             [
              0.2222222222222222,
              "#7201a8"
             ],
             [
              0.3333333333333333,
              "#9c179e"
             ],
             [
              0.4444444444444444,
              "#bd3786"
             ],
             [
              0.5555555555555556,
              "#d8576b"
             ],
             [
              0.6666666666666666,
              "#ed7953"
             ],
             [
              0.7777777777777778,
              "#fb9f3a"
             ],
             [
              0.8888888888888888,
              "#fdca26"
             ],
             [
              1,
              "#f0f921"
             ]
            ],
            "type": "histogram2d"
           }
          ],
          "histogram2dcontour": [
           {
            "colorbar": {
             "outlinewidth": 0,
             "ticks": ""
            },
            "colorscale": [
             [
              0,
              "#0d0887"
             ],
             [
              0.1111111111111111,
              "#46039f"
             ],
             [
              0.2222222222222222,
              "#7201a8"
             ],
             [
              0.3333333333333333,
              "#9c179e"
             ],
             [
              0.4444444444444444,
              "#bd3786"
             ],
             [
              0.5555555555555556,
              "#d8576b"
             ],
             [
              0.6666666666666666,
              "#ed7953"
             ],
             [
              0.7777777777777778,
              "#fb9f3a"
             ],
             [
              0.8888888888888888,
              "#fdca26"
             ],
             [
              1,
              "#f0f921"
             ]
            ],
            "type": "histogram2dcontour"
           }
          ],
          "mesh3d": [
           {
            "colorbar": {
             "outlinewidth": 0,
             "ticks": ""
            },
            "type": "mesh3d"
           }
          ],
          "parcoords": [
           {
            "line": {
             "colorbar": {
              "outlinewidth": 0,
              "ticks": ""
             }
            },
            "type": "parcoords"
           }
          ],
          "pie": [
           {
            "automargin": true,
            "type": "pie"
           }
          ],
          "scatter": [
           {
            "fillpattern": {
             "fillmode": "overlay",
             "size": 10,
             "solidity": 0.2
            },
            "type": "scatter"
           }
          ],
          "scatter3d": [
           {
            "line": {
             "colorbar": {
              "outlinewidth": 0,
              "ticks": ""
             }
            },
            "marker": {
             "colorbar": {
              "outlinewidth": 0,
              "ticks": ""
             }
            },
            "type": "scatter3d"
           }
          ],
          "scattercarpet": [
           {
            "marker": {
             "colorbar": {
              "outlinewidth": 0,
              "ticks": ""
             }
            },
            "type": "scattercarpet"
           }
          ],
          "scattergeo": [
           {
            "marker": {
             "colorbar": {
              "outlinewidth": 0,
              "ticks": ""
             }
            },
            "type": "scattergeo"
           }
          ],
          "scattergl": [
           {
            "marker": {
             "colorbar": {
              "outlinewidth": 0,
              "ticks": ""
             }
            },
            "type": "scattergl"
           }
          ],
          "scattermapbox": [
           {
            "marker": {
             "colorbar": {
              "outlinewidth": 0,
              "ticks": ""
             }
            },
            "type": "scattermapbox"
           }
          ],
          "scatterpolar": [
           {
            "marker": {
             "colorbar": {
              "outlinewidth": 0,
              "ticks": ""
             }
            },
            "type": "scatterpolar"
           }
          ],
          "scatterpolargl": [
           {
            "marker": {
             "colorbar": {
              "outlinewidth": 0,
              "ticks": ""
             }
            },
            "type": "scatterpolargl"
           }
          ],
          "scatterternary": [
           {
            "marker": {
             "colorbar": {
              "outlinewidth": 0,
              "ticks": ""
             }
            },
            "type": "scatterternary"
           }
          ],
          "surface": [
           {
            "colorbar": {
             "outlinewidth": 0,
             "ticks": ""
            },
            "colorscale": [
             [
              0,
              "#0d0887"
             ],
             [
              0.1111111111111111,
              "#46039f"
             ],
             [
              0.2222222222222222,
              "#7201a8"
             ],
             [
              0.3333333333333333,
              "#9c179e"
             ],
             [
              0.4444444444444444,
              "#bd3786"
             ],
             [
              0.5555555555555556,
              "#d8576b"
             ],
             [
              0.6666666666666666,
              "#ed7953"
             ],
             [
              0.7777777777777778,
              "#fb9f3a"
             ],
             [
              0.8888888888888888,
              "#fdca26"
             ],
             [
              1,
              "#f0f921"
             ]
            ],
            "type": "surface"
           }
          ],
          "table": [
           {
            "cells": {
             "fill": {
              "color": "#EBF0F8"
             },
             "line": {
              "color": "white"
             }
            },
            "header": {
             "fill": {
              "color": "#C8D4E3"
             },
             "line": {
              "color": "white"
             }
            },
            "type": "table"
           }
          ]
         },
         "layout": {
          "annotationdefaults": {
           "arrowcolor": "#2a3f5f",
           "arrowhead": 0,
           "arrowwidth": 1
          },
          "autotypenumbers": "strict",
          "coloraxis": {
           "colorbar": {
            "outlinewidth": 0,
            "ticks": ""
           }
          },
          "colorscale": {
           "diverging": [
            [
             0,
             "#8e0152"
            ],
            [
             0.1,
             "#c51b7d"
            ],
            [
             0.2,
             "#de77ae"
            ],
            [
             0.3,
             "#f1b6da"
            ],
            [
             0.4,
             "#fde0ef"
            ],
            [
             0.5,
             "#f7f7f7"
            ],
            [
             0.6,
             "#e6f5d0"
            ],
            [
             0.7,
             "#b8e186"
            ],
            [
             0.8,
             "#7fbc41"
            ],
            [
             0.9,
             "#4d9221"
            ],
            [
             1,
             "#276419"
            ]
           ],
           "sequential": [
            [
             0,
             "#0d0887"
            ],
            [
             0.1111111111111111,
             "#46039f"
            ],
            [
             0.2222222222222222,
             "#7201a8"
            ],
            [
             0.3333333333333333,
             "#9c179e"
            ],
            [
             0.4444444444444444,
             "#bd3786"
            ],
            [
             0.5555555555555556,
             "#d8576b"
            ],
            [
             0.6666666666666666,
             "#ed7953"
            ],
            [
             0.7777777777777778,
             "#fb9f3a"
            ],
            [
             0.8888888888888888,
             "#fdca26"
            ],
            [
             1,
             "#f0f921"
            ]
           ],
           "sequentialminus": [
            [
             0,
             "#0d0887"
            ],
            [
             0.1111111111111111,
             "#46039f"
            ],
            [
             0.2222222222222222,
             "#7201a8"
            ],
            [
             0.3333333333333333,
             "#9c179e"
            ],
            [
             0.4444444444444444,
             "#bd3786"
            ],
            [
             0.5555555555555556,
             "#d8576b"
            ],
            [
             0.6666666666666666,
             "#ed7953"
            ],
            [
             0.7777777777777778,
             "#fb9f3a"
            ],
            [
             0.8888888888888888,
             "#fdca26"
            ],
            [
             1,
             "#f0f921"
            ]
           ]
          },
          "colorway": [
           "#636efa",
           "#EF553B",
           "#00cc96",
           "#ab63fa",
           "#FFA15A",
           "#19d3f3",
           "#FF6692",
           "#B6E880",
           "#FF97FF",
           "#FECB52"
          ],
          "font": {
           "color": "#2a3f5f"
          },
          "geo": {
           "bgcolor": "white",
           "lakecolor": "white",
           "landcolor": "#E5ECF6",
           "showlakes": true,
           "showland": true,
           "subunitcolor": "white"
          },
          "hoverlabel": {
           "align": "left"
          },
          "hovermode": "closest",
          "mapbox": {
           "style": "light"
          },
          "paper_bgcolor": "white",
          "plot_bgcolor": "#E5ECF6",
          "polar": {
           "angularaxis": {
            "gridcolor": "white",
            "linecolor": "white",
            "ticks": ""
           },
           "bgcolor": "#E5ECF6",
           "radialaxis": {
            "gridcolor": "white",
            "linecolor": "white",
            "ticks": ""
           }
          },
          "scene": {
           "xaxis": {
            "backgroundcolor": "#E5ECF6",
            "gridcolor": "white",
            "gridwidth": 2,
            "linecolor": "white",
            "showbackground": true,
            "ticks": "",
            "zerolinecolor": "white"
           },
           "yaxis": {
            "backgroundcolor": "#E5ECF6",
            "gridcolor": "white",
            "gridwidth": 2,
            "linecolor": "white",
            "showbackground": true,
            "ticks": "",
            "zerolinecolor": "white"
           },
           "zaxis": {
            "backgroundcolor": "#E5ECF6",
            "gridcolor": "white",
            "gridwidth": 2,
            "linecolor": "white",
            "showbackground": true,
            "ticks": "",
            "zerolinecolor": "white"
           }
          },
          "shapedefaults": {
           "line": {
            "color": "#2a3f5f"
           }
          },
          "ternary": {
           "aaxis": {
            "gridcolor": "white",
            "linecolor": "white",
            "ticks": ""
           },
           "baxis": {
            "gridcolor": "white",
            "linecolor": "white",
            "ticks": ""
           },
           "bgcolor": "#E5ECF6",
           "caxis": {
            "gridcolor": "white",
            "linecolor": "white",
            "ticks": ""
           }
          },
          "title": {
           "x": 0.05
          },
          "xaxis": {
           "automargin": true,
           "gridcolor": "white",
           "linecolor": "white",
           "ticks": "",
           "title": {
            "standoff": 15
           },
           "zerolinecolor": "white",
           "zerolinewidth": 2
          },
          "yaxis": {
           "automargin": true,
           "gridcolor": "white",
           "linecolor": "white",
           "ticks": "",
           "title": {
            "standoff": 15
           },
           "zerolinecolor": "white",
           "zerolinewidth": 2
          }
         }
        },
        "title": {
         "text": "Turnover By Supplier"
        },
        "xaxis": {
         "anchor": "y",
         "domain": [
          0,
          1
         ],
         "title": {
          "text": "Supplier Name"
         }
        },
        "yaxis": {
         "anchor": "x",
         "domain": [
          0,
          1
         ],
         "title": {
          "text": "Turnover"
         }
        }
       }
      }
     },
     "metadata": {},
     "output_type": "display_data"
    }
   ],
   "source": [
    "#filterout 0 turn\n",
    "supplier_mask = supplier_df['Turnover'] != 0\n",
    "\n",
    "fig = px.bar(supplier_df[supplier_mask], x='Supplier Name', y='Turnover', title='Turnover By Supplier')\n",
    "fig.show()"
   ]
  },
  {
   "cell_type": "code",
   "execution_count": 496,
   "metadata": {},
   "outputs": [
    {
     "data": {
      "text/plain": [
       "['triumph motorcycles',\n",
       " 'euro motorelectrics',\n",
       " 'motovan',\n",
       " 'butler maps inc',\n",
       " 'motowest',\n",
       " 'moto',\n",
       " 'mc distributing',\n",
       " 'motovan corporation',\n",
       " 'ducati',\n",
       " 'thibault canada',\n",
       " 'thibault canada (price book)',\n",
       " 'm.c. distributing',\n",
       " \"willy's motorcycles\",\n",
       " 'v.i. honda',\n",
       " 'parts canada    power twins (price',\n",
       " 'gamma sales inc.',\n",
       " 'do not use',\n",
       " 'moto international',\n",
       " 'touratech canada',\n",
       " 'touratech usa/cyco active',\n",
       " 'island bmw',\n",
       " 'argyll motorsports',\n",
       " 'thh',\n",
       " 'parts canada/power twins',\n",
       " 'twisted throttle canada inc',\n",
       " 'remus usa (max moto)',\n",
       " 'bn3th',\n",
       " 'suzuki',\n",
       " 'action motorcycles / barnes',\n",
       " 'consortium des sports mechanic',\n",
       " 'kimpex',\n",
       " 'canadian tire',\n",
       " 'eurotech motorsports',\n",
       " 'roland sands designs (official',\n",
       " 'lordco auto parts',\n",
       " 'fullbore marketing ltd.',\n",
       " 'action motorcycles',\n",
       " 'full bore',\n",
       " 'newbonneville',\n",
       " 'british imports motorcycles',\n",
       " 'braithwaite sales',\n",
       " 'used',\n",
       " 'norton',\n",
       " 'bmw group canada',\n",
       " 'adventure workshop',\n",
       " 'honda',\n",
       " 'vancouver island',\n",
       " 'belstaff',\n",
       " 'bmw',\n",
       " 'yoshimura online',\n",
       " 'sg power',\n",
       " 'vancouver bmw ducati',\n",
       " 'wurth canada',\n",
       " 'bluestreak racing',\n",
       " '**added from pricebook**',\n",
       " 'colwood langford auto supply ltd.',\n",
       " 'power house',\n",
       " 'zero motorcycles',\n",
       " 'zmoto',\n",
       " 'shr',\n",
       " 'steen hansen (price book)',\n",
       " 'royal enfield',\n",
       " 'interstate battery',\n",
       " 'topgear accessories ltd.',\n",
       " 'ural',\n",
       " 'ducati canada',\n",
       " 'bering',\n",
       " 'polaris acceptance',\n",
       " 'polaris - indian motorcycle',\n",
       " 'bumper to bumper',\n",
       " 'jb',\n",
       " 'hsbk racing',\n",
       " 'yamaha',\n",
       " 'ilium works',\n",
       " 'barnes harley-davidson',\n",
       " \"spunky's motorcycle shop\",\n",
       " 'blue moon cycle, inc.',\n",
       " 'siebenrock',\n",
       " 'keyport lock corporation ltd',\n",
       " 'wunderlich usa',\n",
       " 'bmw victoria',\n",
       " 'barnes harley davidson',\n",
       " 'hornig bmw parts',\n",
       " 'savage cycles',\n",
       " 'doubletake mirror',\n",
       " 'sea to sky motorsports',\n",
       " 'tecnigas',\n",
       " 'fastener force one',\n",
       " 'victoria motorcycle sales',\n",
       " 'mile zero motorsports ltd',\n",
       " 'trans can imports',\n",
       " 'origin',\n",
       " 'british',\n",
       " 'barrett marketing group corp.(husky)',\n",
       " 'fortnine',\n",
       " 'wunderlich',\n",
       " 'j&p cycles',\n",
       " 'k and l supply',\n",
       " 'proline motorsports & marine',\n",
       " 'mother road customs',\n",
       " 'amazon canada',\n",
       " 'santa cruz bmw',\n",
       " 'rox speed fx rox risers',\n",
       " 'international motorsports',\n",
       " 'bugaboos eyewear (ryders)',\n",
       " 'dainese',\n",
       " 'bell sports inc',\n",
       " 'trail tech',\n",
       " 'held usa',\n",
       " 'all balls racing',\n",
       " 'teknic',\n",
       " 'trans canada imports',\n",
       " 'conversion default',\n",
       " 'bentley motorrad',\n",
       " 'bmc',\n",
       " 'can am',\n",
       " 'j&j sales (formerly shine tech)',\n",
       " 'monti’s marine & motor sports ltd.',\n",
       " 'illium works',\n",
       " 'revzilla',\n",
       " 'comox rental & recreation',\n",
       " 'cycle works motorsports',\n",
       " 'chesapeake cycles inc',\n",
       " 'parkland sled & atv',\n",
       " 'mp motoplex',\n",
       " 'm & m performance',\n",
       " 'techno motosport',\n",
       " 'dci sales/klim',\n",
       " 'klim',\n",
       " 'fundy textile and design ltd',\n",
       " 'motion industries',\n",
       " 'gamma power sports',\n",
       " 'newage',\n",
       " 'gb racing',\n",
       " 'twisted throttle llc',\n",
       " 'trans can imports ltd.',\n",
       " 'schuberth north america',\n",
       " 'schuberth',\n",
       " 'bayside performance',\n",
       " 'tcx boots',\n",
       " 'lordco',\n",
       " 'dime city cycles',\n",
       " 'port boat house',\n",
       " 'advdepot.com',\n",
       " 'happy trail motorcycles',\n",
       " 'first gear',\n",
       " 'kymco',\n",
       " 'team ness',\n",
       " 'mongoose',\n",
       " 'shell canada',\n",
       " 'buchanan',\n",
       " 'wurth',\n",
       " 'travel bags',\n",
       " \"fred kolman's wheelsport ltd\",\n",
       " 'euro corsa performance',\n",
       " 'maier usa',\n",
       " 'not a supplier',\n",
       " 'shine tech wash wax and lube co.',\n",
       " 'motorrad elektrik',\n",
       " \"shaile's bmw\",\n",
       " 'moto machines',\n",
       " 'san diego bmw',\n",
       " 'eurocorsa',\n",
       " 'harbour city motorsports',\n",
       " 'bc bearing engineers ltd.',\n",
       " 'mypakage',\n",
       " 'princess auto',\n",
       " 'napa auto parts',\n",
       " 'warp 9 racing',\n",
       " 'scotts performance',\n",
       " 'gotham cycles',\n",
       " 'ducati richmond',\n",
       " 'apex cycle',\n",
       " 'adaptive technologies',\n",
       " 'speed brain germany',\n",
       " 'blackfoot motosports',\n",
       " 'motor cycle center inc',\n",
       " 'mosites motorsports',\n",
       " 'rpm cycles',\n",
       " 'got gear motorsports',\n",
       " 'empire cycle & powersports',\n",
       " 'motorcycle overland development',\n",
       " 'widder canada inc',\n",
       " 'coast industrial parts ltd.',\n",
       " 'twisted throttle',\n",
       " 'clearwater lights',\n",
       " 'clear water lights',\n",
       " 'british customs',\n",
       " 'washington cycle works',\n",
       " 'adventure tech',\n",
       " 'electrowear manufacturing ltd',\n",
       " 'pazzo',\n",
       " 'amazon order',\n",
       " 'boxer design uk',\n",
       " 'island bmw/sm cycle ltd.',\n",
       " 'gizmo mill',\n",
       " 'blackpool - website',\n",
       " 'beeline moto',\n",
       " 'spiegler',\n",
       " 'cee baileys',\n",
       " 'motorworks (uk)',\n",
       " 'bt moto',\n",
       " 'captain itch',\n",
       " 'lust racing',\n",
       " 'tst industries',\n",
       " 'motostarz bc',\n",
       " \"canada's motorcycle\",\n",
       " 'cornerstone extended',\n",
       " 'pazzo racing inc.',\n",
       " 'twisted edge publishing',\n",
       " 'staples canada',\n",
       " 'monk office',\n",
       " 'denali usa',\n",
       " \"duncan's speed & cycle parts\",\n",
       " 'motostarz',\n",
       " 'earthtrack supply group',\n",
       " 'black gold import auto parts',\n",
       " 'sal',\n",
       " 'tripfella trading co. ltd',\n",
       " 'bike rider distributing ltd.',\n",
       " 'snap on',\n",
       " 'rev\"it sport usa',\n",
       " \"rev'it sport usa\",\n",
       " 'motonation',\n",
       " 'racetech suspension',\n",
       " 'danmoto',\n",
       " 'toce performance',\n",
       " 'gps city',\n",
       " 'freedom heated clothing',\n",
       " 'yamaha motor canada ltd.',\n",
       " 'taramis inc. (shark)',\n",
       " 'all battery victoria',\n",
       " 'fairchild sports',\n",
       " 'gravity motorcycles (tripfella',\n",
       " 'happy trails com',\n",
       " 'sal warranty industrial alliance pacific',\n",
       " 'out of the blue',\n",
       " 'columbia promotions',\n",
       " 'advanced rider training (ryan',\n",
       " 'collectable diecast inc.',\n",
       " \"soupy's performance\",\n",
       " \"pirates' lair\",\n",
       " 'moto-amore',\n",
       " 'comtrex communications ltd',\n",
       " 'setcom corporation',\n",
       " 'admore lights',\n",
       " 'admore lighting inc.',\n",
       " 'island batteries',\n",
       " 'motorcycle cruise company',\n",
       " 'dolovebuy',\n",
       " 'maverick distributing',\n",
       " 'mavrick',\n",
       " 'image crafter signs inc.',\n",
       " 'machine art moto',\n",
       " 'triumph',\n",
       " 'columbia fire & safety ltd.',\n",
       " 't-rex racing',\n",
       " 'traxxion dynamics',\n",
       " 'evotech performance',\n",
       " 'bugaboos',\n",
       " 'rokstraps canada inc.',\n",
       " 'rok straps canada',\n",
       " 'rotopax',\n",
       " 'speigler',\n",
       " 'techmate (smartchargers)',\n",
       " 'shims',\n",
       " 'moto moto',\n",
       " 'spot communications',\n",
       " 'c & s motorcycles ltd.',\n",
       " 'pacific motorsports',\n",
       " 'dualsport plus',\n",
       " 'giant loop',\n",
       " 'd',\n",
       " 'gt moto products',\n",
       " 'creative cycleworks',\n",
       " 'wgm creative designs',\n",
       " 'motion canada',\n",
       " 'ztechnik',\n",
       " 'bow-wow auto parts of bc (2006) ltd.',\n",
       " 'black widow (uk)']"
      ]
     },
     "execution_count": 496,
     "metadata": {},
     "output_type": "execute_result"
    }
   ],
   "source": [
    "list(parts_data['Supplier Name'].unique())"
   ]
  },
  {
   "cell_type": "code",
   "execution_count": null,
   "metadata": {},
   "outputs": [],
   "source": []
  }
 ],
 "metadata": {
  "kernelspec": {
   "display_name": "base",
   "language": "python",
   "name": "python3"
  },
  "language_info": {
   "codemirror_mode": {
    "name": "ipython",
    "version": 3
   },
   "file_extension": ".py",
   "mimetype": "text/x-python",
   "name": "python",
   "nbconvert_exporter": "python",
   "pygments_lexer": "ipython3",
   "version": "3.10.10"
  },
  "orig_nbformat": 4
 },
 "nbformat": 4,
 "nbformat_minor": 2
}
